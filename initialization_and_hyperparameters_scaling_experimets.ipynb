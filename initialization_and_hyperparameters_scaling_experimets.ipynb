{
  "cells": [
    {
      "cell_type": "markdown",
      "metadata": {
        "id": "IHGdPfFpSn8e"
      },
      "source": [
        "# Experiment with frameworks for initialization and hyperparameter scaling with network size."
      ]
    },
    {
      "cell_type": "markdown",
      "metadata": {
        "id": "VinuLgUIPdoE"
      },
      "source": [
        "## Setup"
      ]
    },
    {
      "cell_type": "markdown",
      "metadata": {
        "id": "wBbCBDxjPdoF"
      },
      "source": [
        "### Imports"
      ]
    },
    {
      "cell_type": "code",
      "execution_count": 1,
      "metadata": {
        "colab": {
          "base_uri": "https://localhost:8080/"
        },
        "id": "My7x_YaOHo7n",
        "outputId": "8c0132ca-2ea7-470a-83ab-a29571e33f13"
      },
      "outputs": [
        {
          "output_type": "stream",
          "name": "stdout",
          "text": [
            "Looking in indexes: https://pypi.org/simple, https://us-python.pkg.dev/colab-wheels/public/simple/\n",
            "Collecting mup\n",
            "  Downloading mup-1.0.0.tar.gz (28 kB)\n",
            "  Preparing metadata (setup.py) ... \u001b[?25l\u001b[?25hdone\n",
            "Requirement already satisfied: numpy in /usr/local/lib/python3.10/dist-packages (from mup) (1.22.4)\n",
            "Requirement already satisfied: pandas in /usr/local/lib/python3.10/dist-packages (from mup) (1.5.3)\n",
            "Requirement already satisfied: torch in /usr/local/lib/python3.10/dist-packages (from mup) (2.0.1+cu118)\n",
            "Requirement already satisfied: torchvision in /usr/local/lib/python3.10/dist-packages (from mup) (0.15.2+cu118)\n",
            "Requirement already satisfied: seaborn in /usr/local/lib/python3.10/dist-packages (from mup) (0.12.2)\n",
            "Requirement already satisfied: tqdm in /usr/local/lib/python3.10/dist-packages (from mup) (4.65.0)\n",
            "Requirement already satisfied: pyyaml in /usr/local/lib/python3.10/dist-packages (from mup) (6.0)\n",
            "Requirement already satisfied: python-dateutil>=2.8.1 in /usr/local/lib/python3.10/dist-packages (from pandas->mup) (2.8.2)\n",
            "Requirement already satisfied: pytz>=2020.1 in /usr/local/lib/python3.10/dist-packages (from pandas->mup) (2022.7.1)\n",
            "Requirement already satisfied: matplotlib!=3.6.1,>=3.1 in /usr/local/lib/python3.10/dist-packages (from seaborn->mup) (3.7.1)\n",
            "Requirement already satisfied: filelock in /usr/local/lib/python3.10/dist-packages (from torch->mup) (3.12.0)\n",
            "Requirement already satisfied: typing-extensions in /usr/local/lib/python3.10/dist-packages (from torch->mup) (4.5.0)\n",
            "Requirement already satisfied: sympy in /usr/local/lib/python3.10/dist-packages (from torch->mup) (1.11.1)\n",
            "Requirement already satisfied: networkx in /usr/local/lib/python3.10/dist-packages (from torch->mup) (3.1)\n",
            "Requirement already satisfied: jinja2 in /usr/local/lib/python3.10/dist-packages (from torch->mup) (3.1.2)\n",
            "Requirement already satisfied: triton==2.0.0 in /usr/local/lib/python3.10/dist-packages (from torch->mup) (2.0.0)\n",
            "Requirement already satisfied: cmake in /usr/local/lib/python3.10/dist-packages (from triton==2.0.0->torch->mup) (3.25.2)\n",
            "Requirement already satisfied: lit in /usr/local/lib/python3.10/dist-packages (from triton==2.0.0->torch->mup) (16.0.5)\n",
            "Requirement already satisfied: requests in /usr/local/lib/python3.10/dist-packages (from torchvision->mup) (2.27.1)\n",
            "Requirement already satisfied: pillow!=8.3.*,>=5.3.0 in /usr/local/lib/python3.10/dist-packages (from torchvision->mup) (8.4.0)\n",
            "Requirement already satisfied: contourpy>=1.0.1 in /usr/local/lib/python3.10/dist-packages (from matplotlib!=3.6.1,>=3.1->seaborn->mup) (1.0.7)\n",
            "Requirement already satisfied: cycler>=0.10 in /usr/local/lib/python3.10/dist-packages (from matplotlib!=3.6.1,>=3.1->seaborn->mup) (0.11.0)\n",
            "Requirement already satisfied: fonttools>=4.22.0 in /usr/local/lib/python3.10/dist-packages (from matplotlib!=3.6.1,>=3.1->seaborn->mup) (4.39.3)\n",
            "Requirement already satisfied: kiwisolver>=1.0.1 in /usr/local/lib/python3.10/dist-packages (from matplotlib!=3.6.1,>=3.1->seaborn->mup) (1.4.4)\n",
            "Requirement already satisfied: packaging>=20.0 in /usr/local/lib/python3.10/dist-packages (from matplotlib!=3.6.1,>=3.1->seaborn->mup) (23.1)\n",
            "Requirement already satisfied: pyparsing>=2.3.1 in /usr/local/lib/python3.10/dist-packages (from matplotlib!=3.6.1,>=3.1->seaborn->mup) (3.0.9)\n",
            "Requirement already satisfied: six>=1.5 in /usr/local/lib/python3.10/dist-packages (from python-dateutil>=2.8.1->pandas->mup) (1.16.0)\n",
            "Requirement already satisfied: MarkupSafe>=2.0 in /usr/local/lib/python3.10/dist-packages (from jinja2->torch->mup) (2.1.2)\n",
            "Requirement already satisfied: urllib3<1.27,>=1.21.1 in /usr/local/lib/python3.10/dist-packages (from requests->torchvision->mup) (1.26.15)\n",
            "Requirement already satisfied: certifi>=2017.4.17 in /usr/local/lib/python3.10/dist-packages (from requests->torchvision->mup) (2022.12.7)\n",
            "Requirement already satisfied: charset-normalizer~=2.0.0 in /usr/local/lib/python3.10/dist-packages (from requests->torchvision->mup) (2.0.12)\n",
            "Requirement already satisfied: idna<4,>=2.5 in /usr/local/lib/python3.10/dist-packages (from requests->torchvision->mup) (3.4)\n",
            "Requirement already satisfied: mpmath>=0.19 in /usr/local/lib/python3.10/dist-packages (from sympy->torch->mup) (1.3.0)\n",
            "Building wheels for collected packages: mup\n",
            "  Building wheel for mup (setup.py) ... \u001b[?25l\u001b[?25hdone\n",
            "  Created wheel for mup: filename=mup-1.0.0-py3-none-any.whl size=23632 sha256=9582da67e569daf2861e27ade1af189d9923c5d40abf46e3da2ba6ad7842b7ae\n",
            "  Stored in directory: /root/.cache/pip/wheels/f4/c8/88/3c23a3d10c50053b6552d2d30aee5b53ba89a47f742420036c\n",
            "Successfully built mup\n",
            "Installing collected packages: mup\n",
            "Successfully installed mup-1.0.0\n"
          ]
        }
      ],
      "source": [
        "!pip install mup"
      ]
    },
    {
      "cell_type": "code",
      "execution_count": 2,
      "metadata": {
        "id": "h48risPiPdoF"
      },
      "outputs": [],
      "source": [
        "import matplotlib.pyplot as plt\n",
        "import seaborn as sns\n",
        "import numpy as np\n",
        "\n",
        "import torch \n",
        "import torch.nn as nn\n",
        "from torchvision import datasets, transforms\n",
        "import torch.optim as optim\n",
        "device = torch.device('cuda' if torch.cuda.is_available() else 'cpu')\n",
        "\n",
        "import mup\n",
        "from mup import MuReadout, MuSGD, set_base_shapes, MuAdam"
      ]
    },
    {
      "cell_type": "code",
      "execution_count": null,
      "metadata": {
        "id": "_8Rixb5TPdoH"
      },
      "outputs": [],
      "source": [
        "from inflation import BBI\n",
        "from functions import MuBBI"
      ]
    },
    {
      "cell_type": "code",
      "execution_count": 3,
      "metadata": {
        "id": "8nan13bLHo7p"
      },
      "outputs": [],
      "source": [
        "from torch.optim.optimizer import Optimizer, required\n",
        "import numpy as np\n",
        "import torch\n",
        "# from torchcontrib.optim import SWA\n",
        "import math\n",
        "\n",
        "\n",
        "class BBI(Optimizer):\n",
        "    \"\"\"Optimizer based on the BBI model of inflation.\n",
        "    Args:\n",
        "        params (iterable): iterable of parameters to optimize or dicts defining\n",
        "            parameter groups\n",
        "        lr (float): learning rate\n",
        "        v0 (float): expected minimum of the potential (\\Delta V in the paper)\n",
        "        threshold0 (integer): threshold for fixed bounces (T_0 in the paper)\n",
        "        threshold1 (integer): threshold for progress-dependent bounces (T_1 in the paper)\n",
        "        deltaEn (float): extra initial energy (\\delta E in the paper)\n",
        "        consEn (bool): if True enforces energy conservation at every step\n",
        "        n_fixed_bounces (integer): number of bounces every T_0 iterations (N_b in the paper)\n",
        "    \"\"\"\n",
        "    def __init__(self, params, lr=required, eps1=1e-10, eps2 = 1e-40, v0=0, threshold0 = 1000, threshold = 3000, deltaEn = 0.0, consEn = True, n_fixed_bounces = 1, beta1 = 0.9, beta2 = 0.999, adaptive = False):\n",
        "\n",
        "            defaults = dict(lr=lr, eps1=eps1, eps2=eps2, v0=v0,\n",
        "                            threshold = threshold, threshold0 = threshold0,\n",
        "                            deltaEn = deltaEn, consEn = consEn,\n",
        "                            n_fixed_bounces = n_fixed_bounces,\n",
        "                            beta1 = beta1, beta2 = beta2\n",
        "                            )\n",
        "            self.energy = None\n",
        "            self.adaptive = adaptive\n",
        "            self.min_loss = None\n",
        "            self.iteration = 0\n",
        "            self.deltaEn = deltaEn\n",
        "            self.n_fixed_bounces = n_fixed_bounces\n",
        "            self.consEn = consEn\n",
        "            super(BBI, self).__init__(params, defaults)\n",
        "\n",
        "    def __setstate__(self, state):\n",
        "        super(BBI, self).__setstate__(state)\n",
        "\n",
        "    def step(self, closure):\n",
        "\n",
        "        loss = closure().item()\n",
        "\n",
        "        # initialization\n",
        "        if(self.iteration == 0):\n",
        "\n",
        "            #define a random numbers generator, in order not to use the ambient seed and have random bounces even with the same ambient seed\n",
        "            self.generator = torch.Generator(device = self.param_groups[0][\"params\"][0].device)\n",
        "            self.generator.manual_seed(self.generator.seed()+1)\n",
        "\n",
        "            #Initial energy\n",
        "            self.initV = loss-self.param_groups[0][\"v0\"]\n",
        "            self.init_energy = self.initV+self.deltaEn\n",
        "\n",
        "            # Some counters\n",
        "            self.counter0 = 0\n",
        "            self.fixed_bounces_performed = 0\n",
        "            self.counter = 0\n",
        "\n",
        "            self.min_loss = float(\"inf\")\n",
        "\n",
        "        for group in self.param_groups:\n",
        "\n",
        "            V = (loss - group[\"v0\"])\n",
        "            dt = group[\"lr\"]\n",
        "            eps1 = group[\"eps1\"]\n",
        "            eps2 = group[\"eps2\"]\n",
        "            threshold0 = group[\"threshold0\"]\n",
        "            threshold = group[\"threshold\"]\n",
        "            b1 = group[\"beta1\"]\n",
        "            b2 = group[\"beta2\"]\n",
        "            if V > eps2:\n",
        "\n",
        "                EoverV = self.init_energy/V\n",
        "                VoverE = V/self.init_energy\n",
        "\n",
        "                # Now I check if loss and pi^2 are consistent with the initial value of the energy\n",
        "\n",
        "                ps2_pre = torch.tensor(0.0, device = self.param_groups[0][\"params\"][0].device )\n",
        "\n",
        "                for p in group[\"params\"]:\n",
        "                    param_state = self.state[p]\n",
        "                    d_p = p.grad.data\n",
        "                    #Initialize in the direction of the gradient, with magnitude related to deltaE\n",
        "                    if \"momentum_buffer\" not in param_state:\n",
        "                        buf = param_state[\"momentum_buffer\"] = -(d_p/torch.norm(d_p))*torch.sqrt(torch.tensor( ((self.init_energy**2)/self.initV) - self.initV ))\n",
        "                    else:\n",
        "                        buf = param_state[\"momentum_buffer\"]\n",
        "\n",
        "                    # compute the current pi^2 . Pre means that this is the value before the iteration step\n",
        "                    ps2_pre += torch.dot(buf.view(-1), buf.view(-1))\n",
        "\n",
        "\n",
        "                if (self.consEn == True):\n",
        "\n",
        "                    # Compare this \\pi^2 with what it should have been if the energy was correct\n",
        "                    ps2_correct = V*( (EoverV**2)-1.0 )\n",
        "\n",
        "                    # Compute the rescaling factor, only if real\n",
        "                    if torch.abs(ps2_pre-ps2_correct) <  eps1:\n",
        "                        self.rescaling_pi = 1.0\n",
        "                    elif ps2_correct < 0.0:\n",
        "                        self.rescaling_pi = 1.0\n",
        "                    else:\n",
        "                        self.rescaling_pi = torch.sqrt(((ps2_correct/(ps2_pre))))\n",
        "\n",
        "\n",
        "                # Perform the optimization step\n",
        "                if (self.counter != threshold) and (self.counter0 != threshold0) :\n",
        "\n",
        "                    for p in group[\"params\"]:\n",
        "                        if p.grad is None:\n",
        "                            continue\n",
        "                        d_p = p.grad.data\n",
        "                        param_state = self.state[p]\n",
        "\n",
        "                        if \"momentum_buffer\" not in param_state:\n",
        "                            buf = param_state[\"momentum_buffer\"] = torch.zeros_like(p.data)\n",
        "                        else:\n",
        "                            buf = param_state[\"momentum_buffer\"]\n",
        "                        if self.adaptive:\n",
        "                          if \"exp_avg\" not in param_state:\n",
        "                              param_state['exp_avg'] = torch.zeros_like(p.data)\n",
        "                              param_state['exp_avg_sq'] = torch.zeros_like(p.data)\n",
        "                          exp_avg, exp_avg_sq = param_state['exp_avg'], param_state['exp_avg_sq']\n",
        "                          exp_avg = torch.mul(exp_avg, b1) + (1 - b1)* d_p\n",
        "\n",
        "                          exp_avg_sq = torch.mul(exp_avg_sq, b2) + (1-b2)*(d_p*d_p)\n",
        "\n",
        "                          denom = exp_avg_sq.sqrt() + eps1\n",
        "\n",
        "                          bias_correction1 = 1 / (1 - b1 ** (self.counter + 1))\n",
        "                          bias_correction2 = 1 / (1 - b2 ** (self.counter + 1))\n",
        "\n",
        "                          adapted_learning_rate = dt * bias_correction1 / math.sqrt(bias_correction2)\n",
        "\n",
        "                          update = adapted_learning_rate * exp_avg / denom\n",
        "                        else:\n",
        "                          update = d_p\n",
        "                        # Here the rescaling of momenta to enforce conservation of energy\n",
        "                        if (self.consEn == True):\n",
        "                            buf.mul_(self.rescaling_pi)\n",
        "\n",
        "                        buf.add_(- 0.5 * dt * (VoverE + EoverV)*update)\n",
        "\n",
        "                        p.data.add_(VoverE* dt* buf)\n",
        "\n",
        "                    # Updates counters\n",
        "                    self.counter0+=1\n",
        "                    self.counter+=1\n",
        "                    self.iteration+=1\n",
        "\n",
        "                    # Checks progress\n",
        "                    if V < self.min_loss:\n",
        "                            self.min_loss = V\n",
        "                            self.counter = 0\n",
        "                # Bounces\n",
        "                else:\n",
        "\n",
        "                    #First we iterate once to compute pi^2, we randomly regenerate the directions, and we compute the new norm squared\n",
        "\n",
        "                    ps20 = torch.tensor(0.0, device = self.param_groups[0][\"params\"][0].device )\n",
        "                    ps2new = torch.tensor(0.0, device = self.param_groups[0][\"params\"][0].device )\n",
        "\n",
        "                    for p in group[\"params\"]:\n",
        "                        param_state = self.state[p]\n",
        "\n",
        "                        buf = param_state[\"momentum_buffer\"]\n",
        "                        ps20 += torch.dot(buf.view(-1), buf.view(-1))\n",
        "                        new_buf = param_state[\"momentum_buffer\"] = torch.rand(buf.size(), device=buf.device, generator = self.generator)-.5\n",
        "                        ps2new += torch.dot(new_buf.view(-1), new_buf.view(-1))\n",
        "\n",
        "                    # Then rescale them\n",
        "                    for p in group[\"params\"]:\n",
        "                        param_state = self.state[p]\n",
        "                        buf = param_state[\"momentum_buffer\"]\n",
        "                        buf.mul_(torch.sqrt(ps20/ps2new))\n",
        "\n",
        "                    # Update counters\n",
        "                    if (self.counter0 == threshold0):\n",
        "                        self.fixed_bounces_performed+=1\n",
        "                        if self.fixed_bounces_performed < self.n_fixed_bounces:\n",
        "                            self.counter0 = 0\n",
        "                        else:\n",
        "                            self.counter0+=1\n",
        "                    self.counter = 0\n",
        "        return loss"
      ]
    },
    {
      "cell_type": "code",
      "execution_count": 4,
      "metadata": {
        "id": "k9RMKYC6Ho7r"
      },
      "outputs": [],
      "source": [
        "from mup import MuAdam\n",
        "\n",
        "\n",
        "def MuBBI(params, **kwargs):\n",
        "    '''\n",
        "    BBI µP optimizer\n",
        "    '''\n",
        "    return MuAdam(params, impl=BBI, **kwargs)"
      ]
    },
    {
      "cell_type": "markdown",
      "metadata": {
        "id": "DtJUbrVvPdoK"
      },
      "source": [
        "### Dataset loading"
      ]
    },
    {
      "cell_type": "code",
      "execution_count": 5,
      "metadata": {
        "colab": {
          "base_uri": "https://localhost:8080/"
        },
        "id": "wMV4J3RiSn8s",
        "outputId": "4d4b5a2a-0039-4156-b873-4a55f25770c8"
      },
      "outputs": [
        {
          "output_type": "stream",
          "name": "stdout",
          "text": [
            "Downloading http://yann.lecun.com/exdb/mnist/train-images-idx3-ubyte.gz\n",
            "Downloading http://yann.lecun.com/exdb/mnist/train-images-idx3-ubyte.gz to mnist/MNIST/raw/train-images-idx3-ubyte.gz\n"
          ]
        },
        {
          "output_type": "stream",
          "name": "stderr",
          "text": [
            "100%|██████████| 9912422/9912422 [00:00<00:00, 102203354.14it/s]\n"
          ]
        },
        {
          "output_type": "stream",
          "name": "stdout",
          "text": [
            "Extracting mnist/MNIST/raw/train-images-idx3-ubyte.gz to mnist/MNIST/raw\n",
            "\n",
            "Downloading http://yann.lecun.com/exdb/mnist/train-labels-idx1-ubyte.gz\n",
            "Downloading http://yann.lecun.com/exdb/mnist/train-labels-idx1-ubyte.gz to mnist/MNIST/raw/train-labels-idx1-ubyte.gz\n"
          ]
        },
        {
          "output_type": "stream",
          "name": "stderr",
          "text": [
            "100%|██████████| 28881/28881 [00:00<00:00, 115147997.93it/s]\n"
          ]
        },
        {
          "output_type": "stream",
          "name": "stdout",
          "text": [
            "Extracting mnist/MNIST/raw/train-labels-idx1-ubyte.gz to mnist/MNIST/raw\n",
            "\n",
            "Downloading http://yann.lecun.com/exdb/mnist/t10k-images-idx3-ubyte.gz\n",
            "Downloading http://yann.lecun.com/exdb/mnist/t10k-images-idx3-ubyte.gz to mnist/MNIST/raw/t10k-images-idx3-ubyte.gz\n"
          ]
        },
        {
          "output_type": "stream",
          "name": "stderr",
          "text": [
            "100%|██████████| 1648877/1648877 [00:00<00:00, 21684532.74it/s]\n"
          ]
        },
        {
          "output_type": "stream",
          "name": "stdout",
          "text": [
            "Extracting mnist/MNIST/raw/t10k-images-idx3-ubyte.gz to mnist/MNIST/raw\n",
            "\n",
            "Downloading http://yann.lecun.com/exdb/mnist/t10k-labels-idx1-ubyte.gz\n",
            "Downloading http://yann.lecun.com/exdb/mnist/t10k-labels-idx1-ubyte.gz to mnist/MNIST/raw/t10k-labels-idx1-ubyte.gz\n"
          ]
        },
        {
          "output_type": "stream",
          "name": "stderr",
          "text": [
            "100%|██████████| 4542/4542 [00:00<00:00, 6043949.48it/s]"
          ]
        },
        {
          "output_type": "stream",
          "name": "stdout",
          "text": [
            "Extracting mnist/MNIST/raw/t10k-labels-idx1-ubyte.gz to mnist/MNIST/raw\n",
            "\n"
          ]
        },
        {
          "output_type": "stream",
          "name": "stderr",
          "text": [
            "\n"
          ]
        }
      ],
      "source": [
        "transform = transforms.Compose([\n",
        "    transforms.ToTensor(),\n",
        "])\n",
        "\n",
        "train_dataset = datasets.MNIST('mnist/', train=True, download=True, transform=transform)\n",
        "test_dataset = datasets.MNIST('mnist/', train=False, download=True, transform=transform)\n",
        "\n",
        "batch_size = 64\n",
        "train_loader = torch.utils.data.DataLoader(train_dataset, batch_size=batch_size, shuffle=True, num_workers=2)\n",
        "test_loader = torch.utils.data.DataLoader(test_dataset, batch_size=batch_size, shuffle=True, num_workers=2)"
      ]
    },
    {
      "cell_type": "markdown",
      "metadata": {
        "id": "2gKRYE9dPdoM"
      },
      "source": [
        "## maximal update parametrization (µP)"
      ]
    },
    {
      "cell_type": "code",
      "execution_count": 6,
      "metadata": {
        "id": "NxSpIHnVSn8v"
      },
      "outputs": [],
      "source": [
        "class Net(nn.Module):\n",
        "    def __init__(self, channels=16, n_hidden=2):\n",
        "        super().__init__()\n",
        "        self.conv1 = nn.Conv2d(in_channels=1, out_channels=channels, kernel_size=5, stride=1, padding=2)\n",
        "        self.conv2 = nn.Conv2d(in_channels=channels, out_channels=channels*2, kernel_size=5, stride=1, padding=2)\n",
        "        self.pool = nn.MaxPool2d(kernel_size=2)\n",
        "        self.relu = nn.ReLU()\n",
        "        self.layers = []\n",
        "        self.layers += [self.conv1, self.relu, self.pool, self.conv2, self.relu]\n",
        "        in_chan = channels*2\n",
        "        if n_hidden > 2:\n",
        "            for i in range(n_hidden - 2):\n",
        "                self.conv = nn.Conv2d(in_channels=in_chan, out_channels=in_chan*2, kernel_size=3, padding=1)\n",
        "                self.layers += [self.conv, self.relu]\n",
        "                in_chan = in_chan*2\n",
        "        self.layers += [self.pool]\n",
        "        self.net = nn.Sequential(*self.layers)\n",
        "        # self.fc1 = nn.Linear(in_features=in_chan*7*7, out_features=120)\n",
        "        self.fc2 = MuReadout(in_chan*7*7, 120)\n",
        "        \n",
        "    def forward(self, x):\n",
        "        x = self.net(x)\n",
        "        x = torch.flatten(x, start_dim=1)\n",
        "        # x = self.fc1(x)\n",
        "        x = self.fc2(x)\n",
        "        return x"
      ]
    },
    {
      "cell_type": "code",
      "execution_count": 9,
      "metadata": {
        "id": "9oNeAKSpPdoO"
      },
      "outputs": [],
      "source": [
        "def train_test_model(optimizer_creator, optimizer_step=lambda optimizer, loss: optimizer.step()):\n",
        "    criterion = nn.CrossEntropyLoss()\n",
        "\n",
        "    # Train\n",
        "    epochs = 5\n",
        "    n_check = 8\n",
        "    test_loss = []\n",
        "    test_acc = []\n",
        "    for k in range(n_check):\n",
        "        print(f'Run: {k+1} \\t# of conv. layers: {2+k}')\n",
        "        \n",
        "        base_model = Net(channels=2, n_hidden=k+2).to(device)\n",
        "        delta_model = Net(channels=4, n_hidden=k+2).to(device)\n",
        "        model = Net(channels=16, n_hidden=k+2).to(device)\n",
        "        set_base_shapes(model, base_model, delta=delta_model)\n",
        "        for param in model.parameters():\n",
        "            mup.init.uniform_(param, -0.1, 0.1)\n",
        "\n",
        "        optimizer = optimizer_creator(model.parameters())\n",
        "\n",
        "        for epoch in range(1, epochs+1):\n",
        "            loss_tr = 0.0\n",
        "            for i, (inputs, labels) in enumerate(train_loader):\n",
        "                inputs = inputs.to(device)\n",
        "                labels = labels.to(device)\n",
        "                optimizer.zero_grad()\n",
        "                outputs = model(inputs)\n",
        "                loss = criterion(outputs, labels)\n",
        "                loss.backward() \n",
        "                optimizer_step(optimizer, loss)\n",
        "                loss_tr += loss.item()\n",
        "        \n",
        "        # Evaluate\n",
        "        correct = 0\n",
        "        total = 0\n",
        "        loss_tr = 0.0\n",
        "        with torch.no_grad():\n",
        "            for inputs, labels in test_loader:\n",
        "                inputs = inputs.to(device)\n",
        "                labels = labels.to(device)\n",
        "                outputs = model(inputs)\n",
        "                loss = criterion(outputs, labels)\n",
        "                loss_tr += loss.item()\n",
        "                _, predicted = torch.max(outputs.data, 1)\n",
        "                \n",
        "                total += labels.size(0)\n",
        "                correct += (predicted == labels).sum().item()\n",
        "            test_loss.append(loss_tr/len(test_loader))\n",
        "        test_acc.append(correct/total)\n",
        "\n",
        "    return test_loss, test_acc"
      ]
    },
    {
      "cell_type": "markdown",
      "metadata": {
        "id": "r8_JkkYuPdoP"
      },
      "source": [
        "### µP SGD experiments"
      ]
    },
    {
      "cell_type": "code",
      "execution_count": 10,
      "metadata": {
        "colab": {
          "base_uri": "https://localhost:8080/"
        },
        "id": "_SMOgqNPPdoP",
        "outputId": "6ec05cb0-7bf0-4164-e00d-df9d100ecd70"
      },
      "outputs": [
        {
          "metadata": {
            "tags": null
          },
          "name": "stdout",
          "output_type": "stream",
          "text": [
            "Run: 1 \t# of conv. layers: 2\n",
            "Run: 2 \t# of conv. layers: 3\n",
            "Run: 3 \t# of conv. layers: 4\n",
            "Run: 4 \t# of conv. layers: 5\n",
            "Run: 5 \t# of conv. layers: 6\n",
            "Run: 6 \t# of conv. layers: 7\n",
            "Run: 7 \t# of conv. layers: 8\n",
            "Run: 8 \t# of conv. layers: 9\n"
          ]
        }
      ],
      "source": [
        "test_loss_SGD, test_acc_SGD = train_test_model(lambda params: MuSGD(params, lr=0.01))"
      ]
    },
    {
      "cell_type": "code",
      "execution_count": 11,
      "metadata": {
        "colab": {
          "base_uri": "https://localhost:8080/"
        },
        "id": "MqGRpXbhSn8y",
        "outputId": "8532366d-4717-4959-dda4-8e758e102a9f"
      },
      "outputs": [
        {
          "data": {
            "text/plain": [
              "([0.09538599094198008,\n",
              "  0.09074530802121397,\n",
              "  0.09644731289594416,\n",
              "  0.06984342746199317,\n",
              "  0.14029858622605065,\n",
              "  0.0626910671467187,\n",
              "  0.04620901619196887,\n",
              "  0.04986420180055366],\n",
              " [0.9699, 0.9717, 0.9684, 0.975, 0.9542, 0.9797, 0.9846, 0.9844])"
            ]
          },
          "execution_count": 11,
          "metadata": {},
          "output_type": "execute_result"
        }
      ],
      "source": [
        "test_loss_SGD, test_acc_SGD"
      ]
    },
    {
      "cell_type": "markdown",
      "metadata": {
        "id": "2SbtnUC2PdoQ"
      },
      "source": [
        "### µP Adam experiments"
      ]
    },
    {
      "cell_type": "code",
      "execution_count": 12,
      "metadata": {
        "colab": {
          "base_uri": "https://localhost:8080/"
        },
        "id": "xqRJmuZVPdoR",
        "outputId": "14d35cae-d377-4194-c9cb-4a5470315168"
      },
      "outputs": [
        {
          "output_type": "stream",
          "name": "stdout",
          "text": [
            "Run: 1 \t# of conv. layers: 2\n",
            "Run: 2 \t# of conv. layers: 3\n",
            "Run: 3 \t# of conv. layers: 4\n",
            "Run: 4 \t# of conv. layers: 5\n",
            "Run: 5 \t# of conv. layers: 6\n",
            "Run: 6 \t# of conv. layers: 7\n",
            "Run: 7 \t# of conv. layers: 8\n",
            "Run: 8 \t# of conv. layers: 9\n"
          ]
        }
      ],
      "source": [
        "test_loss_Adam, test_acc_Adam = train_test_model(lambda params: MuAdam(params, lr=0.001))"
      ]
    },
    {
      "cell_type": "code",
      "execution_count": 13,
      "metadata": {
        "colab": {
          "base_uri": "https://localhost:8080/"
        },
        "id": "Pao2k4FLSn80",
        "outputId": "fd7418c5-c74f-4110-f561-2611dd771779"
      },
      "outputs": [
        {
          "data": {
            "text/plain": [
              "([0.07644700669760632,\n",
              "  0.05703010585064151,\n",
              "  0.04304028583607476,\n",
              "  0.038668457330812575,\n",
              "  0.03334283654946555,\n",
              "  0.028362298054017413,\n",
              "  0.02979822083960093,\n",
              "  0.02028127878733427],\n",
              " [0.9749, 0.9813, 0.9854, 0.9871, 0.9901, 0.9908, 0.9902, 0.9934])"
            ]
          },
          "execution_count": 13,
          "metadata": {},
          "output_type": "execute_result"
        }
      ],
      "source": [
        "test_loss_Adam, test_acc_Adam"
      ]
    },
    {
      "cell_type": "markdown",
      "metadata": {
        "id": "A4dZolDEPdoS"
      },
      "source": [
        "### µP BBI experiments"
      ]
    },
    {
      "cell_type": "code",
      "execution_count": 14,
      "metadata": {
        "colab": {
          "base_uri": "https://localhost:8080/"
        },
        "id": "3KoVvrYsPdoS",
        "outputId": "385a6f7c-2754-4fca-8972-4cce165fe913"
      },
      "outputs": [
        {
          "output_type": "stream",
          "name": "stdout",
          "text": [
            "Run: 1 \t# of conv. layers: 2\n",
            "Run: 2 \t# of conv. layers: 3\n",
            "Run: 3 \t# of conv. layers: 4\n",
            "Run: 4 \t# of conv. layers: 5\n",
            "Run: 5 \t# of conv. layers: 6\n",
            "Run: 6 \t# of conv. layers: 7\n",
            "Run: 7 \t# of conv. layers: 8\n",
            "Run: 8 \t# of conv. layers: 9\n"
          ]
        }
      ],
      "source": [
        "v0 = 1e-6\n",
        "threshold0 = 100\n",
        "n_fixed_bounces = 5\n",
        "threshold = 1000\n",
        "\n",
        "test_loss_BBI, test_acc_BBI = train_test_model(\n",
        "    lambda params: MuBBI(\n",
        "        params, lr=0.2, deltaEn=1.0, v0=v0, threshold0=threshold0,\n",
        "        threshold=threshold, n_fixed_bounces=n_fixed_bounces\n",
        "    ),\n",
        "    lambda optimizer, loss: optimizer.step(lambda: loss)\n",
        ")"
      ]
    },
    {
      "cell_type": "code",
      "execution_count": 15,
      "metadata": {
        "colab": {
          "base_uri": "https://localhost:8080/"
        },
        "id": "bqf5j_8eSn83",
        "outputId": "baab7a5d-29be-49dd-b737-af31ce526316"
      },
      "outputs": [
        {
          "data": {
            "text/plain": [
              "([0.0760673697174874,\n",
              "  0.08254591513853131,\n",
              "  0.10741881078875114,\n",
              "  0.08298532057414128,\n",
              "  0.06492983414889773,\n",
              "  0.05153561854429102,\n",
              "  2.350031863352296,\n",
              "  2.34482376135079],\n",
              " [0.9852, 0.9834, 0.9759, 0.9767, 0.9837, 0.987, 0.1009, 0.1135])"
            ]
          },
          "execution_count": 15,
          "metadata": {},
          "output_type": "execute_result"
        }
      ],
      "source": [
        "test_loss_BBI, test_acc_BBI"
      ]
    },
    {
      "cell_type": "markdown",
      "metadata": {
        "id": "QCFcz8_BPdoT"
      },
      "source": [
        "### µP optimizers comparison"
      ]
    },
    {
      "cell_type": "code",
      "execution_count": 16,
      "metadata": {
        "colab": {
          "base_uri": "https://localhost:8080/",
          "height": 449
        },
        "id": "hdzf-yPzSn84",
        "outputId": "dbf71c97-1b9e-4aaa-be0f-4e3bb52a8a6e"
      },
      "outputs": [
        {
          "output_type": "display_data",
          "data": {
            "text/plain": [
              "<Figure size 640x480 with 1 Axes>"
            ],
            "image/png": "[encoded data removed]"
          },
          "metadata": {}
        }
      ],
      "source": [
        "t = np.arange(2, 10)\n",
        "\n",
        "sns.lineplot(y=test_loss_BBI, x=t, label='BBI')\n",
        "sns.lineplot(y=test_loss_Adam, x=t, label='Adam')\n",
        "sns.lineplot(y=test_loss_SGD, x=t, label='SGD')\n",
        "plt.yscale('log')\n",
        "\n",
        "# plt.title('Comparing performance of different architeture.')\n",
        "plt.xlabel('# of hidden conv. layers')\n",
        "plt.ylabel('loss')\n",
        "\n",
        "plt.legend()\n",
        "plt.show()"
      ]
    }
  ],
  "metadata": {
    "accelerator": "GPU",
    "colab": {
      "provenance": []
    },
    "gpuClass": "standard",
    "kernelspec": {
      "display_name": "epfl-oml",
      "language": "python",
      "name": "python3"
    },
    "language_info": {
      "codemirror_mode": {
        "name": "ipython",
        "version": 3
      },
      "file_extension": ".py",
      "mimetype": "text/x-python",
      "name": "python",
      "nbconvert_exporter": "python",
      "pygments_lexer": "ipython3",
      "version": "3.10.9"
    },
    "orig_nbformat": 4
  },
  "nbformat": 4,
  "nbformat_minor": 0
}