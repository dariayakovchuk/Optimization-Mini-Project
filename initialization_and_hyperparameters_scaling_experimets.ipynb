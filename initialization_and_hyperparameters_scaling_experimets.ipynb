{
  "cells": [
    {
      "cell_type": "markdown",
      "metadata": {
        "id": "IHGdPfFpSn8e"
      },
      "source": [
        "# Experiment with frameworks for initialization and hyperparameter scaling with network size."
      ]
    },
    {
      "cell_type": "markdown",
      "metadata": {
        "id": "VinuLgUIPdoE"
      },
      "source": [
        "## Setup"
      ]
    },
    {
      "cell_type": "markdown",
      "metadata": {
        "id": "wBbCBDxjPdoF"
      },
      "source": [
        "### Imports"
      ]
    },
    {
      "cell_type": "code",
      "execution_count": 1,
      "metadata": {
        "id": "h48risPiPdoF"
      },
      "outputs": [],
      "source": [
        "import matplotlib.pyplot as plt\n",
        "import seaborn as sns\n",
        "import numpy as np"
      ]
    },
    {
      "cell_type": "code",
      "execution_count": 2,
      "metadata": {
        "id": "cJzNYaylSn8l"
      },
      "outputs": [],
      "source": [
        "import torch \n",
        "import torch.nn as nn\n",
        "from torchvision import datasets, transforms\n",
        "import torch.optim as optim\n",
        "\n",
        "device = torch.device('cuda' if torch.cuda.is_available() else 'cpu')"
      ]
    },
    {
      "cell_type": "code",
      "execution_count": 3,
      "metadata": {
        "id": "_8Rixb5TPdoH"
      },
      "outputs": [],
      "source": [
        "# from inflation import BBI"
      ]
    },
    {
      "cell_type": "code",
      "execution_count": 4,
      "metadata": {
        "colab": {
          "base_uri": "https://localhost:8080/"
        },
        "id": "J9Q2LPjOPdoI",
        "outputId": "77148ecf-71d4-4b29-acd1-eb3c13bbf52a"
      },
      "outputs": [
        {
          "output_type": "stream",
          "name": "stdout",
          "text": [
            "Looking in indexes: https://pypi.org/simple, https://us-python.pkg.dev/colab-wheels/public/simple/\n",
            "Collecting mup\n",
            "  Downloading mup-1.0.0.tar.gz (28 kB)\n",
            "  Preparing metadata (setup.py) ... \u001b[?25l\u001b[?25hdone\n",
            "Requirement already satisfied: numpy in /usr/local/lib/python3.10/dist-packages (from mup) (1.22.4)\n",
            "Requirement already satisfied: pandas in /usr/local/lib/python3.10/dist-packages (from mup) (1.5.3)\n",
            "Requirement already satisfied: torch in /usr/local/lib/python3.10/dist-packages (from mup) (2.0.0+cu118)\n",
            "Requirement already satisfied: torchvision in /usr/local/lib/python3.10/dist-packages (from mup) (0.15.1+cu118)\n",
            "Requirement already satisfied: seaborn in /usr/local/lib/python3.10/dist-packages (from mup) (0.12.2)\n",
            "Requirement already satisfied: tqdm in /usr/local/lib/python3.10/dist-packages (from mup) (4.65.0)\n",
            "Requirement already satisfied: pyyaml in /usr/local/lib/python3.10/dist-packages (from mup) (6.0)\n",
            "Requirement already satisfied: python-dateutil>=2.8.1 in /usr/local/lib/python3.10/dist-packages (from pandas->mup) (2.8.2)\n",
            "Requirement already satisfied: pytz>=2020.1 in /usr/local/lib/python3.10/dist-packages (from pandas->mup) (2022.7.1)\n",
            "Requirement already satisfied: matplotlib!=3.6.1,>=3.1 in /usr/local/lib/python3.10/dist-packages (from seaborn->mup) (3.7.1)\n",
            "Requirement already satisfied: filelock in /usr/local/lib/python3.10/dist-packages (from torch->mup) (3.12.0)\n",
            "Requirement already satisfied: typing-extensions in /usr/local/lib/python3.10/dist-packages (from torch->mup) (4.5.0)\n",
            "Requirement already satisfied: sympy in /usr/local/lib/python3.10/dist-packages (from torch->mup) (1.11.1)\n",
            "Requirement already satisfied: networkx in /usr/local/lib/python3.10/dist-packages (from torch->mup) (3.1)\n",
            "Requirement already satisfied: jinja2 in /usr/local/lib/python3.10/dist-packages (from torch->mup) (3.1.2)\n",
            "Requirement already satisfied: triton==2.0.0 in /usr/local/lib/python3.10/dist-packages (from torch->mup) (2.0.0)\n",
            "Requirement already satisfied: cmake in /usr/local/lib/python3.10/dist-packages (from triton==2.0.0->torch->mup) (3.25.2)\n",
            "Requirement already satisfied: lit in /usr/local/lib/python3.10/dist-packages (from triton==2.0.0->torch->mup) (16.0.3)\n",
            "Requirement already satisfied: requests in /usr/local/lib/python3.10/dist-packages (from torchvision->mup) (2.27.1)\n",
            "Requirement already satisfied: pillow!=8.3.*,>=5.3.0 in /usr/local/lib/python3.10/dist-packages (from torchvision->mup) (8.4.0)\n",
            "Requirement already satisfied: contourpy>=1.0.1 in /usr/local/lib/python3.10/dist-packages (from matplotlib!=3.6.1,>=3.1->seaborn->mup) (1.0.7)\n",
            "Requirement already satisfied: cycler>=0.10 in /usr/local/lib/python3.10/dist-packages (from matplotlib!=3.6.1,>=3.1->seaborn->mup) (0.11.0)\n",
            "Requirement already satisfied: fonttools>=4.22.0 in /usr/local/lib/python3.10/dist-packages (from matplotlib!=3.6.1,>=3.1->seaborn->mup) (4.39.3)\n",
            "Requirement already satisfied: kiwisolver>=1.0.1 in /usr/local/lib/python3.10/dist-packages (from matplotlib!=3.6.1,>=3.1->seaborn->mup) (1.4.4)\n",
            "Requirement already satisfied: packaging>=20.0 in /usr/local/lib/python3.10/dist-packages (from matplotlib!=3.6.1,>=3.1->seaborn->mup) (23.1)\n",
            "Requirement already satisfied: pyparsing>=2.3.1 in /usr/local/lib/python3.10/dist-packages (from matplotlib!=3.6.1,>=3.1->seaborn->mup) (3.0.9)\n",
            "Requirement already satisfied: six>=1.5 in /usr/local/lib/python3.10/dist-packages (from python-dateutil>=2.8.1->pandas->mup) (1.16.0)\n",
            "Requirement already satisfied: MarkupSafe>=2.0 in /usr/local/lib/python3.10/dist-packages (from jinja2->torch->mup) (2.1.2)\n",
            "Requirement already satisfied: urllib3<1.27,>=1.21.1 in /usr/local/lib/python3.10/dist-packages (from requests->torchvision->mup) (1.26.15)\n",
            "Requirement already satisfied: certifi>=2017.4.17 in /usr/local/lib/python3.10/dist-packages (from requests->torchvision->mup) (2022.12.7)\n",
            "Requirement already satisfied: charset-normalizer~=2.0.0 in /usr/local/lib/python3.10/dist-packages (from requests->torchvision->mup) (2.0.12)\n",
            "Requirement already satisfied: idna<4,>=2.5 in /usr/local/lib/python3.10/dist-packages (from requests->torchvision->mup) (3.4)\n",
            "Requirement already satisfied: mpmath>=0.19 in /usr/local/lib/python3.10/dist-packages (from sympy->torch->mup) (1.3.0)\n",
            "Building wheels for collected packages: mup\n",
            "  Building wheel for mup (setup.py) ... \u001b[?25l\u001b[?25hdone\n",
            "  Created wheel for mup: filename=mup-1.0.0-py3-none-any.whl size=23632 sha256=8755f07f777b3b7128c7f614802564c4ab7e1b5a1cdea0b73662446699b3fba3\n",
            "  Stored in directory: /root/.cache/pip/wheels/f4/c8/88/3c23a3d10c50053b6552d2d30aee5b53ba89a47f742420036c\n",
            "Successfully built mup\n",
            "Installing collected packages: mup\n",
            "Successfully installed mup-1.0.0\n"
          ]
        }
      ],
      "source": [
        "!pip install mup"
      ]
    },
    {
      "cell_type": "code",
      "execution_count": 5,
      "metadata": {
        "id": "g1L2ATWaPdoI"
      },
      "outputs": [],
      "source": [
        "#  This code is based on https://github.com/gbdl/BBI by G. Bruno De Luca and Eva Silverstein,\n",
        "#  available under the MIT License\n",
        "\n",
        "from torch.optim.optimizer import Optimizer, required\n",
        "import numpy as np\n",
        "import torch\n",
        "\n",
        "class BBI(Optimizer): \n",
        "    \"\"\"Optimizer based on the BBI model of inflation.\n",
        "    Args:\n",
        "        params (iterable): iterable of parameters to optimize or dicts defining\n",
        "            parameter groups\n",
        "        lr (float): learning rate\n",
        "        v0 (float): expected minimum of the potential (\\Delta V in the paper)\n",
        "        threshold0 (integer): threshold for fixed bounces (T_0 in the paper)\n",
        "        threshold1 (integer): threshold for progress-dependent bounces (T_1 in the paper)\n",
        "        deltaEn (float): extra initial energy (\\delta E in the paper)\n",
        "        consEn (bool): if True enforces energy conservation at every step\n",
        "        n_fixed_bounces (integer): number of bounces every T_0 iterations (N_b in the paper) \n",
        "    \"\"\"\n",
        "    def __init__(self, params, lr=required, eps1=1e-10, eps2 = 1e-40, v0=0, threshold0 = 1000, threshold = 3000, deltaEn = 0.0, consEn = True, n_fixed_bounces = 1):\n",
        "            \n",
        "            defaults = dict(lr=lr, eps1=eps1, eps2=eps2, v0=v0, threshold = threshold, threshold0 = threshold0, deltaEn = deltaEn, consEn = consEn, n_fixed_bounces = n_fixed_bounces)\n",
        "            self.energy = None\n",
        "            self.min_loss = None\n",
        "            self.iteration = 0\n",
        "            self.deltaEn = deltaEn\n",
        "            self.n_fixed_bounces = n_fixed_bounces\n",
        "            self.consEn = consEn \n",
        "            super(BBI, self).__init__(params, defaults)\n",
        "\n",
        "    def __setstate__(self, state):\n",
        "        super(BBI, self).__setstate__(state)\n",
        "\n",
        "    def step(self, closure):\n",
        "\n",
        "        loss = closure().item()\n",
        "\n",
        "        # initialization\n",
        "        if(self.iteration == 0):\n",
        "\n",
        "            #define a random numbers generator, in order not to use the ambient seed and have random bounces even with the same ambient seed\n",
        "            self.generator = torch.Generator(device = self.param_groups[0][\"params\"][0].device)\n",
        "            self.generator.manual_seed(self.generator.seed()+1)\n",
        "         \n",
        "            #Initial energy\n",
        "            self.initV = loss-self.param_groups[0][\"v0\"]\n",
        "            self.init_energy = self.initV+self.deltaEn\n",
        "\n",
        "            # Some counters            \n",
        "            self.counter0 = 0\n",
        "            self.fixed_bounces_performed = 0\n",
        "            self.counter = 0\n",
        "\n",
        "            self.min_loss = float(\"inf\")\n",
        "            \n",
        "        for group in self.param_groups:\n",
        "            \n",
        "            V = (loss - group[\"v0\"])\n",
        "            dt = group[\"lr\"]\n",
        "            eps1 = group[\"eps1\"]\n",
        "            eps2 = group[\"eps2\"]\n",
        "            threshold0 = group[\"threshold0\"]\n",
        "            threshold = group[\"threshold\"]\n",
        "            \n",
        "            if V > eps2:\n",
        "\n",
        "                EoverV = self.init_energy/V\n",
        "                VoverE = V/self.init_energy\n",
        "\n",
        "                # Now I check if loss and pi^2 are consistent with the initial value of the energy\n",
        "                \n",
        "                ps2_pre = torch.tensor(0.0, device = self.param_groups[0][\"params\"][0].device )\n",
        "\n",
        "                for p in group[\"params\"]:\n",
        "                    param_state = self.state[p]\n",
        "                    d_p = p.grad.data\n",
        "                    #Initialize in the direction of the gradient, with magnitude related to deltaE\n",
        "                    if \"momentum_buffer\" not in param_state:\n",
        "                        buf = param_state[\"momentum_buffer\"] = -(d_p/torch.norm(d_p))*torch.sqrt(torch.tensor( ((self.init_energy**2)/self.initV) - self.initV ))\n",
        "                    else:\n",
        "                        buf = param_state[\"momentum_buffer\"]\n",
        "\n",
        "                    # compute the current pi^2 . Pre means that this is the value before the iteration step\n",
        "                    ps2_pre += torch.dot(buf.view(-1), buf.view(-1))\n",
        "\n",
        "                    \n",
        "                if (self.consEn == True):\n",
        "\n",
        "                    # Compare this \\pi^2 with what it should have been if the energy was correct\n",
        "                    ps2_correct = V*( (EoverV**2)-1.0 )\n",
        "\n",
        "                    # Compute the rescaling factor, only if real\n",
        "                    if torch.abs(ps2_pre-ps2_correct) <  eps1:\n",
        "                        self.rescaling_pi = 1.0\n",
        "                    elif ps2_correct < 0.0:\n",
        "                        self.rescaling_pi = 1.0\n",
        "                    else:\n",
        "                        self.rescaling_pi = torch.sqrt(((ps2_correct/(ps2_pre))))\n",
        "\n",
        "                \n",
        "                # Perform the optimization step\n",
        "                if (self.counter != threshold) and (self.counter0 != threshold0) :\n",
        "                    \n",
        "                    for p in group[\"params\"]:\n",
        "                        if p.grad is None:\n",
        "                            continue\n",
        "                        d_p = p.grad.data\n",
        "                        param_state = self.state[p]\n",
        "\n",
        "                        if \"momentum_buffer\" not in param_state:    \n",
        "                            buf = param_state[\"momentum_buffer\"] = torch.zeros_like(p.data)\n",
        "                        else:\n",
        "                            buf = param_state[\"momentum_buffer\"]\n",
        "\n",
        "                        # Here the rescaling of momenta to enforce conservation of energy        \n",
        "                        if (self.consEn == True):\n",
        "                            buf.mul_(self.rescaling_pi) \n",
        "                            \n",
        "                        buf.add_(- 0.5 * dt * (VoverE + EoverV)*d_p)\n",
        "                        p.data.add_(dt*VoverE*buf)\n",
        "\n",
        "                    # Updates counters\n",
        "                    self.counter0+=1\n",
        "                    self.counter+=1\n",
        "                    self.iteration+=1\n",
        "\n",
        "                    # Checks progress\n",
        "                    if V < self.min_loss:\n",
        "                            self.min_loss = V\n",
        "                            self.counter = 0\n",
        "                # Bounces\n",
        "                else:\n",
        "                        \n",
        "                    #First we iterate once to compute pi^2, we randomly regenerate the directions, and we compute the new norm squared\n",
        "\n",
        "                    ps20 = torch.tensor(0.0, device = self.param_groups[0][\"params\"][0].device )\n",
        "                    ps2new = torch.tensor(0.0, device = self.param_groups[0][\"params\"][0].device )\n",
        "\n",
        "                    for p in group[\"params\"]:\n",
        "                        param_state = self.state[p]\n",
        "\n",
        "                        buf = param_state[\"momentum_buffer\"]\n",
        "                        ps20 += torch.dot(buf.view(-1), buf.view(-1))\n",
        "                        new_buf = param_state[\"momentum_buffer\"] = torch.rand(buf.size(), device=buf.device, generator = self.generator)-.5\n",
        "                        ps2new += torch.dot(new_buf.view(-1), new_buf.view(-1))\n",
        "\n",
        "                    # Then rescale them\n",
        "                    for p in group[\"params\"]:\n",
        "                        param_state = self.state[p]\n",
        "                        buf = param_state[\"momentum_buffer\"]\n",
        "                        buf.mul_(torch.sqrt(ps20/ps2new))\n",
        "\n",
        "                    # Update counters\n",
        "                    if (self.counter0 == threshold0):\n",
        "                        self.fixed_bounces_performed+=1\n",
        "                        if self.fixed_bounces_performed < self.n_fixed_bounces:\n",
        "                            self.counter0 = 0\n",
        "                        else:\n",
        "                            self.counter0+=1           \n",
        "                    self.counter = 0   \n",
        "        return loss\n",
        "        \n",
        "\n",
        "\n",
        "class BBI_v0tuning(Optimizer): \n",
        "    \"\"\"Optimizer based on the BBI model of inflation.\n",
        "    Args:\n",
        "        params (iterable): iterable of parameters to optimize or dicts defining\n",
        "            parameter groups\n",
        "        lr (float): learning rate\n",
        "        v0 (float): expected minimum of the potential (\\Delta V in the paper)\n",
        "        threshold0 (integer): threshold for fixed bounces (T_0 in the paper)\n",
        "        threshold1 (integer): threshold for progress-dependent bounces (T_1 in the paper)\n",
        "        deltaEn (float): extra initial energy (\\delta E in the paper)\n",
        "        consEn (bool): if True enforces energy conservation at every step\n",
        "        n_fixed_bounces (integer): number of bounces every T_0 iterations (N_b in the paper)\n",
        "        v0_tuning (bool):  automatic tuning of v0.\n",
        "        weight_decay(float): weight decay\n",
        "    \"\"\"\n",
        "    def __init__(self, params, lr=required, eps1=1e-10, eps2=1e-40, v0=0, threshold0=1000, threshold=3000, deltaEn=0.0, consEn=True, n_fixed_bounces=1, weight_decay=0.0, v0_tuning = False ):\n",
        "            \n",
        "            defaults = dict(lr=lr, eps1=eps1, eps2=eps2, v0=v0, threshold = threshold, threshold0 = threshold0, deltaEn = deltaEn, consEn = consEn, n_fixed_bounces = n_fixed_bounces, v0_tuning = v0_tuning)\n",
        "            self.energy = None\n",
        "            self.min_loss = None\n",
        "            self.iteration = 0\n",
        "            self.deltaEn = deltaEn\n",
        "            self.n_fixed_bounces = n_fixed_bounces\n",
        "            self.consEn = consEn \n",
        "            self.weight_decay = weight_decay\n",
        "            self.v0_tuning = v0_tuning\n",
        "            super(BBI_v0tuning, self).__init__(params, defaults)\n",
        "\n",
        "    def __setstate__(self, state):\n",
        "        super(BBI_v0tuning, self).__setstate__(state)\n",
        "\n",
        "    @torch.no_grad()\n",
        "    def step(self, closure):\n",
        "\n",
        "        loss = None\n",
        "        if closure is not None:\n",
        "            with torch.enable_grad():\n",
        "                loss = closure()\n",
        "\n",
        "\n",
        "        # initialization\n",
        "        if(self.iteration == 0):\n",
        "\n",
        "            #define a random numbers generator, in order not to use the ambient seed and have random bounces even with the same ambient seed\n",
        "            self.generator = torch.Generator(device = self.param_groups[0][\"params\"][0].device)\n",
        "            self.generator.manual_seed(self.generator.seed())#+1)\n",
        "         \n",
        "            #Initial energy\n",
        "            self.initV = loss-self.param_groups[0][\"v0\"]\n",
        "            self.init_energy = self.initV+self.deltaEn\n",
        "\n",
        "            # Some counters            \n",
        "            self.counter0 = 0\n",
        "            self.fixed_bounces_performed = 0\n",
        "            self.counter = 0\n",
        "\n",
        "            self.min_loss = float(\"inf\")\n",
        "\n",
        "            #used for the shift of v0\n",
        "            self.v0_shift = 0.0\n",
        "\n",
        "            if self.v0_tuning == True:\n",
        "                print(\"Warning, self tuning of v0 is still in development!\")\n",
        "\n",
        "        for group in self.param_groups:\n",
        "            \n",
        "            th2 = torch.tensor(0.0, device = self.param_groups[0][\"params\"][0].device )\n",
        "\n",
        "            if self.weight_decay != 0.0:\n",
        "                #compute \\theta^2 for the L2 regularization associated to weight decay\n",
        "                for p in group[\"params\"]:\n",
        "                        param_state = self.state[p]\n",
        "                        th2+= torch.dot(p.data.view(-1), p.data.view(-1))\n",
        "\n",
        "            V = (loss - group[\"v0\"]-self.v0_shift)+.5*self.weight_decay*th2\n",
        "            dt = group[\"lr\"]\n",
        "            eps1 = group[\"eps1\"]\n",
        "            eps2 = group[\"eps2\"]\n",
        "            threshold0 = group[\"threshold0\"]\n",
        "            threshold = group[\"threshold\"]\n",
        "            \n",
        "            if V > (not self.v0_tuning)*eps2:\n",
        "\n",
        "                EoverV = self.init_energy/V\n",
        "                VoverE = V/self.init_energy\n",
        "\n",
        "                # Now I check if loss and pi^2 are consistent with the initial value of the energy\n",
        "                \n",
        "                ps2_pre = torch.tensor(0.0, device = self.param_groups[0][\"params\"][0].device )\n",
        "\n",
        "                for p in group[\"params\"]:\n",
        "                    param_state = self.state[p]\n",
        "                    d_p = p.grad.data\n",
        "                    d_p.add_(self.weight_decay, p.data)\n",
        "                    #Initialize in the direction of the gradient, with magnitude related to deltaE\n",
        "                    if \"momentum_buffer\" not in param_state:\n",
        "                        buf = param_state[\"momentum_buffer\"] = -(d_p/torch.norm(d_p))*torch.sqrt(torch.tensor( ((self.init_energy**2)/self.initV) - self.initV ))\n",
        "                    else:\n",
        "                        buf = param_state[\"momentum_buffer\"]\n",
        "\n",
        "                    # compute the current pi^2 . Pre means that this is the value before the iteration step\n",
        "                    ps2_pre += torch.dot(buf.view(-1), buf.view(-1))\n",
        "\n",
        "                    \n",
        "                if (self.consEn == True):\n",
        "\n",
        "                    # Compare this \\pi^2 with what it should have been if the energy was correct\n",
        "                    ps2_correct = V*( (EoverV**2)-1.0 )\n",
        "\n",
        "                    # Compute the rescaling factor, only if real\n",
        "                    if torch.abs(ps2_pre-ps2_correct) <  eps1:\n",
        "                        self.rescaling_pi = 1.0\n",
        "                    elif ps2_correct < 0.0:\n",
        "                        self.rescaling_pi = 1.0\n",
        "                    else:\n",
        "                        self.rescaling_pi = torch.sqrt(((ps2_correct/(ps2_pre))))\n",
        "\n",
        "                \n",
        "                # Perform the optimization step\n",
        "                if (self.counter != threshold) and (self.counter0 != threshold0) :\n",
        "                    \n",
        "                    for p in group[\"params\"]:\n",
        "                        if p.grad is None:\n",
        "                            continue\n",
        "                        d_p = p.grad.data\n",
        "                        d_p.add_(self.weight_decay, p.data)\n",
        "                        param_state = self.state[p]\n",
        "\n",
        "                        if \"momentum_buffer\" not in param_state:    \n",
        "                            buf = param_state[\"momentum_buffer\"] = torch.zeros_like(p.data)\n",
        "                        else:\n",
        "                            buf = param_state[\"momentum_buffer\"]\n",
        "\n",
        "                        # Here the rescaling of momenta to enforce conservation of energy        \n",
        "                        if (self.consEn == True):\n",
        "                            buf.mul_(self.rescaling_pi) \n",
        "                            \n",
        "                        buf.add_(- 0.5 * dt * (VoverE + EoverV)*d_p)\n",
        "                        p.data.add_(dt*VoverE*buf)\n",
        "\n",
        "                    # Updates counters\n",
        "                    self.counter0+=1\n",
        "                    self.counter+=1\n",
        "                    self.iteration+=1\n",
        "\n",
        "                    # Checks progress\n",
        "                    if V < self.min_loss:\n",
        "                            self.min_loss = V\n",
        "                            self.counter = 0\n",
        "                # Bounces\n",
        "                else:\n",
        "                        \n",
        "                    #First we iterate once to compute pi^2, we randomly regenerate the directions, and we compute the new norm squared\n",
        "\n",
        "                    ps20 = torch.tensor(0.0, device = self.param_groups[0][\"params\"][0].device )\n",
        "                    ps2new = torch.tensor(0.0, device = self.param_groups[0][\"params\"][0].device )\n",
        "\n",
        "                    for p in group[\"params\"]:\n",
        "                        param_state = self.state[p]\n",
        "\n",
        "                        buf = param_state[\"momentum_buffer\"]\n",
        "                        ps20 += torch.dot(buf.view(-1), buf.view(-1))\n",
        "                        new_buf = param_state[\"momentum_buffer\"] = torch.rand(buf.size(), device=buf.device, generator = self.generator)-.5\n",
        "                        ps2new += torch.dot(new_buf.view(-1), new_buf.view(-1))\n",
        "\n",
        "                    # Then rescale them\n",
        "                    for p in group[\"params\"]:\n",
        "                        param_state = self.state[p]\n",
        "                        buf = param_state[\"momentum_buffer\"]\n",
        "                        buf.mul_(torch.sqrt(ps20/ps2new))\n",
        "\n",
        "                    # Update counters\n",
        "                    if (self.counter0 == threshold0):\n",
        "                        self.fixed_bounces_performed+=1\n",
        "                        if self.fixed_bounces_performed < self.n_fixed_bounces:\n",
        "                            self.counter0 = 0\n",
        "                        else:\n",
        "                            self.counter0+=1           \n",
        "                    self.counter = 0   \n",
        "        \n",
        "            elif self.v0_tuning == True: \n",
        "                # Here a linear shift, with an arbitrary coefficient. This is still preliminary and requires more tuning/experiments.\n",
        "                # Another option is exponential backoff with some cutoff.\n",
        "                self.v0_shift = self.v0_shift+5*V\n",
        "                print(\"Shifting v0, remember this is still in development!\")\n",
        "                print(\"New v0: \", (self.v0_shift+group[\"v0\"]).item() )\n",
        "\n",
        "        return loss\n"
      ]
    },
    {
      "cell_type": "markdown",
      "metadata": {
        "id": "DtJUbrVvPdoK"
      },
      "source": [
        "### Dataset loading"
      ]
    },
    {
      "cell_type": "code",
      "execution_count": 6,
      "metadata": {
        "colab": {
          "base_uri": "https://localhost:8080/"
        },
        "id": "wMV4J3RiSn8s",
        "outputId": "220d5392-8766-4d38-d98f-35c1a209b143"
      },
      "outputs": [
        {
          "output_type": "stream",
          "name": "stdout",
          "text": [
            "Downloading http://yann.lecun.com/exdb/mnist/train-images-idx3-ubyte.gz\n",
            "Downloading http://yann.lecun.com/exdb/mnist/train-images-idx3-ubyte.gz to mnist/MNIST/raw/train-images-idx3-ubyte.gz\n"
          ]
        },
        {
          "output_type": "stream",
          "name": "stderr",
          "text": [
            "100%|██████████| 9912422/9912422 [00:00<00:00, 93996557.27it/s]\n"
          ]
        },
        {
          "output_type": "stream",
          "name": "stdout",
          "text": [
            "Extracting mnist/MNIST/raw/train-images-idx3-ubyte.gz to mnist/MNIST/raw\n",
            "\n",
            "Downloading http://yann.lecun.com/exdb/mnist/train-labels-idx1-ubyte.gz\n",
            "Downloading http://yann.lecun.com/exdb/mnist/train-labels-idx1-ubyte.gz to mnist/MNIST/raw/train-labels-idx1-ubyte.gz\n"
          ]
        },
        {
          "output_type": "stream",
          "name": "stderr",
          "text": [
            "100%|██████████| 28881/28881 [00:00<00:00, 111337953.88it/s]\n"
          ]
        },
        {
          "output_type": "stream",
          "name": "stdout",
          "text": [
            "Extracting mnist/MNIST/raw/train-labels-idx1-ubyte.gz to mnist/MNIST/raw\n",
            "\n",
            "Downloading http://yann.lecun.com/exdb/mnist/t10k-images-idx3-ubyte.gz\n",
            "Downloading http://yann.lecun.com/exdb/mnist/t10k-images-idx3-ubyte.gz to mnist/MNIST/raw/t10k-images-idx3-ubyte.gz\n"
          ]
        },
        {
          "output_type": "stream",
          "name": "stderr",
          "text": [
            "100%|██████████| 1648877/1648877 [00:00<00:00, 25605877.29it/s]\n"
          ]
        },
        {
          "output_type": "stream",
          "name": "stdout",
          "text": [
            "Extracting mnist/MNIST/raw/t10k-images-idx3-ubyte.gz to mnist/MNIST/raw\n",
            "\n",
            "Downloading http://yann.lecun.com/exdb/mnist/t10k-labels-idx1-ubyte.gz\n",
            "Downloading http://yann.lecun.com/exdb/mnist/t10k-labels-idx1-ubyte.gz to mnist/MNIST/raw/t10k-labels-idx1-ubyte.gz\n"
          ]
        },
        {
          "output_type": "stream",
          "name": "stderr",
          "text": [
            "100%|██████████| 4542/4542 [00:00<00:00, 7383925.88it/s]\n"
          ]
        },
        {
          "output_type": "stream",
          "name": "stdout",
          "text": [
            "Extracting mnist/MNIST/raw/t10k-labels-idx1-ubyte.gz to mnist/MNIST/raw\n",
            "\n"
          ]
        }
      ],
      "source": [
        "transform = transforms.Compose([\n",
        "    transforms.ToTensor(),\n",
        "])\n",
        "\n",
        "train_dataset = datasets.MNIST('mnist/', train=True, download=True, transform=transform)\n",
        "test_dataset = datasets.MNIST('mnist/', train=False, download=True, transform=transform)\n",
        "\n",
        "batch_size = 64\n",
        "train_loader = torch.utils.data.DataLoader(train_dataset, batch_size=batch_size, shuffle=True, num_workers=2)\n",
        "test_loader = torch.utils.data.DataLoader(test_dataset, batch_size=batch_size, shuffle=True, num_workers=2)"
      ]
    },
    {
      "cell_type": "markdown",
      "metadata": {
        "id": "2gKRYE9dPdoM"
      },
      "source": [
        "## maximal update parametrization (µP)"
      ]
    },
    {
      "cell_type": "code",
      "execution_count": 7,
      "metadata": {
        "id": "8yPC2IG1Sn8t"
      },
      "outputs": [],
      "source": [
        "import mup\n",
        "from mup import MuReadout, MuSGD, set_base_shapes, MuAdam"
      ]
    },
    {
      "cell_type": "code",
      "execution_count": 8,
      "metadata": {
        "id": "ulvJGB_iSn8u"
      },
      "outputs": [],
      "source": [
        "def MuBBI(params, **kwargs):\n",
        "    '''\n",
        "    BBI µP optimizer\n",
        "    '''\n",
        "    return MuAdam(params, impl=BBI, **kwargs)"
      ]
    },
    {
      "cell_type": "code",
      "execution_count": 9,
      "metadata": {
        "id": "NxSpIHnVSn8v"
      },
      "outputs": [],
      "source": [
        "class Net(nn.Module):\n",
        "    def __init__(self, channels=16, n_hidden=2):\n",
        "        super().__init__()\n",
        "        self.conv1 = nn.Conv2d(in_channels=1, out_channels=channels, kernel_size=5, stride=1, padding=2)\n",
        "        self.conv2 = nn.Conv2d(in_channels=channels, out_channels=channels*2, kernel_size=5, stride=1, padding=2)\n",
        "        self.pool = nn.MaxPool2d(kernel_size=2)\n",
        "        self.relu = nn.ReLU()\n",
        "        self.layers = []\n",
        "        self.layers += [self.conv1, self.relu, self.pool, self.conv2, self.relu]\n",
        "        in_chan = channels*2\n",
        "        if n_hidden > 2:\n",
        "            for i in range(n_hidden - 2):\n",
        "                self.conv = nn.Conv2d(in_channels=in_chan, out_channels=in_chan*2, kernel_size=3, padding=1)\n",
        "                self.layers += [self.conv, self.relu]\n",
        "                in_chan = in_chan*2\n",
        "        self.layers += [self.pool]\n",
        "        self.net = nn.Sequential(*self.layers)\n",
        "        # self.fc1 = nn.Linear(in_features=in_chan*7*7, out_features=120)\n",
        "        self.fc2 = MuReadout(in_chan*7*7, 120)\n",
        "        \n",
        "    def forward(self, x):\n",
        "        x = self.net(x)\n",
        "        x = torch.flatten(x, start_dim=1)\n",
        "        # x = self.fc1(x)\n",
        "        x = self.fc2(x)\n",
        "        return x"
      ]
    },
    {
      "cell_type": "code",
      "execution_count": 18,
      "metadata": {
        "id": "9oNeAKSpPdoO"
      },
      "outputs": [],
      "source": [
        "def train_test_model(optimizer_creator, optimizer_step=lambda optimizer, loss: optimizer.step()):\n",
        "    criterion = nn.CrossEntropyLoss()\n",
        "\n",
        "    # Train\n",
        "    epochs = 5\n",
        "    n_check = 6\n",
        "    test_loss = []\n",
        "    test_acc = []\n",
        "    for k in range(n_check):\n",
        "        print(f'Run: {k+1} \\t# of conv. layers: {2+k}')\n",
        "        \n",
        "        base_model = Net(channels=2, n_hidden=k+2).to(device)\n",
        "        delta_model = Net(channels=4, n_hidden=k+2).to(device)\n",
        "        model = Net(channels=16, n_hidden=k+2).to(device)\n",
        "        set_base_shapes(model, base_model, delta=delta_model)\n",
        "        for param in model.parameters():\n",
        "            mup.init.uniform_(param, -0.1, 0.1)\n",
        "\n",
        "        optimizer = optimizer_creator(model.parameters())\n",
        "\n",
        "        for epoch in range(1, epochs+1):\n",
        "            loss_tr = 0.0\n",
        "            for i, (inputs, labels) in enumerate(train_loader):\n",
        "                inputs = inputs.to(device)\n",
        "                labels = labels.to(device)\n",
        "                optimizer.zero_grad()\n",
        "                outputs = model(inputs)\n",
        "                loss = criterion(outputs, labels)\n",
        "                loss.backward() \n",
        "                optimizer_step(optimizer, loss)\n",
        "                loss_tr += loss.item()\n",
        "        \n",
        "        # Evaluate\n",
        "        correct = 0\n",
        "        total = 0\n",
        "        loss_tr = 0.0\n",
        "        with torch.no_grad():\n",
        "            for inputs, labels in test_loader:\n",
        "                inputs = inputs.to(device)\n",
        "                labels = labels.to(device)\n",
        "                outputs = model(inputs)\n",
        "                loss = criterion(outputs, labels)\n",
        "                loss_tr += loss.item()\n",
        "                _, predicted = torch.max(outputs.data, 1)\n",
        "                \n",
        "                total += labels.size(0)\n",
        "                correct += (predicted == labels).sum().item()\n",
        "            test_loss.append(loss_tr/len(test_loader))\n",
        "        test_acc.append(correct/total)\n",
        "\n",
        "    return test_loss, test_acc"
      ]
    },
    {
      "cell_type": "markdown",
      "metadata": {
        "id": "r8_JkkYuPdoP"
      },
      "source": [
        "### µP SGD experiments"
      ]
    },
    {
      "cell_type": "code",
      "execution_count": 11,
      "metadata": {
        "colab": {
          "base_uri": "https://localhost:8080/"
        },
        "id": "_SMOgqNPPdoP",
        "outputId": "6fa74d2a-6a18-43eb-9504-239eee891320"
      },
      "outputs": [
        {
          "output_type": "stream",
          "name": "stdout",
          "text": [
            "Run: 1 \t# of conv. layers: 2\n",
            "Run: 2 \t# of conv. layers: 3\n",
            "Run: 3 \t# of conv. layers: 4\n",
            "Run: 4 \t# of conv. layers: 5\n",
            "Run: 5 \t# of conv. layers: 6\n",
            "Run: 6 \t# of conv. layers: 7\n"
          ]
        }
      ],
      "source": [
        "test_loss_SGD, test_acc_SGD = train_test_model(lambda params: MuSGD(params, lr=0.01))"
      ]
    },
    {
      "cell_type": "code",
      "execution_count": 12,
      "metadata": {
        "colab": {
          "base_uri": "https://localhost:8080/"
        },
        "id": "MqGRpXbhSn8y",
        "outputId": "f64d5589-71ed-41c6-9a1f-6d4f9ba4f67e"
      },
      "outputs": [
        {
          "output_type": "execute_result",
          "data": {
            "text/plain": [
              "([0.10517326498012634,\n",
              "  0.1069317879985757,\n",
              "  0.09331208887765077,\n",
              "  0.06917142215522991,\n",
              "  0.05383627842904134,\n",
              "  0.054042146228265704],\n",
              " [0.9691, 0.9666, 0.9688, 0.9765, 0.9829, 0.9825])"
            ]
          },
          "metadata": {},
          "execution_count": 12
        }
      ],
      "source": [
        "test_loss_SGD, test_acc_SGD"
      ]
    },
    {
      "cell_type": "markdown",
      "metadata": {
        "id": "2SbtnUC2PdoQ"
      },
      "source": [
        "### µP Adam experiments"
      ]
    },
    {
      "cell_type": "code",
      "execution_count": 13,
      "metadata": {
        "colab": {
          "base_uri": "https://localhost:8080/"
        },
        "id": "xqRJmuZVPdoR",
        "outputId": "e50ae94f-42ee-49f5-91f4-0300a5cbe09b"
      },
      "outputs": [
        {
          "output_type": "stream",
          "name": "stdout",
          "text": [
            "Run: 1 \t# of conv. layers: 2\n",
            "Run: 2 \t# of conv. layers: 3\n",
            "Run: 3 \t# of conv. layers: 4\n",
            "Run: 4 \t# of conv. layers: 5\n",
            "Run: 5 \t# of conv. layers: 6\n",
            "Run: 6 \t# of conv. layers: 7\n"
          ]
        }
      ],
      "source": [
        "test_loss_Adam, test_acc_Adam = train_test_model(lambda params: MuAdam(params, lr=0.001))"
      ]
    },
    {
      "cell_type": "code",
      "execution_count": 14,
      "metadata": {
        "colab": {
          "base_uri": "https://localhost:8080/"
        },
        "id": "Pao2k4FLSn80",
        "outputId": "4964c303-3960-497a-c7ab-34e066e6a747"
      },
      "outputs": [
        {
          "output_type": "execute_result",
          "data": {
            "text/plain": [
              "([0.06955654496789739,\n",
              "  0.05619939827733928,\n",
              "  0.051277682544058484,\n",
              "  0.029503672953196773,\n",
              "  0.03051514201093121,\n",
              "  0.032061223739092266],\n",
              " [0.978, 0.9823, 0.9835, 0.9903, 0.9902, 0.9887])"
            ]
          },
          "metadata": {},
          "execution_count": 14
        }
      ],
      "source": [
        "test_loss_Adam, test_acc_Adam"
      ]
    },
    {
      "cell_type": "markdown",
      "metadata": {
        "id": "A4dZolDEPdoS"
      },
      "source": [
        "### µP BBI experiments"
      ]
    },
    {
      "cell_type": "code",
      "execution_count": 19,
      "metadata": {
        "colab": {
          "base_uri": "https://localhost:8080/"
        },
        "id": "3KoVvrYsPdoS",
        "outputId": "cb399684-d922-48c6-d03b-57c1433b369d"
      },
      "outputs": [
        {
          "output_type": "stream",
          "name": "stdout",
          "text": [
            "Run: 1 \t# of conv. layers: 2\n",
            "Run: 2 \t# of conv. layers: 3\n",
            "Run: 3 \t# of conv. layers: 4\n",
            "Run: 4 \t# of conv. layers: 5\n",
            "Run: 5 \t# of conv. layers: 6\n",
            "Run: 6 \t# of conv. layers: 7\n"
          ]
        }
      ],
      "source": [
        "v0 = 1e-6\n",
        "threshold0 = 100\n",
        "n_fixed_bounces = 5\n",
        "threshold = 1000\n",
        "\n",
        "test_loss_BBI, test_acc_BBI = train_test_model(\n",
        "    lambda params: MuBBI(\n",
        "        params, lr=0.2, deltaEn=1.0, v0=v0, threshold0=threshold0,\n",
        "        threshold=threshold, n_fixed_bounces=n_fixed_bounces\n",
        "    ),\n",
        "    lambda optimizer, loss: optimizer.step(lambda: loss)\n",
        ")"
      ]
    },
    {
      "cell_type": "code",
      "execution_count": 20,
      "metadata": {
        "colab": {
          "base_uri": "https://localhost:8080/"
        },
        "id": "bqf5j_8eSn83",
        "outputId": "b9683899-9d30-4431-cf30-1ef4e3400246"
      },
      "outputs": [
        {
          "output_type": "execute_result",
          "data": {
            "text/plain": [
              "([0.07418479905168546,\n",
              "  0.13146350158544948,\n",
              "  0.07189843209592364,\n",
              "  0.06228381580754074,\n",
              "  0.056934312656655266,\n",
              "  0.042713754956444965],\n",
              " [0.984, 0.9763, 0.9823, 0.9852, 0.9839, 0.9887])"
            ]
          },
          "metadata": {},
          "execution_count": 20
        }
      ],
      "source": [
        "test_loss_BBI, test_acc_BBI"
      ]
    },
    {
      "cell_type": "markdown",
      "metadata": {
        "id": "QCFcz8_BPdoT"
      },
      "source": [
        "### µP optimizers comparison"
      ]
    },
    {
      "cell_type": "code",
      "execution_count": 21,
      "metadata": {
        "colab": {
          "base_uri": "https://localhost:8080/",
          "height": 449
        },
        "id": "hdzf-yPzSn84",
        "outputId": "6825e04c-30a4-47c9-e2b9-bd9801328bce"
      },
      "outputs": [
        {
          "output_type": "display_data",
          "data": {
            "text/plain": [
              "<Figure size 640x480 with 1 Axes>"
            ],
            "image/png": "[encoded data removed]"
          },
          "metadata": {}
        }
      ],
      "source": [
        "t = np.arange(2, 8)\n",
        "\n",
        "sns.lineplot(y=test_loss_BBI, x=t, label='BBI')\n",
        "sns.lineplot(y=test_loss_Adam, x=t, label='Adam')\n",
        "sns.lineplot(y=test_loss_SGD, x=t, label='SGD')\n",
        "plt.yscale('log')\n",
        "\n",
        "# plt.title('Comparing performance of different architeture.')\n",
        "plt.xlabel('# of hidden conv. layers')\n",
        "plt.ylabel('loss')\n",
        "\n",
        "plt.legend()\n",
        "plt.show()"
      ]
    },
    {
      "cell_type": "markdown",
      "metadata": {
        "id": "-LpLWTD0Sn86"
      },
      "source": [
        "## Learning Rate Scaling with Width"
      ]
    }
  ],
  "metadata": {
    "accelerator": "GPU",
    "colab": {
      "provenance": []
    },
    "gpuClass": "standard",
    "kernelspec": {
      "display_name": "epfl-oml",
      "language": "python",
      "name": "python3"
    },
    "language_info": {
      "codemirror_mode": {
        "name": "ipython",
        "version": 3
      },
      "file_extension": ".py",
      "mimetype": "text/x-python",
      "name": "python",
      "nbconvert_exporter": "python",
      "pygments_lexer": "ipython3",
      "version": "3.10.9"
    },
    "orig_nbformat": 4
  },
  "nbformat": 4,
  "nbformat_minor": 0
}