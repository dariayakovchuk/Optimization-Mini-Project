{
  "cells": [
    {
      "attachments": {},
      "cell_type": "markdown",
      "metadata": {
        "id": "IHGdPfFpSn8e"
      },
      "source": [
        "# Framework for initialization and hyperparameter scaling with network size."
      ]
    },
    {
      "cell_type": "code",
      "execution_count": 2,
      "metadata": {
        "id": "cJzNYaylSn8l"
      },
      "outputs": [],
      "source": [
        "import torch \n",
        "import torch.nn as nn\n",
        "from torchvision import datasets, transforms\n",
        "import torch.optim as optim\n",
        "\n",
        "device = torch.device('cuda' if torch.cuda.is_available() else 'cpu')"
      ]
    },
    {
      "cell_type": "code",
      "execution_count": 4,
      "metadata": {
        "colab": {
          "base_uri": "https://localhost:8080/"
        },
        "id": "wMV4J3RiSn8s",
        "outputId": "5400755b-84e3-41f7-93ab-ddcc2b1a1d95"
      },
      "outputs": [
        {
          "name": "stdout",
          "output_type": "stream",
          "text": [
            "Downloading http://yann.lecun.com/exdb/mnist/train-images-idx3-ubyte.gz\n",
            "Downloading http://yann.lecun.com/exdb/mnist/train-images-idx3-ubyte.gz to mnist/MNIST/raw/train-images-idx3-ubyte.gz\n"
          ]
        },
        {
          "name": "stderr",
          "output_type": "stream",
          "text": [
            "100%|██████████| 9912422/9912422 [00:00<00:00, 93776062.86it/s]\n"
          ]
        },
        {
          "name": "stdout",
          "output_type": "stream",
          "text": [
            "Extracting mnist/MNIST/raw/train-images-idx3-ubyte.gz to mnist/MNIST/raw\n",
            "\n",
            "Downloading http://yann.lecun.com/exdb/mnist/train-labels-idx1-ubyte.gz\n",
            "Downloading http://yann.lecun.com/exdb/mnist/train-labels-idx1-ubyte.gz to mnist/MNIST/raw/train-labels-idx1-ubyte.gz\n"
          ]
        },
        {
          "name": "stderr",
          "output_type": "stream",
          "text": [
            "100%|██████████| 28881/28881 [00:00<00:00, 117607469.73it/s]\n"
          ]
        },
        {
          "name": "stdout",
          "output_type": "stream",
          "text": [
            "Extracting mnist/MNIST/raw/train-labels-idx1-ubyte.gz to mnist/MNIST/raw\n",
            "\n",
            "Downloading http://yann.lecun.com/exdb/mnist/t10k-images-idx3-ubyte.gz\n",
            "Downloading http://yann.lecun.com/exdb/mnist/t10k-images-idx3-ubyte.gz to mnist/MNIST/raw/t10k-images-idx3-ubyte.gz\n"
          ]
        },
        {
          "name": "stderr",
          "output_type": "stream",
          "text": [
            "100%|██████████| 1648877/1648877 [00:00<00:00, 26513312.06it/s]\n"
          ]
        },
        {
          "name": "stdout",
          "output_type": "stream",
          "text": [
            "Extracting mnist/MNIST/raw/t10k-images-idx3-ubyte.gz to mnist/MNIST/raw\n",
            "\n",
            "Downloading http://yann.lecun.com/exdb/mnist/t10k-labels-idx1-ubyte.gz\n",
            "Downloading http://yann.lecun.com/exdb/mnist/t10k-labels-idx1-ubyte.gz to mnist/MNIST/raw/t10k-labels-idx1-ubyte.gz\n"
          ]
        },
        {
          "name": "stderr",
          "output_type": "stream",
          "text": [
            "100%|██████████| 4542/4542 [00:00<00:00, 21672956.51it/s]\n"
          ]
        },
        {
          "name": "stdout",
          "output_type": "stream",
          "text": [
            "Extracting mnist/MNIST/raw/t10k-labels-idx1-ubyte.gz to mnist/MNIST/raw\n",
            "\n"
          ]
        }
      ],
      "source": [
        "transform = transforms.Compose([\n",
        "    transforms.ToTensor(),\n",
        "])\n",
        "\n",
        "train_dataset = datasets.MNIST('mnist/', train=True, download=True, transform=transform)\n",
        "test_dataset = datasets.MNIST('mnist/', train=False, download=True, transform=transform)\n",
        "\n",
        "batch_size = 64\n",
        "train_loader = torch.utils.data.DataLoader(train_dataset, batch_size=batch_size, shuffle=True, num_workers=2)\n",
        "test_loader = torch.utils.data.DataLoader(test_dataset, batch_size=batch_size, shuffle=True, num_workers=2)"
      ]
    },
    {
      "cell_type": "code",
      "execution_count": 5,
      "metadata": {
        "colab": {
          "base_uri": "https://localhost:8080/"
        },
        "id": "f1Xucha0TLuh",
        "outputId": "1359332d-e795-48c8-d428-382eb7eefc3c"
      },
      "outputs": [
        {
          "name": "stdout",
          "output_type": "stream",
          "text": [
            "Looking in indexes: https://pypi.org/simple, https://us-python.pkg.dev/colab-wheels/public/simple/\n",
            "Collecting mup\n",
            "  Downloading mup-1.0.0.tar.gz (28 kB)\n",
            "  Preparing metadata (setup.py) ... \u001b[?25l\u001b[?25hdone\n",
            "Requirement already satisfied: numpy in /usr/local/lib/python3.10/dist-packages (from mup) (1.22.4)\n",
            "Requirement already satisfied: pandas in /usr/local/lib/python3.10/dist-packages (from mup) (1.5.3)\n",
            "Requirement already satisfied: torch in /usr/local/lib/python3.10/dist-packages (from mup) (2.0.0+cu118)\n",
            "Requirement already satisfied: torchvision in /usr/local/lib/python3.10/dist-packages (from mup) (0.15.1+cu118)\n",
            "Requirement already satisfied: seaborn in /usr/local/lib/python3.10/dist-packages (from mup) (0.12.2)\n",
            "Requirement already satisfied: tqdm in /usr/local/lib/python3.10/dist-packages (from mup) (4.65.0)\n",
            "Requirement already satisfied: pyyaml in /usr/local/lib/python3.10/dist-packages (from mup) (6.0)\n",
            "Requirement already satisfied: python-dateutil>=2.8.1 in /usr/local/lib/python3.10/dist-packages (from pandas->mup) (2.8.2)\n",
            "Requirement already satisfied: pytz>=2020.1 in /usr/local/lib/python3.10/dist-packages (from pandas->mup) (2022.7.1)\n",
            "Requirement already satisfied: matplotlib!=3.6.1,>=3.1 in /usr/local/lib/python3.10/dist-packages (from seaborn->mup) (3.7.1)\n",
            "Requirement already satisfied: filelock in /usr/local/lib/python3.10/dist-packages (from torch->mup) (3.12.0)\n",
            "Requirement already satisfied: typing-extensions in /usr/local/lib/python3.10/dist-packages (from torch->mup) (4.5.0)\n",
            "Requirement already satisfied: sympy in /usr/local/lib/python3.10/dist-packages (from torch->mup) (1.11.1)\n",
            "Requirement already satisfied: networkx in /usr/local/lib/python3.10/dist-packages (from torch->mup) (3.1)\n",
            "Requirement already satisfied: jinja2 in /usr/local/lib/python3.10/dist-packages (from torch->mup) (3.1.2)\n",
            "Requirement already satisfied: triton==2.0.0 in /usr/local/lib/python3.10/dist-packages (from torch->mup) (2.0.0)\n",
            "Requirement already satisfied: cmake in /usr/local/lib/python3.10/dist-packages (from triton==2.0.0->torch->mup) (3.25.2)\n",
            "Requirement already satisfied: lit in /usr/local/lib/python3.10/dist-packages (from triton==2.0.0->torch->mup) (16.0.2)\n",
            "Requirement already satisfied: requests in /usr/local/lib/python3.10/dist-packages (from torchvision->mup) (2.27.1)\n",
            "Requirement already satisfied: pillow!=8.3.*,>=5.3.0 in /usr/local/lib/python3.10/dist-packages (from torchvision->mup) (8.4.0)\n",
            "Requirement already satisfied: contourpy>=1.0.1 in /usr/local/lib/python3.10/dist-packages (from matplotlib!=3.6.1,>=3.1->seaborn->mup) (1.0.7)\n",
            "Requirement already satisfied: cycler>=0.10 in /usr/local/lib/python3.10/dist-packages (from matplotlib!=3.6.1,>=3.1->seaborn->mup) (0.11.0)\n",
            "Requirement already satisfied: fonttools>=4.22.0 in /usr/local/lib/python3.10/dist-packages (from matplotlib!=3.6.1,>=3.1->seaborn->mup) (4.39.3)\n",
            "Requirement already satisfied: kiwisolver>=1.0.1 in /usr/local/lib/python3.10/dist-packages (from matplotlib!=3.6.1,>=3.1->seaborn->mup) (1.4.4)\n",
            "Requirement already satisfied: packaging>=20.0 in /usr/local/lib/python3.10/dist-packages (from matplotlib!=3.6.1,>=3.1->seaborn->mup) (23.1)\n",
            "Requirement already satisfied: pyparsing>=2.3.1 in /usr/local/lib/python3.10/dist-packages (from matplotlib!=3.6.1,>=3.1->seaborn->mup) (3.0.9)\n",
            "Requirement already satisfied: six>=1.5 in /usr/local/lib/python3.10/dist-packages (from python-dateutil>=2.8.1->pandas->mup) (1.16.0)\n",
            "Requirement already satisfied: MarkupSafe>=2.0 in /usr/local/lib/python3.10/dist-packages (from jinja2->torch->mup) (2.1.2)\n",
            "Requirement already satisfied: urllib3<1.27,>=1.21.1 in /usr/local/lib/python3.10/dist-packages (from requests->torchvision->mup) (1.26.15)\n",
            "Requirement already satisfied: certifi>=2017.4.17 in /usr/local/lib/python3.10/dist-packages (from requests->torchvision->mup) (2022.12.7)\n",
            "Requirement already satisfied: charset-normalizer~=2.0.0 in /usr/local/lib/python3.10/dist-packages (from requests->torchvision->mup) (2.0.12)\n",
            "Requirement already satisfied: idna<4,>=2.5 in /usr/local/lib/python3.10/dist-packages (from requests->torchvision->mup) (3.4)\n",
            "Requirement already satisfied: mpmath>=0.19 in /usr/local/lib/python3.10/dist-packages (from sympy->torch->mup) (1.3.0)\n",
            "Building wheels for collected packages: mup\n",
            "  Building wheel for mup (setup.py) ... \u001b[?25l\u001b[?25hdone\n",
            "  Created wheel for mup: filename=mup-1.0.0-py3-none-any.whl size=23650 sha256=88a66667252e7f039fe6896bae76840b1b77156774be23f71f9f89eb8d9dcc8e\n",
            "  Stored in directory: /root/.cache/pip/wheels/f4/c8/88/3c23a3d10c50053b6552d2d30aee5b53ba89a47f742420036c\n",
            "Successfully built mup\n",
            "Installing collected packages: mup\n",
            "Successfully installed mup-1.0.0\n"
          ]
        }
      ],
      "source": [
        "!pip install mup"
      ]
    },
    {
      "cell_type": "code",
      "execution_count": 6,
      "metadata": {
        "id": "8yPC2IG1Sn8t"
      },
      "outputs": [],
      "source": [
        "import mup\n",
        "from mup import MuReadout, MuSGD, set_base_shapes, MuAdam"
      ]
    },
    {
      "cell_type": "code",
      "execution_count": 7,
      "metadata": {
        "id": "ulvJGB_iSn8u"
      },
      "outputs": [],
      "source": [
        "def MuBBI(params, **kwargs):\n",
        "    return MuAdam(params, impl=BBI, **kwargs)"
      ]
    },
    {
      "cell_type": "code",
      "execution_count": 8,
      "metadata": {
        "id": "NxSpIHnVSn8v"
      },
      "outputs": [],
      "source": [
        "class Net(nn.Module):\n",
        "    def __init__(self, channels=16, n_hidden=2):\n",
        "        super().__init__()\n",
        "        self.conv1 = nn.Conv2d(in_channels=1, out_channels=channels, kernel_size=5, stride=1, padding=2)\n",
        "        self.conv2 = nn.Conv2d(in_channels=channels, out_channels=channels*2, kernel_size=5, stride=1, padding=2)\n",
        "        self.pool = nn.MaxPool2d(kernel_size=2)\n",
        "        self.relu = nn.ReLU()\n",
        "        self.layers = []\n",
        "        self.layers += [self.conv1, self.relu, self.pool, self.conv2, self.relu]\n",
        "        in_chan = channels*2\n",
        "        if n_hidden > 2:\n",
        "            for i in range(n_hidden - 2):\n",
        "                self.conv = nn.Conv2d(in_channels=in_chan, out_channels=in_chan*2, kernel_size=3, padding=1)\n",
        "                self.layers += [self.conv, self.relu]\n",
        "                in_chan = in_chan*2\n",
        "        self.layers += [self.pool]\n",
        "        self.net = nn.Sequential(*self.layers)\n",
        "        # self.fc1 = nn.Linear(in_features=in_chan*7*7, out_features=120)\n",
        "        self.fc2 = MuReadout(in_chan*7*7, 120)\n",
        "        \n",
        "    def forward(self, x):\n",
        "        x = self.net(x)\n",
        "        x = torch.flatten(x, start_dim=1)\n",
        "        # x = self.fc1(x)\n",
        "        x = self.fc2(x)\n",
        "        return x"
      ]
    },
    {
      "cell_type": "code",
      "execution_count": 9,
      "metadata": {
        "colab": {
          "base_uri": "https://localhost:8080/"
        },
        "id": "dcC1qMPoSn8w",
        "outputId": "2bc36fde-f622-4394-a1f7-996b119466fc"
      },
      "outputs": [
        {
          "name": "stdout",
          "output_type": "stream",
          "text": [
            "Run: 3 \t# of conv. layers: 4\n",
            "Run: 8 \t# of conv. layers: 9\n"
          ]
        }
      ],
      "source": [
        "criterion = nn.CrossEntropyLoss()\n",
        "\n",
        "# Train\n",
        "epochs = 5\n",
        "n_check = 6\n",
        "test_loss_SGD = []\n",
        "test = []\n",
        "for k in [2, 7]:\n",
        "    print(f'Run: {k+1} \\t# of conv. layers: {2+k}')\n",
        "    base_model = Net(channels=2, n_hidden=k).to(device)\n",
        "    delta_model = Net(channels=4, n_hidden=k).to(device)\n",
        "    model = Net(channels=16, n_hidden=k).to(device)\n",
        "\n",
        "    set_base_shapes(model, base_model, delta=delta_model)\n",
        "\n",
        "    for param in model.parameters():\n",
        "        mup.init.uniform_(param, -0.1, 0.1)\n",
        "\n",
        "    optimizer = MuSGD(model.parameters(), lr=0.01)\n",
        "\n",
        "    for epoch in range(1, epochs+1):\n",
        "        loss_tr = 0.0\n",
        "        for i, (inputs, labels) in enumerate(train_loader):\n",
        "            inputs = inputs.to(device)\n",
        "            labels = labels.to(device)\n",
        "            optimizer.zero_grad()\n",
        "            outputs = model(inputs)\n",
        "            loss = criterion(outputs, labels)\n",
        "            loss.backward() \n",
        "            optimizer.step()\n",
        "            loss_tr += loss.item()\n",
        "    \n",
        "    # Evaluate\n",
        "    correct = 0\n",
        "    total = 0\n",
        "    loss_tr = 0.0\n",
        "    with torch.no_grad():\n",
        "        for inputs, labels in test_loader:\n",
        "            inputs = inputs.to(device)\n",
        "            labels = labels.to(device)\n",
        "            outputs = model(inputs)\n",
        "            loss = criterion(outputs, labels)\n",
        "            loss_tr += loss.item()\n",
        "            _, predicted = torch.max(outputs.data, 1)\n",
        "            \n",
        "            total += labels.size(0)\n",
        "            correct += (predicted == labels).sum().item()\n",
        "        test_loss_SGD.append(loss_tr/len(test_loader))\n",
        "    test.append(correct/total)"
      ]
    },
    {
      "cell_type": "code",
      "execution_count": 10,
      "metadata": {
        "colab": {
          "base_uri": "https://localhost:8080/"
        },
        "id": "MqGRpXbhSn8y",
        "outputId": "486505dd-1fc5-4807-8f47-372c00200ebd"
      },
      "outputs": [
        {
          "data": {
            "text/plain": [
              "([0.10458512741858793, 0.07985932561776536], [0.9683, 0.9745])"
            ]
          },
          "execution_count": 10,
          "metadata": {},
          "output_type": "execute_result"
        }
      ],
      "source": [
        "test_loss_SGD, test"
      ]
    },
    {
      "cell_type": "code",
      "execution_count": 11,
      "metadata": {
        "id": "4ar7k6ccSn8z"
      },
      "outputs": [],
      "source": [
        "criterion = nn.CrossEntropyLoss()\n",
        "\n",
        "# Train\n",
        "epochs = 5\n",
        "n_check = 6\n",
        "test_loss_Adam = []\n",
        "test = []\n",
        "for k in [2, 7]:\n",
        "    base_model = Net(channels=2, n_hidden=k).to(device)\n",
        "    delta_model = Net(channels=4, n_hidden=k).to(device)\n",
        "    model = Net(channels=16, n_hidden=k).to(device)\n",
        "\n",
        "    set_base_shapes(model, base_model, delta=delta_model)\n",
        "\n",
        "    for param in model.parameters():\n",
        "        mup.init.uniform_(param, -0.1, 0.1)\n",
        "\n",
        "    optimizer = MuAdam(model.parameters(), lr=0.001)\n",
        "\n",
        "    for epoch in range(1, epochs+1):\n",
        "        loss_tr = 0.0\n",
        "        for i, (inputs, labels) in enumerate(train_loader):\n",
        "            inputs = inputs.to(device)\n",
        "            labels = labels.to(device)\n",
        "            optimizer.zero_grad()\n",
        "            outputs = model(inputs)\n",
        "            loss = criterion(outputs, labels)\n",
        "            loss.backward() \n",
        "            optimizer.step()\n",
        "            loss_tr += loss.item()\n",
        "    \n",
        "    # Evaluate\n",
        "    correct = 0\n",
        "    total = 0\n",
        "    loss_tr = 0.0\n",
        "    with torch.no_grad():\n",
        "        for inputs, labels in test_loader:\n",
        "            inputs = inputs.to(device)\n",
        "            labels = labels.to(device)\n",
        "            outputs = model(inputs)\n",
        "            loss = criterion(outputs, labels)\n",
        "            loss_tr += loss.item()\n",
        "            _, predicted = torch.max(outputs.data, 1)\n",
        "            \n",
        "            total += labels.size(0)\n",
        "            correct += (predicted == labels).sum().item()\n",
        "        test_loss_Adam.append(loss_tr/len(test_loader))\n",
        "    test.append(correct/total)"
      ]
    },
    {
      "cell_type": "code",
      "execution_count": 12,
      "metadata": {
        "colab": {
          "base_uri": "https://localhost:8080/"
        },
        "id": "Pao2k4FLSn80",
        "outputId": "98aeaee3-9c45-4f75-db26-2965fb9050a5"
      },
      "outputs": [
        {
          "data": {
            "text/plain": [
              "([0.0669511352238619, 0.026623190363207653], [0.9776, 0.9914])"
            ]
          },
          "execution_count": 12,
          "metadata": {},
          "output_type": "execute_result"
        }
      ],
      "source": [
        "test_loss_Adam, test"
      ]
    },
    {
      "cell_type": "code",
      "execution_count": 13,
      "metadata": {
        "id": "z5ZfnAy_Sn81"
      },
      "outputs": [],
      "source": [
        "base_model = Net(channels=2, n_hidden=7).to(device)\n",
        "delta_model = Net(channels=4, n_hidden=7).to(device)\n",
        "model = Net(channels=16, n_hidden=7).to(device)\n",
        "\n",
        "set_base_shapes(model, base_model, delta=delta_model)\n",
        "\n",
        "for param in model.parameters():\n",
        "    mup.init.uniform_(param, -0.1, 0.1)\n",
        "\n",
        "v0 = 1e-6\n",
        "threshold0 = 100\n",
        "n_fixed_bounces = 5\n",
        "threshold = 1000\n",
        "\n",
        "optimizer = MuBBI(model.parameters(), lr=0.2, deltaEn=1.0, v0=v0, threshold0 = threshold0, threshold = threshold, n_fixed_bounces = n_fixed_bounces)"
      ]
    },
    {
      "cell_type": "code",
      "execution_count": 14,
      "metadata": {
        "id": "UeD-NuKgSn82"
      },
      "outputs": [],
      "source": [
        "criterion = nn.CrossEntropyLoss()\n",
        "\n",
        "# Train\n",
        "epochs = 5\n",
        "v0 = 1e-6\n",
        "threshold0 = 100\n",
        "n_fixed_bounces = 5\n",
        "threshold = 1000\n",
        "n_check = 6\n",
        "test_loss_BBI = []\n",
        "test = []\n",
        "for k in [2, 7]:\n",
        "    base_model = Net(channels=2, n_hidden=k).to(device)\n",
        "    delta_model = Net(channels=4, n_hidden=k).to(device)\n",
        "    model = Net(channels=16, n_hidden=k).to(device)\n",
        "\n",
        "    set_base_shapes(model, base_model, delta=delta_model)\n",
        "\n",
        "    for param in model.parameters():\n",
        "        mup.init.uniform_(param, -0.1, 0.1)\n",
        "\n",
        "    optimizer = MuBBI(model.parameters(), lr=0.2, deltaEn=1.0, v0=v0, threshold0 = threshold0, threshold = threshold, n_fixed_bounces = n_fixed_bounces)\n",
        "\n",
        "    for epoch in range(1, epochs+1):\n",
        "        loss_tr = 0.0\n",
        "        for i, (inputs, labels) in enumerate(train_loader):\n",
        "            inputs = inputs.to(device)\n",
        "            labels = labels.to(device)\n",
        "            optimizer.zero_grad()\n",
        "            outputs = model(inputs)\n",
        "            loss = criterion(outputs, labels)\n",
        "            loss.backward()\n",
        "            def closure(): return loss \n",
        "            optimizer.step(closure)\n",
        "            loss_tr += loss.item()\n",
        "    \n",
        "    # Evaluate\n",
        "    correct = 0\n",
        "    total = 0\n",
        "    loss_tr = 0.0\n",
        "    with torch.no_grad():\n",
        "        for inputs, labels in test_loader:\n",
        "            inputs = inputs.to(device)\n",
        "            labels = labels.to(device)\n",
        "            outputs = model(inputs)\n",
        "            loss = criterion(outputs, labels)\n",
        "            loss_tr += loss.item()\n",
        "            _, predicted = torch.max(outputs.data, 1)\n",
        "            \n",
        "            total += labels.size(0)\n",
        "            correct += (predicted == labels).sum().item()\n",
        "        test_loss_BBI.append(loss_tr/len(test_loader))\n",
        "    test.append(correct/total)"
      ]
    },
    {
      "cell_type": "code",
      "execution_count": 15,
      "metadata": {
        "colab": {
          "base_uri": "https://localhost:8080/"
        },
        "id": "bqf5j_8eSn83",
        "outputId": "36e22cdf-6d2c-413b-abe5-509971176ee1"
      },
      "outputs": [
        {
          "data": {
            "text/plain": [
              "([0.09324240137716429, 0.045926685187339805], [0.9796, 0.9871])"
            ]
          },
          "execution_count": 15,
          "metadata": {},
          "output_type": "execute_result"
        }
      ],
      "source": [
        "test_loss_BBI, test"
      ]
    },
    {
      "cell_type": "code",
      "execution_count": 18,
      "metadata": {
        "colab": {
          "base_uri": "https://localhost:8080/",
          "height": 449
        },
        "id": "hdzf-yPzSn84",
        "outputId": "41c8bb9a-8850-445d-9d83-73b78757017c"
      },
      "outputs": [
        {
          "data": {
            "image/png": "[encoded data removed]",
            "text/plain": [
              "<Figure size 640x480 with 1 Axes>"
            ]
          },
          "metadata": {},
          "output_type": "display_data"
        }
      ],
      "source": [
        "import matplotlib.pyplot as plt\n",
        "import seaborn as sns\n",
        "import numpy as np\n",
        "\n",
        "t = np.arange(2)\n",
        "\n",
        "sns.lineplot(y=test_loss_BBI, x=t, label='BBI')\n",
        "sns.lineplot(y=test_loss_Adam, x=t, label='Adam')\n",
        "sns.lineplot(y=test_loss_SGD, x=t, label='SGD')\n",
        "plt.yscale('log')\n",
        "\n",
        "# plt.title('Comparing performance of different architeture.')\n",
        "plt.xlabel('# of hidden conv. layers')\n",
        "plt.ylabel('loss')\n",
        "\n",
        "plt.legend()\n",
        "plt.show()"
      ]
    },
    {
      "attachments": {},
      "cell_type": "markdown",
      "metadata": {
        "id": "x0PBYcXtSn85"
      },
      "source": [
        "## maximal update parametrization (µP)"
      ]
    },
    {
      "attachments": {},
      "cell_type": "markdown",
      "metadata": {
        "id": "-LpLWTD0Sn86"
      },
      "source": [
        "## Learning Rate Scaling with Width"
      ]
    }
  ],
  "metadata": {
    "accelerator": "GPU",
    "colab": {
      "provenance": []
    },
    "gpuClass": "standard",
    "kernelspec": {
      "display_name": "epfl-oml",
      "language": "python",
      "name": "python3"
    },
    "language_info": {
      "codemirror_mode": {
        "name": "ipython",
        "version": 3
      },
      "file_extension": ".py",
      "mimetype": "text/x-python",
      "name": "python",
      "nbconvert_exporter": "python",
      "pygments_lexer": "ipython3",
      "version": "3.10.9"
    },
    "orig_nbformat": 4
  },
  "nbformat": 4,
  "nbformat_minor": 0
}
