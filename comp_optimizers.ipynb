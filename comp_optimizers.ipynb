{
  "cells": [
    {
      "cell_type": "markdown",
      "source": [
        "Comparing BBI to other optimizers like Adam, Adagrad, SGD\n",
        "\n",
        "In this notebook, we performed hyperparameter search and then trained and evaluated optimizers on MNIST dataset."
      ],
      "metadata": {
        "collapsed": false,
        "id": "GS1iS7AOPpc7"
      }
    },
    {
      "cell_type": "code",
      "execution_count": null,
      "outputs": [
        {
          "output_type": "stream",
          "name": "stdout",
          "text": [
            "Looking in indexes: https://pypi.org/simple, https://us-python.pkg.dev/colab-wheels/public/simple/\n",
            "Collecting optuna\n",
            "  Downloading optuna-3.1.1-py3-none-any.whl (365 kB)\n",
            "\u001b[2K     \u001b[90m━━━━━━━━━━━━━━━━━━━━━━━━━━━━━━━━━━━━━━\u001b[0m \u001b[32m365.7/365.7 kB\u001b[0m \u001b[31m15.6 MB/s\u001b[0m eta \u001b[36m0:00:00\u001b[0m\n",
            "\u001b[?25hCollecting alembic>=1.5.0 (from optuna)\n",
            "  Downloading alembic-1.11.1-py3-none-any.whl (224 kB)\n",
            "\u001b[2K     \u001b[90m━━━━━━━━━━━━━━━━━━━━━━━━━━━━━━━━━━━━━━\u001b[0m \u001b[32m224.5/224.5 kB\u001b[0m \u001b[31m23.8 MB/s\u001b[0m eta \u001b[36m0:00:00\u001b[0m\n",
            "\u001b[?25hCollecting cmaes>=0.9.1 (from optuna)\n",
            "  Downloading cmaes-0.9.1-py3-none-any.whl (21 kB)\n",
            "Collecting colorlog (from optuna)\n",
            "  Downloading colorlog-6.7.0-py2.py3-none-any.whl (11 kB)\n",
            "Requirement already satisfied: numpy in /usr/local/lib/python3.10/dist-packages (from optuna) (1.22.4)\n",
            "Requirement already satisfied: packaging>=20.0 in /usr/local/lib/python3.10/dist-packages (from optuna) (23.1)\n",
            "Requirement already satisfied: sqlalchemy>=1.3.0 in /usr/local/lib/python3.10/dist-packages (from optuna) (2.0.10)\n",
            "Requirement already satisfied: tqdm in /usr/local/lib/python3.10/dist-packages (from optuna) (4.65.0)\n",
            "Requirement already satisfied: PyYAML in /usr/local/lib/python3.10/dist-packages (from optuna) (6.0)\n",
            "Collecting Mako (from alembic>=1.5.0->optuna)\n",
            "  Downloading Mako-1.2.4-py3-none-any.whl (78 kB)\n",
            "\u001b[2K     \u001b[90m━━━━━━━━━━━━━━━━━━━━━━━━━━━━━━━━━━━━━━━━\u001b[0m \u001b[32m78.7/78.7 kB\u001b[0m \u001b[31m10.1 MB/s\u001b[0m eta \u001b[36m0:00:00\u001b[0m\n",
            "\u001b[?25hRequirement already satisfied: typing-extensions>=4 in /usr/local/lib/python3.10/dist-packages (from alembic>=1.5.0->optuna) (4.5.0)\n",
            "Requirement already satisfied: greenlet!=0.4.17 in /usr/local/lib/python3.10/dist-packages (from sqlalchemy>=1.3.0->optuna) (2.0.2)\n",
            "Requirement already satisfied: MarkupSafe>=0.9.2 in /usr/local/lib/python3.10/dist-packages (from Mako->alembic>=1.5.0->optuna) (2.1.2)\n",
            "Installing collected packages: Mako, colorlog, cmaes, alembic, optuna\n",
            "Successfully installed Mako-1.2.4 alembic-1.11.1 cmaes-0.9.1 colorlog-6.7.0 optuna-3.1.1\n"
          ]
        }
      ],
      "source": [
        "!pip install optuna\n",
        "import matplotlib.pyplot as plt\n",
        "import torch\n",
        "import torch.nn as nn\n",
        "from torchvision import datasets, transforms\n",
        "import torch.nn.functional as F\n",
        "import optuna\n",
        "device = torch.device('cuda' if torch.cuda.is_available() else 'cpu')\n",
        "from optuna.samplers import TPESampler\n",
        "from optuna.pruners import BasePruner\n",
        "# from inflation import BBI\n",
        "from torch.optim import Adam, Adagrad, SGD\n",
        "import seaborn as sns\n",
        "import numpy as np\n",
        "from torch.optim.swa_utils import AveragedModel, SWALR\n",
        "from torch.optim.lr_scheduler import CosineAnnealingLR"
      ],
      "metadata": {
        "ExecuteTime": {
          "start_time": "2023-04-27T14:59:47.885389Z",
          "end_time": "2023-04-27T14:59:50.159305Z"
        },
        "colab": {
          "base_uri": "https://localhost:8080/"
        },
        "id": "vjaM4qj_Ppc_",
        "outputId": "d941de94-da6b-4cda-8052-6d6238f2bfd4"
      }
    },
    {
      "cell_type": "code",
      "execution_count": null,
      "outputs": [],
      "source": [
        "from torch.optim.optimizer import Optimizer, required\n",
        "import numpy as np\n",
        "import torch\n",
        "# from torchcontrib.optim import SWA\n",
        "import math\n",
        "\n",
        "\n",
        "class BBI(Optimizer):\n",
        "    \"\"\"Optimizer based on the BBI model of inflation.\n",
        "    Args:\n",
        "        params (iterable): iterable of parameters to optimize or dicts defining\n",
        "            parameter groups\n",
        "        lr (float): learning rate\n",
        "        v0 (float): expected minimum of the potential (\\Delta V in the paper)\n",
        "        threshold0 (integer): threshold for fixed bounces (T_0 in the paper)\n",
        "        threshold1 (integer): threshold for progress-dependent bounces (T_1 in the paper)\n",
        "        deltaEn (float): extra initial energy (\\delta E in the paper)\n",
        "        consEn (bool): if True enforces energy conservation at every step\n",
        "        n_fixed_bounces (integer): number of bounces every T_0 iterations (N_b in the paper)\n",
        "    \"\"\"\n",
        "    def __init__(self, params, lr=required, eps1=1e-10, eps2 = 1e-40, v0=0, threshold0 = 1000, threshold = 3000, deltaEn = 0.0, consEn = True, n_fixed_bounces = 1, beta1 = 0.9, beta2 = 0.999, adaptive = False):\n",
        "\n",
        "            defaults = dict(lr=lr, eps1=eps1, eps2=eps2, v0=v0,\n",
        "                            threshold = threshold, threshold0 = threshold0,\n",
        "                            deltaEn = deltaEn, consEn = consEn,\n",
        "                            n_fixed_bounces = n_fixed_bounces,\n",
        "                            beta1 = beta1, beta2 = beta2\n",
        "                            )\n",
        "            self.energy = None\n",
        "            self.adaptive = adaptive\n",
        "            self.min_loss = None\n",
        "            self.iteration = 0\n",
        "            self.deltaEn = deltaEn\n",
        "            self.n_fixed_bounces = n_fixed_bounces\n",
        "            self.consEn = consEn\n",
        "            super(BBI, self).__init__(params, defaults)\n",
        "\n",
        "    def __setstate__(self, state):\n",
        "        super(BBI, self).__setstate__(state)\n",
        "\n",
        "    def step(self, closure):\n",
        "\n",
        "        loss = closure().item()\n",
        "\n",
        "        # initialization\n",
        "        if(self.iteration == 0):\n",
        "\n",
        "            #define a random numbers generator, in order not to use the ambient seed and have random bounces even with the same ambient seed\n",
        "            self.generator = torch.Generator(device = self.param_groups[0][\"params\"][0].device)\n",
        "            self.generator.manual_seed(self.generator.seed()+1)\n",
        "\n",
        "            #Initial energy\n",
        "            self.initV = loss-self.param_groups[0][\"v0\"]\n",
        "            self.init_energy = self.initV+self.deltaEn\n",
        "\n",
        "            # Some counters\n",
        "            self.counter0 = 0\n",
        "            self.fixed_bounces_performed = 0\n",
        "            self.counter = 0\n",
        "\n",
        "            self.min_loss = float(\"inf\")\n",
        "\n",
        "        for group in self.param_groups:\n",
        "\n",
        "            V = (loss - group[\"v0\"])\n",
        "            dt = group[\"lr\"]\n",
        "            eps1 = group[\"eps1\"]\n",
        "            eps2 = group[\"eps2\"]\n",
        "            threshold0 = group[\"threshold0\"]\n",
        "            threshold = group[\"threshold\"]\n",
        "            b1 = group[\"beta1\"]\n",
        "            b2 = group[\"beta2\"]\n",
        "            if V > eps2:\n",
        "\n",
        "                EoverV = self.init_energy/V\n",
        "                VoverE = V/self.init_energy\n",
        "\n",
        "                # Now I check if loss and pi^2 are consistent with the initial value of the energy\n",
        "\n",
        "                ps2_pre = torch.tensor(0.0, device = self.param_groups[0][\"params\"][0].device )\n",
        "\n",
        "                for p in group[\"params\"]:\n",
        "                    param_state = self.state[p]\n",
        "                    d_p = p.grad.data\n",
        "                    #Initialize in the direction of the gradient, with magnitude related to deltaE\n",
        "                    if \"momentum_buffer\" not in param_state:\n",
        "                        buf = param_state[\"momentum_buffer\"] = -(d_p/torch.norm(d_p))*torch.sqrt(torch.tensor( ((self.init_energy**2)/self.initV) - self.initV ))\n",
        "                    else:\n",
        "                        buf = param_state[\"momentum_buffer\"]\n",
        "\n",
        "                    # compute the current pi^2 . Pre means that this is the value before the iteration step\n",
        "                    ps2_pre += torch.dot(buf.view(-1), buf.view(-1))\n",
        "\n",
        "\n",
        "                if (self.consEn == True):\n",
        "\n",
        "                    # Compare this \\pi^2 with what it should have been if the energy was correct\n",
        "                    ps2_correct = V*( (EoverV**2)-1.0 )\n",
        "\n",
        "                    # Compute the rescaling factor, only if real\n",
        "                    if torch.abs(ps2_pre-ps2_correct) <  eps1:\n",
        "                        self.rescaling_pi = 1.0\n",
        "                    elif ps2_correct < 0.0:\n",
        "                        self.rescaling_pi = 1.0\n",
        "                    else:\n",
        "                        self.rescaling_pi = torch.sqrt(((ps2_correct/(ps2_pre))))\n",
        "\n",
        "\n",
        "                # Perform the optimization step\n",
        "                if (self.counter != threshold) and (self.counter0 != threshold0) :\n",
        "\n",
        "                    for p in group[\"params\"]:\n",
        "                        if p.grad is None:\n",
        "                            continue\n",
        "                        d_p = p.grad.data\n",
        "                        param_state = self.state[p]\n",
        "\n",
        "                        if \"momentum_buffer\" not in param_state:\n",
        "                            buf = param_state[\"momentum_buffer\"] = torch.zeros_like(p.data)\n",
        "                        else:\n",
        "                            buf = param_state[\"momentum_buffer\"]\n",
        "                        if self.adaptive:\n",
        "                          if \"exp_avg\" not in param_state:\n",
        "                              param_state['exp_avg'] = torch.zeros_like(p.data)\n",
        "                              param_state['exp_avg_sq'] = torch.zeros_like(p.data)\n",
        "                          exp_avg, exp_avg_sq = param_state['exp_avg'], param_state['exp_avg_sq']\n",
        "                          exp_avg = torch.mul(exp_avg, b1) + (1 - b1)* d_p\n",
        "\n",
        "                          exp_avg_sq = torch.mul(exp_avg_sq, b2) + (1-b2)*(d_p*d_p)\n",
        "\n",
        "                          denom = exp_avg_sq.sqrt() + eps1\n",
        "\n",
        "                          bias_correction1 = 1 / (1 - b1 ** (self.counter + 1))\n",
        "                          bias_correction2 = 1 / (1 - b2 ** (self.counter + 1))\n",
        "\n",
        "                          adapted_learning_rate = dt * bias_correction1 / math.sqrt(bias_correction2)\n",
        "\n",
        "                          update = adapted_learning_rate * exp_avg / denom\n",
        "                        else:\n",
        "                          update = d_p\n",
        "                        # Here the rescaling of momenta to enforce conservation of energy\n",
        "                        if (self.consEn == True):\n",
        "                            buf.mul_(self.rescaling_pi)\n",
        "\n",
        "                        buf.add_(- 0.5 * dt * (VoverE + EoverV)*update)\n",
        "\n",
        "                        p.data.add_(VoverE* dt* buf)\n",
        "\n",
        "                    # Updates counters\n",
        "                    self.counter0+=1\n",
        "                    self.counter+=1\n",
        "                    self.iteration+=1\n",
        "\n",
        "                    # Checks progress\n",
        "                    if V < self.min_loss:\n",
        "                            self.min_loss = V\n",
        "                            self.counter = 0\n",
        "                # Bounces\n",
        "                else:\n",
        "\n",
        "                    #First we iterate once to compute pi^2, we randomly regenerate the directions, and we compute the new norm squared\n",
        "\n",
        "                    ps20 = torch.tensor(0.0, device = self.param_groups[0][\"params\"][0].device )\n",
        "                    ps2new = torch.tensor(0.0, device = self.param_groups[0][\"params\"][0].device )\n",
        "\n",
        "                    for p in group[\"params\"]:\n",
        "                        param_state = self.state[p]\n",
        "\n",
        "                        buf = param_state[\"momentum_buffer\"]\n",
        "                        ps20 += torch.dot(buf.view(-1), buf.view(-1))\n",
        "                        new_buf = param_state[\"momentum_buffer\"] = torch.rand(buf.size(), device=buf.device, generator = self.generator)-.5\n",
        "                        ps2new += torch.dot(new_buf.view(-1), new_buf.view(-1))\n",
        "\n",
        "                    # Then rescale them\n",
        "                    for p in group[\"params\"]:\n",
        "                        param_state = self.state[p]\n",
        "                        buf = param_state[\"momentum_buffer\"]\n",
        "                        buf.mul_(torch.sqrt(ps20/ps2new))\n",
        "\n",
        "                    # Update counters\n",
        "                    if (self.counter0 == threshold0):\n",
        "                        self.fixed_bounces_performed+=1\n",
        "                        if self.fixed_bounces_performed < self.n_fixed_bounces:\n",
        "                            self.counter0 = 0\n",
        "                        else:\n",
        "                            self.counter0+=1\n",
        "                    self.counter = 0\n",
        "        return loss"
      ],
      "metadata": {
        "id": "LEFf4iWHPpdA"
      }
    },
    {
      "cell_type": "code",
      "execution_count": null,
      "outputs": [
        {
          "output_type": "stream",
          "name": "stdout",
          "text": [
            "Downloading http://yann.lecun.com/exdb/mnist/train-images-idx3-ubyte.gz\n",
            "Downloading http://yann.lecun.com/exdb/mnist/train-images-idx3-ubyte.gz to mnist/MNIST/raw/train-images-idx3-ubyte.gz\n"
          ]
        },
        {
          "output_type": "stream",
          "name": "stderr",
          "text": [
            "100%|██████████| 9912422/9912422 [00:00<00:00, 193731326.13it/s]"
          ]
        },
        {
          "output_type": "stream",
          "name": "stdout",
          "text": [
            "Extracting mnist/MNIST/raw/train-images-idx3-ubyte.gz to mnist/MNIST/raw\n"
          ]
        },
        {
          "output_type": "stream",
          "name": "stderr",
          "text": [
            "\n"
          ]
        },
        {
          "output_type": "stream",
          "name": "stdout",
          "text": [
            "\n",
            "Downloading http://yann.lecun.com/exdb/mnist/train-labels-idx1-ubyte.gz\n",
            "Downloading http://yann.lecun.com/exdb/mnist/train-labels-idx1-ubyte.gz to mnist/MNIST/raw/train-labels-idx1-ubyte.gz\n"
          ]
        },
        {
          "output_type": "stream",
          "name": "stderr",
          "text": [
            "100%|██████████| 28881/28881 [00:00<00:00, 111542996.15it/s]\n"
          ]
        },
        {
          "output_type": "stream",
          "name": "stdout",
          "text": [
            "Extracting mnist/MNIST/raw/train-labels-idx1-ubyte.gz to mnist/MNIST/raw\n",
            "\n",
            "Downloading http://yann.lecun.com/exdb/mnist/t10k-images-idx3-ubyte.gz\n",
            "Downloading http://yann.lecun.com/exdb/mnist/t10k-images-idx3-ubyte.gz to mnist/MNIST/raw/t10k-images-idx3-ubyte.gz\n"
          ]
        },
        {
          "output_type": "stream",
          "name": "stderr",
          "text": [
            "100%|██████████| 1648877/1648877 [00:00<00:00, 71512386.61it/s]"
          ]
        },
        {
          "output_type": "stream",
          "name": "stdout",
          "text": [
            "Extracting mnist/MNIST/raw/t10k-images-idx3-ubyte.gz to mnist/MNIST/raw\n"
          ]
        },
        {
          "output_type": "stream",
          "name": "stderr",
          "text": [
            "\n"
          ]
        },
        {
          "output_type": "stream",
          "name": "stdout",
          "text": [
            "\n",
            "Downloading http://yann.lecun.com/exdb/mnist/t10k-labels-idx1-ubyte.gz\n",
            "Downloading http://yann.lecun.com/exdb/mnist/t10k-labels-idx1-ubyte.gz to mnist/MNIST/raw/t10k-labels-idx1-ubyte.gz\n"
          ]
        },
        {
          "output_type": "stream",
          "name": "stderr",
          "text": [
            "100%|██████████| 4542/4542 [00:00<00:00, 3850925.56it/s]\n"
          ]
        },
        {
          "output_type": "stream",
          "name": "stdout",
          "text": [
            "Extracting mnist/MNIST/raw/t10k-labels-idx1-ubyte.gz to mnist/MNIST/raw\n",
            "\n"
          ]
        }
      ],
      "source": [
        "# Load dataset\n",
        "transform = transforms.Compose([\n",
        "    transforms.ToTensor(),\n",
        "    # transforms.Normalize((0.1307,), (0.3081,))\n",
        "])\n",
        "\n",
        "train_dataset = datasets.MNIST('mnist/', train=True, download=True, transform=transform)\n",
        "test_dataset = datasets.MNIST('mnist/', train=False, download=True, transform=transform)\n",
        "\n",
        "batch_size = 64\n",
        "train_loader = torch.utils.data.DataLoader(train_dataset, batch_size=batch_size, shuffle=True, num_workers=2)\n",
        "test_loader = torch.utils.data.DataLoader(test_dataset, batch_size=batch_size, shuffle=True, num_workers=2)"
      ],
      "metadata": {
        "ExecuteTime": {
          "start_time": "2023-04-27T14:59:50.165303Z",
          "end_time": "2023-04-27T14:59:50.251994Z"
        },
        "colab": {
          "base_uri": "https://localhost:8080/"
        },
        "id": "-S3WHFTfPpdF",
        "outputId": "a614adfa-13aa-496a-e6ad-467837383a36"
      }
    },
    {
      "cell_type": "code",
      "execution_count": null,
      "outputs": [],
      "source": [
        "# Define simple CNN and loss function\n",
        "class Net(nn.Module):\n",
        "    def __init__(self):\n",
        "        super().__init__()\n",
        "        self.conv1 = nn.Conv2d(1, 16, 5, 1, 2)\n",
        "        self.pool = nn.MaxPool2d(2)\n",
        "        self.conv2 = nn.Conv2d(16, 32, 5, 1, 2)\n",
        "        self.fc1 = nn.Linear(32*7*7, 120)\n",
        "\n",
        "    def forward(self, x):\n",
        "        x = self.pool(F.relu(self.conv1(x)))\n",
        "        x = self.pool(F.relu(self.conv2(x)))\n",
        "        x = torch.flatten(x, 1)\n",
        "        x = self.fc1(x)\n",
        "        return x\n",
        "\n",
        "\n",
        "criterion = nn.CrossEntropyLoss()"
      ],
      "metadata": {
        "ExecuteTime": {
          "start_time": "2023-04-27T14:59:53.875057Z",
          "end_time": "2023-04-27T14:59:53.896548Z"
        },
        "id": "iNTMBjdMPpdG"
      }
    },
    {
      "cell_type": "code",
      "execution_count": null,
      "outputs": [],
      "source": [
        "# Function for tuning hyperparameters using optuna framework\n",
        "def hyperparameter_search(trial: optuna.trial.Trial, optimizer, adaptive = False, wa = False):\n",
        "    model = Net()\n",
        "    swa_start = 1000000\n",
        "    if torch.cuda.is_available():\n",
        "      model.cuda()\n",
        "    learning_rates = trial.suggest_categorical(\"lr\",np.logspace(-1, -5, num=30))\n",
        "    batch_sizes = trial.suggest_categorical(\"bs\",[32, 64, 128])\n",
        "    if isinstance(optimizer(model.parameters(), lr=0.01), BBI):\n",
        "        delta_E = trial.suggest_categorical(\"delta_e\", np.linspace(0, 3, 30))\n",
        "        if adaptive:\n",
        "          beta1 = trial.suggest_categorical(\"beta1\", np.linspace(0, 1, 30))\n",
        "          beta2 = trial.suggest_categorical(\"beta2\", np.linspace(0, 1, 30))\n",
        "          optimizer = optimizer(model.parameters(), lr=learning_rates, deltaEn = delta_E ,beta1 = beta1, beta2 = beta2, adaptive = True,)\n",
        "        else:\n",
        "            optimizer = optimizer(model.parameters(), lr=learning_rates, deltaEn = delta_E)\n",
        "    elif isinstance(optimizer(model.parameters(), lr=0.01), SGD):\n",
        "        momentum = trial.suggest_categorical(\"momentum\", np.linspace(0.5, 0.999, 30))\n",
        "        optimizer = optimizer(model.parameters(), lr=learning_rates, momentum = momentum)\n",
        "    else:\n",
        "        weight_decay_values = trial.suggest_categorical(\"wd\", np.linspace(0, 0.5, 10))\n",
        "        optimizer = optimizer(model.parameters(), lr=learning_rates, weight_decay=weight_decay_values)\n",
        "    num_epochs = 3\n",
        "    train_loader = torch.utils.data.DataLoader(train_dataset, batch_size=batch_sizes, shuffle=True, num_workers=2)\n",
        "    test_loader = torch.utils.data.DataLoader(test_dataset, batch_size=batch_sizes, shuffle=True, num_workers=2)\n",
        "    if wa:\n",
        "      swa_model = AveragedModel(model)\n",
        "      scheduler = CosineAnnealingLR(optimizer, T_max=100)\n",
        "      swa_scheduler = SWALR(optimizer, swa_lr=0.05)\n",
        "      swa_start = 2\n",
        "    for epoch in range(num_epochs):\n",
        "        for i, (inputs, labels) in enumerate(train_loader):\n",
        "            inputs = inputs.to(device)\n",
        "            labels = labels.to(device)\n",
        "            optimizer.zero_grad()\n",
        "            outputs = model(inputs)\n",
        "            loss = criterion(outputs, labels)\n",
        "            loss.backward()\n",
        "            if epoch > swa_start:\n",
        "              swa_model.update_parameters(model)\n",
        "            if isinstance(optimizer, BBI):\n",
        "                def closure():\n",
        "                    return loss\n",
        "                optimizer.step(closure)\n",
        "            else:\n",
        "                optimizer.step()\n",
        "\n",
        "    correct = 0\n",
        "    total = 0\n",
        "    with torch.no_grad():\n",
        "        for inputs, labels in test_loader:\n",
        "            inputs = inputs.to(device)\n",
        "            labels = labels.to(device)\n",
        "            outputs = model(inputs)\n",
        "            _, predicted = torch.max(outputs.data, 1)\n",
        "            total += labels.size(0)\n",
        "            correct += (predicted == labels).sum().item()\n",
        "\n",
        "    accuracy = 100 * correct / total\n",
        "    return accuracy\n"
      ],
      "metadata": {
        "ExecuteTime": {
          "start_time": "2023-04-17T19:11:20.273044Z",
          "end_time": "2023-04-17T19:11:20.292582Z"
        },
        "id": "zE2-QkHVPpdH"
      }
    },
    {
      "cell_type": "code",
      "execution_count": null,
      "outputs": [
        {
          "output_type": "stream",
          "name": "stderr",
          "text": [
            "\u001b[32m[I 2023-05-28 09:23:26,285]\u001b[0m Using an existing study with name 'adamm' instead of creating a new one.\u001b[0m\n",
            "\u001b[32m[I 2023-05-28 09:24:01,188]\u001b[0m Trial 2 finished with value: 85.12 and parameters: {'lr': 0.0008531678524172806, 'bs': 64, 'wd': 0.38888888888888884}. Best is trial 2 with value: 85.12.\u001b[0m\n",
            "\u001b[32m[I 2023-05-28 09:24:36,306]\u001b[0m Trial 3 finished with value: 83.34 and parameters: {'lr': 0.0001268961003167922, 'bs': 64, 'wd': 0.5}. Best is trial 2 with value: 85.12.\u001b[0m\n",
            "\u001b[32m[I 2023-05-28 09:25:05,274]\u001b[0m Trial 4 finished with value: 81.23 and parameters: {'lr': 0.020433597178569417, 'bs': 128, 'wd': 0.5}. Best is trial 2 with value: 85.12.\u001b[0m\n",
            "\u001b[32m[I 2023-05-28 09:25:34,064]\u001b[0m Trial 5 finished with value: 86.66 and parameters: {'lr': 9.236708571873866e-05, 'bs': 128, 'wd': 0.3333333333333333}. Best is trial 5 with value: 86.66.\u001b[0m\n",
            "\u001b[32m[I 2023-05-28 09:26:18,711]\u001b[0m Trial 6 finished with value: 91.04 and parameters: {'lr': 0.00221221629107045, 'bs': 32, 'wd': 0.16666666666666666}. Best is trial 6 with value: 91.04.\u001b[0m\n",
            "\u001b[32m[I 2023-05-28 09:27:03,028]\u001b[0m Trial 7 finished with value: 91.97 and parameters: {'lr': 0.005736152510448681, 'bs': 32, 'wd': 0.1111111111111111}. Best is trial 7 with value: 91.97.\u001b[0m\n",
            "\u001b[32m[I 2023-05-28 09:27:31,520]\u001b[0m Trial 8 finished with value: 98.63 and parameters: {'lr': 0.0016102620275609393, 'bs': 128, 'wd': 0.0}. Best is trial 8 with value: 98.63.\u001b[0m\n",
            "\u001b[32m[I 2023-05-28 09:28:00,148]\u001b[0m Trial 9 finished with value: 89.56 and parameters: {'lr': 0.020433597178569417, 'bs': 128, 'wd': 0.1111111111111111}. Best is trial 8 with value: 98.63.\u001b[0m\n",
            "\u001b[32m[I 2023-05-28 09:28:44,111]\u001b[0m Trial 10 finished with value: 87.43 and parameters: {'lr': 4.893900918477499e-05, 'bs': 32, 'wd': 0.2222222222222222}. Best is trial 8 with value: 98.63.\u001b[0m\n",
            "\u001b[32m[I 2023-05-28 09:29:17,612]\u001b[0m Trial 11 finished with value: 78.26 and parameters: {'lr': 1e-05, 'bs': 64, 'wd': 0.0}. Best is trial 8 with value: 98.63.\u001b[0m\n",
            "\u001b[32m[I 2023-05-28 09:29:46,272]\u001b[0m Trial 12 finished with value: 82.98 and parameters: {'lr': 0.0006210169418915617, 'bs': 128, 'wd': 0.38888888888888884}. Best is trial 8 with value: 98.63.\u001b[0m\n",
            "\u001b[32m[I 2023-05-28 09:30:30,160]\u001b[0m Trial 13 finished with value: 65.62 and parameters: {'lr': 0.03856620421163472, 'bs': 32, 'wd': 0.5}. Best is trial 8 with value: 98.63.\u001b[0m\n",
            "\u001b[32m[I 2023-05-28 09:31:13,054]\u001b[0m Trial 14 finished with value: 84.86 and parameters: {'lr': 0.0011721022975334804, 'bs': 32, 'wd': 0.3333333333333333}. Best is trial 8 with value: 98.63.\u001b[0m\n",
            "\u001b[32m[I 2023-05-28 09:31:42,121]\u001b[0m Trial 15 finished with value: 90.42 and parameters: {'lr': 6.723357536499335e-05, 'bs': 128, 'wd': 0.05555555555555555}. Best is trial 8 with value: 98.63.\u001b[0m\n",
            "\u001b[32m[I 2023-05-28 09:32:10,251]\u001b[0m Trial 16 finished with value: 98.22 and parameters: {'lr': 0.0006210169418915617, 'bs': 128, 'wd': 0.0}. Best is trial 8 with value: 98.63.\u001b[0m\n",
            "\u001b[32m[I 2023-05-28 09:32:53,820]\u001b[0m Trial 17 finished with value: 84.64 and parameters: {'lr': 0.0008531678524172806, 'bs': 32, 'wd': 0.4444444444444444}. Best is trial 8 with value: 98.63.\u001b[0m\n",
            "\u001b[32m[I 2023-05-28 09:33:26,175]\u001b[0m Trial 18 finished with value: 77.27 and parameters: {'lr': 0.0030391953823131978, 'bs': 64, 'wd': 0.4444444444444444}. Best is trial 8 with value: 98.63.\u001b[0m\n",
            "\u001b[32m[I 2023-05-28 09:33:54,766]\u001b[0m Trial 19 finished with value: 90.45 and parameters: {'lr': 0.00017433288221999874, 'bs': 128, 'wd': 0.16666666666666666}. Best is trial 8 with value: 98.63.\u001b[0m\n",
            "\u001b[32m[I 2023-05-28 09:34:26,923]\u001b[0m Trial 20 finished with value: 86.24 and parameters: {'lr': 2.592943797404667e-05, 'bs': 64, 'wd': 0.1111111111111111}. Best is trial 8 with value: 98.63.\u001b[0m\n",
            "\u001b[32m[I 2023-05-28 09:35:10,238]\u001b[0m Trial 21 finished with value: 88.47 and parameters: {'lr': 0.0006210169418915617, 'bs': 32, 'wd': 0.2222222222222222}. Best is trial 8 with value: 98.63.\u001b[0m\n",
            "\u001b[32m[I 2023-05-28 09:35:52,642]\u001b[0m Trial 22 finished with value: 83.81 and parameters: {'lr': 0.0030391953823131978, 'bs': 32, 'wd': 0.2777777777777778}. Best is trial 8 with value: 98.63.\u001b[0m\n",
            "\u001b[32m[I 2023-05-28 09:36:35,795]\u001b[0m Trial 23 finished with value: 85.46 and parameters: {'lr': 2.592943797404667e-05, 'bs': 32, 'wd': 0.3333333333333333}. Best is trial 8 with value: 98.63.\u001b[0m\n",
            "\u001b[32m[I 2023-05-28 09:37:08,866]\u001b[0m Trial 24 finished with value: 79.23 and parameters: {'lr': 2.592943797404667e-05, 'bs': 64, 'wd': 0.5}. Best is trial 8 with value: 98.63.\u001b[0m\n",
            "\u001b[32m[I 2023-05-28 09:37:51,224]\u001b[0m Trial 25 finished with value: 94.33 and parameters: {'lr': 0.007880462815669913, 'bs': 32, 'wd': 0.05555555555555555}. Best is trial 8 with value: 98.63.\u001b[0m\n",
            "\u001b[32m[I 2023-05-28 09:38:34,712]\u001b[0m Trial 26 finished with value: 87.33 and parameters: {'lr': 0.0011721022975334804, 'bs': 32, 'wd': 0.2777777777777778}. Best is trial 8 with value: 98.63.\u001b[0m\n",
            "\u001b[32m[I 2023-05-28 09:39:17,290]\u001b[0m Trial 27 finished with value: 94.9 and parameters: {'lr': 0.00221221629107045, 'bs': 32, 'wd': 0.05555555555555555}. Best is trial 8 with value: 98.63.\u001b[0m\n",
            "\u001b[32m[I 2023-05-28 09:39:50,879]\u001b[0m Trial 28 finished with value: 91.06 and parameters: {'lr': 0.00017433288221999874, 'bs': 64, 'wd': 0.16666666666666666}. Best is trial 8 with value: 98.63.\u001b[0m\n",
            "\u001b[32m[I 2023-05-28 09:40:24,124]\u001b[0m Trial 29 finished with value: 91.31 and parameters: {'lr': 0.00017433288221999874, 'bs': 64, 'wd': 0.16666666666666666}. Best is trial 8 with value: 98.63.\u001b[0m\n",
            "\u001b[32m[I 2023-05-28 09:40:56,954]\u001b[0m Trial 30 finished with value: 79.84 and parameters: {'lr': 1e-05, 'bs': 64, 'wd': 0.0}. Best is trial 8 with value: 98.63.\u001b[0m\n",
            "\u001b[32m[I 2023-05-28 09:41:29,970]\u001b[0m Trial 31 finished with value: 84.26 and parameters: {'lr': 4.893900918477499e-05, 'bs': 64, 'wd': 0.38888888888888884}. Best is trial 8 with value: 98.63.\u001b[0m\n"
          ]
        },
        {
          "output_type": "stream",
          "name": "stdout",
          "text": [
            "{'bs': 128, 'lr': 0.0016102620275609393, 'wd': 0.0}\n"
          ]
        }
      ],
      "source": [
        "# Search for best parameters for Adam\n",
        "study = optuna.create_study(\n",
        "    direction=\"maximize\",\n",
        "    sampler=TPESampler(n_startup_trials=115),\n",
        "    pruner=BasePruner,\n",
        "    study_name=\"adamm\",\n",
        "    storage=\"sqlite:///optuna1.db\",\n",
        "    load_if_exists=True,\n",
        ")\n",
        "study.optimize(lambda trial: hyperparameter_search(trial, Adam), n_trials=30)\n",
        "print(study.best_params)"
      ],
      "metadata": {
        "ExecuteTime": {
          "start_time": "2023-04-17T19:11:26.014503Z",
          "end_time": "2023-04-17T19:27:35.401985Z"
        },
        "colab": {
          "base_uri": "https://localhost:8080/"
        },
        "id": "POOCGUs4PpdI",
        "outputId": "7aec6b4b-ed19-4bd9-f815-0254fe2fa6d3"
      }
    },
    {
      "cell_type": "code",
      "execution_count": null,
      "outputs": [
        {
          "output_type": "stream",
          "name": "stderr",
          "text": [
            "\u001b[32m[I 2023-05-28 09:41:42,640]\u001b[0m A new study created in RDB with name: adagrad\u001b[0m\n",
            "\u001b[32m[I 2023-05-28 09:42:27,563]\u001b[0m Trial 0 finished with value: 84.53 and parameters: {'lr': 0.0727895384398315, 'bs': 32, 'wd': 0.3333333333333333}. Best is trial 0 with value: 84.53.\u001b[0m\n",
            "\u001b[32m[I 2023-05-28 09:43:12,349]\u001b[0m Trial 1 finished with value: 85.39 and parameters: {'lr': 0.0030391953823131978, 'bs': 32, 'wd': 0.4444444444444444}. Best is trial 1 with value: 85.39.\u001b[0m\n",
            "\u001b[32m[I 2023-05-28 09:43:56,071]\u001b[0m Trial 2 finished with value: 98.64 and parameters: {'lr': 0.010826367338740546, 'bs': 32, 'wd': 0.0}. Best is trial 2 with value: 98.64.\u001b[0m\n",
            "\u001b[32m[I 2023-05-28 09:44:24,896]\u001b[0m Trial 3 finished with value: 95.36 and parameters: {'lr': 0.010826367338740546, 'bs': 128, 'wd': 0.05555555555555555}. Best is trial 2 with value: 98.64.\u001b[0m\n",
            "\u001b[32m[I 2023-05-28 09:45:09,293]\u001b[0m Trial 4 finished with value: 89.47 and parameters: {'lr': 0.005736152510448681, 'bs': 32, 'wd': 0.2222222222222222}. Best is trial 2 with value: 98.64.\u001b[0m\n",
            "\u001b[32m[I 2023-05-28 09:45:37,753]\u001b[0m Trial 5 finished with value: 87.48 and parameters: {'lr': 0.0016102620275609393, 'bs': 128, 'wd': 0.2222222222222222}. Best is trial 2 with value: 98.64.\u001b[0m\n",
            "\u001b[32m[I 2023-05-28 09:46:22,638]\u001b[0m Trial 6 finished with value: 17.26 and parameters: {'lr': 2.592943797404667e-05, 'bs': 32, 'wd': 0.2777777777777778}. Best is trial 2 with value: 98.64.\u001b[0m\n",
            "\u001b[32m[I 2023-05-28 09:46:56,179]\u001b[0m Trial 7 finished with value: 67.59 and parameters: {'lr': 0.0001268961003167922, 'bs': 64, 'wd': 0.1111111111111111}. Best is trial 2 with value: 98.64.\u001b[0m\n",
            "\u001b[32m[I 2023-05-28 09:47:40,916]\u001b[0m Trial 8 finished with value: 14.38 and parameters: {'lr': 2.592943797404667e-05, 'bs': 32, 'wd': 0.2222222222222222}. Best is trial 2 with value: 98.64.\u001b[0m\n",
            "\u001b[32m[I 2023-05-28 09:48:09,305]\u001b[0m Trial 9 finished with value: 71.79 and parameters: {'lr': 0.00032903445623126676, 'bs': 128, 'wd': 0.2777777777777778}. Best is trial 2 with value: 98.64.\u001b[0m\n",
            "\u001b[32m[I 2023-05-28 09:48:43,484]\u001b[0m Trial 10 finished with value: 9.73 and parameters: {'lr': 1.3738237958832637e-05, 'bs': 64, 'wd': 0.38888888888888884}. Best is trial 2 with value: 98.64.\u001b[0m\n",
            "\u001b[32m[I 2023-05-28 09:49:17,347]\u001b[0m Trial 11 finished with value: 84.21 and parameters: {'lr': 0.0041753189365604, 'bs': 64, 'wd': 0.5}. Best is trial 2 with value: 98.64.\u001b[0m\n",
            "\u001b[32m[I 2023-05-28 09:49:45,405]\u001b[0m Trial 12 finished with value: 0.64 and parameters: {'lr': 1e-05, 'bs': 128, 'wd': 0.2222222222222222}. Best is trial 2 with value: 98.64.\u001b[0m\n",
            "\u001b[32m[I 2023-05-28 09:50:14,595]\u001b[0m Trial 13 finished with value: 91.27 and parameters: {'lr': 0.03856620421163472, 'bs': 128, 'wd': 0.16666666666666666}. Best is trial 2 with value: 98.64.\u001b[0m\n",
            "\u001b[32m[I 2023-05-28 09:50:58,633]\u001b[0m Trial 14 finished with value: 89.13 and parameters: {'lr': 0.00221221629107045, 'bs': 32, 'wd': 0.2222222222222222}. Best is trial 2 with value: 98.64.\u001b[0m\n",
            "\u001b[32m[I 2023-05-28 09:51:27,856]\u001b[0m Trial 15 finished with value: 84.54 and parameters: {'lr': 0.0006210169418915617, 'bs': 128, 'wd': 0.16666666666666666}. Best is trial 2 with value: 98.64.\u001b[0m\n",
            "\u001b[32m[I 2023-05-28 09:52:12,270]\u001b[0m Trial 16 finished with value: 88.36 and parameters: {'lr': 0.0011721022975334804, 'bs': 32, 'wd': 0.16666666666666666}. Best is trial 2 with value: 98.64.\u001b[0m\n",
            "\u001b[32m[I 2023-05-28 09:52:46,377]\u001b[0m Trial 17 finished with value: 92.18 and parameters: {'lr': 0.0030391953823131978, 'bs': 64, 'wd': 0.1111111111111111}. Best is trial 2 with value: 98.64.\u001b[0m\n",
            "\u001b[32m[I 2023-05-28 09:53:20,587]\u001b[0m Trial 18 finished with value: 83.4 and parameters: {'lr': 0.00045203536563602454, 'bs': 64, 'wd': 0.1111111111111111}. Best is trial 2 with value: 98.64.\u001b[0m\n",
            "\u001b[32m[I 2023-05-28 09:53:54,507]\u001b[0m Trial 19 finished with value: 91.47 and parameters: {'lr': 0.02807216203941177, 'bs': 64, 'wd': 0.16666666666666666}. Best is trial 2 with value: 98.64.\u001b[0m\n",
            "\u001b[32m[I 2023-05-28 09:54:38,864]\u001b[0m Trial 20 finished with value: 72.1 and parameters: {'lr': 0.00032903445623126676, 'bs': 32, 'wd': 0.5}. Best is trial 2 with value: 98.64.\u001b[0m\n",
            "\u001b[32m[I 2023-05-28 09:55:12,372]\u001b[0m Trial 21 finished with value: 57.1 and parameters: {'lr': 0.0001268961003167922, 'bs': 64, 'wd': 0.2222222222222222}. Best is trial 2 with value: 98.64.\u001b[0m\n",
            "\u001b[32m[I 2023-05-28 09:55:41,296]\u001b[0m Trial 22 finished with value: 87.32 and parameters: {'lr': 0.0006210169418915617, 'bs': 128, 'wd': 0.0}. Best is trial 2 with value: 98.64.\u001b[0m\n",
            "\u001b[32m[I 2023-05-28 09:56:09,393]\u001b[0m Trial 23 finished with value: 98.02 and parameters: {'lr': 0.007880462815669913, 'bs': 128, 'wd': 0.0}. Best is trial 2 with value: 98.64.\u001b[0m\n",
            "\u001b[32m[I 2023-05-28 09:56:37,385]\u001b[0m Trial 24 finished with value: 91.23 and parameters: {'lr': 0.0016102620275609393, 'bs': 128, 'wd': 0.05555555555555555}. Best is trial 2 with value: 98.64.\u001b[0m\n",
            "\u001b[32m[I 2023-05-28 09:57:11,379]\u001b[0m Trial 25 finished with value: 81.95 and parameters: {'lr': 0.005736152510448681, 'bs': 64, 'wd': 0.5}. Best is trial 2 with value: 98.64.\u001b[0m\n",
            "\u001b[32m[I 2023-05-28 09:57:39,452]\u001b[0m Trial 26 finished with value: 90.17 and parameters: {'lr': 0.0016102620275609393, 'bs': 128, 'wd': 0.1111111111111111}. Best is trial 2 with value: 98.64.\u001b[0m\n",
            "\u001b[32m[I 2023-05-28 09:58:24,148]\u001b[0m Trial 27 finished with value: 90.31 and parameters: {'lr': 0.0041753189365604, 'bs': 32, 'wd': 0.16666666666666666}. Best is trial 2 with value: 98.64.\u001b[0m\n",
            "\u001b[32m[I 2023-05-28 09:59:09,409]\u001b[0m Trial 28 finished with value: 68.06 and parameters: {'lr': 0.0001268961003167922, 'bs': 32, 'wd': 0.16666666666666666}. Best is trial 2 with value: 98.64.\u001b[0m\n",
            "\u001b[32m[I 2023-05-28 09:59:43,634]\u001b[0m Trial 29 finished with value: 11.37 and parameters: {'lr': 2.592943797404667e-05, 'bs': 64, 'wd': 0.2222222222222222}. Best is trial 2 with value: 98.64.\u001b[0m\n"
          ]
        },
        {
          "output_type": "stream",
          "name": "stdout",
          "text": [
            "{'bs': 32, 'lr': 0.010826367338740546, 'wd': 0.0}\n"
          ]
        }
      ],
      "source": [
        "# Search for best parameters for Adagrad\n",
        "study = optuna.create_study(\n",
        "    direction=\"maximize\",\n",
        "    sampler=TPESampler(n_startup_trials=115),\n",
        "    pruner=BasePruner,\n",
        "    study_name=\"adagrad\",\n",
        "    storage=\"sqlite:///optuna1.db\",\n",
        "    load_if_exists=True,\n",
        ")\n",
        "study.optimize(lambda trial: hyperparameter_search(trial, Adagrad), n_trials=30)\n",
        "print(study.best_params)"
      ],
      "metadata": {
        "ExecuteTime": {
          "start_time": "2023-04-17T19:27:35.414011Z",
          "end_time": "2023-04-17T19:42:42.807535Z"
        },
        "colab": {
          "base_uri": "https://localhost:8080/"
        },
        "id": "4ijW_lfHPpdK",
        "outputId": "32ab3eed-ecc6-4b95-a471-b1e1b0483fea"
      }
    },
    {
      "cell_type": "code",
      "execution_count": null,
      "outputs": [
        {
          "output_type": "stream",
          "name": "stderr",
          "text": [
            "\u001b[32m[I 2023-05-28 10:01:51,337]\u001b[0m Using an existing study with name 'sgd' instead of creating a new one.\u001b[0m\n",
            "\u001b[32m[I 2023-05-28 10:02:19,501]\u001b[0m Trial 3 finished with value: 98.35 and parameters: {'lr': 0.00221221629107045, 'bs': 128, 'momentum': 0.9817931034482759}. Best is trial 1 with value: 98.61.\u001b[0m\n",
            "\u001b[32m[I 2023-05-28 10:03:00,948]\u001b[0m Trial 4 finished with value: 98.41 and parameters: {'lr': 0.005736152510448681, 'bs': 32, 'momentum': 0.7236896551724138}. Best is trial 1 with value: 98.61.\u001b[0m\n",
            "\u001b[32m[I 2023-05-28 10:03:33,232]\u001b[0m Trial 5 finished with value: 98.51 and parameters: {'lr': 0.010826367338740546, 'bs': 64, 'momentum': 0.7581034482758621}. Best is trial 1 with value: 98.61.\u001b[0m\n",
            "\u001b[32m[I 2023-05-28 10:04:01,160]\u001b[0m Trial 6 finished with value: 98.54 and parameters: {'lr': 0.03856620421163472, 'bs': 128, 'momentum': 0.6032413793103448}. Best is trial 1 with value: 98.61.\u001b[0m\n",
            "\u001b[32m[I 2023-05-28 10:04:33,485]\u001b[0m Trial 7 finished with value: 91.88 and parameters: {'lr': 0.0016102620275609393, 'bs': 64, 'momentum': 0.5}. Best is trial 1 with value: 98.61.\u001b[0m\n",
            "\u001b[32m[I 2023-05-28 10:05:06,076]\u001b[0m Trial 8 finished with value: 92.34 and parameters: {'lr': 0.0001268961003167922, 'bs': 64, 'momentum': 0.9645862068965517}. Best is trial 1 with value: 98.61.\u001b[0m\n",
            "\u001b[32m[I 2023-05-28 10:05:37,901]\u001b[0m Trial 9 finished with value: 98.62 and parameters: {'lr': 0.05298316906283707, 'bs': 64, 'momentum': 0.8957586206896552}. Best is trial 9 with value: 98.62.\u001b[0m\n",
            "\u001b[32m[I 2023-05-28 10:06:10,099]\u001b[0m Trial 10 finished with value: 98.69 and parameters: {'lr': 0.03856620421163472, 'bs': 64, 'momentum': 0.5516206896551724}. Best is trial 10 with value: 98.69.\u001b[0m\n",
            "\u001b[32m[I 2023-05-28 10:06:37,644]\u001b[0m Trial 11 finished with value: 93.52 and parameters: {'lr': 0.0030391953823131978, 'bs': 128, 'momentum': 0.6548620689655172}. Best is trial 10 with value: 98.69.\u001b[0m\n",
            "\u001b[32m[I 2023-05-28 10:07:10,190]\u001b[0m Trial 12 finished with value: 98.57 and parameters: {'lr': 0.014873521072935119, 'bs': 64, 'momentum': 0.7925172413793103}. Best is trial 10 with value: 98.69.\u001b[0m\n",
            "\u001b[32m[I 2023-05-28 10:07:51,573]\u001b[0m Trial 13 finished with value: 98.46 and parameters: {'lr': 0.014873521072935119, 'bs': 32, 'momentum': 0.5344137931034483}. Best is trial 10 with value: 98.69.\u001b[0m\n",
            "\u001b[32m[I 2023-05-28 10:08:20,019]\u001b[0m Trial 14 finished with value: 91.6 and parameters: {'lr': 0.0011721022975334804, 'bs': 128, 'momentum': 0.7753103448275862}. Best is trial 10 with value: 98.69.\u001b[0m\n",
            "\u001b[32m[I 2023-05-28 10:08:47,860]\u001b[0m Trial 15 finished with value: 65.25 and parameters: {'lr': 4.893900918477499e-05, 'bs': 128, 'momentum': 0.8441379310344828}. Best is trial 10 with value: 98.69.\u001b[0m\n",
            "\u001b[32m[I 2023-05-28 10:09:20,555]\u001b[0m Trial 16 finished with value: 96.17 and parameters: {'lr': 0.0016102620275609393, 'bs': 64, 'momentum': 0.8441379310344828}. Best is trial 10 with value: 98.69.\u001b[0m\n",
            "\u001b[32m[I 2023-05-28 10:10:01,806]\u001b[0m Trial 17 finished with value: 18.65 and parameters: {'lr': 1.3738237958832637e-05, 'bs': 32, 'momentum': 0.7753103448275862}. Best is trial 10 with value: 98.69.\u001b[0m\n",
            "\u001b[32m[I 2023-05-28 10:10:43,643]\u001b[0m Trial 18 finished with value: 79.73 and parameters: {'lr': 3.5622478902624444e-05, 'bs': 32, 'momentum': 0.8441379310344828}. Best is trial 10 with value: 98.69.\u001b[0m\n",
            "\u001b[32m[I 2023-05-28 10:11:11,639]\u001b[0m Trial 19 finished with value: 11.23 and parameters: {'lr': 1.3738237958832637e-05, 'bs': 128, 'momentum': 0.9129655172413793}. Best is trial 10 with value: 98.69.\u001b[0m\n",
            "\u001b[32m[I 2023-05-28 10:11:44,299]\u001b[0m Trial 20 finished with value: 98.63 and parameters: {'lr': 0.05298316906283707, 'bs': 64, 'momentum': 0.5}. Best is trial 10 with value: 98.69.\u001b[0m\n",
            "\u001b[32m[I 2023-05-28 10:12:25,744]\u001b[0m Trial 21 finished with value: 70.68 and parameters: {'lr': 3.5622478902624444e-05, 'bs': 32, 'momentum': 0.7064827586206897}. Best is trial 10 with value: 98.69.\u001b[0m\n",
            "\u001b[32m[I 2023-05-28 10:12:53,348]\u001b[0m Trial 22 finished with value: 26.39 and parameters: {'lr': 0.0001268961003167922, 'bs': 128, 'momentum': 0.5172068965517241}. Best is trial 10 with value: 98.69.\u001b[0m\n",
            "\u001b[32m[I 2023-05-28 10:13:35,202]\u001b[0m Trial 23 finished with value: 97.6 and parameters: {'lr': 0.0011721022975334804, 'bs': 32, 'momentum': 0.8957586206896552}. Best is trial 10 with value: 98.69.\u001b[0m\n",
            "\u001b[32m[I 2023-05-28 10:14:16,108]\u001b[0m Trial 24 finished with value: 98.6 and parameters: {'lr': 0.020433597178569417, 'bs': 32, 'momentum': 0.5688275862068966}. Best is trial 10 with value: 98.69.\u001b[0m\n",
            "\u001b[32m[I 2023-05-28 10:14:48,952]\u001b[0m Trial 25 finished with value: 11.61 and parameters: {'lr': 1.8873918221350995e-05, 'bs': 64, 'momentum': 0.620448275862069}. Best is trial 10 with value: 98.69.\u001b[0m\n",
            "\u001b[32m[I 2023-05-28 10:15:16,610]\u001b[0m Trial 26 finished with value: 89.46 and parameters: {'lr': 0.0006210169418915617, 'bs': 128, 'momentum': 0.8097241379310345}. Best is trial 10 with value: 98.69.\u001b[0m\n",
            "\u001b[32m[I 2023-05-28 10:15:44,455]\u001b[0m Trial 27 finished with value: 96.14 and parameters: {'lr': 0.005736152510448681, 'bs': 128, 'momentum': 0.6720689655172414}. Best is trial 10 with value: 98.69.\u001b[0m\n",
            "\u001b[32m[I 2023-05-28 10:16:25,815]\u001b[0m Trial 28 finished with value: 98.78 and parameters: {'lr': 0.005736152510448681, 'bs': 32, 'momentum': 0.8097241379310345}. Best is trial 28 with value: 98.78.\u001b[0m\n",
            "\u001b[32m[I 2023-05-28 10:16:53,620]\u001b[0m Trial 29 finished with value: 98.59 and parameters: {'lr': 0.05298316906283707, 'bs': 128, 'momentum': 0.7753103448275862}. Best is trial 28 with value: 98.78.\u001b[0m\n",
            "\u001b[32m[I 2023-05-28 10:17:26,298]\u001b[0m Trial 30 finished with value: 98.3 and parameters: {'lr': 0.0011721022975334804, 'bs': 64, 'momentum': 0.9645862068965517}. Best is trial 28 with value: 98.78.\u001b[0m\n",
            "\u001b[32m[I 2023-05-28 10:17:58,681]\u001b[0m Trial 31 finished with value: 97.54 and parameters: {'lr': 0.0006210169418915617, 'bs': 64, 'momentum': 0.9645862068965517}. Best is trial 28 with value: 98.78.\u001b[0m\n",
            "\u001b[32m[I 2023-05-28 10:18:39,906]\u001b[0m Trial 32 finished with value: 93.07 and parameters: {'lr': 0.05298316906283707, 'bs': 32, 'momentum': 0.9473793103448276}. Best is trial 28 with value: 98.78.\u001b[0m\n"
          ]
        },
        {
          "output_type": "stream",
          "name": "stdout",
          "text": [
            "{'bs': 32, 'lr': 0.005736152510448681, 'momentum': 0.8097241379310345}\n"
          ]
        }
      ],
      "source": [
        "# Search for best parameters for SGD\n",
        "study = optuna.create_study(\n",
        "    direction=\"maximize\",\n",
        "    sampler=TPESampler(n_startup_trials=115),\n",
        "    pruner=BasePruner,\n",
        "    study_name=\"sgd\",\n",
        "    storage=\"sqlite:///optuna1.db\",\n",
        "    load_if_exists=True,\n",
        ")\n",
        "study.optimize(lambda trial: hyperparameter_search(trial, SGD), n_trials=30)\n",
        "print(study.best_params)"
      ],
      "metadata": {
        "ExecuteTime": {
          "start_time": "2023-04-17T19:42:42.820071Z",
          "end_time": "2023-04-17T19:52:50.270692Z"
        },
        "id": "6l6C3ygVPpdK",
        "colab": {
          "base_uri": "https://localhost:8080/"
        },
        "outputId": "353d4d03-980f-4d99-be57-6e1959d0d7bd"
      }
    },
    {
      "cell_type": "code",
      "execution_count": null,
      "outputs": [
        {
          "output_type": "stream",
          "name": "stderr",
          "text": [
            "\u001b[32m[I 2023-05-28 10:18:39,973]\u001b[0m A new study created in RDB with name: bbi\u001b[0m\n",
            "\u001b[32m[I 2023-05-28 10:19:15,487]\u001b[0m Trial 0 finished with value: 98.77 and parameters: {'lr': 0.03856620421163472, 'bs': 64, 'delta_e': 1.6551724137931034}. Best is trial 0 with value: 98.77.\u001b[0m\n",
            "\u001b[32m[I 2023-05-28 10:19:51,019]\u001b[0m Trial 1 finished with value: 0.04 and parameters: {'lr': 3.5622478902624444e-05, 'bs': 64, 'delta_e': 3.0}. Best is trial 0 with value: 98.77.\u001b[0m\n",
            "\u001b[32m[I 2023-05-28 10:20:37,974]\u001b[0m Trial 2 finished with value: 49.18 and parameters: {'lr': 0.00032903445623126676, 'bs': 32, 'delta_e': 0.5172413793103449}. Best is trial 0 with value: 98.77.\u001b[0m\n",
            "\u001b[32m[I 2023-05-28 10:21:07,397]\u001b[0m Trial 3 finished with value: 98.6 and parameters: {'lr': 0.0727895384398315, 'bs': 128, 'delta_e': 0.10344827586206896}. Best is trial 0 with value: 98.77.\u001b[0m\n",
            "\u001b[32m[I 2023-05-28 10:21:37,639]\u001b[0m Trial 4 finished with value: 6.06 and parameters: {'lr': 4.893900918477499e-05, 'bs': 128, 'delta_e': 1.6551724137931034}. Best is trial 0 with value: 98.77.\u001b[0m\n",
            "\u001b[32m[I 2023-05-28 10:22:07,224]\u001b[0m Trial 5 finished with value: 2.44 and parameters: {'lr': 4.893900918477499e-05, 'bs': 128, 'delta_e': 1.3448275862068966}. Best is trial 0 with value: 98.77.\u001b[0m\n",
            "\u001b[32m[I 2023-05-28 10:22:43,097]\u001b[0m Trial 6 finished with value: 86.26 and parameters: {'lr': 0.00221221629107045, 'bs': 64, 'delta_e': 2.0689655172413794}. Best is trial 0 with value: 98.77.\u001b[0m\n",
            "\u001b[32m[I 2023-05-28 10:23:30,147]\u001b[0m Trial 7 finished with value: 9.8 and parameters: {'lr': 0.00017433288221999874, 'bs': 32, 'delta_e': 1.6551724137931034}. Best is trial 0 with value: 98.77.\u001b[0m\n",
            "\u001b[32m[I 2023-05-28 10:23:59,538]\u001b[0m Trial 8 finished with value: 9.46 and parameters: {'lr': 9.236708571873866e-05, 'bs': 128, 'delta_e': 1.3448275862068966}. Best is trial 0 with value: 98.77.\u001b[0m\n",
            "\u001b[32m[I 2023-05-28 10:24:29,983]\u001b[0m Trial 9 finished with value: 49.97 and parameters: {'lr': 0.0016102620275609393, 'bs': 128, 'delta_e': 1.2413793103448276}. Best is trial 0 with value: 98.77.\u001b[0m\n",
            "\u001b[32m[I 2023-05-28 10:24:59,670]\u001b[0m Trial 10 finished with value: 17.65 and parameters: {'lr': 0.0006210169418915617, 'bs': 128, 'delta_e': 0.10344827586206896}. Best is trial 0 with value: 98.77.\u001b[0m\n",
            "\u001b[32m[I 2023-05-28 10:25:46,565]\u001b[0m Trial 11 finished with value: 17.81 and parameters: {'lr': 4.893900918477499e-05, 'bs': 32, 'delta_e': 1.0344827586206897}. Best is trial 0 with value: 98.77.\u001b[0m\n",
            "\u001b[32m[I 2023-05-28 10:26:21,986]\u001b[0m Trial 12 finished with value: 10.29 and parameters: {'lr': 0.0001268961003167922, 'bs': 64, 'delta_e': 0.10344827586206896}. Best is trial 0 with value: 98.77.\u001b[0m\n",
            "\u001b[32m[I 2023-05-28 10:26:57,370]\u001b[0m Trial 13 finished with value: 96.34 and parameters: {'lr': 0.007880462815669913, 'bs': 64, 'delta_e': 3.0}. Best is trial 0 with value: 98.77.\u001b[0m\n",
            "\u001b[32m[I 2023-05-28 10:27:27,545]\u001b[0m Trial 14 finished with value: 11.97 and parameters: {'lr': 0.0002395026619987486, 'bs': 128, 'delta_e': 0.20689655172413793}. Best is trial 0 with value: 98.77.\u001b[0m\n",
            "\u001b[32m[I 2023-05-28 10:28:02,795]\u001b[0m Trial 15 finished with value: 9.8 and parameters: {'lr': 0.00032903445623126676, 'bs': 64, 'delta_e': 0.8275862068965517}. Best is trial 0 with value: 98.77.\u001b[0m\n",
            "\u001b[32m[I 2023-05-28 10:28:49,521]\u001b[0m Trial 16 finished with value: 98.63 and parameters: {'lr': 0.02807216203941177, 'bs': 32, 'delta_e': 1.4482758620689655}. Best is trial 0 with value: 98.77.\u001b[0m\n",
            "\u001b[32m[I 2023-05-28 10:29:25,217]\u001b[0m Trial 17 finished with value: 87.82 and parameters: {'lr': 0.00221221629107045, 'bs': 64, 'delta_e': 0.7241379310344828}. Best is trial 0 with value: 98.77.\u001b[0m\n",
            "\u001b[32m[I 2023-05-28 10:30:00,970]\u001b[0m Trial 18 finished with value: 11.35 and parameters: {'lr': 6.723357536499335e-05, 'bs': 64, 'delta_e': 1.9655172413793103}. Best is trial 0 with value: 98.77.\u001b[0m\n",
            "\u001b[32m[I 2023-05-28 10:30:36,374]\u001b[0m Trial 19 finished with value: 10.32 and parameters: {'lr': 0.00017433288221999874, 'bs': 64, 'delta_e': 0.41379310344827586}. Best is trial 0 with value: 98.77.\u001b[0m\n",
            "\u001b[32m[I 2023-05-28 10:31:11,588]\u001b[0m Trial 20 finished with value: 0.12 and parameters: {'lr': 4.893900918477499e-05, 'bs': 64, 'delta_e': 1.7586206896551724}. Best is trial 0 with value: 98.77.\u001b[0m\n",
            "\u001b[32m[I 2023-05-28 10:31:47,013]\u001b[0m Trial 21 finished with value: 98.6 and parameters: {'lr': 0.02807216203941177, 'bs': 64, 'delta_e': 2.1724137931034484}. Best is trial 0 with value: 98.77.\u001b[0m\n",
            "\u001b[32m[I 2023-05-28 10:32:22,246]\u001b[0m Trial 22 finished with value: 89.61 and parameters: {'lr': 0.0030391953823131978, 'bs': 64, 'delta_e': 2.586206896551724}. Best is trial 0 with value: 98.77.\u001b[0m\n",
            "\u001b[32m[I 2023-05-28 10:32:51,815]\u001b[0m Trial 23 finished with value: 83.16 and parameters: {'lr': 0.0030391953823131978, 'bs': 128, 'delta_e': 0.10344827586206896}. Best is trial 0 with value: 98.77.\u001b[0m\n",
            "\u001b[32m[I 2023-05-28 10:33:38,691]\u001b[0m Trial 24 finished with value: 28.53 and parameters: {'lr': 0.0002395026619987486, 'bs': 32, 'delta_e': 1.3448275862068966}. Best is trial 0 with value: 98.77.\u001b[0m\n",
            "\u001b[32m[I 2023-05-28 10:34:25,280]\u001b[0m Trial 25 finished with value: 91.69 and parameters: {'lr': 0.00221221629107045, 'bs': 32, 'delta_e': 2.689655172413793}. Best is trial 0 with value: 98.77.\u001b[0m\n",
            "\u001b[32m[I 2023-05-28 10:34:54,924]\u001b[0m Trial 26 finished with value: 1.26 and parameters: {'lr': 2.592943797404667e-05, 'bs': 128, 'delta_e': 1.0344827586206897}. Best is trial 0 with value: 98.77.\u001b[0m\n",
            "\u001b[32m[I 2023-05-28 10:35:24,864]\u001b[0m Trial 27 finished with value: 91.38 and parameters: {'lr': 0.007880462815669913, 'bs': 128, 'delta_e': 2.1724137931034484}. Best is trial 0 with value: 98.77.\u001b[0m\n",
            "\u001b[32m[I 2023-05-28 10:36:00,013]\u001b[0m Trial 28 finished with value: 11.63 and parameters: {'lr': 0.0002395026619987486, 'bs': 64, 'delta_e': 0.20689655172413793}. Best is trial 0 with value: 98.77.\u001b[0m\n",
            "\u001b[32m[I 2023-05-28 10:36:29,539]\u001b[0m Trial 29 finished with value: 12.85 and parameters: {'lr': 0.0001268961003167922, 'bs': 128, 'delta_e': 1.8620689655172413}. Best is trial 0 with value: 98.77.\u001b[0m\n"
          ]
        },
        {
          "output_type": "stream",
          "name": "stdout",
          "text": [
            "{'bs': 64, 'delta_e': 1.6551724137931034, 'lr': 0.03856620421163472}\n"
          ]
        }
      ],
      "source": [
        "# Search for best parameters for BBI\n",
        "study = optuna.create_study(\n",
        "    direction=\"maximize\",\n",
        "    sampler=TPESampler(n_startup_trials=115),\n",
        "    pruner=BasePruner,\n",
        "    study_name=\"bbi\",\n",
        "    storage=\"sqlite:///optuna1.db\",\n",
        "    load_if_exists=True,\n",
        ")\n",
        "study.optimize(lambda trial: hyperparameter_search(trial, BBI), n_trials=30)\n",
        "print(study.best_params)"
      ],
      "metadata": {
        "ExecuteTime": {
          "start_time": "2023-04-17T19:52:50.276827Z",
          "end_time": "2023-04-17T20:05:01.091062Z"
        },
        "id": "QnZlxFjDPpdL",
        "colab": {
          "base_uri": "https://localhost:8080/"
        },
        "outputId": "43a14d5f-f49d-4da1-b3c9-0c3690c1bcc4"
      }
    },
    {
      "cell_type": "code",
      "source": [
        "study = optuna.create_study(\n",
        "    direction=\"maximize\",\n",
        "    sampler=TPESampler(n_startup_trials=115),\n",
        "    pruner=BasePruner,\n",
        "    study_name=\"bbi_adap\",\n",
        "    storage=\"sqlite:///optuna1.db\",\n",
        "    load_if_exists=True,\n",
        ")\n",
        "study.optimize(lambda trial: hyperparameter_search(trial, BBI, adaptive = True), n_trials=30)\n",
        "print(study.best_params)"
      ],
      "metadata": {
        "id": "7yskznBmQcqP",
        "colab": {
          "base_uri": "https://localhost:8080/"
        },
        "outputId": "4bf41b44-4ac4-40e7-99c9-1f6e9efa7ff8"
      },
      "execution_count": null,
      "outputs": [
        {
          "output_type": "stream",
          "name": "stderr",
          "text": [
            "\u001b[32m[I 2023-05-28 10:36:29,604]\u001b[0m A new study created in RDB with name: bbi_adap\u001b[0m\n",
            "\u001b[32m[I 2023-05-28 10:37:08,011]\u001b[0m Trial 0 finished with value: 0.14 and parameters: {'lr': 1e-05, 'bs': 64, 'delta_e': 0.41379310344827586, 'beta1': 0.20689655172413793, 'beta2': 0.0}. Best is trial 0 with value: 0.14.\u001b[0m\n",
            "\u001b[32m[I 2023-05-28 10:37:40,330]\u001b[0m Trial 1 finished with value: 13.59 and parameters: {'lr': 0.00045203536563602454, 'bs': 128, 'delta_e': 0.8275862068965517, 'beta1': 0.7931034482758621, 'beta2': 0.3448275862068966}. Best is trial 1 with value: 13.59.\u001b[0m\n",
            "\u001b[32m[I 2023-05-28 10:38:33,342]\u001b[0m Trial 2 finished with value: 9.35 and parameters: {'lr': 9.236708571873866e-05, 'bs': 32, 'delta_e': 1.2413793103448276, 'beta1': 0.48275862068965514, 'beta2': 0.7241379310344828}. Best is trial 1 with value: 13.59.\u001b[0m\n",
            "\u001b[32m[I 2023-05-28 10:39:04,715]\u001b[0m Trial 3 finished with value: 96.51 and parameters: {'lr': 0.02807216203941177, 'bs': 128, 'delta_e': 2.0689655172413794, 'beta1': 0.20689655172413793, 'beta2': 0.7241379310344828}. Best is trial 3 with value: 96.51.\u001b[0m\n",
            "<ipython-input-14-1baa829ef438>:134: RuntimeWarning: divide by zero encountered in double_scalars\n",
            "  bias_correction2 = 1 / (1 - b2 ** (self.counter + 1))\n",
            "\u001b[32m[I 2023-05-28 10:39:42,526]\u001b[0m Trial 4 finished with value: 10.16 and parameters: {'lr': 0.00017433288221999874, 'bs': 64, 'delta_e': 0.8275862068965517, 'beta1': 0.034482758620689655, 'beta2': 1.0}. Best is trial 3 with value: 96.51.\u001b[0m\n",
            "\u001b[32m[I 2023-05-28 10:40:14,488]\u001b[0m Trial 5 finished with value: 9.81 and parameters: {'lr': 6.723357536499335e-05, 'bs': 128, 'delta_e': 2.2758620689655173, 'beta1': 0.8275862068965517, 'beta2': 0.9310344827586207}. Best is trial 3 with value: 96.51.\u001b[0m\n",
            "\u001b[32m[I 2023-05-28 10:40:52,413]\u001b[0m Trial 6 finished with value: 87.66 and parameters: {'lr': 0.005736152510448681, 'bs': 64, 'delta_e': 0.9310344827586207, 'beta1': 0.20689655172413793, 'beta2': 0.5172413793103449}. Best is trial 3 with value: 96.51.\u001b[0m\n",
            "\u001b[32m[I 2023-05-28 10:41:23,333]\u001b[0m Trial 7 finished with value: 95.09 and parameters: {'lr': 0.014873521072935119, 'bs': 128, 'delta_e': 1.0344827586206897, 'beta1': 0.5517241379310345, 'beta2': 0.9310344827586207}. Best is trial 3 with value: 96.51.\u001b[0m\n",
            "\u001b[32m[I 2023-05-28 10:41:54,764]\u001b[0m Trial 8 finished with value: 10.1 and parameters: {'lr': 0.0016102620275609393, 'bs': 128, 'delta_e': 2.0689655172413794, 'beta1': 0.8275862068965517, 'beta2': 0.10344827586206896}. Best is trial 3 with value: 96.51.\u001b[0m\n",
            "\u001b[32m[I 2023-05-28 10:42:46,503]\u001b[0m Trial 9 finished with value: 97.13 and parameters: {'lr': 0.05298316906283707, 'bs': 32, 'delta_e': 2.689655172413793, 'beta1': 0.27586206896551724, 'beta2': 0.7586206896551724}. Best is trial 9 with value: 97.13.\u001b[0m\n",
            "\u001b[32m[I 2023-05-28 10:43:39,288]\u001b[0m Trial 10 finished with value: 9.58 and parameters: {'lr': 0.0008531678524172806, 'bs': 32, 'delta_e': 2.4827586206896552, 'beta1': 0.7241379310344828, 'beta2': 0.0}. Best is trial 9 with value: 97.13.\u001b[0m\n",
            "\u001b[32m[I 2023-05-28 10:44:10,207]\u001b[0m Trial 11 finished with value: 16.52 and parameters: {'lr': 0.0011721022975334804, 'bs': 128, 'delta_e': 2.896551724137931, 'beta1': 0.06896551724137931, 'beta2': 0.13793103448275862}. Best is trial 9 with value: 97.13.\u001b[0m\n",
            "\u001b[32m[I 2023-05-28 10:44:41,866]\u001b[0m Trial 12 finished with value: 97.54 and parameters: {'lr': 0.0727895384398315, 'bs': 128, 'delta_e': 1.4482758620689655, 'beta1': 0.4482758620689655, 'beta2': 0.06896551724137931}. Best is trial 12 with value: 97.54.\u001b[0m\n",
            "\u001b[32m[I 2023-05-28 10:45:15,382]\u001b[0m Trial 13 finished with value: 9.8 and parameters: {'lr': 0.05298316906283707, 'bs': 64, 'delta_e': 0.8275862068965517, 'beta1': 0.7241379310344828, 'beta2': 1.0}. Best is trial 12 with value: 97.54.\u001b[0m\n",
            "\u001b[32m[I 2023-05-28 10:45:53,573]\u001b[0m Trial 14 finished with value: 15.84 and parameters: {'lr': 0.0006210169418915617, 'bs': 64, 'delta_e': 1.1379310344827587, 'beta1': 0.8620689655172413, 'beta2': 0.5862068965517241}. Best is trial 12 with value: 97.54.\u001b[0m\n",
            "\u001b[32m[I 2023-05-28 10:46:31,744]\u001b[0m Trial 15 finished with value: 14.74 and parameters: {'lr': 0.00032903445623126676, 'bs': 64, 'delta_e': 0.20689655172413793, 'beta1': 0.0, 'beta2': 1.0}. Best is trial 12 with value: 97.54.\u001b[0m\n",
            "\u001b[32m[I 2023-05-28 10:47:02,716]\u001b[0m Trial 16 finished with value: 98.16 and parameters: {'lr': 0.1, 'bs': 128, 'delta_e': 2.586206896551724, 'beta1': 0.13793103448275862, 'beta2': 0.48275862068965514}. Best is trial 16 with value: 98.16.\u001b[0m\n",
            "\u001b[32m[I 2023-05-28 10:47:55,080]\u001b[0m Trial 17 finished with value: 18.23 and parameters: {'lr': 0.0016102620275609393, 'bs': 32, 'delta_e': 0.6206896551724138, 'beta1': 0.41379310344827586, 'beta2': 0.20689655172413793}. Best is trial 16 with value: 98.16.\u001b[0m\n",
            "\u001b[32m[I 2023-05-28 10:48:26,247]\u001b[0m Trial 18 finished with value: 93.5 and parameters: {'lr': 0.014873521072935119, 'bs': 128, 'delta_e': 0.7241379310344828, 'beta1': 0.41379310344827586, 'beta2': 0.13793103448275862}. Best is trial 16 with value: 98.16.\u001b[0m\n",
            "\u001b[32m[I 2023-05-28 10:48:57,814]\u001b[0m Trial 19 finished with value: 75.67 and parameters: {'lr': 0.005736152510448681, 'bs': 128, 'delta_e': 0.41379310344827586, 'beta1': 0.24137931034482757, 'beta2': 0.48275862068965514}. Best is trial 16 with value: 98.16.\u001b[0m\n",
            "\u001b[32m[I 2023-05-28 10:49:28,891]\u001b[0m Trial 20 finished with value: 9.74 and parameters: {'lr': 0.0030391953823131978, 'bs': 128, 'delta_e': 1.9655172413793103, 'beta1': 0.7586206896551724, 'beta2': 0.3103448275862069}. Best is trial 16 with value: 98.16.\u001b[0m\n",
            "\u001b[32m[I 2023-05-28 10:50:00,475]\u001b[0m Trial 21 finished with value: 98.12 and parameters: {'lr': 0.0727895384398315, 'bs': 128, 'delta_e': 1.3448275862068966, 'beta1': 0.06896551724137931, 'beta2': 0.896551724137931}. Best is trial 16 with value: 98.16.\u001b[0m\n",
            "\u001b[32m[I 2023-05-28 10:50:32,185]\u001b[0m Trial 22 finished with value: 0.45 and parameters: {'lr': 1.8873918221350995e-05, 'bs': 128, 'delta_e': 0.6206896551724138, 'beta1': 0.24137931034482757, 'beta2': 0.8620689655172413}. Best is trial 16 with value: 98.16.\u001b[0m\n",
            "\u001b[32m[I 2023-05-28 10:51:09,820]\u001b[0m Trial 23 finished with value: 10.35 and parameters: {'lr': 0.0008531678524172806, 'bs': 64, 'delta_e': 2.1724137931034484, 'beta1': 0.7586206896551724, 'beta2': 0.5517241379310345}. Best is trial 16 with value: 98.16.\u001b[0m\n",
            "\u001b[32m[I 2023-05-28 10:51:47,242]\u001b[0m Trial 24 finished with value: 9.8 and parameters: {'lr': 0.0006210169418915617, 'bs': 64, 'delta_e': 0.7241379310344828, 'beta1': 0.20689655172413793, 'beta2': 0.10344827586206896}. Best is trial 16 with value: 98.16.\u001b[0m\n",
            "\u001b[32m[I 2023-05-28 10:52:18,278]\u001b[0m Trial 25 finished with value: 0.41 and parameters: {'lr': 3.5622478902624444e-05, 'bs': 128, 'delta_e': 0.6206896551724138, 'beta1': 0.24137931034482757, 'beta2': 0.8275862068965517}. Best is trial 16 with value: 98.16.\u001b[0m\n",
            "\u001b[32m[I 2023-05-28 10:53:10,510]\u001b[0m Trial 26 finished with value: 8.8 and parameters: {'lr': 2.592943797404667e-05, 'bs': 32, 'delta_e': 2.0689655172413794, 'beta1': 0.6206896551724138, 'beta2': 0.3448275862068966}. Best is trial 16 with value: 98.16.\u001b[0m\n",
            "\u001b[32m[I 2023-05-28 10:54:02,535]\u001b[0m Trial 27 finished with value: 91.62 and parameters: {'lr': 0.0041753189365604, 'bs': 32, 'delta_e': 0.3103448275862069, 'beta1': 0.20689655172413793, 'beta2': 0.8275862068965517}. Best is trial 16 with value: 98.16.\u001b[0m\n",
            "\u001b[32m[I 2023-05-28 10:54:39,970]\u001b[0m Trial 28 finished with value: 39.91 and parameters: {'lr': 0.0041753189365604, 'bs': 64, 'delta_e': 2.689655172413793, 'beta1': 0.5172413793103449, 'beta2': 0.48275862068965514}. Best is trial 16 with value: 98.16.\u001b[0m\n",
            "\u001b[32m[I 2023-05-28 10:55:17,990]\u001b[0m Trial 29 finished with value: 96.91 and parameters: {'lr': 0.03856620421163472, 'bs': 64, 'delta_e': 1.5517241379310345, 'beta1': 0.1724137931034483, 'beta2': 0.5172413793103449}. Best is trial 16 with value: 98.16.\u001b[0m\n"
          ]
        },
        {
          "output_type": "stream",
          "name": "stdout",
          "text": [
            "{'beta1': 0.13793103448275862, 'beta2': 0.48275862068965514, 'bs': 128, 'delta_e': 2.586206896551724, 'lr': 0.1}\n"
          ]
        }
      ]
    },
    {
      "cell_type": "code",
      "source": [
        "study = optuna.create_study(\n",
        "    direction=\"maximize\",\n",
        "    sampler=TPESampler(n_startup_trials=115),\n",
        "    pruner=BasePruner,\n",
        "    study_name=\"bbi_wa_\",\n",
        "    storage=\"sqlite:///optuna1.db\",\n",
        ")\n",
        "study.optimize(lambda trial: hyperparameter_search(trial, BBI, wa = True), n_trials=30)\n",
        "print(study.best_params)"
      ],
      "metadata": {
        "colab": {
          "base_uri": "https://localhost:8080/"
        },
        "id": "azjOC9fy6VJ5",
        "outputId": "518fc433-82f6-4a21-91ce-88df5e7cb32e"
      },
      "execution_count": null,
      "outputs": [
        {
          "output_type": "stream",
          "name": "stderr",
          "text": [
            "\u001b[32m[I 2023-05-28 10:55:18,054]\u001b[0m A new study created in RDB with name: bbi_wa_\u001b[0m\n",
            "\u001b[32m[I 2023-05-28 10:55:49,979]\u001b[0m Trial 0 finished with value: 5.4 and parameters: {'lr': 2.592943797404667e-05, 'bs': 128, 'delta_e': 2.2758620689655173}. Best is trial 0 with value: 5.4.\u001b[0m\n",
            "\u001b[32m[I 2023-05-28 10:56:20,740]\u001b[0m Trial 1 finished with value: 12.86 and parameters: {'lr': 9.236708571873866e-05, 'bs': 128, 'delta_e': 2.793103448275862}. Best is trial 1 with value: 12.86.\u001b[0m\n",
            "\u001b[32m[I 2023-05-28 10:57:08,905]\u001b[0m Trial 2 finished with value: 79.49 and parameters: {'lr': 0.0006210169418915617, 'bs': 32, 'delta_e': 0.20689655172413793}. Best is trial 2 with value: 79.49.\u001b[0m\n",
            "\u001b[32m[I 2023-05-28 10:57:40,621]\u001b[0m Trial 3 finished with value: 91.45 and parameters: {'lr': 0.010826367338740546, 'bs': 128, 'delta_e': 0.41379310344827586}. Best is trial 3 with value: 91.45.\u001b[0m\n",
            "\u001b[32m[I 2023-05-28 10:58:12,141]\u001b[0m Trial 4 finished with value: 2.75 and parameters: {'lr': 2.592943797404667e-05, 'bs': 128, 'delta_e': 1.5517241379310345}. Best is trial 3 with value: 91.45.\u001b[0m\n",
            "\u001b[32m[I 2023-05-28 10:58:43,263]\u001b[0m Trial 5 finished with value: 0.86 and parameters: {'lr': 1.8873918221350995e-05, 'bs': 128, 'delta_e': 0.9310344827586207}. Best is trial 3 with value: 91.45.\u001b[0m\n",
            "\u001b[32m[I 2023-05-28 10:59:20,626]\u001b[0m Trial 6 finished with value: 18.9 and parameters: {'lr': 0.00017433288221999874, 'bs': 64, 'delta_e': 0.6206896551724138}. Best is trial 3 with value: 91.45.\u001b[0m\n",
            "\u001b[32m[I 2023-05-28 10:59:57,685]\u001b[0m Trial 7 finished with value: 83.59 and parameters: {'lr': 0.0016102620275609393, 'bs': 64, 'delta_e': 0.3103448275862069}. Best is trial 3 with value: 91.45.\u001b[0m\n",
            "\u001b[32m[I 2023-05-28 11:00:35,524]\u001b[0m Trial 8 finished with value: 86.74 and parameters: {'lr': 0.00221221629107045, 'bs': 64, 'delta_e': 3.0}. Best is trial 3 with value: 91.45.\u001b[0m\n",
            "\u001b[32m[I 2023-05-28 11:01:07,556]\u001b[0m Trial 9 finished with value: 4.75 and parameters: {'lr': 3.5622478902624444e-05, 'bs': 128, 'delta_e': 1.4482758620689655}. Best is trial 3 with value: 91.45.\u001b[0m\n",
            "\u001b[32m[I 2023-05-28 11:01:39,627]\u001b[0m Trial 10 finished with value: 98.1 and parameters: {'lr': 0.03856620421163472, 'bs': 128, 'delta_e': 1.6551724137931034}. Best is trial 10 with value: 98.1.\u001b[0m\n",
            "\u001b[32m[I 2023-05-28 11:02:28,213]\u001b[0m Trial 11 finished with value: 99.02 and parameters: {'lr': 0.1, 'bs': 32, 'delta_e': 0.41379310344827586}. Best is trial 11 with value: 99.02.\u001b[0m\n",
            "\u001b[32m[I 2023-05-28 11:03:05,335]\u001b[0m Trial 12 finished with value: 74.81 and parameters: {'lr': 0.0011721022975334804, 'bs': 64, 'delta_e': 0.3103448275862069}. Best is trial 11 with value: 99.02.\u001b[0m\n",
            "\u001b[32m[I 2023-05-28 11:03:53,737]\u001b[0m Trial 13 finished with value: 0.77 and parameters: {'lr': 1.8873918221350995e-05, 'bs': 32, 'delta_e': 0.3103448275862069}. Best is trial 11 with value: 99.02.\u001b[0m\n",
            "\u001b[32m[I 2023-05-28 11:04:41,978]\u001b[0m Trial 14 finished with value: 98.46 and parameters: {'lr': 0.010826367338740546, 'bs': 32, 'delta_e': 1.9655172413793103}. Best is trial 11 with value: 99.02.\u001b[0m\n",
            "\u001b[32m[I 2023-05-28 11:05:30,219]\u001b[0m Trial 15 finished with value: 10.32 and parameters: {'lr': 9.236708571873866e-05, 'bs': 32, 'delta_e': 2.896551724137931}. Best is trial 11 with value: 99.02.\u001b[0m\n",
            "\u001b[32m[I 2023-05-28 11:06:19,118]\u001b[0m Trial 16 finished with value: 98.94 and parameters: {'lr': 0.0727895384398315, 'bs': 32, 'delta_e': 1.4482758620689655}. Best is trial 11 with value: 99.02.\u001b[0m\n",
            "\u001b[32m[I 2023-05-28 11:07:06,544]\u001b[0m Trial 17 finished with value: 97.32 and parameters: {'lr': 0.005736152510448681, 'bs': 32, 'delta_e': 1.1379310344827587}. Best is trial 11 with value: 99.02.\u001b[0m\n",
            "\u001b[32m[I 2023-05-28 11:07:53,327]\u001b[0m Trial 18 finished with value: 2.98 and parameters: {'lr': 2.592943797404667e-05, 'bs': 32, 'delta_e': 2.0689655172413794}. Best is trial 11 with value: 99.02.\u001b[0m\n",
            "\u001b[32m[I 2023-05-28 11:08:28,934]\u001b[0m Trial 19 finished with value: 13.41 and parameters: {'lr': 0.0002395026619987486, 'bs': 64, 'delta_e': 1.7586206896551724}. Best is trial 11 with value: 99.02.\u001b[0m\n",
            "\u001b[32m[I 2023-05-28 11:08:58,493]\u001b[0m Trial 20 finished with value: 80.88 and parameters: {'lr': 0.0030391953823131978, 'bs': 128, 'delta_e': 1.0344827586206897}. Best is trial 11 with value: 99.02.\u001b[0m\n",
            "\u001b[32m[I 2023-05-28 11:09:33,852]\u001b[0m Trial 21 finished with value: 98.58 and parameters: {'lr': 0.0727895384398315, 'bs': 64, 'delta_e': 0.41379310344827586}. Best is trial 11 with value: 99.02.\u001b[0m\n",
            "\u001b[32m[I 2023-05-28 11:10:04,716]\u001b[0m Trial 22 finished with value: 4.87 and parameters: {'lr': 2.592943797404667e-05, 'bs': 128, 'delta_e': 1.4482758620689655}. Best is trial 11 with value: 99.02.\u001b[0m\n",
            "\u001b[32m[I 2023-05-28 11:10:34,452]\u001b[0m Trial 23 finished with value: 11.47 and parameters: {'lr': 0.00032903445623126676, 'bs': 128, 'delta_e': 0.7241379310344828}. Best is trial 11 with value: 99.02.\u001b[0m\n",
            "\u001b[32m[I 2023-05-28 11:11:21,368]\u001b[0m Trial 24 finished with value: 73.91 and parameters: {'lr': 0.0006210169418915617, 'bs': 32, 'delta_e': 1.1379310344827587}. Best is trial 11 with value: 99.02.\u001b[0m\n",
            "\u001b[32m[I 2023-05-28 11:11:51,155]\u001b[0m Trial 25 finished with value: 95.9 and parameters: {'lr': 0.014873521072935119, 'bs': 128, 'delta_e': 1.9655172413793103}. Best is trial 11 with value: 99.02.\u001b[0m\n",
            "\u001b[32m[I 2023-05-28 11:12:21,736]\u001b[0m Trial 26 finished with value: 10.74 and parameters: {'lr': 0.0001268961003167922, 'bs': 128, 'delta_e': 3.0}. Best is trial 11 with value: 99.02.\u001b[0m\n",
            "\u001b[32m[I 2023-05-28 11:12:51,908]\u001b[0m Trial 27 finished with value: 98.48 and parameters: {'lr': 0.05298316906283707, 'bs': 128, 'delta_e': 0.41379310344827586}. Best is trial 11 with value: 99.02.\u001b[0m\n",
            "\u001b[32m[I 2023-05-28 11:13:27,290]\u001b[0m Trial 28 finished with value: 16.29 and parameters: {'lr': 0.0002395026619987486, 'bs': 64, 'delta_e': 0.0}. Best is trial 11 with value: 99.02.\u001b[0m\n",
            "\u001b[32m[I 2023-05-28 11:13:58,209]\u001b[0m Trial 29 finished with value: 98.0 and parameters: {'lr': 0.03856620421163472, 'bs': 128, 'delta_e': 2.586206896551724}. Best is trial 11 with value: 99.02.\u001b[0m\n"
          ]
        },
        {
          "output_type": "stream",
          "name": "stdout",
          "text": [
            "{'bs': 32, 'delta_e': 0.41379310344827586, 'lr': 0.1}\n"
          ]
        }
      ]
    },
    {
      "cell_type": "code",
      "source": [
        "study = optuna.create_study(\n",
        "    direction=\"maximize\",\n",
        "    sampler=TPESampler(n_startup_trials=115),\n",
        "    pruner=BasePruner,\n",
        "    study_name=\"bbi_wa_adapt_\",\n",
        "    storage=\"sqlite:///optuna1.db\",\n",
        ")\n",
        "study.optimize(lambda trial: hyperparameter_search(trial, BBI, wa = True, adaptive=True), n_trials=30)\n",
        "print(study.best_params)"
      ],
      "metadata": {
        "colab": {
          "base_uri": "https://localhost:8080/"
        },
        "id": "laB22HR56dVm",
        "outputId": "4d9fe675-7b57-42fa-e47c-b09ab0124c6e"
      },
      "execution_count": null,
      "outputs": [
        {
          "output_type": "stream",
          "name": "stderr",
          "text": [
            "\u001b[32m[I 2023-05-28 11:13:58,269]\u001b[0m A new study created in RDB with name: bbi_wa_adapt_\u001b[0m\n",
            "\u001b[32m[I 2023-05-28 11:14:36,468]\u001b[0m Trial 0 finished with value: 22.48 and parameters: {'lr': 0.005736152510448681, 'bs': 64, 'delta_e': 0.7241379310344828, 'beta1': 0.896551724137931, 'beta2': 0.20689655172413793}. Best is trial 0 with value: 22.48.\u001b[0m\n",
            "\u001b[32m[I 2023-05-28 11:15:14,429]\u001b[0m Trial 1 finished with value: 0.08 and parameters: {'lr': 4.893900918477499e-05, 'bs': 64, 'delta_e': 0.5172413793103449, 'beta1': 0.5862068965517241, 'beta2': 0.10344827586206896}. Best is trial 0 with value: 22.48.\u001b[0m\n",
            "\u001b[32m[I 2023-05-28 11:16:07,353]\u001b[0m Trial 2 finished with value: 95.06 and parameters: {'lr': 0.020433597178569417, 'bs': 32, 'delta_e': 1.6551724137931034, 'beta1': 0.41379310344827586, 'beta2': 0.13793103448275862}. Best is trial 2 with value: 95.06.\u001b[0m\n",
            "\u001b[32m[I 2023-05-28 11:16:45,385]\u001b[0m Trial 3 finished with value: 17.35 and parameters: {'lr': 0.00221221629107045, 'bs': 64, 'delta_e': 2.2758620689655173, 'beta1': 0.3103448275862069, 'beta2': 0.034482758620689655}. Best is trial 2 with value: 95.06.\u001b[0m\n",
            "\u001b[32m[I 2023-05-28 11:17:37,808]\u001b[0m Trial 4 finished with value: 15.72 and parameters: {'lr': 0.0002395026619987486, 'bs': 32, 'delta_e': 0.9310344827586207, 'beta1': 0.41379310344827586, 'beta2': 0.48275862068965514}. Best is trial 2 with value: 95.06.\u001b[0m\n",
            "\u001b[32m[I 2023-05-28 11:18:30,655]\u001b[0m Trial 5 finished with value: 11.75 and parameters: {'lr': 0.0002395026619987486, 'bs': 32, 'delta_e': 0.6206896551724138, 'beta1': 0.3793103448275862, 'beta2': 0.9655172413793103}. Best is trial 2 with value: 95.06.\u001b[0m\n",
            "\u001b[32m[I 2023-05-28 11:19:23,315]\u001b[0m Trial 6 finished with value: 92.64 and parameters: {'lr': 0.007880462815669913, 'bs': 32, 'delta_e': 0.0, 'beta1': 0.48275862068965514, 'beta2': 0.3103448275862069}. Best is trial 2 with value: 95.06.\u001b[0m\n",
            "\u001b[32m[I 2023-05-28 11:20:01,354]\u001b[0m Trial 7 finished with value: 11.47 and parameters: {'lr': 0.0001268961003167922, 'bs': 64, 'delta_e': 0.41379310344827586, 'beta1': 0.3448275862068966, 'beta2': 0.9310344827586207}. Best is trial 2 with value: 95.06.\u001b[0m\n",
            "\u001b[32m[I 2023-05-28 11:20:53,547]\u001b[0m Trial 8 finished with value: 23.48 and parameters: {'lr': 0.0041753189365604, 'bs': 32, 'delta_e': 1.8620689655172413, 'beta1': 0.8620689655172413, 'beta2': 0.5172413793103449}. Best is trial 2 with value: 95.06.\u001b[0m\n",
            "\u001b[32m[I 2023-05-28 11:21:31,802]\u001b[0m Trial 9 finished with value: 96.47 and parameters: {'lr': 0.020433597178569417, 'bs': 64, 'delta_e': 0.6206896551724138, 'beta1': 0.7586206896551724, 'beta2': 0.8620689655172413}. Best is trial 9 with value: 96.47.\u001b[0m\n",
            "\u001b[32m[I 2023-05-28 11:22:10,350]\u001b[0m Trial 10 finished with value: 0.01 and parameters: {'lr': 1.8873918221350995e-05, 'bs': 64, 'delta_e': 1.2413793103448276, 'beta1': 0.0, 'beta2': 0.27586206896551724}. Best is trial 9 with value: 96.47.\u001b[0m\n",
            "\u001b[32m[I 2023-05-28 11:22:41,610]\u001b[0m Trial 11 finished with value: 10.13 and parameters: {'lr': 0.00032903445623126676, 'bs': 128, 'delta_e': 2.1724137931034484, 'beta1': 0.5172413793103449, 'beta2': 0.6896551724137931}. Best is trial 9 with value: 96.47.\u001b[0m\n",
            "\u001b[32m[I 2023-05-28 11:23:19,811]\u001b[0m Trial 12 finished with value: 3.83 and parameters: {'lr': 2.592943797404667e-05, 'bs': 64, 'delta_e': 1.3448275862068966, 'beta1': 0.7586206896551724, 'beta2': 0.8620689655172413}. Best is trial 9 with value: 96.47.\u001b[0m\n",
            "\u001b[32m[I 2023-05-28 11:24:12,746]\u001b[0m Trial 13 finished with value: 96.38 and parameters: {'lr': 0.03856620421163472, 'bs': 32, 'delta_e': 0.9310344827586207, 'beta1': 0.24137931034482757, 'beta2': 0.6896551724137931}. Best is trial 9 with value: 96.47.\u001b[0m\n",
            "\u001b[32m[I 2023-05-28 11:24:50,978]\u001b[0m Trial 14 finished with value: 0.0 and parameters: {'lr': 2.592943797404667e-05, 'bs': 64, 'delta_e': 2.2758620689655173, 'beta1': 0.5862068965517241, 'beta2': 0.6551724137931034}. Best is trial 9 with value: 96.47.\u001b[0m\n",
            "\u001b[32m[I 2023-05-28 11:25:23,166]\u001b[0m Trial 15 finished with value: 20.35 and parameters: {'lr': 0.005736152510448681, 'bs': 128, 'delta_e': 2.586206896551724, 'beta1': 0.8620689655172413, 'beta2': 0.8275862068965517}. Best is trial 9 with value: 96.47.\u001b[0m\n",
            "\u001b[32m[I 2023-05-28 11:25:54,463]\u001b[0m Trial 16 finished with value: 10.81 and parameters: {'lr': 0.00017433288221999874, 'bs': 128, 'delta_e': 1.7586206896551724, 'beta1': 0.27586206896551724, 'beta2': 0.5172413793103449}. Best is trial 9 with value: 96.47.\u001b[0m\n",
            "\u001b[32m[I 2023-05-28 11:26:47,949]\u001b[0m Trial 17 finished with value: 94.59 and parameters: {'lr': 0.014873521072935119, 'bs': 32, 'delta_e': 1.8620689655172413, 'beta1': 0.9310344827586207, 'beta2': 0.7241379310344828}. Best is trial 9 with value: 96.47.\u001b[0m\n",
            "\u001b[32m[I 2023-05-28 11:27:26,156]\u001b[0m Trial 18 finished with value: 96.19 and parameters: {'lr': 0.020433597178569417, 'bs': 64, 'delta_e': 1.8620689655172413, 'beta1': 0.1724137931034483, 'beta2': 0.6551724137931034}. Best is trial 9 with value: 96.47.\u001b[0m\n",
            "\u001b[32m[I 2023-05-28 11:27:57,323]\u001b[0m Trial 19 finished with value: 7.44 and parameters: {'lr': 1e-05, 'bs': 128, 'delta_e': 2.3793103448275863, 'beta1': 0.7931034482758621, 'beta2': 0.13793103448275862}. Best is trial 9 with value: 96.47.\u001b[0m\n",
            "\u001b[32m[I 2023-05-28 11:28:50,387]\u001b[0m Trial 20 finished with value: 9.85 and parameters: {'lr': 0.00017433288221999874, 'bs': 32, 'delta_e': 0.6206896551724138, 'beta1': 0.7931034482758621, 'beta2': 0.5862068965517241}. Best is trial 9 with value: 96.47.\u001b[0m\n",
            "\u001b[32m[I 2023-05-28 11:29:42,422]\u001b[0m Trial 21 finished with value: 17.05 and parameters: {'lr': 0.00221221629107045, 'bs': 32, 'delta_e': 2.3793103448275863, 'beta1': 0.6206896551724138, 'beta2': 0.1724137931034483}. Best is trial 9 with value: 96.47.\u001b[0m\n",
            "\u001b[32m[I 2023-05-28 11:30:35,298]\u001b[0m Trial 22 finished with value: 95.95 and parameters: {'lr': 0.02807216203941177, 'bs': 32, 'delta_e': 0.6206896551724138, 'beta1': 0.20689655172413793, 'beta2': 0.3448275862068966}. Best is trial 9 with value: 96.47.\u001b[0m\n",
            "\u001b[32m[I 2023-05-28 11:31:28,595]\u001b[0m Trial 23 finished with value: 50.2 and parameters: {'lr': 0.0016102620275609393, 'bs': 32, 'delta_e': 0.6206896551724138, 'beta1': 0.10344827586206896, 'beta2': 0.7241379310344828}. Best is trial 9 with value: 96.47.\u001b[0m\n",
            "\u001b[32m[I 2023-05-28 11:32:21,878]\u001b[0m Trial 24 finished with value: 21.88 and parameters: {'lr': 0.0011721022975334804, 'bs': 32, 'delta_e': 2.896551724137931, 'beta1': 0.06896551724137931, 'beta2': 0.3793103448275862}. Best is trial 9 with value: 96.47.\u001b[0m\n",
            "\u001b[32m[I 2023-05-28 11:32:54,029]\u001b[0m Trial 25 finished with value: 11.75 and parameters: {'lr': 0.0002395026619987486, 'bs': 128, 'delta_e': 2.896551724137931, 'beta1': 0.3793103448275862, 'beta2': 0.24137931034482757}. Best is trial 9 with value: 96.47.\u001b[0m\n",
            "\u001b[32m[I 2023-05-28 11:33:47,079]\u001b[0m Trial 26 finished with value: 10.57 and parameters: {'lr': 0.0011721022975334804, 'bs': 32, 'delta_e': 1.6551724137931034, 'beta1': 0.9655172413793103, 'beta2': 0.5862068965517241}. Best is trial 9 with value: 96.47.\u001b[0m\n",
            "\u001b[32m[I 2023-05-28 11:34:40,896]\u001b[0m Trial 27 finished with value: 10.55 and parameters: {'lr': 0.0011721022975334804, 'bs': 32, 'delta_e': 2.896551724137931, 'beta1': 0.7241379310344828, 'beta2': 0.10344827586206896}. Best is trial 9 with value: 96.47.\u001b[0m\n",
            "\u001b[32m[I 2023-05-28 11:35:12,832]\u001b[0m Trial 28 finished with value: 95.46 and parameters: {'lr': 0.014873521072935119, 'bs': 128, 'delta_e': 2.896551724137931, 'beta1': 0.034482758620689655, 'beta2': 0.5862068965517241}. Best is trial 9 with value: 96.47.\u001b[0m\n",
            "\u001b[32m[I 2023-05-28 11:36:06,786]\u001b[0m Trial 29 finished with value: 95.22 and parameters: {'lr': 0.014873521072935119, 'bs': 32, 'delta_e': 1.8620689655172413, 'beta1': 0.8620689655172413, 'beta2': 0.1724137931034483}. Best is trial 9 with value: 96.47.\u001b[0m\n"
          ]
        },
        {
          "output_type": "stream",
          "name": "stdout",
          "text": [
            "{'beta1': 0.7586206896551724, 'beta2': 0.8620689655172413, 'bs': 64, 'delta_e': 0.6206896551724138, 'lr': 0.020433597178569417}\n"
          ]
        }
      ]
    },
    {
      "cell_type": "code",
      "execution_count": null,
      "outputs": [],
      "source": [
        "# Function for testing optimizers, which return train, test loss per epoch and final accuracy\n",
        "def test(model, optimizer, batch_sizes, wa = False):\n",
        "    num_epochs = 5\n",
        "    train_loader = torch.utils.data.DataLoader(train_dataset, batch_size=batch_sizes, shuffle=True, num_workers=2)\n",
        "    test_loader = torch.utils.data.DataLoader(test_dataset, batch_size=batch_sizes, shuffle=True, num_workers=2)\n",
        "    train_losses = []\n",
        "    test_losses = []\n",
        "    if wa:\n",
        "      swa_model = AveragedModel(model)\n",
        "      scheduler = CosineAnnealingLR(optimizer, T_max=100)\n",
        "      swa_start = 3\n",
        "      swa_scheduler = SWALR(optimizer, swa_lr=0.05)\n",
        "    for epoch in range(num_epochs):\n",
        "        loss_epoch = 0\n",
        "        for i, (inputs, labels) in enumerate(train_loader):\n",
        "            inputs = inputs.to(device)\n",
        "            labels = labels.to(device)\n",
        "            optimizer.zero_grad()\n",
        "            outputs = model(inputs)\n",
        "            loss = criterion(outputs, labels)\n",
        "            loss_epoch += loss.item()\n",
        "            loss.backward()\n",
        "            if wa:\n",
        "              if epoch > swa_start:\n",
        "                swa_model.update_parameters(model)\n",
        "            if isinstance(optimizer, BBI):\n",
        "                def closure():\n",
        "                    return loss\n",
        "                optimizer.step(closure)\n",
        "            else:\n",
        "                optimizer.step()\n",
        "        train_losses.append(loss_epoch/len(train_loader))\n",
        "        loss_epoch = 0\n",
        "        with torch.no_grad():\n",
        "            for inputs, labels in test_loader:\n",
        "                inputs = inputs.to(device)\n",
        "                labels = labels.to(device)\n",
        "                outputs = model(inputs)\n",
        "                loss = criterion(outputs, labels)\n",
        "                loss_epoch+= float(loss.item())\n",
        "        test_losses.append(loss_epoch/len(test_loader))\n",
        "\n",
        "    correct = 0\n",
        "    total = 0\n",
        "    with torch.no_grad():\n",
        "        for inputs, labels in test_loader:\n",
        "            inputs = inputs.to(device)\n",
        "            labels = labels.to(device)\n",
        "            outputs = model(inputs)\n",
        "            _, predicted = torch.max(outputs.data, 1)\n",
        "            total += labels.size(0)\n",
        "            correct += (predicted == labels).sum().item()\n",
        "    accuracy = correct/total\n",
        "    # accuracy = 1\n",
        "    return train_losses, test_losses, accuracy"
      ],
      "metadata": {
        "ExecuteTime": {
          "start_time": "2023-04-27T14:59:59.613788Z",
          "end_time": "2023-04-27T14:59:59.623406Z"
        },
        "id": "UusYQ9FqPpdL"
      }
    },
    {
      "cell_type": "code",
      "execution_count": null,
      "outputs": [
        {
          "output_type": "stream",
          "name": "stdout",
          "text": [
            "Test Accuracy of Adam 0.9877\n"
          ]
        }
      ],
      "source": [
        "# Testing Adam\n",
        "model = Net()\n",
        "if torch.cuda.is_available():\n",
        "    model.cuda()\n",
        "optimizer = Adam(model.parameters(), lr = 0.001)\n",
        "trainloss_adam, testloss_adam, accuracy = test(model, optimizer, 128)\n",
        "print(\"Test Accuracy of Adam\", accuracy)"
      ],
      "metadata": {
        "ExecuteTime": {
          "start_time": "2023-04-23T12:27:09.141892Z",
          "end_time": "2023-04-23T12:34:28.452939Z"
        },
        "id": "afCumI_qPpdM",
        "outputId": "a98ca464-fd7d-478e-c8f7-6924c263e73f",
        "colab": {
          "base_uri": "https://localhost:8080/"
        }
      }
    },
    {
      "cell_type": "code",
      "execution_count": null,
      "outputs": [
        {
          "output_type": "stream",
          "name": "stdout",
          "text": [
            "Test Accuracy of Adagrad 0.972\n"
          ]
        }
      ],
      "source": [
        "# Testing Adagrad\n",
        "model = Net()\n",
        "if torch.cuda.is_available():\n",
        "    model.cuda()\n",
        "optimizer = Adagrad(model.parameters(), lr = 0.01)\n",
        "trainloss_adagrad, testloss_adagrad, accuracy  = test(model, optimizer, 32)\n",
        "print(\"Test Accuracy of Adagrad\", accuracy)"
      ],
      "metadata": {
        "ExecuteTime": {
          "start_time": "2023-04-23T12:34:28.460547Z",
          "end_time": "2023-04-23T12:41:48.035558Z"
        },
        "id": "gfQgj5RbPpdM",
        "outputId": "d16ebbc3-471d-411c-923e-cd7af5eb81d0",
        "colab": {
          "base_uri": "https://localhost:8080/"
        }
      }
    },
    {
      "cell_type": "code",
      "execution_count": null,
      "outputs": [
        {
          "output_type": "stream",
          "name": "stdout",
          "text": [
            "Test Accuracy of SGD 0.9888\n"
          ]
        }
      ],
      "source": [
        "#Testing SGD\n",
        "model = Net()\n",
        "if torch.cuda.is_available():\n",
        "    model.cuda()\n",
        "optimizer = SGD(model.parameters(), lr = 0.005, momentum=0.8)\n",
        "trainloss_sgd, testloss_sgd, accuracy = test(model, optimizer, 32)\n",
        "print(\"Test Accuracy of SGD\", accuracy)"
      ],
      "metadata": {
        "ExecuteTime": {
          "start_time": "2023-04-23T12:41:48.038563Z",
          "end_time": "2023-04-23T12:48:26.823328Z"
        },
        "id": "AtsrXSCQPpdM",
        "outputId": "94c4bdc5-2bf4-427f-cbc5-9519db82d8ba",
        "colab": {
          "base_uri": "https://localhost:8080/"
        }
      }
    },
    {
      "cell_type": "code",
      "execution_count": null,
      "outputs": [
        {
          "output_type": "stream",
          "name": "stdout",
          "text": [
            "Test Accuracy of BBI 0.9872\n"
          ]
        }
      ],
      "source": [
        "#Testing BBI\n",
        "model = Net()\n",
        "if torch.cuda.is_available():\n",
        "    model.cuda()\n",
        "optimizer = BBI(model.parameters(), lr =  0.03, deltaEn=1.65)\n",
        "trainloss_bbi, testloss_bbi, accuracy= test(model, optimizer, 64)\n",
        "print(\"Test Accuracy of BBI\", accuracy)"
      ],
      "metadata": {
        "ExecuteTime": {
          "start_time": "2023-04-27T15:00:04.562766Z",
          "end_time": "2023-04-27T15:07:06.277466Z"
        },
        "id": "aO5TCeYZPpdN",
        "outputId": "98006857-a581-49f7-de2a-ed6d34426811",
        "colab": {
          "base_uri": "https://localhost:8080/"
        }
      }
    },
    {
      "cell_type": "code",
      "source": [
        "model = Net()\n",
        "if torch.cuda.is_available():\n",
        "    model.cuda()\n",
        "optimizer = BBI(model.parameters(), lr =  0.1, deltaEn=2.58, adaptive = True, \n",
        "                beta1 = 0.13, beta2 = 0.48, )\n",
        "trainloss_bbi_a, testloss_bbi_a, accuracy= test(model, optimizer, 128)\n",
        "print(\"Test Accuracy of BBI adaptive\", accuracy)"
      ],
      "metadata": {
        "colab": {
          "base_uri": "https://localhost:8080/"
        },
        "id": "cTowofjmXzF0",
        "outputId": "979b61c6-d362-41e9-bc6c-2ef970d8cc69"
      },
      "execution_count": null,
      "outputs": [
        {
          "output_type": "stream",
          "name": "stdout",
          "text": [
            "Test Accuracy of BBI adaptive 0.9836\n"
          ]
        }
      ]
    },
    {
      "cell_type": "code",
      "source": [
        "model = Net()\n",
        "if torch.cuda.is_available():\n",
        "    model.cuda()\n",
        "optimizer = BBI(model.parameters(), lr =  0.1, deltaEn=0.41)\n",
        "trainloss_bbi_wa, testloss_bbi_wa, accuracy= test(model, optimizer, 32,  wa = True)\n",
        "print(\"Test Accuracy of BBI with weight averaging\", accuracy)"
      ],
      "metadata": {
        "colab": {
          "base_uri": "https://localhost:8080/"
        },
        "id": "ZCAPJUghLOEj",
        "outputId": "571b63e9-d653-4df5-f2a6-4452c337023e"
      },
      "execution_count": null,
      "outputs": [
        {
          "output_type": "stream",
          "name": "stdout",
          "text": [
            "Test Accuracy of BBI with weight averaging 0.9927\n"
          ]
        }
      ]
    },
    {
      "cell_type": "code",
      "source": [
        "model = Net()\n",
        "if torch.cuda.is_available():\n",
        "    model.cuda()\n",
        "optimizer = BBI(model.parameters(), lr =  0.02, deltaEn=0.62, adaptive = True, \n",
        "                 beta1 = 0.75, beta2 = 0.86, )\n",
        "trainloss_bbi_a_wa, testloss_bbi_a_wa, accuracy= test(model, optimizer, 64, wa = True)\n",
        "print(\"Test Accuracy of BBI with weight averaging and adaptive stepsize\", accuracy)"
      ],
      "metadata": {
        "colab": {
          "base_uri": "https://localhost:8080/"
        },
        "id": "y9u2iKhyLUEy",
        "outputId": "be9a464c-bfc6-4404-d0fe-a3c475ee47bf"
      },
      "execution_count": null,
      "outputs": [
        {
          "output_type": "stream",
          "name": "stdout",
          "text": [
            "Test Accuracy of BBI with weight averaging and adaptive stepsize 0.9697\n"
          ]
        }
      ]
    },
    {
      "cell_type": "code",
      "execution_count": null,
      "outputs": [
        {
          "output_type": "display_data",
          "data": {
            "text/plain": [
              "<Figure size 640x480 with 1 Axes>"
            ],
            "image/png": "[encoded data removed]"
          },
          "metadata": {}
        }
      ],
      "source": [
        "#PLot train loss\n",
        "\n",
        "t = np.arange(1, 6)\n",
        "\n",
        "g = sns.lineplot(y=trainloss_bbi, x=t, label='BBI')\n",
        "sns.lineplot(y=trainloss_bbi_a, x=t, label='BBI_adaptive')\n",
        "sns.lineplot(y=trainloss_bbi_wa, x=t, label='BBI_with_weight_aveg')\n",
        "sns.lineplot(y=trainloss_bbi_a_wa, x=t, label='BBI_adaptive_with_weight_aveg')\n",
        "sns.lineplot(y=trainloss_adam, x=t, label='Adam')\n",
        "sns.lineplot(y=trainloss_sgd, x=t, label='SGD')\n",
        "sns.lineplot(y=trainloss_adagrad, x=t, label='Adagrad')\n",
        "g.set(xticks=list(range(1,6)))\n",
        "plt.xlabel('Epoch')\n",
        "plt.ylabel('Train Loss')\n",
        "\n",
        "plt.legend()\n",
        "plt.show()"
      ],
      "metadata": {
        "ExecuteTime": {
          "start_time": "2023-04-23T14:03:04.246516Z",
          "end_time": "2023-04-23T14:03:04.554402Z"
        },
        "id": "ufa4gwkiPpdN",
        "outputId": "9da5c429-f3be-4e5f-eac4-5937df5542d2",
        "colab": {
          "base_uri": "https://localhost:8080/",
          "height": 449
        }
      }
    },
    {
      "cell_type": "code",
      "execution_count": null,
      "outputs": [
        {
          "output_type": "display_data",
          "data": {
            "text/plain": [
              "<Figure size 640x480 with 1 Axes>"
            ],
            "image/png": "[encoded data removed]"
          },
          "metadata": {}
        }
      ],
      "source": [
        "# Plot test loss\n",
        "t = np.arange(1, 6, 1)\n",
        "\n",
        "g = sns.lineplot(y=testloss_bbi, x=t, label='BBI')\n",
        "sns.lineplot(y=testloss_bbi_a, x=t, label='BBI_adaptive')\n",
        "sns.lineplot(y=testloss_bbi_wa, x=t, label='BBI_with_weight_aveg')\n",
        "sns.lineplot(y=testloss_bbi_a_wa, x=t, label='BBI_adaptive_with_weight_aveg')\n",
        "sns.lineplot(y=testloss_adam, x=t, label='Adam')\n",
        "sns.lineplot(y=testloss_sgd, x=t, label='SGD')\n",
        "sns.lineplot(y=testloss_adagrad, x=t, label='Adagrad')\n",
        "g.set(xticks=list(range(1,6)))\n",
        "# plt.title('Three Lines Plot')\n",
        "plt.xlabel('Epoch')\n",
        "plt.ylabel('Test loss')\n",
        "\n",
        "plt.legend()\n",
        "plt.show()"
      ],
      "metadata": {
        "ExecuteTime": {
          "start_time": "2023-04-23T14:04:03.634530Z",
          "end_time": "2023-04-23T14:04:03.927058Z"
        },
        "id": "VXmzBkypPpdN",
        "outputId": "dfc12a69-9b31-4dff-94e1-a423363835e3",
        "colab": {
          "base_uri": "https://localhost:8080/",
          "height": 449
        }
      }
    },
    {
      "cell_type": "markdown",
      "source": [
        "Looking at plots above, we can make several conclusions:\n",
        "1) The performance of BBI is not far away from other famous optimizers, however both on train and test set it is a little worse than others.\n",
        "2) Looking at the test plot, we observe that BBI can be not monotone, similar to SGD. We can assume that it's the property of the method, or it stated to overfit at epoch 4."
      ],
      "metadata": {
        "collapsed": false,
        "id": "Vhjrfv5kPpdO"
      }
    }
  ],
  "metadata": {
    "kernelspec": {
      "display_name": "Python 3",
      "language": "python",
      "name": "python3"
    },
    "language_info": {
      "codemirror_mode": {
        "name": "ipython",
        "version": 2
      },
      "file_extension": ".py",
      "mimetype": "text/x-python",
      "name": "python",
      "nbconvert_exporter": "python",
      "pygments_lexer": "ipython2",
      "version": "2.7.6"
    },
    "colab": {
      "provenance": [],
      "gpuType": "T4"
    },
    "accelerator": "GPU",
    "gpuClass": "standard"
  },
  "nbformat": 4,
  "nbformat_minor": 0
}