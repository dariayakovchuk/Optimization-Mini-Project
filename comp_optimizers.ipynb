{
 "cells": [
  {
   "cell_type": "markdown",
   "source": [
    "Comparing BBI to other optimizers like Adam, Adagrad, SGD\n",
    "\n",
    "In this notebook, we performed hyperparameter search and then trained and evaluated optimizers on MNIST dataset."
   ],
   "metadata": {
    "collapsed": false,
    "id": "GS1iS7AOPpc7"
   }
  },
  {
   "cell_type": "code",
   "execution_count": 1,
   "outputs": [
    {
     "output_type": "stream",
     "name": "stdout",
     "text": [
      "Looking in indexes: https://pypi.org/simple, https://us-python.pkg.dev/colab-wheels/public/simple/\n",
      "Collecting optuna\n",
      "  Downloading optuna-3.1.1-py3-none-any.whl (365 kB)\n",
      "\u001B[2K     \u001B[90m━━━━━━━━━━━━━━━━━━━━━━━━━━━━━━━━━━━━━━\u001B[0m \u001B[32m365.7/365.7 kB\u001B[0m \u001B[31m27.5 MB/s\u001B[0m eta \u001B[36m0:00:00\u001B[0m\n",
      "\u001B[?25hRequirement already satisfied: PyYAML in /usr/local/lib/python3.10/dist-packages (from optuna) (6.0)\n",
      "Requirement already satisfied: tqdm in /usr/local/lib/python3.10/dist-packages (from optuna) (4.65.0)\n",
      "Requirement already satisfied: packaging>=20.0 in /usr/local/lib/python3.10/dist-packages (from optuna) (23.1)\n",
      "Requirement already satisfied: sqlalchemy>=1.3.0 in /usr/local/lib/python3.10/dist-packages (from optuna) (2.0.10)\n",
      "Requirement already satisfied: numpy in /usr/local/lib/python3.10/dist-packages (from optuna) (1.22.4)\n",
      "Collecting cmaes>=0.9.1\n",
      "  Downloading cmaes-0.9.1-py3-none-any.whl (21 kB)\n",
      "Collecting colorlog\n",
      "  Downloading colorlog-6.7.0-py2.py3-none-any.whl (11 kB)\n",
      "Collecting alembic>=1.5.0\n",
      "  Downloading alembic-1.10.4-py3-none-any.whl (212 kB)\n",
      "\u001B[2K     \u001B[90m━━━━━━━━━━━━━━━━━━━━━━━━━━━━━━━━━━━━━━\u001B[0m \u001B[32m212.9/212.9 kB\u001B[0m \u001B[31m26.4 MB/s\u001B[0m eta \u001B[36m0:00:00\u001B[0m\n",
      "\u001B[?25hRequirement already satisfied: typing-extensions>=4 in /usr/local/lib/python3.10/dist-packages (from alembic>=1.5.0->optuna) (4.5.0)\n",
      "Collecting Mako\n",
      "  Downloading Mako-1.2.4-py3-none-any.whl (78 kB)\n",
      "\u001B[2K     \u001B[90m━━━━━━━━━━━━━━━━━━━━━━━━━━━━━━━━━━━━━━━━\u001B[0m \u001B[32m78.7/78.7 kB\u001B[0m \u001B[31m12.0 MB/s\u001B[0m eta \u001B[36m0:00:00\u001B[0m\n",
      "\u001B[?25hRequirement already satisfied: greenlet!=0.4.17 in /usr/local/lib/python3.10/dist-packages (from sqlalchemy>=1.3.0->optuna) (2.0.2)\n",
      "Requirement already satisfied: MarkupSafe>=0.9.2 in /usr/local/lib/python3.10/dist-packages (from Mako->alembic>=1.5.0->optuna) (2.1.2)\n",
      "Installing collected packages: Mako, colorlog, cmaes, alembic, optuna\n",
      "Successfully installed Mako-1.2.4 alembic-1.10.4 cmaes-0.9.1 colorlog-6.7.0 optuna-3.1.1\n"
     ]
    }
   ],
   "source": [
    "!pip install optuna\n",
    "import matplotlib.pyplot as plt\n",
    "import torch\n",
    "import torch.nn as nn\n",
    "from torchvision import datasets, transforms\n",
    "import torch.nn.functional as F\n",
    "import optuna\n",
    "device = torch.device('cuda' if torch.cuda.is_available() else 'cpu')\n",
    "from optuna.samplers import TPESampler\n",
    "from optuna.pruners import BasePruner\n",
    "# from inflation import BBI\n",
    "from torch.optim import Adam, Adagrad, SGD\n",
    "import seaborn as sns\n",
    "import numpy as np\n",
    "from torch.optim.swa_utils import AveragedModel, SWALR\n",
    "from torch.optim.lr_scheduler import CosineAnnealingLR"
   ],
   "metadata": {
    "ExecuteTime": {
     "start_time": "2023-04-27T14:59:47.885389Z",
     "end_time": "2023-04-27T14:59:50.159305Z"
    },
    "colab": {
     "base_uri": "https://localhost:8080/"
    },
    "id": "vjaM4qj_Ppc_",
    "outputId": "25e6e793-ce59-4e4e-ec3d-57cdbe2b8baf"
   }
  },
  {
   "cell_type": "code",
   "execution_count": 2,
   "outputs": [],
   "source": [
    "from torch.optim.optimizer import Optimizer, required\n",
    "import numpy as np\n",
    "import torch\n",
    "# from torchcontrib.optim import SWA\n",
    "import math\n",
    "\n",
    "\n",
    "class BBI(Optimizer):\n",
    "    \"\"\"Optimizer based on the BBI model of inflation.\n",
    "    Args:\n",
    "        params (iterable): iterable of parameters to optimize or dicts defining\n",
    "            parameter groups\n",
    "        lr (float): learning rate\n",
    "        v0 (float): expected minimum of the potential (\\Delta V in the paper)\n",
    "        threshold0 (integer): threshold for fixed bounces (T_0 in the paper)\n",
    "        threshold1 (integer): threshold for progress-dependent bounces (T_1 in the paper)\n",
    "        deltaEn (float): extra initial energy (\\delta E in the paper)\n",
    "        consEn (bool): if True enforces energy conservation at every step\n",
    "        n_fixed_bounces (integer): number of bounces every T_0 iterations (N_b in the paper)\n",
    "    \"\"\"\n",
    "    def __init__(self, params, lr=required, eps1=1e-10, eps2 = 1e-40, v0=0, threshold0 = 1000, threshold = 3000, deltaEn = 0.0, consEn = True, n_fixed_bounces = 1, lr_grad = 0.001, beta1 = 0.9, beta2 = 0.999, adaptive = False):\n",
    "\n",
    "            defaults = dict(lr=lr, eps1=eps1, eps2=eps2, v0=v0,\n",
    "                            threshold = threshold, threshold0 = threshold0,\n",
    "                            deltaEn = deltaEn, consEn = consEn,\n",
    "                            n_fixed_bounces = n_fixed_bounces, lr_grad= lr_grad,\n",
    "                            beta1 = beta1, beta2 = beta2\n",
    "                            )\n",
    "            self.energy = None\n",
    "            self.adaptive = adaptive\n",
    "            self.min_loss = None\n",
    "            self.iteration = 0\n",
    "            self.deltaEn = deltaEn\n",
    "            self.n_fixed_bounces = n_fixed_bounces\n",
    "            self.consEn = consEn\n",
    "            super(BBI, self).__init__(params, defaults)\n",
    "\n",
    "    def __setstate__(self, state):\n",
    "        super(BBI, self).__setstate__(state)\n",
    "\n",
    "    def step(self, closure):\n",
    "\n",
    "        loss = closure().item()\n",
    "\n",
    "        # initialization\n",
    "        if(self.iteration == 0):\n",
    "\n",
    "            #define a random numbers generator, in order not to use the ambient seed and have random bounces even with the same ambient seed\n",
    "            self.generator = torch.Generator(device = self.param_groups[0][\"params\"][0].device)\n",
    "            self.generator.manual_seed(self.generator.seed()+1)\n",
    "\n",
    "            #Initial energy\n",
    "            self.initV = loss-self.param_groups[0][\"v0\"]\n",
    "            self.init_energy = self.initV+self.deltaEn\n",
    "\n",
    "            # Some counters\n",
    "            self.counter0 = 0\n",
    "            self.fixed_bounces_performed = 0\n",
    "            self.counter = 0\n",
    "\n",
    "            self.min_loss = float(\"inf\")\n",
    "\n",
    "        for group in self.param_groups:\n",
    "\n",
    "            V = (loss - group[\"v0\"])\n",
    "            dt = group[\"lr\"]\n",
    "            eps1 = group[\"eps1\"]\n",
    "            eps2 = group[\"eps2\"]\n",
    "            threshold0 = group[\"threshold0\"]\n",
    "            threshold = group[\"threshold\"]\n",
    "            b1 = group[\"beta1\"]\n",
    "            b2 = group[\"beta2\"]\n",
    "            if V > eps2:\n",
    "\n",
    "                EoverV = self.init_energy/V\n",
    "                VoverE = V/self.init_energy\n",
    "\n",
    "                # Now I check if loss and pi^2 are consistent with the initial value of the energy\n",
    "\n",
    "                ps2_pre = torch.tensor(0.0, device = self.param_groups[0][\"params\"][0].device )\n",
    "\n",
    "                for p in group[\"params\"]:\n",
    "                    param_state = self.state[p]\n",
    "                    d_p = p.grad.data\n",
    "                    #Initialize in the direction of the gradient, with magnitude related to deltaE\n",
    "                    if \"momentum_buffer\" not in param_state:\n",
    "                        buf = param_state[\"momentum_buffer\"] = -(d_p/torch.norm(d_p))*torch.sqrt(torch.tensor( ((self.init_energy**2)/self.initV) - self.initV ))\n",
    "                    else:\n",
    "                        buf = param_state[\"momentum_buffer\"]\n",
    "\n",
    "                    # compute the current pi^2 . Pre means that this is the value before the iteration step\n",
    "                    ps2_pre += torch.dot(buf.view(-1), buf.view(-1))\n",
    "\n",
    "\n",
    "                if (self.consEn == True):\n",
    "\n",
    "                    # Compare this \\pi^2 with what it should have been if the energy was correct\n",
    "                    ps2_correct = V*( (EoverV**2)-1.0 )\n",
    "\n",
    "                    # Compute the rescaling factor, only if real\n",
    "                    if torch.abs(ps2_pre-ps2_correct) <  eps1:\n",
    "                        self.rescaling_pi = 1.0\n",
    "                    elif ps2_correct < 0.0:\n",
    "                        self.rescaling_pi = 1.0\n",
    "                    else:\n",
    "                        self.rescaling_pi = torch.sqrt(((ps2_correct/(ps2_pre))))\n",
    "\n",
    "\n",
    "                # Perform the optimization step\n",
    "                if (self.counter != threshold) and (self.counter0 != threshold0) :\n",
    "\n",
    "                    for p in group[\"params\"]:\n",
    "                        if p.grad is None:\n",
    "                            continue\n",
    "                        d_p = p.grad.data\n",
    "                        param_state = self.state[p]\n",
    "\n",
    "                        if \"momentum_buffer\" not in param_state:\n",
    "                            buf = param_state[\"momentum_buffer\"] = torch.zeros_like(p.data)\n",
    "                        else:\n",
    "                            buf = param_state[\"momentum_buffer\"]\n",
    "                        if self.adaptive:\n",
    "                          if \"exp_avg\" not in param_state:\n",
    "                              param_state['exp_avg'] = torch.zeros_like(p.data)\n",
    "                              param_state['exp_avg_sq'] = torch.zeros_like(p.data)\n",
    "                          exp_avg, exp_avg_sq = param_state['exp_avg'], param_state['exp_avg_sq']\n",
    "                          b1, b2 = 0.9, 0.999\n",
    "                          exp_avg = torch.mul(exp_avg, b1) + (1 - b1)* d_p\n",
    "\n",
    "                          exp_avg_sq = torch.mul(exp_avg_sq, b2) + (1-b2)*(d_p*d_p)\n",
    "\n",
    "                          denom = exp_avg_sq.sqrt() + eps1\n",
    "\n",
    "                          bias_correction1 = 1 / (1 - b1 ** (self.counter + 1))\n",
    "                          bias_correction2 = 1 / (1 - b2 ** (self.counter + 1))\n",
    "\n",
    "                          adapted_learning_rate = dt * bias_correction1 / math.sqrt(bias_correction2)\n",
    "\n",
    "                          update = adapted_learning_rate * exp_avg / denom\n",
    "                        else:\n",
    "                          update = d_p\n",
    "                        # Here the rescaling of momenta to enforce conservation of energy\n",
    "                        if (self.consEn == True):\n",
    "                            buf.mul_(self.rescaling_pi)\n",
    "\n",
    "                        buf.add_(- 0.5 * dt * (VoverE + EoverV)*update)\n",
    "\n",
    "                        p.data.add_(VoverE* dt* buf)\n",
    "\n",
    "                    # Updates counters\n",
    "                    self.counter0+=1\n",
    "                    self.counter+=1\n",
    "                    self.iteration+=1\n",
    "\n",
    "                    # Checks progress\n",
    "                    if V < self.min_loss:\n",
    "                            self.min_loss = V\n",
    "                            self.counter = 0\n",
    "                # Bounces\n",
    "                else:\n",
    "\n",
    "                    #First we iterate once to compute pi^2, we randomly regenerate the directions, and we compute the new norm squared\n",
    "\n",
    "                    ps20 = torch.tensor(0.0, device = self.param_groups[0][\"params\"][0].device )\n",
    "                    ps2new = torch.tensor(0.0, device = self.param_groups[0][\"params\"][0].device )\n",
    "\n",
    "                    for p in group[\"params\"]:\n",
    "                        param_state = self.state[p]\n",
    "\n",
    "                        buf = param_state[\"momentum_buffer\"]\n",
    "                        ps20 += torch.dot(buf.view(-1), buf.view(-1))\n",
    "                        new_buf = param_state[\"momentum_buffer\"] = torch.rand(buf.size(), device=buf.device, generator = self.generator)-.5\n",
    "                        ps2new += torch.dot(new_buf.view(-1), new_buf.view(-1))\n",
    "\n",
    "                    # Then rescale them\n",
    "                    for p in group[\"params\"]:\n",
    "                        param_state = self.state[p]\n",
    "                        buf = param_state[\"momentum_buffer\"]\n",
    "                        buf.mul_(torch.sqrt(ps20/ps2new))\n",
    "\n",
    "                    # Update counters\n",
    "                    if (self.counter0 == threshold0):\n",
    "                        self.fixed_bounces_performed+=1\n",
    "                        if self.fixed_bounces_performed < self.n_fixed_bounces:\n",
    "                            self.counter0 = 0\n",
    "                        else:\n",
    "                            self.counter0+=1\n",
    "                    self.counter = 0\n",
    "        return loss"
   ],
   "metadata": {
    "id": "LEFf4iWHPpdA"
   }
  },
  {
   "cell_type": "code",
   "execution_count": 3,
   "outputs": [
    {
     "output_type": "stream",
     "name": "stdout",
     "text": [
      "Downloading http://yann.lecun.com/exdb/mnist/train-images-idx3-ubyte.gz\n",
      "Downloading http://yann.lecun.com/exdb/mnist/train-images-idx3-ubyte.gz to mnist/MNIST/raw/train-images-idx3-ubyte.gz\n"
     ]
    },
    {
     "output_type": "stream",
     "name": "stderr",
     "text": [
      "100%|██████████| 9912422/9912422 [00:00<00:00, 14616936.03it/s]\n"
     ]
    },
    {
     "output_type": "stream",
     "name": "stdout",
     "text": [
      "Extracting mnist/MNIST/raw/train-images-idx3-ubyte.gz to mnist/MNIST/raw\n",
      "\n",
      "Downloading http://yann.lecun.com/exdb/mnist/train-labels-idx1-ubyte.gz\n",
      "Downloading http://yann.lecun.com/exdb/mnist/train-labels-idx1-ubyte.gz to mnist/MNIST/raw/train-labels-idx1-ubyte.gz\n"
     ]
    },
    {
     "output_type": "stream",
     "name": "stderr",
     "text": [
      "100%|██████████| 28881/28881 [00:00<00:00, 3545607.90it/s]\n"
     ]
    },
    {
     "output_type": "stream",
     "name": "stdout",
     "text": [
      "Extracting mnist/MNIST/raw/train-labels-idx1-ubyte.gz to mnist/MNIST/raw\n",
      "\n",
      "Downloading http://yann.lecun.com/exdb/mnist/t10k-images-idx3-ubyte.gz\n",
      "Downloading http://yann.lecun.com/exdb/mnist/t10k-images-idx3-ubyte.gz to mnist/MNIST/raw/t10k-images-idx3-ubyte.gz\n"
     ]
    },
    {
     "output_type": "stream",
     "name": "stderr",
     "text": [
      "100%|██████████| 1648877/1648877 [00:00<00:00, 147165412.53it/s]\n"
     ]
    },
    {
     "output_type": "stream",
     "name": "stdout",
     "text": [
      "Extracting mnist/MNIST/raw/t10k-images-idx3-ubyte.gz to mnist/MNIST/raw\n",
      "\n",
      "Downloading http://yann.lecun.com/exdb/mnist/t10k-labels-idx1-ubyte.gz\n",
      "Downloading http://yann.lecun.com/exdb/mnist/t10k-labels-idx1-ubyte.gz to mnist/MNIST/raw/t10k-labels-idx1-ubyte.gz\n"
     ]
    },
    {
     "output_type": "stream",
     "name": "stderr",
     "text": [
      "100%|██████████| 4542/4542 [00:00<00:00, 19146260.07it/s]"
     ]
    },
    {
     "output_type": "stream",
     "name": "stdout",
     "text": [
      "Extracting mnist/MNIST/raw/t10k-labels-idx1-ubyte.gz to mnist/MNIST/raw\n",
      "\n"
     ]
    },
    {
     "output_type": "stream",
     "name": "stderr",
     "text": [
      "\n"
     ]
    }
   ],
   "source": [
    "# Load dataset\n",
    "transform = transforms.Compose([\n",
    "    transforms.ToTensor(),\n",
    "    # transforms.Normalize((0.1307,), (0.3081,))\n",
    "])\n",
    "\n",
    "train_dataset = datasets.MNIST('mnist/', train=True, download=True, transform=transform)\n",
    "test_dataset = datasets.MNIST('mnist/', train=False, download=True, transform=transform)\n",
    "\n",
    "batch_size = 64\n",
    "train_loader = torch.utils.data.DataLoader(train_dataset, batch_size=batch_size, shuffle=True, num_workers=2)\n",
    "test_loader = torch.utils.data.DataLoader(test_dataset, batch_size=batch_size, shuffle=True, num_workers=2)"
   ],
   "metadata": {
    "ExecuteTime": {
     "start_time": "2023-04-27T14:59:50.165303Z",
     "end_time": "2023-04-27T14:59:50.251994Z"
    },
    "colab": {
     "base_uri": "https://localhost:8080/"
    },
    "id": "-S3WHFTfPpdF",
    "outputId": "2a52a2ca-fe87-4e35-baa3-0e58eb9f1f5a"
   }
  },
  {
   "cell_type": "code",
   "execution_count": 4,
   "outputs": [],
   "source": [
    "# Define simple CNN and loss function\n",
    "class Net(nn.Module):\n",
    "    def __init__(self):\n",
    "        super().__init__()\n",
    "        self.conv1 = nn.Conv2d(1, 16, 5, 1, 2)\n",
    "        self.pool = nn.MaxPool2d(2)\n",
    "        self.conv2 = nn.Conv2d(16, 32, 5, 1, 2)\n",
    "        self.fc1 = nn.Linear(32*7*7, 120)\n",
    "\n",
    "    def forward(self, x):\n",
    "        x = self.pool(F.relu(self.conv1(x)))\n",
    "        x = self.pool(F.relu(self.conv2(x)))\n",
    "        x = torch.flatten(x, 1)\n",
    "        x = self.fc1(x)\n",
    "        return x\n",
    "\n",
    "\n",
    "criterion = nn.CrossEntropyLoss()"
   ],
   "metadata": {
    "ExecuteTime": {
     "start_time": "2023-04-27T14:59:53.875057Z",
     "end_time": "2023-04-27T14:59:53.896548Z"
    },
    "id": "iNTMBjdMPpdG"
   }
  },
  {
   "cell_type": "code",
   "execution_count": 9,
   "outputs": [],
   "source": [
    "# Function for tuning hyperparameters using optuna framework\n",
    "def hyperparameter_search(trial: optuna.trial.Trial, optimizer, adaptive = False, wa = False):\n",
    "    model = Net()\n",
    "    if torch.cuda.is_available():\n",
    "      model.cuda()\n",
    "    learning_rates = trial.suggest_categorical(\"lr\",np.logspace(-1, -5, num=30))\n",
    "    batch_sizes = trial.suggest_categorical(\"bs\",[32, 64, 128])\n",
    "    if isinstance(optimizer(model.parameters(), lr=0.01), BBI):\n",
    "        delta_E = trial.suggest_categorical(\"delta_e\", np.linspace(0, 3, 30))\n",
    "        if adaptive:\n",
    "          learn_grad = trial.suggest_categorical(\"lr_grad\", np.linspace(0.0001, 0.1, 30))\n",
    "          beta1 = trial.suggest_categorical(\"beta1\", np.linspace(0, 1, 30))\n",
    "          beta2 = trial.suggest_categorical(\"beta2\", np.linspace(0, 1, 30))\n",
    "          optimizer = optimizer(model.parameters(), lr=learning_rates, deltaEn = delta_E, lr_grad = learn_grad  ,beta1 = beta1, beta2 = beta2, adaptive = True,)\n",
    "        else:\n",
    "            optimizer = optimizer(model.parameters(), lr=learning_rates, deltaEn = delta_E)\n",
    "    elif isinstance(optimizer(model.parameters(), lr=0.01), SGD):\n",
    "        momentum = trial.suggest_categorical(\"momentum\", np.linspace(0.5, 0.999, 30))\n",
    "        optimizer = optimizer(model.parameters(), lr=learning_rates, momentum = momentum)\n",
    "    else:\n",
    "        weight_decay_values = trial.suggest_categorical(\"wd\", np.linspace(0, 0.5, 10))\n",
    "        optimizer = optimizer(model.parameters(), lr=learning_rates, weight_decay=weight_decay_values)\n",
    "    num_epochs = 3\n",
    "    train_loader = torch.utils.data.DataLoader(train_dataset, batch_size=batch_sizes, shuffle=True, num_workers=2)\n",
    "    test_loader = torch.utils.data.DataLoader(test_dataset, batch_size=batch_sizes, shuffle=True, num_workers=2)\n",
    "    if wa:\n",
    "      swa_model = AveragedModel(model)\n",
    "      scheduler = CosineAnnealingLR(optimizer, T_max=100)\n",
    "      swa_start = 2\n",
    "      swa_scheduler = SWALR(optimizer, swa_lr=0.05)\n",
    "    for epoch in range(num_epochs):\n",
    "        for i, (inputs, labels) in enumerate(train_loader):\n",
    "            inputs = inputs.to(device)\n",
    "            labels = labels.to(device)\n",
    "            optimizer.zero_grad()\n",
    "            outputs = model(inputs)\n",
    "            loss = criterion(outputs, labels)\n",
    "            loss.backward()\n",
    "            if epoch > swa_start:\n",
    "              swa_model.update_parameters(model)\n",
    "            if isinstance(optimizer, BBI):\n",
    "                def closure():\n",
    "                    return loss\n",
    "                optimizer.step(closure)\n",
    "            else:\n",
    "                optimizer.step()\n",
    "\n",
    "    correct = 0\n",
    "    total = 0\n",
    "    with torch.no_grad():\n",
    "        for inputs, labels in test_loader:\n",
    "            inputs = inputs.to(device)\n",
    "            labels = labels.to(device)\n",
    "            outputs = model(inputs)\n",
    "            _, predicted = torch.max(outputs.data, 1)\n",
    "            total += labels.size(0)\n",
    "            correct += (predicted == labels).sum().item()\n",
    "\n",
    "    accuracy = 100 * correct / total\n",
    "    return accuracy\n"
   ],
   "metadata": {
    "ExecuteTime": {
     "start_time": "2023-04-17T19:11:20.273044Z",
     "end_time": "2023-04-17T19:11:20.292582Z"
    },
    "id": "zE2-QkHVPpdH"
   }
  },
  {
   "cell_type": "code",
   "execution_count": 11,
   "outputs": [
    {
     "output_type": "stream",
     "name": "stderr",
     "text": [
      "\u001B[32m[I 2023-05-05 17:46:07,918]\u001B[0m A new study created in RDB with name: adamm\u001B[0m\n",
      "\u001B[32m[I 2023-05-05 17:46:38,545]\u001B[0m Trial 0 finished with value: 10.28 and parameters: {'lr': 0.1, 'bs': 64, 'wd': 0.3333333333333333}. Best is trial 0 with value: 10.28.\u001B[0m\n",
      "\u001B[32m[I 2023-05-05 17:47:04,983]\u001B[0m Trial 1 finished with value: 9.58 and parameters: {'lr': 0.0727895384398315, 'bs': 128, 'wd': 0.16666666666666666}. Best is trial 0 with value: 10.28.\u001B[0m\n",
      "\u001B[32m[I 2023-05-05 17:47:32,147]\u001B[0m Trial 2 finished with value: 93.57 and parameters: {'lr': 0.0011721022975334804, 'bs': 128, 'wd': 0.1111111111111111}. Best is trial 2 with value: 93.57.\u001B[0m\n",
      "\u001B[32m[I 2023-05-05 17:48:12,164]\u001B[0m Trial 3 finished with value: 85.97 and parameters: {'lr': 2.592943797404667e-05, 'bs': 32, 'wd': 0.2777777777777778}. Best is trial 2 with value: 93.57.\u001B[0m\n",
      "\u001B[32m[I 2023-05-05 17:48:38,733]\u001B[0m Trial 4 finished with value: 74.7 and parameters: {'lr': 1.3738237958832637e-05, 'bs': 128, 'wd': 0.05555555555555555}. Best is trial 2 with value: 93.57.\u001B[0m\n",
      "\u001B[32m[I 2023-05-05 17:49:09,994]\u001B[0m Trial 5 finished with value: 84.87 and parameters: {'lr': 2.592943797404667e-05, 'bs': 64, 'wd': 0.2222222222222222}. Best is trial 2 with value: 93.57.\u001B[0m\n",
      "\u001B[32m[I 2023-05-05 17:49:36,460]\u001B[0m Trial 6 finished with value: 79.69 and parameters: {'lr': 0.020433597178569417, 'bs': 128, 'wd': 0.5}. Best is trial 2 with value: 93.57.\u001B[0m\n",
      "\u001B[32m[I 2023-05-05 17:50:16,514]\u001B[0m Trial 7 finished with value: 82.48 and parameters: {'lr': 0.0002395026619987486, 'bs': 32, 'wd': 0.5}. Best is trial 2 with value: 93.57.\u001B[0m\n",
      "\u001B[32m[I 2023-05-05 17:50:47,842]\u001B[0m Trial 8 finished with value: 88.0 and parameters: {'lr': 0.00017433288221999874, 'bs': 64, 'wd': 0.2777777777777778}. Best is trial 2 with value: 93.57.\u001B[0m\n",
      "\u001B[32m[I 2023-05-05 17:51:14,302]\u001B[0m Trial 9 finished with value: 69.47 and parameters: {'lr': 1.3738237958832637e-05, 'bs': 128, 'wd': 0.2777777777777778}. Best is trial 2 with value: 93.57.\u001B[0m\n",
      "\u001B[32m[I 2023-05-05 17:51:45,748]\u001B[0m Trial 10 finished with value: 89.62 and parameters: {'lr': 0.0002395026619987486, 'bs': 64, 'wd': 0.2222222222222222}. Best is trial 2 with value: 93.57.\u001B[0m\n",
      "\u001B[32m[I 2023-05-05 17:52:12,120]\u001B[0m Trial 11 finished with value: 81.76 and parameters: {'lr': 0.00221221629107045, 'bs': 128, 'wd': 0.5}. Best is trial 2 with value: 93.57.\u001B[0m\n",
      "\u001B[32m[I 2023-05-05 17:52:43,374]\u001B[0m Trial 12 finished with value: 57.92 and parameters: {'lr': 0.05298316906283707, 'bs': 64, 'wd': 0.2222222222222222}. Best is trial 2 with value: 93.57.\u001B[0m\n",
      "\u001B[32m[I 2023-05-05 17:53:23,495]\u001B[0m Trial 13 finished with value: 89.63 and parameters: {'lr': 6.723357536499335e-05, 'bs': 32, 'wd': 0.16666666666666666}. Best is trial 2 with value: 93.57.\u001B[0m\n",
      "\u001B[32m[I 2023-05-05 17:54:03,349]\u001B[0m Trial 14 finished with value: 10.28 and parameters: {'lr': 0.0727895384398315, 'bs': 32, 'wd': 0.0}. Best is trial 2 with value: 93.57.\u001B[0m\n",
      "\u001B[32m[I 2023-05-05 17:54:30,608]\u001B[0m Trial 15 finished with value: 91.08 and parameters: {'lr': 9.236708571873866e-05, 'bs': 128, 'wd': 0.05555555555555555}. Best is trial 2 with value: 93.57.\u001B[0m\n",
      "\u001B[32m[I 2023-05-05 17:55:01,155]\u001B[0m Trial 16 finished with value: 96.08 and parameters: {'lr': 0.0001268961003167922, 'bs': 64, 'wd': 0.0}. Best is trial 16 with value: 96.08.\u001B[0m\n",
      "\u001B[32m[I 2023-05-05 17:55:32,654]\u001B[0m Trial 17 finished with value: 84.89 and parameters: {'lr': 9.236708571873866e-05, 'bs': 64, 'wd': 0.4444444444444444}. Best is trial 16 with value: 96.08.\u001B[0m\n",
      "\u001B[32m[I 2023-05-05 17:56:12,418]\u001B[0m Trial 18 finished with value: 78.09 and parameters: {'lr': 0.010826367338740546, 'bs': 32, 'wd': 0.5}. Best is trial 16 with value: 96.08.\u001B[0m\n",
      "\u001B[32m[I 2023-05-05 17:56:43,775]\u001B[0m Trial 19 finished with value: 95.85 and parameters: {'lr': 0.0001268961003167922, 'bs': 64, 'wd': 0.0}. Best is trial 16 with value: 96.08.\u001B[0m\n",
      "\u001B[32m[I 2023-05-05 17:57:23,772]\u001B[0m Trial 20 finished with value: 86.51 and parameters: {'lr': 4.893900918477499e-05, 'bs': 32, 'wd': 0.3333333333333333}. Best is trial 16 with value: 96.08.\u001B[0m\n",
      "\u001B[32m[I 2023-05-05 17:58:04,434]\u001B[0m Trial 21 finished with value: 78.67 and parameters: {'lr': 1e-05, 'bs': 32, 'wd': 0.4444444444444444}. Best is trial 16 with value: 96.08.\u001B[0m\n",
      "\u001B[32m[I 2023-05-05 17:58:31,168]\u001B[0m Trial 22 finished with value: 84.36 and parameters: {'lr': 0.020433597178569417, 'bs': 128, 'wd': 0.2777777777777778}. Best is trial 16 with value: 96.08.\u001B[0m\n",
      "\u001B[32m[I 2023-05-05 17:59:01,661]\u001B[0m Trial 23 finished with value: 90.93 and parameters: {'lr': 0.0030391953823131978, 'bs': 64, 'wd': 0.1111111111111111}. Best is trial 16 with value: 96.08.\u001B[0m\n",
      "\u001B[32m[I 2023-05-05 17:59:42,414]\u001B[0m Trial 24 finished with value: 60.8 and parameters: {'lr': 0.020433597178569417, 'bs': 32, 'wd': 0.1111111111111111}. Best is trial 16 with value: 96.08.\u001B[0m\n",
      "\u001B[32m[I 2023-05-05 18:00:08,880]\u001B[0m Trial 25 finished with value: 98.67 and parameters: {'lr': 0.0016102620275609393, 'bs': 128, 'wd': 0.0}. Best is trial 25 with value: 98.67.\u001B[0m\n",
      "\u001B[32m[I 2023-05-05 18:00:35,397]\u001B[0m Trial 26 finished with value: 83.55 and parameters: {'lr': 3.5622478902624444e-05, 'bs': 128, 'wd': 0.2777777777777778}. Best is trial 25 with value: 98.67.\u001B[0m\n",
      "\u001B[32m[I 2023-05-05 18:01:15,671]\u001B[0m Trial 27 finished with value: 11.35 and parameters: {'lr': 0.03856620421163472, 'bs': 32, 'wd': 0.0}. Best is trial 25 with value: 98.67.\u001B[0m\n",
      "\u001B[32m[I 2023-05-05 18:01:46,783]\u001B[0m Trial 28 finished with value: 88.87 and parameters: {'lr': 6.723357536499335e-05, 'bs': 64, 'wd': 0.16666666666666666}. Best is trial 25 with value: 98.67.\u001B[0m\n",
      "\u001B[32m[I 2023-05-05 18:02:27,137]\u001B[0m Trial 29 finished with value: 82.89 and parameters: {'lr': 0.010826367338740546, 'bs': 32, 'wd': 0.2777777777777778}. Best is trial 25 with value: 98.67.\u001B[0m\n"
     ]
    },
    {
     "output_type": "stream",
     "name": "stdout",
     "text": [
      "{'bs': 128, 'lr': 0.0016102620275609393, 'wd': 0.0}\n"
     ]
    }
   ],
   "source": [
    "# Search for best parameters for Adam\n",
    "study = optuna.create_study(\n",
    "    direction=\"maximize\",\n",
    "    sampler=TPESampler(n_startup_trials=115),\n",
    "    pruner=BasePruner,\n",
    "    study_name=\"adamm\",\n",
    "    storage=\"sqlite:///optuna1.db\",\n",
    "    load_if_exists=True,\n",
    ")\n",
    "study.optimize(lambda trial: hyperparameter_search(trial, Adam), n_trials=30)\n",
    "print(study.best_params)"
   ],
   "metadata": {
    "ExecuteTime": {
     "start_time": "2023-04-17T19:11:26.014503Z",
     "end_time": "2023-04-17T19:27:35.401985Z"
    },
    "colab": {
     "base_uri": "https://localhost:8080/"
    },
    "id": "POOCGUs4PpdI",
    "outputId": "dc2d2534-d9dc-47a0-b31e-c3ffeb90d3e6"
   }
  },
  {
   "cell_type": "code",
   "execution_count": 12,
   "outputs": [
    {
     "output_type": "stream",
     "name": "stderr",
     "text": [
      "\u001B[32m[I 2023-05-05 18:02:27,322]\u001B[0m A new study created in RDB with name: adagrad\u001B[0m\n",
      "\u001B[32m[I 2023-05-05 18:03:09,312]\u001B[0m Trial 0 finished with value: 51.47 and parameters: {'lr': 6.723357536499335e-05, 'bs': 32, 'wd': 0.1111111111111111}. Best is trial 0 with value: 51.47.\u001B[0m\n",
      "\u001B[32m[I 2023-05-05 18:03:51,100]\u001B[0m Trial 1 finished with value: 89.06 and parameters: {'lr': 0.02807216203941177, 'bs': 32, 'wd': 0.2222222222222222}. Best is trial 1 with value: 89.06.\u001B[0m\n",
      "\u001B[32m[I 2023-05-05 18:04:22,840]\u001B[0m Trial 2 finished with value: 88.28 and parameters: {'lr': 0.0011721022975334804, 'bs': 64, 'wd': 0.16666666666666666}. Best is trial 1 with value: 89.06.\u001B[0m\n",
      "\u001B[32m[I 2023-05-05 18:04:54,921]\u001B[0m Trial 3 finished with value: 17.99 and parameters: {'lr': 3.5622478902624444e-05, 'bs': 64, 'wd': 0.5}. Best is trial 1 with value: 89.06.\u001B[0m\n",
      "\u001B[32m[I 2023-05-05 18:05:21,816]\u001B[0m Trial 4 finished with value: 83.44 and parameters: {'lr': 0.1, 'bs': 128, 'wd': 0.3333333333333333}. Best is trial 1 with value: 89.06.\u001B[0m\n",
      "\u001B[32m[I 2023-05-05 18:06:04,091]\u001B[0m Trial 5 finished with value: 84.98 and parameters: {'lr': 0.010826367338740546, 'bs': 32, 'wd': 0.4444444444444444}. Best is trial 1 with value: 89.06.\u001B[0m\n",
      "\u001B[32m[I 2023-05-05 18:06:35,551]\u001B[0m Trial 6 finished with value: 90.11 and parameters: {'lr': 0.1, 'bs': 64, 'wd': 0.16666666666666666}. Best is trial 6 with value: 90.11.\u001B[0m\n",
      "\u001B[32m[I 2023-05-05 18:07:02,294]\u001B[0m Trial 7 finished with value: 72.55 and parameters: {'lr': 0.00032903445623126676, 'bs': 128, 'wd': 0.3333333333333333}. Best is trial 6 with value: 90.11.\u001B[0m\n",
      "\u001B[32m[I 2023-05-05 18:07:29,856]\u001B[0m Trial 8 finished with value: 92.78 and parameters: {'lr': 0.005736152510448681, 'bs': 128, 'wd': 0.1111111111111111}. Best is trial 8 with value: 92.78.\u001B[0m\n",
      "\u001B[32m[I 2023-05-05 18:07:56,809]\u001B[0m Trial 9 finished with value: 95.35 and parameters: {'lr': 0.020433597178569417, 'bs': 128, 'wd': 0.05555555555555555}. Best is trial 9 with value: 95.35.\u001B[0m\n",
      "\u001B[32m[I 2023-05-05 18:08:28,928]\u001B[0m Trial 10 finished with value: 86.7 and parameters: {'lr': 0.00221221629107045, 'bs': 64, 'wd': 0.3333333333333333}. Best is trial 9 with value: 95.35.\u001B[0m\n",
      "\u001B[32m[I 2023-05-05 18:08:55,610]\u001B[0m Trial 11 finished with value: 78.1 and parameters: {'lr': 0.00032903445623126676, 'bs': 128, 'wd': 0.0}. Best is trial 9 with value: 95.35.\u001B[0m\n",
      "\u001B[32m[I 2023-05-05 18:09:27,119]\u001B[0m Trial 12 finished with value: 46.97 and parameters: {'lr': 9.236708571873866e-05, 'bs': 64, 'wd': 0.0}. Best is trial 9 with value: 95.35.\u001B[0m\n",
      "\u001B[32m[I 2023-05-05 18:09:58,658]\u001B[0m Trial 13 finished with value: 5.51 and parameters: {'lr': 1e-05, 'bs': 64, 'wd': 0.38888888888888884}. Best is trial 9 with value: 95.35.\u001B[0m\n",
      "\u001B[32m[I 2023-05-05 18:10:25,390]\u001B[0m Trial 14 finished with value: 47.07 and parameters: {'lr': 9.236708571873866e-05, 'bs': 128, 'wd': 0.0}. Best is trial 9 with value: 95.35.\u001B[0m\n",
      "\u001B[32m[I 2023-05-05 18:10:57,184]\u001B[0m Trial 15 finished with value: 86.47 and parameters: {'lr': 0.1, 'bs': 64, 'wd': 0.2777777777777778}. Best is trial 9 with value: 95.35.\u001B[0m\n",
      "\u001B[32m[I 2023-05-05 18:11:29,031]\u001B[0m Trial 16 finished with value: 85.32 and parameters: {'lr': 0.0016102620275609393, 'bs': 64, 'wd': 0.38888888888888884}. Best is trial 9 with value: 95.35.\u001B[0m\n",
      "\u001B[32m[I 2023-05-05 18:12:00,330]\u001B[0m Trial 17 finished with value: 91.55 and parameters: {'lr': 0.007880462815669913, 'bs': 64, 'wd': 0.16666666666666666}. Best is trial 9 with value: 95.35.\u001B[0m\n",
      "\u001B[32m[I 2023-05-05 18:12:42,324]\u001B[0m Trial 18 finished with value: 11.49 and parameters: {'lr': 1e-05, 'bs': 32, 'wd': 0.05555555555555555}. Best is trial 9 with value: 95.35.\u001B[0m\n",
      "\u001B[32m[I 2023-05-05 18:13:08,939]\u001B[0m Trial 19 finished with value: 83.21 and parameters: {'lr': 0.0008531678524172806, 'bs': 128, 'wd': 0.3333333333333333}. Best is trial 9 with value: 95.35.\u001B[0m\n",
      "\u001B[32m[I 2023-05-05 18:13:35,461]\u001B[0m Trial 20 finished with value: 5.94 and parameters: {'lr': 2.592943797404667e-05, 'bs': 128, 'wd': 0.05555555555555555}. Best is trial 9 with value: 95.35.\u001B[0m\n",
      "\u001B[32m[I 2023-05-05 18:14:02,737]\u001B[0m Trial 21 finished with value: 77.4 and parameters: {'lr': 0.0008531678524172806, 'bs': 128, 'wd': 0.5}. Best is trial 9 with value: 95.35.\u001B[0m\n",
      "\u001B[32m[I 2023-05-05 18:14:29,341]\u001B[0m Trial 22 finished with value: 13.99 and parameters: {'lr': 1.8873918221350995e-05, 'bs': 128, 'wd': 0.1111111111111111}. Best is trial 9 with value: 95.35.\u001B[0m\n",
      "\u001B[32m[I 2023-05-05 18:15:00,686]\u001B[0m Trial 23 finished with value: 57.49 and parameters: {'lr': 0.0001268961003167922, 'bs': 64, 'wd': 0.38888888888888884}. Best is trial 9 with value: 95.35.\u001B[0m\n",
      "\u001B[32m[I 2023-05-05 18:15:32,145]\u001B[0m Trial 24 finished with value: 96.68 and parameters: {'lr': 0.0030391953823131978, 'bs': 64, 'wd': 0.0}. Best is trial 24 with value: 96.68.\u001B[0m\n",
      "\u001B[32m[I 2023-05-05 18:15:58,751]\u001B[0m Trial 25 finished with value: 69.73 and parameters: {'lr': 0.00032903445623126676, 'bs': 128, 'wd': 0.4444444444444444}. Best is trial 24 with value: 96.68.\u001B[0m\n",
      "\u001B[32m[I 2023-05-05 18:16:25,920]\u001B[0m Trial 26 finished with value: 85.54 and parameters: {'lr': 0.0016102620275609393, 'bs': 128, 'wd': 0.3333333333333333}. Best is trial 24 with value: 96.68.\u001B[0m\n",
      "\u001B[32m[I 2023-05-05 18:16:56,942]\u001B[0m Trial 27 finished with value: 16.19 and parameters: {'lr': 6.723357536499335e-05, 'bs': 64, 'wd': 0.5}. Best is trial 24 with value: 96.68.\u001B[0m\n",
      "\u001B[32m[I 2023-05-05 18:17:28,916]\u001B[0m Trial 28 finished with value: 77.54 and parameters: {'lr': 0.0002395026619987486, 'bs': 64, 'wd': 0.05555555555555555}. Best is trial 24 with value: 96.68.\u001B[0m\n",
      "\u001B[32m[I 2023-05-05 18:18:00,096]\u001B[0m Trial 29 finished with value: 8.8 and parameters: {'lr': 1e-05, 'bs': 64, 'wd': 0.05555555555555555}. Best is trial 24 with value: 96.68.\u001B[0m\n"
     ]
    },
    {
     "output_type": "stream",
     "name": "stdout",
     "text": [
      "{'bs': 64, 'lr': 0.0030391953823131978, 'wd': 0.0}\n"
     ]
    }
   ],
   "source": [
    "# Search for best parameters for Adagrad\n",
    "study = optuna.create_study(\n",
    "    direction=\"maximize\",\n",
    "    sampler=TPESampler(n_startup_trials=115),\n",
    "    pruner=BasePruner,\n",
    "    study_name=\"adagrad\",\n",
    "    storage=\"sqlite:///optuna1.db\",\n",
    "    load_if_exists=True,\n",
    ")\n",
    "study.optimize(lambda trial: hyperparameter_search(trial, Adagrad), n_trials=30)\n",
    "print(study.best_params)"
   ],
   "metadata": {
    "ExecuteTime": {
     "start_time": "2023-04-17T19:27:35.414011Z",
     "end_time": "2023-04-17T19:42:42.807535Z"
    },
    "colab": {
     "base_uri": "https://localhost:8080/"
    },
    "id": "4ijW_lfHPpdK",
    "outputId": "bc1df0b7-b7db-47e2-ccc5-d269714d8179"
   }
  },
  {
   "cell_type": "code",
   "execution_count": 13,
   "outputs": [
    {
     "output_type": "stream",
     "name": "stderr",
     "text": [
      "\u001B[32m[I 2023-05-05 18:18:00,167]\u001B[0m A new study created in RDB with name: sgd\u001B[0m\n",
      "\u001B[32m[I 2023-05-05 18:18:39,638]\u001B[0m Trial 0 finished with value: 86.47 and parameters: {'lr': 0.0002395026619987486, 'bs': 32, 'momentum': 0.5516206896551724}. Best is trial 0 with value: 86.47.\u001B[0m\n",
      "\u001B[32m[I 2023-05-05 18:19:06,163]\u001B[0m Trial 1 finished with value: 83.42 and parameters: {'lr': 0.00045203536563602454, 'bs': 128, 'momentum': 0.6548620689655172}. Best is trial 0 with value: 86.47.\u001B[0m\n",
      "\u001B[32m[I 2023-05-05 18:19:32,902]\u001B[0m Trial 2 finished with value: 98.27 and parameters: {'lr': 0.020433597178569417, 'bs': 128, 'momentum': 0.7064827586206897}. Best is trial 2 with value: 98.27.\u001B[0m\n",
      "\u001B[32m[I 2023-05-05 18:19:59,178]\u001B[0m Trial 3 finished with value: 8.04 and parameters: {'lr': 1e-05, 'bs': 128, 'momentum': 0.7581034482758621}. Best is trial 2 with value: 98.27.\u001B[0m\n",
      "\u001B[32m[I 2023-05-05 18:20:29,721]\u001B[0m Trial 4 finished with value: 88.37 and parameters: {'lr': 0.00017433288221999874, 'bs': 64, 'momentum': 0.878551724137931}. Best is trial 2 with value: 98.27.\u001B[0m\n",
      "\u001B[32m[I 2023-05-05 18:20:55,818]\u001B[0m Trial 5 finished with value: 97.59 and parameters: {'lr': 0.007880462815669913, 'bs': 128, 'momentum': 0.7925172413793103}. Best is trial 2 with value: 98.27.\u001B[0m\n",
      "\u001B[32m[I 2023-05-05 18:21:34,273]\u001B[0m Trial 6 finished with value: 21.6 and parameters: {'lr': 1.8873918221350995e-05, 'bs': 32, 'momentum': 0.5}. Best is trial 2 with value: 98.27.\u001B[0m\n",
      "\u001B[32m[I 2023-05-05 18:22:01,006]\u001B[0m Trial 7 finished with value: 98.72 and parameters: {'lr': 0.03856620421163472, 'bs': 128, 'momentum': 0.7925172413793103}. Best is trial 7 with value: 98.72.\u001B[0m\n",
      "\u001B[32m[I 2023-05-05 18:22:27,335]\u001B[0m Trial 8 finished with value: 92.98 and parameters: {'lr': 0.0030391953823131978, 'bs': 128, 'momentum': 0.7236896551724138}. Best is trial 7 with value: 98.72.\u001B[0m\n",
      "\u001B[32m[I 2023-05-05 18:23:05,819]\u001B[0m Trial 9 finished with value: 99.05 and parameters: {'lr': 0.0041753189365604, 'bs': 32, 'momentum': 0.9817931034482759}. Best is trial 9 with value: 99.05.\u001B[0m\n",
      "\u001B[32m[I 2023-05-05 18:23:36,389]\u001B[0m Trial 10 finished with value: 93.75 and parameters: {'lr': 0.0016102620275609393, 'bs': 64, 'momentum': 0.6892758620689655}. Best is trial 9 with value: 99.05.\u001B[0m\n",
      "\u001B[32m[I 2023-05-05 18:24:02,733]\u001B[0m Trial 11 finished with value: 89.8 and parameters: {'lr': 6.723357536499335e-05, 'bs': 128, 'momentum': 0.9817931034482759}. Best is trial 9 with value: 99.05.\u001B[0m\n",
      "\u001B[32m[I 2023-05-05 18:24:29,068]\u001B[0m Trial 12 finished with value: 17.16 and parameters: {'lr': 2.592943797404667e-05, 'bs': 128, 'momentum': 0.7581034482758621}. Best is trial 9 with value: 99.05.\u001B[0m\n",
      "\u001B[32m[I 2023-05-05 18:25:07,481]\u001B[0m Trial 13 finished with value: 95.67 and parameters: {'lr': 0.0011721022975334804, 'bs': 32, 'momentum': 0.7236896551724138}. Best is trial 9 with value: 99.05.\u001B[0m\n",
      "\u001B[32m[I 2023-05-05 18:25:38,160]\u001B[0m Trial 14 finished with value: 94.04 and parameters: {'lr': 0.0011721022975334804, 'bs': 64, 'momentum': 0.8269310344827586}. Best is trial 9 with value: 99.05.\u001B[0m\n",
      "\u001B[32m[I 2023-05-05 18:26:04,155]\u001B[0m Trial 15 finished with value: 98.01 and parameters: {'lr': 0.02807216203941177, 'bs': 128, 'momentum': 0.5344137931034483}. Best is trial 9 with value: 99.05.\u001B[0m\n",
      "\u001B[32m[I 2023-05-05 18:26:30,440]\u001B[0m Trial 16 finished with value: 98.34 and parameters: {'lr': 0.02807216203941177, 'bs': 128, 'momentum': 0.6720689655172414}. Best is trial 9 with value: 99.05.\u001B[0m\n",
      "\u001B[32m[I 2023-05-05 18:27:08,795]\u001B[0m Trial 17 finished with value: 98.78 and parameters: {'lr': 0.0727895384398315, 'bs': 32, 'momentum': 0.7925172413793103}. Best is trial 9 with value: 99.05.\u001B[0m\n",
      "\u001B[32m[I 2023-05-05 18:27:39,621]\u001B[0m Trial 18 finished with value: 98.26 and parameters: {'lr': 0.0011721022975334804, 'bs': 64, 'momentum': 0.9645862068965517}. Best is trial 9 with value: 99.05.\u001B[0m\n",
      "\u001B[32m[I 2023-05-05 18:28:05,878]\u001B[0m Trial 19 finished with value: 92.65 and parameters: {'lr': 0.0008531678524172806, 'bs': 128, 'momentum': 0.9129655172413793}. Best is trial 9 with value: 99.05.\u001B[0m\n",
      "\u001B[32m[I 2023-05-05 18:28:32,036]\u001B[0m Trial 20 finished with value: 10.03 and parameters: {'lr': 2.592943797404667e-05, 'bs': 128, 'momentum': 0.5688275862068966}. Best is trial 9 with value: 99.05.\u001B[0m\n",
      "\u001B[32m[I 2023-05-05 18:29:02,745]\u001B[0m Trial 21 finished with value: 89.57 and parameters: {'lr': 0.0008531678524172806, 'bs': 64, 'momentum': 0.5688275862068966}. Best is trial 9 with value: 99.05.\u001B[0m\n",
      "\u001B[32m[I 2023-05-05 18:29:41,337]\u001B[0m Trial 22 finished with value: 10.28 and parameters: {'lr': 0.1, 'bs': 32, 'momentum': 0.9301724137931034}. Best is trial 9 with value: 99.05.\u001B[0m\n",
      "\u001B[32m[I 2023-05-05 18:30:07,373]\u001B[0m Trial 23 finished with value: 89.32 and parameters: {'lr': 0.00045203536563602454, 'bs': 128, 'momentum': 0.8269310344827586}. Best is trial 9 with value: 99.05.\u001B[0m\n",
      "\u001B[32m[I 2023-05-05 18:30:38,358]\u001B[0m Trial 24 finished with value: 18.53 and parameters: {'lr': 2.592943797404667e-05, 'bs': 64, 'momentum': 0.620448275862069}. Best is trial 9 with value: 99.05.\u001B[0m\n",
      "\u001B[32m[I 2023-05-05 18:31:17,047]\u001B[0m Trial 25 finished with value: 67.29 and parameters: {'lr': 2.592943797404667e-05, 'bs': 32, 'momentum': 0.7236896551724138}. Best is trial 9 with value: 99.05.\u001B[0m\n",
      "\u001B[32m[I 2023-05-05 18:31:43,392]\u001B[0m Trial 26 finished with value: 9.1 and parameters: {'lr': 2.592943797404667e-05, 'bs': 128, 'momentum': 0.5172068965517241}. Best is trial 9 with value: 99.05.\u001B[0m\n",
      "\u001B[32m[I 2023-05-05 18:32:14,146]\u001B[0m Trial 27 finished with value: 96.98 and parameters: {'lr': 0.0006210169418915617, 'bs': 64, 'momentum': 0.9645862068965517}. Best is trial 9 with value: 99.05.\u001B[0m\n",
      "\u001B[32m[I 2023-05-05 18:32:52,767]\u001B[0m Trial 28 finished with value: 98.63 and parameters: {'lr': 0.010826367338740546, 'bs': 32, 'momentum': 0.6376551724137931}. Best is trial 9 with value: 99.05.\u001B[0m\n",
      "\u001B[32m[I 2023-05-05 18:33:23,515]\u001B[0m Trial 29 finished with value: 95.64 and parameters: {'lr': 0.0016102620275609393, 'bs': 64, 'momentum': 0.8269310344827586}. Best is trial 9 with value: 99.05.\u001B[0m\n"
     ]
    },
    {
     "output_type": "stream",
     "name": "stdout",
     "text": [
      "{'bs': 32, 'lr': 0.0041753189365604, 'momentum': 0.9817931034482759}\n"
     ]
    }
   ],
   "source": [
    "# Search for best parameters for SGD\n",
    "study = optuna.create_study(\n",
    "    direction=\"maximize\",\n",
    "    sampler=TPESampler(n_startup_trials=115),\n",
    "    pruner=BasePruner,\n",
    "    study_name=\"sgd\",\n",
    "    storage=\"sqlite:///optuna1.db\",\n",
    "    load_if_exists=True,\n",
    ")\n",
    "study.optimize(lambda trial: hyperparameter_search(trial, SGD), n_trials=30)\n",
    "print(study.best_params)"
   ],
   "metadata": {
    "ExecuteTime": {
     "start_time": "2023-04-17T19:42:42.820071Z",
     "end_time": "2023-04-17T19:52:50.270692Z"
    },
    "id": "6l6C3ygVPpdK",
    "colab": {
     "base_uri": "https://localhost:8080/"
    },
    "outputId": "d572b6bf-3a5b-4ddc-90fb-ddf28b08c460"
   }
  },
  {
   "cell_type": "code",
   "execution_count": 14,
   "outputs": [
    {
     "output_type": "stream",
     "name": "stderr",
     "text": [
      "\u001B[32m[I 2023-05-05 18:33:23,575]\u001B[0m A new study created in RDB with name: bbi\u001B[0m\n",
      "\u001B[32m[I 2023-05-05 18:33:56,695]\u001B[0m Trial 0 finished with value: 98.82 and parameters: {'lr': 0.1, 'bs': 64, 'delta_e': 2.0689655172413794}. Best is trial 0 with value: 98.82.\u001B[0m\n",
      "\u001B[32m[I 2023-05-05 18:34:25,089]\u001B[0m Trial 1 finished with value: 9.88 and parameters: {'lr': 0.0001268961003167922, 'bs': 128, 'delta_e': 1.4482758620689655}. Best is trial 0 with value: 98.82.\u001B[0m\n",
      "\u001B[32m[I 2023-05-05 18:35:08,513]\u001B[0m Trial 2 finished with value: 74.09 and parameters: {'lr': 0.0006210169418915617, 'bs': 32, 'delta_e': 2.896551724137931}. Best is trial 0 with value: 98.82.\u001B[0m\n",
      "\u001B[32m[I 2023-05-05 18:35:41,840]\u001B[0m Trial 3 finished with value: 9.8 and parameters: {'lr': 0.0002395026619987486, 'bs': 64, 'delta_e': 2.793103448275862}. Best is trial 0 with value: 98.82.\u001B[0m\n",
      "\u001B[32m[I 2023-05-05 18:36:25,925]\u001B[0m Trial 4 finished with value: 16.53 and parameters: {'lr': 9.236708571873866e-05, 'bs': 32, 'delta_e': 2.4827586206896552}. Best is trial 0 with value: 98.82.\u001B[0m\n",
      "\u001B[32m[I 2023-05-05 18:36:54,061]\u001B[0m Trial 5 finished with value: 38.67 and parameters: {'lr': 0.0008531678524172806, 'bs': 128, 'delta_e': 1.6551724137931034}. Best is trial 0 with value: 98.82.\u001B[0m\n",
      "\u001B[32m[I 2023-05-05 18:37:22,883]\u001B[0m Trial 6 finished with value: 9.77 and parameters: {'lr': 0.00032903445623126676, 'bs': 128, 'delta_e': 1.0344827586206897}. Best is trial 0 with value: 98.82.\u001B[0m\n",
      "\u001B[32m[I 2023-05-05 18:37:55,692]\u001B[0m Trial 7 finished with value: 94.72 and parameters: {'lr': 0.005736152510448681, 'bs': 64, 'delta_e': 0.6206896551724138}. Best is trial 0 with value: 98.82.\u001B[0m\n",
      "\u001B[32m[I 2023-05-05 18:38:29,037]\u001B[0m Trial 8 finished with value: 98.35 and parameters: {'lr': 0.02807216203941177, 'bs': 64, 'delta_e': 2.0689655172413794}. Best is trial 0 with value: 98.82.\u001B[0m\n",
      "\u001B[32m[I 2023-05-05 18:38:57,696]\u001B[0m Trial 9 finished with value: 10.28 and parameters: {'lr': 0.00045203536563602454, 'bs': 128, 'delta_e': 1.5517241379310345}. Best is trial 0 with value: 98.82.\u001B[0m\n",
      "\u001B[32m[I 2023-05-05 18:39:30,230]\u001B[0m Trial 10 finished with value: 0.0 and parameters: {'lr': 1e-05, 'bs': 64, 'delta_e': 0.41379310344827586}. Best is trial 0 with value: 98.82.\u001B[0m\n",
      "\u001B[32m[I 2023-05-05 18:40:14,443]\u001B[0m Trial 11 finished with value: 2.43 and parameters: {'lr': 1.8873918221350995e-05, 'bs': 32, 'delta_e': 2.793103448275862}. Best is trial 0 with value: 98.82.\u001B[0m\n",
      "\u001B[32m[I 2023-05-05 18:40:59,041]\u001B[0m Trial 12 finished with value: 10.03 and parameters: {'lr': 9.236708571873866e-05, 'bs': 32, 'delta_e': 2.0689655172413794}. Best is trial 0 with value: 98.82.\u001B[0m\n",
      "\u001B[32m[I 2023-05-05 18:41:43,114]\u001B[0m Trial 13 finished with value: 94.91 and parameters: {'lr': 0.0030391953823131978, 'bs': 32, 'delta_e': 0.9310344827586207}. Best is trial 0 with value: 98.82.\u001B[0m\n",
      "\u001B[32m[I 2023-05-05 18:42:11,335]\u001B[0m Trial 14 finished with value: 90.37 and parameters: {'lr': 0.007880462815669913, 'bs': 128, 'delta_e': 1.8620689655172413}. Best is trial 0 with value: 98.82.\u001B[0m\n",
      "\u001B[32m[I 2023-05-05 18:42:39,388]\u001B[0m Trial 15 finished with value: 82.64 and parameters: {'lr': 0.0030391953823131978, 'bs': 128, 'delta_e': 2.586206896551724}. Best is trial 0 with value: 98.82.\u001B[0m\n",
      "\u001B[32m[I 2023-05-05 18:43:12,703]\u001B[0m Trial 16 finished with value: 74.42 and parameters: {'lr': 0.0011721022975334804, 'bs': 64, 'delta_e': 3.0}. Best is trial 0 with value: 98.82.\u001B[0m\n",
      "\u001B[32m[I 2023-05-05 18:43:56,908]\u001B[0m Trial 17 finished with value: 98.54 and parameters: {'lr': 0.02807216203941177, 'bs': 32, 'delta_e': 1.9655172413793103}. Best is trial 0 with value: 98.82.\u001B[0m\n",
      "\u001B[32m[I 2023-05-05 18:44:24,803]\u001B[0m Trial 18 finished with value: 5.98 and parameters: {'lr': 1e-05, 'bs': 128, 'delta_e': 1.2413793103448276}. Best is trial 0 with value: 98.82.\u001B[0m\n",
      "\u001B[32m[I 2023-05-05 18:45:09,194]\u001B[0m Trial 19 finished with value: 0.0 and parameters: {'lr': 1e-05, 'bs': 32, 'delta_e': 0.5172413793103449}. Best is trial 0 with value: 98.82.\u001B[0m\n",
      "\u001B[32m[I 2023-05-05 18:45:52,755]\u001B[0m Trial 20 finished with value: 96.52 and parameters: {'lr': 0.0041753189365604, 'bs': 32, 'delta_e': 1.1379310344827587}. Best is trial 0 with value: 98.82.\u001B[0m\n",
      "\u001B[32m[I 2023-05-05 18:46:26,523]\u001B[0m Trial 21 finished with value: 0.99 and parameters: {'lr': 1.8873918221350995e-05, 'bs': 64, 'delta_e': 1.7586206896551724}. Best is trial 0 with value: 98.82.\u001B[0m\n",
      "\u001B[32m[I 2023-05-05 18:47:11,696]\u001B[0m Trial 22 finished with value: 25.54 and parameters: {'lr': 0.00032903445623126676, 'bs': 32, 'delta_e': 1.1379310344827587}. Best is trial 0 with value: 98.82.\u001B[0m\n",
      "\u001B[32m[I 2023-05-05 18:47:56,525]\u001B[0m Trial 23 finished with value: 98.67 and parameters: {'lr': 0.020433597178569417, 'bs': 32, 'delta_e': 1.0344827586206897}. Best is trial 0 with value: 98.82.\u001B[0m\n",
      "\u001B[32m[I 2023-05-05 18:48:24,651]\u001B[0m Trial 24 finished with value: 98.52 and parameters: {'lr': 0.1, 'bs': 128, 'delta_e': 2.3793103448275863}. Best is trial 0 with value: 98.82.\u001B[0m\n",
      "\u001B[32m[I 2023-05-05 18:48:52,893]\u001B[0m Trial 25 finished with value: 97.53 and parameters: {'lr': 0.02807216203941177, 'bs': 128, 'delta_e': 2.896551724137931}. Best is trial 0 with value: 98.82.\u001B[0m\n",
      "\u001B[32m[I 2023-05-05 18:49:21,650]\u001B[0m Trial 26 finished with value: 83.84 and parameters: {'lr': 0.0041753189365604, 'bs': 128, 'delta_e': 0.5172413793103449}. Best is trial 0 with value: 98.82.\u001B[0m\n",
      "\u001B[32m[I 2023-05-05 18:49:49,727]\u001B[0m Trial 27 finished with value: 12.29 and parameters: {'lr': 0.0002395026619987486, 'bs': 128, 'delta_e': 1.4482758620689655}. Best is trial 0 with value: 98.82.\u001B[0m\n",
      "\u001B[32m[I 2023-05-05 18:50:18,413]\u001B[0m Trial 28 finished with value: 89.2 and parameters: {'lr': 0.005736152510448681, 'bs': 128, 'delta_e': 1.2413793103448276}. Best is trial 0 with value: 98.82.\u001B[0m\n",
      "\u001B[32m[I 2023-05-05 18:50:51,298]\u001B[0m Trial 29 finished with value: 22.78 and parameters: {'lr': 0.00045203536563602454, 'bs': 64, 'delta_e': 0.20689655172413793}. Best is trial 0 with value: 98.82.\u001B[0m\n"
     ]
    },
    {
     "output_type": "stream",
     "name": "stdout",
     "text": [
      "{'bs': 64, 'delta_e': 2.0689655172413794, 'lr': 0.1}\n"
     ]
    }
   ],
   "source": [
    "# Search for best parameters for BBI\n",
    "study = optuna.create_study(\n",
    "    direction=\"maximize\",\n",
    "    sampler=TPESampler(n_startup_trials=115),\n",
    "    pruner=BasePruner,\n",
    "    study_name=\"bbi\",\n",
    "    storage=\"sqlite:///optuna1.db\",\n",
    "    load_if_exists=True,\n",
    ")\n",
    "study.optimize(lambda trial: hyperparameter_search(trial, BBI), n_trials=30)\n",
    "print(study.best_params)"
   ],
   "metadata": {
    "ExecuteTime": {
     "start_time": "2023-04-17T19:52:50.276827Z",
     "end_time": "2023-04-17T20:05:01.091062Z"
    },
    "id": "QnZlxFjDPpdL",
    "colab": {
     "base_uri": "https://localhost:8080/"
    },
    "outputId": "c25720ac-952d-4e60-e7ba-5ed553fc0906"
   }
  },
  {
   "cell_type": "code",
   "source": [
    "study = optuna.create_study(\n",
    "    direction=\"maximize\",\n",
    "    sampler=TPESampler(n_startup_trials=115),\n",
    "    pruner=BasePruner,\n",
    "    study_name=\"bbi_adap\",\n",
    "    storage=\"sqlite:///optuna1.db\",\n",
    "    load_if_exists=True,\n",
    ")\n",
    "study.optimize(lambda trial: hyperparameter_search(trial, BBI, adaptive = True), n_trials=30)\n",
    "print(study.best_params)"
   ],
   "metadata": {
    "id": "7yskznBmQcqP",
    "colab": {
     "base_uri": "https://localhost:8080/"
    },
    "outputId": "49afe529-fa65-4cbd-ed43-ab42f68a2bd5"
   },
   "execution_count": 15,
   "outputs": [
    {
     "output_type": "stream",
     "name": "stderr",
     "text": [
      "\u001B[32m[I 2023-05-05 18:50:51,360]\u001B[0m A new study created in RDB with name: bbi_adap\u001B[0m\n",
      "\u001B[32m[I 2023-05-05 18:51:39,616]\u001B[0m Trial 0 finished with value: 70.59 and parameters: {'lr': 0.0030391953823131978, 'bs': 32, 'delta_e': 1.5517241379310345, 'lr_grad': 0.0035448275862068964, 'beta1': 0.7931034482758621, 'beta2': 0.6206896551724138}. Best is trial 0 with value: 70.59.\u001B[0m\n",
      "\u001B[32m[I 2023-05-05 18:52:09,679]\u001B[0m Trial 1 finished with value: 93.73 and parameters: {'lr': 0.014873521072935119, 'bs': 128, 'delta_e': 1.4482758620689655, 'lr_grad': 0.05866206896551725, 'beta1': 0.24137931034482757, 'beta2': 0.9655172413793103}. Best is trial 1 with value: 93.73.\u001B[0m\n",
      "\u001B[32m[I 2023-05-05 18:52:39,059]\u001B[0m Trial 2 finished with value: 97.9 and parameters: {'lr': 0.0727895384398315, 'bs': 128, 'delta_e': 1.7586206896551724, 'lr_grad': 0.024213793103448275, 'beta1': 0.7241379310344828, 'beta2': 0.7241379310344828}. Best is trial 2 with value: 97.9.\u001B[0m\n",
      "\u001B[32m[I 2023-05-05 18:53:08,885]\u001B[0m Trial 3 finished with value: 61.32 and parameters: {'lr': 0.005736152510448681, 'bs': 128, 'delta_e': 1.6551724137931034, 'lr_grad': 0.04143793103448276, 'beta1': 0.10344827586206896, 'beta2': 0.1724137931034483}. Best is trial 2 with value: 97.9.\u001B[0m\n",
      "\u001B[32m[I 2023-05-05 18:53:45,267]\u001B[0m Trial 4 finished with value: 10.1 and parameters: {'lr': 0.00045203536563602454, 'bs': 64, 'delta_e': 0.5172413793103449, 'lr_grad': 0.010434482758620689, 'beta1': 0.6551724137931034, 'beta2': 0.3103448275862069}. Best is trial 2 with value: 97.9.\u001B[0m\n",
      "\u001B[32m[I 2023-05-05 18:54:34,422]\u001B[0m Trial 5 finished with value: 96.87 and parameters: {'lr': 0.03856620421163472, 'bs': 32, 'delta_e': 2.586206896551724, 'lr_grad': 0.0965551724137931, 'beta1': 0.6896551724137931, 'beta2': 0.6551724137931034}. Best is trial 2 with value: 97.9.\u001B[0m\n",
      "\u001B[32m[I 2023-05-05 18:55:22,673]\u001B[0m Trial 6 finished with value: 0.72 and parameters: {'lr': 1e-05, 'bs': 32, 'delta_e': 2.793103448275862, 'lr_grad': 0.08966551724137932, 'beta1': 0.6896551724137931, 'beta2': 0.41379310344827586}. Best is trial 2 with value: 97.9.\u001B[0m\n",
      "\u001B[32m[I 2023-05-05 18:55:57,759]\u001B[0m Trial 7 finished with value: 0.44 and parameters: {'lr': 2.592943797404667e-05, 'bs': 64, 'delta_e': 2.689655172413793, 'lr_grad': 0.08277586206896552, 'beta1': 0.41379310344827586, 'beta2': 0.48275862068965514}. Best is trial 2 with value: 97.9.\u001B[0m\n",
      "\u001B[32m[I 2023-05-05 18:56:45,850]\u001B[0m Trial 8 finished with value: 17.84 and parameters: {'lr': 0.0002395026619987486, 'bs': 32, 'delta_e': 0.6206896551724138, 'lr_grad': 0.06555172413793103, 'beta1': 0.5172413793103449, 'beta2': 0.8275862068965517}. Best is trial 2 with value: 97.9.\u001B[0m\n",
      "\u001B[32m[I 2023-05-05 18:57:14,892]\u001B[0m Trial 9 finished with value: 2.19 and parameters: {'lr': 4.893900918477499e-05, 'bs': 128, 'delta_e': 2.896551724137931, 'lr_grad': 0.05521724137931035, 'beta1': 0.5862068965517241, 'beta2': 0.20689655172413793}. Best is trial 2 with value: 97.9.\u001B[0m\n",
      "\u001B[32m[I 2023-05-05 18:57:44,723]\u001B[0m Trial 10 finished with value: 9.8 and parameters: {'lr': 0.0011721022975334804, 'bs': 128, 'delta_e': 2.586206896551724, 'lr_grad': 0.05866206896551725, 'beta1': 0.6551724137931034, 'beta2': 0.5862068965517241}. Best is trial 2 with value: 97.9.\u001B[0m\n",
      "\u001B[32m[I 2023-05-05 18:58:13,530]\u001B[0m Trial 11 finished with value: 36.16 and parameters: {'lr': 0.0030391953823131978, 'bs': 128, 'delta_e': 2.793103448275862, 'lr_grad': 0.0965551724137931, 'beta1': 0.9310344827586207, 'beta2': 0.8275862068965517}. Best is trial 2 with value: 97.9.\u001B[0m\n",
      "\u001B[32m[I 2023-05-05 18:58:48,860]\u001B[0m Trial 12 finished with value: 19.74 and parameters: {'lr': 0.0008531678524172806, 'bs': 64, 'delta_e': 0.41379310344827586, 'lr_grad': 0.04488275862068966, 'beta1': 0.9310344827586207, 'beta2': 0.41379310344827586}. Best is trial 2 with value: 97.9.\u001B[0m\n",
      "\u001B[32m[I 2023-05-05 18:59:23,944]\u001B[0m Trial 13 finished with value: 26.64 and parameters: {'lr': 0.00221221629107045, 'bs': 64, 'delta_e': 3.0, 'lr_grad': 0.08622068965517242, 'beta1': 0.24137931034482757, 'beta2': 0.48275862068965514}. Best is trial 2 with value: 97.9.\u001B[0m\n",
      "\u001B[32m[I 2023-05-05 18:59:53,668]\u001B[0m Trial 14 finished with value: 98.08 and parameters: {'lr': 0.1, 'bs': 128, 'delta_e': 0.7241379310344828, 'lr_grad': 0.05177241379310345, 'beta1': 0.10344827586206896, 'beta2': 0.1724137931034483}. Best is trial 14 with value: 98.08.\u001B[0m\n",
      "\u001B[32m[I 2023-05-05 19:00:28,627]\u001B[0m Trial 15 finished with value: 16.11 and parameters: {'lr': 0.0011721022975334804, 'bs': 64, 'delta_e': 2.2758620689655173, 'lr_grad': 0.1, 'beta1': 0.20689655172413793, 'beta2': 0.7241379310344828}. Best is trial 14 with value: 98.08.\u001B[0m\n",
      "\u001B[32m[I 2023-05-05 19:01:03,512]\u001B[0m Trial 16 finished with value: 10.28 and parameters: {'lr': 0.00017433288221999874, 'bs': 64, 'delta_e': 0.41379310344827586, 'lr_grad': 0.0035448275862068964, 'beta1': 0.5862068965517241, 'beta2': 0.6896551724137931}. Best is trial 14 with value: 98.08.\u001B[0m\n",
      "\u001B[32m[I 2023-05-05 19:01:38,713]\u001B[0m Trial 17 finished with value: 0.01 and parameters: {'lr': 1.3738237958832637e-05, 'bs': 64, 'delta_e': 2.896551724137931, 'lr_grad': 0.010434482758620689, 'beta1': 1.0, 'beta2': 0.3448275862068966}. Best is trial 14 with value: 98.08.\u001B[0m\n",
      "\u001B[32m[I 2023-05-05 19:02:13,854]\u001B[0m Trial 18 finished with value: 97.6 and parameters: {'lr': 0.05298316906283707, 'bs': 64, 'delta_e': 0.10344827586206896, 'lr_grad': 0.06555172413793103, 'beta1': 0.5172413793103449, 'beta2': 0.3793103448275862}. Best is trial 14 with value: 98.08.\u001B[0m\n",
      "\u001B[32m[I 2023-05-05 19:02:48,978]\u001B[0m Trial 19 finished with value: 9.09 and parameters: {'lr': 0.00221221629107045, 'bs': 64, 'delta_e': 2.793103448275862, 'lr_grad': 0.06555172413793103, 'beta1': 0.896551724137931, 'beta2': 0.1724137931034483}. Best is trial 14 with value: 98.08.\u001B[0m\n",
      "\u001B[32m[I 2023-05-05 19:03:24,167]\u001B[0m Trial 20 finished with value: 0.0 and parameters: {'lr': 1e-05, 'bs': 64, 'delta_e': 1.4482758620689655, 'lr_grad': 0.0001, 'beta1': 0.6551724137931034, 'beta2': 0.27586206896551724}. Best is trial 14 with value: 98.08.\u001B[0m\n",
      "\u001B[32m[I 2023-05-05 19:04:12,432]\u001B[0m Trial 21 finished with value: 0.02 and parameters: {'lr': 1.8873918221350995e-05, 'bs': 32, 'delta_e': 2.896551724137931, 'lr_grad': 0.08277586206896552, 'beta1': 0.06896551724137931, 'beta2': 0.9310344827586207}. Best is trial 14 with value: 98.08.\u001B[0m\n",
      "\u001B[32m[I 2023-05-05 19:04:42,231]\u001B[0m Trial 22 finished with value: 10.33 and parameters: {'lr': 0.00017433288221999874, 'bs': 128, 'delta_e': 2.3793103448275863, 'lr_grad': 0.07244137931034483, 'beta1': 0.8620689655172413, 'beta2': 0.6206896551724138}. Best is trial 14 with value: 98.08.\u001B[0m\n",
      "\u001B[32m[I 2023-05-05 19:05:11,166]\u001B[0m Trial 23 finished with value: 97.47 and parameters: {'lr': 0.05298316906283707, 'bs': 128, 'delta_e': 0.41379310344827586, 'lr_grad': 0.05866206896551725, 'beta1': 0.3448275862068966, 'beta2': 0.3103448275862069}. Best is trial 14 with value: 98.08.\u001B[0m\n",
      "\u001B[32m[I 2023-05-05 19:05:46,368]\u001B[0m Trial 24 finished with value: 8.92 and parameters: {'lr': 0.00032903445623126676, 'bs': 64, 'delta_e': 1.6551724137931034, 'lr_grad': 0.03799310344827586, 'beta1': 0.1724137931034483, 'beta2': 0.10344827586206896}. Best is trial 14 with value: 98.08.\u001B[0m\n",
      "\u001B[32m[I 2023-05-05 19:06:34,103]\u001B[0m Trial 25 finished with value: 95.42 and parameters: {'lr': 0.020433597178569417, 'bs': 32, 'delta_e': 1.0344827586206897, 'lr_grad': 0.0001, 'beta1': 0.06896551724137931, 'beta2': 0.24137931034482757}. Best is trial 14 with value: 98.08.\u001B[0m\n",
      "\u001B[32m[I 2023-05-05 19:07:09,263]\u001B[0m Trial 26 finished with value: 17.77 and parameters: {'lr': 0.0001268961003167922, 'bs': 64, 'delta_e': 1.3448275862068966, 'lr_grad': 0.08966551724137932, 'beta1': 0.4482758620689655, 'beta2': 0.06896551724137931}. Best is trial 14 with value: 98.08.\u001B[0m\n",
      "\u001B[32m[I 2023-05-05 19:07:57,245]\u001B[0m Trial 27 finished with value: 97.85 and parameters: {'lr': 0.1, 'bs': 32, 'delta_e': 2.2758620689655173, 'lr_grad': 0.06899655172413793, 'beta1': 0.5172413793103449, 'beta2': 0.1724137931034483}. Best is trial 14 with value: 98.08.\u001B[0m\n",
      "\u001B[32m[I 2023-05-05 19:08:46,130]\u001B[0m Trial 28 finished with value: 8.33 and parameters: {'lr': 1e-05, 'bs': 32, 'delta_e': 2.0689655172413794, 'lr_grad': 0.031103448275862068, 'beta1': 0.5517241379310345, 'beta2': 0.896551724137931}. Best is trial 14 with value: 98.08.\u001B[0m\n",
      "\u001B[32m[I 2023-05-05 19:09:21,553]\u001B[0m Trial 29 finished with value: 95.98 and parameters: {'lr': 0.020433597178569417, 'bs': 64, 'delta_e': 0.5172413793103449, 'lr_grad': 0.04143793103448276, 'beta1': 0.48275862068965514, 'beta2': 0.3793103448275862}. Best is trial 14 with value: 98.08.\u001B[0m\n"
     ]
    },
    {
     "output_type": "stream",
     "name": "stdout",
     "text": [
      "{'beta1': 0.10344827586206896, 'beta2': 0.1724137931034483, 'bs': 128, 'delta_e': 0.7241379310344828, 'lr': 0.1, 'lr_grad': 0.05177241379310345}\n"
     ]
    }
   ]
  },
  {
   "cell_type": "code",
   "source": [
    "study = optuna.create_study(\n",
    "    direction=\"maximize\",\n",
    "    sampler=TPESampler(n_startup_trials=115),\n",
    "    pruner=BasePruner,\n",
    "    study_name=\"bbi_wa_\",\n",
    "    storage=\"sqlite:///optuna1.db\",\n",
    ")\n",
    "study.optimize(lambda trial: hyperparameter_search(trial, BBI, wa = True), n_trials=30)\n",
    "print(study.best_params)"
   ],
   "metadata": {
    "colab": {
     "base_uri": "https://localhost:8080/"
    },
    "id": "azjOC9fy6VJ5",
    "outputId": "b20774ee-9d00-4ff3-e2fb-9d728ae4815c"
   },
   "execution_count": 13,
   "outputs": [
    {
     "output_type": "stream",
     "name": "stderr",
     "text": [
      "\u001B[32m[I 2023-05-06 17:22:07,984]\u001B[0m A new study created in RDB with name: bbi_wa_\u001B[0m\n",
      "\u001B[32m[I 2023-05-06 17:22:52,667]\u001B[0m Trial 0 finished with value: 12.86 and parameters: {'lr': 0.0002395026619987486, 'bs': 32, 'delta_e': 0.0}. Best is trial 0 with value: 12.86.\u001B[0m\n",
      "\u001B[32m[I 2023-05-06 17:23:20,809]\u001B[0m Trial 1 finished with value: 97.97 and parameters: {'lr': 0.03856620421163472, 'bs': 128, 'delta_e': 0.8275862068965517}. Best is trial 1 with value: 97.97.\u001B[0m\n",
      "\u001B[32m[I 2023-05-06 17:23:54,441]\u001B[0m Trial 2 finished with value: 10.11 and parameters: {'lr': 0.00032903445623126676, 'bs': 64, 'delta_e': 0.7241379310344828}. Best is trial 1 with value: 97.97.\u001B[0m\n",
      "\u001B[32m[I 2023-05-06 17:24:22,354]\u001B[0m Trial 3 finished with value: 93.37 and parameters: {'lr': 0.010826367338740546, 'bs': 128, 'delta_e': 2.896551724137931}. Best is trial 1 with value: 97.97.\u001B[0m\n",
      "\u001B[32m[I 2023-05-06 17:25:06,472]\u001B[0m Trial 4 finished with value: 97.69 and parameters: {'lr': 0.005736152510448681, 'bs': 32, 'delta_e': 0.7241379310344828}. Best is trial 1 with value: 97.97.\u001B[0m\n",
      "\u001B[32m[I 2023-05-06 17:25:34,628]\u001B[0m Trial 5 finished with value: 14.9 and parameters: {'lr': 0.00017433288221999874, 'bs': 128, 'delta_e': 2.793103448275862}. Best is trial 1 with value: 97.97.\u001B[0m\n",
      "\u001B[32m[I 2023-05-06 17:26:18,860]\u001B[0m Trial 6 finished with value: 0.0 and parameters: {'lr': 2.592943797404667e-05, 'bs': 32, 'delta_e': 0.9310344827586207}. Best is trial 1 with value: 97.97.\u001B[0m\n",
      "\u001B[32m[I 2023-05-06 17:26:47,088]\u001B[0m Trial 7 finished with value: 0.0 and parameters: {'lr': 1.3738237958832637e-05, 'bs': 128, 'delta_e': 2.4827586206896552}. Best is trial 1 with value: 97.97.\u001B[0m\n",
      "\u001B[32m[I 2023-05-06 17:27:15,932]\u001B[0m Trial 8 finished with value: 94.75 and parameters: {'lr': 0.014873521072935119, 'bs': 128, 'delta_e': 1.4482758620689655}. Best is trial 1 with value: 97.97.\u001B[0m\n",
      "\u001B[32m[I 2023-05-06 17:27:48,706]\u001B[0m Trial 9 finished with value: 98.16 and parameters: {'lr': 0.02807216203941177, 'bs': 64, 'delta_e': 1.9655172413793103}. Best is trial 9 with value: 98.16.\u001B[0m\n",
      "\u001B[32m[I 2023-05-06 17:28:32,889]\u001B[0m Trial 10 finished with value: 98.43 and parameters: {'lr': 0.010826367338740546, 'bs': 32, 'delta_e': 1.7586206896551724}. Best is trial 10 with value: 98.43.\u001B[0m\n",
      "\u001B[32m[I 2023-05-06 17:29:00,951]\u001B[0m Trial 11 finished with value: 18.03 and parameters: {'lr': 0.00032903445623126676, 'bs': 128, 'delta_e': 1.3448275862068966}. Best is trial 10 with value: 98.43.\u001B[0m\n",
      "\u001B[32m[I 2023-05-06 17:29:34,265]\u001B[0m Trial 12 finished with value: 10.96 and parameters: {'lr': 9.236708571873866e-05, 'bs': 64, 'delta_e': 1.0344827586206897}. Best is trial 10 with value: 98.43.\u001B[0m\n",
      "\u001B[32m[I 2023-05-06 17:30:02,784]\u001B[0m Trial 13 finished with value: 16.58 and parameters: {'lr': 0.00045203536563602454, 'bs': 128, 'delta_e': 2.4827586206896552}. Best is trial 10 with value: 98.43.\u001B[0m\n",
      "\u001B[32m[I 2023-05-06 17:30:46,209]\u001B[0m Trial 14 finished with value: 96.59 and parameters: {'lr': 0.0041753189365604, 'bs': 32, 'delta_e': 1.9655172413793103}. Best is trial 10 with value: 98.43.\u001B[0m\n",
      "\u001B[32m[I 2023-05-06 17:31:14,728]\u001B[0m Trial 15 finished with value: 13.39 and parameters: {'lr': 0.00017433288221999874, 'bs': 128, 'delta_e': 0.41379310344827586}. Best is trial 10 with value: 98.43.\u001B[0m\n",
      "\u001B[32m[I 2023-05-06 17:31:58,191]\u001B[0m Trial 16 finished with value: 98.65 and parameters: {'lr': 0.05298316906283707, 'bs': 32, 'delta_e': 0.6206896551724138}. Best is trial 16 with value: 98.65.\u001B[0m\n",
      "\u001B[32m[I 2023-05-06 17:32:42,205]\u001B[0m Trial 17 finished with value: 98.9 and parameters: {'lr': 0.0727895384398315, 'bs': 32, 'delta_e': 1.1379310344827587}. Best is trial 17 with value: 98.9.\u001B[0m\n",
      "\u001B[32m[I 2023-05-06 17:33:15,532]\u001B[0m Trial 18 finished with value: 10.1 and parameters: {'lr': 0.00032903445623126676, 'bs': 64, 'delta_e': 0.41379310344827586}. Best is trial 17 with value: 98.9.\u001B[0m\n",
      "\u001B[32m[I 2023-05-06 17:33:48,120]\u001B[0m Trial 19 finished with value: 10.32 and parameters: {'lr': 0.0001268961003167922, 'bs': 64, 'delta_e': 3.0}. Best is trial 17 with value: 98.9.\u001B[0m\n",
      "\u001B[32m[I 2023-05-06 17:34:16,571]\u001B[0m Trial 20 finished with value: 73.92 and parameters: {'lr': 0.00221221629107045, 'bs': 128, 'delta_e': 0.10344827586206896}. Best is trial 17 with value: 98.9.\u001B[0m\n",
      "\u001B[32m[I 2023-05-06 17:35:00,356]\u001B[0m Trial 21 finished with value: 98.31 and parameters: {'lr': 0.014873521072935119, 'bs': 32, 'delta_e': 1.8620689655172413}. Best is trial 17 with value: 98.9.\u001B[0m\n",
      "\u001B[32m[I 2023-05-06 17:35:33,708]\u001B[0m Trial 22 finished with value: 98.69 and parameters: {'lr': 0.1, 'bs': 64, 'delta_e': 0.10344827586206896}. Best is trial 17 with value: 98.9.\u001B[0m\n",
      "\u001B[32m[I 2023-05-06 17:36:02,010]\u001B[0m Trial 23 finished with value: 4.39 and parameters: {'lr': 2.592943797404667e-05, 'bs': 128, 'delta_e': 0.7241379310344828}. Best is trial 17 with value: 98.9.\u001B[0m\n",
      "\u001B[32m[I 2023-05-06 17:36:45,636]\u001B[0m Trial 24 finished with value: 15.06 and parameters: {'lr': 3.5622478902624444e-05, 'bs': 32, 'delta_e': 2.586206896551724}. Best is trial 17 with value: 98.9.\u001B[0m\n",
      "\u001B[32m[I 2023-05-06 17:37:14,246]\u001B[0m Trial 25 finished with value: 89.27 and parameters: {'lr': 0.007880462815669913, 'bs': 128, 'delta_e': 2.793103448275862}. Best is trial 17 with value: 98.9.\u001B[0m\n",
      "\u001B[32m[I 2023-05-06 17:37:47,210]\u001B[0m Trial 26 finished with value: 76.95 and parameters: {'lr': 0.0011721022975334804, 'bs': 64, 'delta_e': 1.1379310344827587}. Best is trial 17 with value: 98.9.\u001B[0m\n",
      "\u001B[32m[I 2023-05-06 17:38:20,593]\u001B[0m Trial 27 finished with value: 98.92 and parameters: {'lr': 0.0727895384398315, 'bs': 64, 'delta_e': 1.6551724137931034}. Best is trial 27 with value: 98.92.\u001B[0m\n",
      "\u001B[32m[I 2023-05-06 17:38:53,891]\u001B[0m Trial 28 finished with value: 48.08 and parameters: {'lr': 0.0006210169418915617, 'bs': 64, 'delta_e': 1.7586206896551724}. Best is trial 27 with value: 98.92.\u001B[0m\n",
      "\u001B[32m[I 2023-05-06 17:39:27,311]\u001B[0m Trial 29 finished with value: 91.02 and parameters: {'lr': 0.0041753189365604, 'bs': 64, 'delta_e': 1.4482758620689655}. Best is trial 27 with value: 98.92.\u001B[0m\n"
     ]
    },
    {
     "output_type": "stream",
     "name": "stdout",
     "text": [
      "{'bs': 64, 'delta_e': 1.6551724137931034, 'lr': 0.0727895384398315}\n"
     ]
    }
   ]
  },
  {
   "cell_type": "code",
   "source": [
    "study = optuna.create_study(\n",
    "    direction=\"maximize\",\n",
    "    sampler=TPESampler(n_startup_trials=115),\n",
    "    pruner=BasePruner,\n",
    "    study_name=\"bbi_wa_adapt_\",\n",
    "    storage=\"sqlite:///optuna1.db\",\n",
    ")\n",
    "study.optimize(lambda trial: hyperparameter_search(trial, BBI, wa = True, adaptive=True), n_trials=30)\n",
    "print(study.best_params)"
   ],
   "metadata": {
    "colab": {
     "base_uri": "https://localhost:8080/"
    },
    "id": "laB22HR56dVm",
    "outputId": "efa8c420-dfb5-4b8a-aeac-7805c1057bdb"
   },
   "execution_count": 14,
   "outputs": [
    {
     "output_type": "stream",
     "name": "stderr",
     "text": [
      "\u001B[32m[I 2023-05-06 17:46:42,371]\u001B[0m A new study created in RDB with name: bbi_wa_adapt_\u001B[0m\n",
      "\u001B[32m[I 2023-05-06 17:47:31,334]\u001B[0m Trial 0 finished with value: 97.34 and parameters: {'lr': 0.1, 'bs': 32, 'delta_e': 0.20689655172413793, 'lr_grad': 0.07244137931034483, 'beta1': 0.10344827586206896, 'beta2': 0.41379310344827586}. Best is trial 0 with value: 97.34.\u001B[0m\n",
      "\u001B[32m[I 2023-05-06 17:48:00,658]\u001B[0m Trial 1 finished with value: 8.91 and parameters: {'lr': 4.893900918477499e-05, 'bs': 128, 'delta_e': 1.5517241379310345, 'lr_grad': 0.07588620689655172, 'beta1': 0.27586206896551724, 'beta2': 0.8275862068965517}. Best is trial 0 with value: 97.34.\u001B[0m\n",
      "\u001B[32m[I 2023-05-06 17:48:36,179]\u001B[0m Trial 2 finished with value: 11.85 and parameters: {'lr': 0.0016102620275609393, 'bs': 64, 'delta_e': 1.6551724137931034, 'lr_grad': 0.03454827586206897, 'beta1': 0.034482758620689655, 'beta2': 0.24137931034482757}. Best is trial 0 with value: 97.34.\u001B[0m\n",
      "\u001B[32m[I 2023-05-06 17:49:06,089]\u001B[0m Trial 3 finished with value: 15.63 and parameters: {'lr': 6.723357536499335e-05, 'bs': 128, 'delta_e': 3.0, 'lr_grad': 0.07933103448275862, 'beta1': 0.24137931034482757, 'beta2': 0.6896551724137931}. Best is trial 0 with value: 97.34.\u001B[0m\n",
      "\u001B[32m[I 2023-05-06 17:49:35,294]\u001B[0m Trial 4 finished with value: 81.01 and parameters: {'lr': 0.007880462815669913, 'bs': 128, 'delta_e': 2.586206896551724, 'lr_grad': 0.006989655172413793, 'beta1': 0.9655172413793103, 'beta2': 0.6551724137931034}. Best is trial 0 with value: 97.34.\u001B[0m\n",
      "\u001B[32m[I 2023-05-06 17:50:10,977]\u001B[0m Trial 5 finished with value: 0.57 and parameters: {'lr': 3.5622478902624444e-05, 'bs': 64, 'delta_e': 1.8620689655172413, 'lr_grad': 0.0965551724137931, 'beta1': 0.48275862068965514, 'beta2': 0.8620689655172413}. Best is trial 0 with value: 97.34.\u001B[0m\n",
      "\u001B[32m[I 2023-05-06 17:50:46,312]\u001B[0m Trial 6 finished with value: 10.9 and parameters: {'lr': 0.00017433288221999874, 'bs': 64, 'delta_e': 2.689655172413793, 'lr_grad': 0.06210689655172414, 'beta1': 0.034482758620689655, 'beta2': 1.0}. Best is trial 0 with value: 97.34.\u001B[0m\n",
      "\u001B[32m[I 2023-05-06 17:51:21,282]\u001B[0m Trial 7 finished with value: 4.05 and parameters: {'lr': 4.893900918477499e-05, 'bs': 64, 'delta_e': 2.0689655172413794, 'lr_grad': 0.1, 'beta1': 0.5862068965517241, 'beta2': 0.9310344827586207}. Best is trial 0 with value: 97.34.\u001B[0m\n",
      "\u001B[32m[I 2023-05-06 17:51:50,466]\u001B[0m Trial 8 finished with value: 17.55 and parameters: {'lr': 0.00017433288221999874, 'bs': 128, 'delta_e': 0.20689655172413793, 'lr_grad': 0.06555172413793103, 'beta1': 0.8620689655172413, 'beta2': 0.24137931034482757}. Best is trial 0 with value: 97.34.\u001B[0m\n",
      "\u001B[32m[I 2023-05-06 17:52:19,677]\u001B[0m Trial 9 finished with value: 10.28 and parameters: {'lr': 0.00045203536563602454, 'bs': 128, 'delta_e': 2.0689655172413794, 'lr_grad': 0.02765862068965517, 'beta1': 0.13793103448275862, 'beta2': 0.48275862068965514}. Best is trial 0 with value: 97.34.\u001B[0m\n",
      "\u001B[32m[I 2023-05-06 17:52:54,597]\u001B[0m Trial 10 finished with value: 0.15 and parameters: {'lr': 4.893900918477499e-05, 'bs': 64, 'delta_e': 1.2413793103448276, 'lr_grad': 0.048327586206896554, 'beta1': 0.7241379310344828, 'beta2': 0.20689655172413793}. Best is trial 0 with value: 97.34.\u001B[0m\n",
      "\u001B[32m[I 2023-05-06 17:53:29,292]\u001B[0m Trial 11 finished with value: 6.82 and parameters: {'lr': 4.893900918477499e-05, 'bs': 64, 'delta_e': 2.896551724137931, 'lr_grad': 0.07244137931034483, 'beta1': 0.7241379310344828, 'beta2': 0.3103448275862069}. Best is trial 0 with value: 97.34.\u001B[0m\n",
      "\u001B[32m[I 2023-05-06 17:53:58,163]\u001B[0m Trial 12 finished with value: 0.0 and parameters: {'lr': 1e-05, 'bs': 128, 'delta_e': 1.4482758620689655, 'lr_grad': 0.0965551724137931, 'beta1': 0.24137931034482757, 'beta2': 0.3103448275862069}. Best is trial 0 with value: 97.34.\u001B[0m\n",
      "\u001B[32m[I 2023-05-06 17:54:27,705]\u001B[0m Trial 13 finished with value: 10.97 and parameters: {'lr': 0.00045203536563602454, 'bs': 128, 'delta_e': 1.6551724137931034, 'lr_grad': 0.05521724137931035, 'beta1': 0.41379310344827586, 'beta2': 0.9310344827586207}. Best is trial 0 with value: 97.34.\u001B[0m\n",
      "\u001B[32m[I 2023-05-06 17:55:15,567]\u001B[0m Trial 14 finished with value: 95.25 and parameters: {'lr': 0.020433597178569417, 'bs': 32, 'delta_e': 2.793103448275862, 'lr_grad': 0.013879310344827585, 'beta1': 0.13793103448275862, 'beta2': 0.5172413793103449}. Best is trial 0 with value: 97.34.\u001B[0m\n",
      "\u001B[32m[I 2023-05-06 17:55:44,497]\u001B[0m Trial 15 finished with value: 11.35 and parameters: {'lr': 0.0001268961003167922, 'bs': 128, 'delta_e': 1.5517241379310345, 'lr_grad': 0.06899655172413793, 'beta1': 0.9655172413793103, 'beta2': 0.6551724137931034}. Best is trial 0 with value: 97.34.\u001B[0m\n",
      "\u001B[32m[I 2023-05-06 17:56:19,506]\u001B[0m Trial 16 finished with value: 96.77 and parameters: {'lr': 0.03856620421163472, 'bs': 64, 'delta_e': 2.4827586206896552, 'lr_grad': 0.06899655172413793, 'beta1': 0.8620689655172413, 'beta2': 0.20689655172413793}. Best is trial 0 with value: 97.34.\u001B[0m\n",
      "\u001B[32m[I 2023-05-06 17:57:07,144]\u001B[0m Trial 17 finished with value: 1.08 and parameters: {'lr': 1.8873918221350995e-05, 'bs': 32, 'delta_e': 0.10344827586206896, 'lr_grad': 0.0931103448275862, 'beta1': 0.6206896551724138, 'beta2': 0.6206896551724138}. Best is trial 0 with value: 97.34.\u001B[0m\n",
      "\u001B[32m[I 2023-05-06 17:57:54,978]\u001B[0m Trial 18 finished with value: 75.99 and parameters: {'lr': 0.0030391953823131978, 'bs': 32, 'delta_e': 2.2758620689655173, 'lr_grad': 0.048327586206896554, 'beta1': 0.13793103448275862, 'beta2': 0.10344827586206896}. Best is trial 0 with value: 97.34.\u001B[0m\n",
      "\u001B[32m[I 2023-05-06 17:58:29,741]\u001B[0m Trial 19 finished with value: 4.54 and parameters: {'lr': 3.5622478902624444e-05, 'bs': 64, 'delta_e': 1.1379310344827587, 'lr_grad': 0.0931103448275862, 'beta1': 0.6551724137931034, 'beta2': 0.24137931034482757}. Best is trial 0 with value: 97.34.\u001B[0m\n",
      "\u001B[32m[I 2023-05-06 17:58:58,406]\u001B[0m Trial 20 finished with value: 23.67 and parameters: {'lr': 0.0041753189365604, 'bs': 128, 'delta_e': 2.2758620689655173, 'lr_grad': 0.048327586206896554, 'beta1': 0.3103448275862069, 'beta2': 0.10344827586206896}. Best is trial 0 with value: 97.34.\u001B[0m\n",
      "\u001B[32m[I 2023-05-06 17:59:33,305]\u001B[0m Trial 21 finished with value: 89.84 and parameters: {'lr': 0.007880462815669913, 'bs': 64, 'delta_e': 2.4827586206896552, 'lr_grad': 0.05177241379310345, 'beta1': 0.10344827586206896, 'beta2': 0.7931034482758621}. Best is trial 0 with value: 97.34.\u001B[0m\n",
      "\u001B[32m[I 2023-05-06 18:00:03,009]\u001B[0m Trial 22 finished with value: 67.97 and parameters: {'lr': 0.005736152510448681, 'bs': 128, 'delta_e': 2.4827586206896552, 'lr_grad': 0.031103448275862068, 'beta1': 0.13793103448275862, 'beta2': 0.6206896551724138}. Best is trial 0 with value: 97.34.\u001B[0m\n",
      "\u001B[32m[I 2023-05-06 18:00:32,110]\u001B[0m Trial 23 finished with value: 9.93 and parameters: {'lr': 9.236708571873866e-05, 'bs': 128, 'delta_e': 0.9310344827586207, 'lr_grad': 0.07933103448275862, 'beta1': 0.7241379310344828, 'beta2': 0.1724137931034483}. Best is trial 0 with value: 97.34.\u001B[0m\n",
      "\u001B[32m[I 2023-05-06 18:01:19,919]\u001B[0m Trial 24 finished with value: 0.14 and parameters: {'lr': 4.893900918477499e-05, 'bs': 32, 'delta_e': 1.3448275862068966, 'lr_grad': 0.05866206896551725, 'beta1': 0.3793103448275862, 'beta2': 0.7241379310344828}. Best is trial 0 with value: 97.34.\u001B[0m\n",
      "\u001B[32m[I 2023-05-06 18:01:49,610]\u001B[0m Trial 25 finished with value: 9.8 and parameters: {'lr': 0.00221221629107045, 'bs': 128, 'delta_e': 2.586206896551724, 'lr_grad': 0.010434482758620689, 'beta1': 0.6551724137931034, 'beta2': 0.6551724137931034}. Best is trial 0 with value: 97.34.\u001B[0m\n",
      "\u001B[32m[I 2023-05-06 18:02:18,250]\u001B[0m Trial 26 finished with value: 10.09 and parameters: {'lr': 0.0011721022975334804, 'bs': 128, 'delta_e': 0.9310344827586207, 'lr_grad': 0.013879310344827585, 'beta1': 0.9655172413793103, 'beta2': 0.1724137931034483}. Best is trial 0 with value: 97.34.\u001B[0m\n",
      "\u001B[32m[I 2023-05-06 18:02:53,002]\u001B[0m Trial 27 finished with value: 5.77 and parameters: {'lr': 1.8873918221350995e-05, 'bs': 64, 'delta_e': 0.10344827586206896, 'lr_grad': 0.04488275862068966, 'beta1': 0.8275862068965517, 'beta2': 0.5862068965517241}. Best is trial 0 with value: 97.34.\u001B[0m\n",
      "\u001B[32m[I 2023-05-06 18:03:28,210]\u001B[0m Trial 28 finished with value: 9.22 and parameters: {'lr': 2.592943797404667e-05, 'bs': 64, 'delta_e': 2.793103448275862, 'lr_grad': 0.07244137931034483, 'beta1': 0.10344827586206896, 'beta2': 0.896551724137931}. Best is trial 0 with value: 97.34.\u001B[0m\n",
      "\u001B[32m[I 2023-05-06 18:04:15,873]\u001B[0m Trial 29 finished with value: 2.88 and parameters: {'lr': 1.3738237958832637e-05, 'bs': 32, 'delta_e': 1.5517241379310345, 'lr_grad': 0.07244137931034483, 'beta1': 0.8620689655172413, 'beta2': 0.3448275862068966}. Best is trial 0 with value: 97.34.\u001B[0m\n"
     ]
    },
    {
     "output_type": "stream",
     "name": "stdout",
     "text": [
      "{'beta1': 0.10344827586206896, 'beta2': 0.41379310344827586, 'bs': 32, 'delta_e': 0.20689655172413793, 'lr': 0.1, 'lr_grad': 0.07244137931034483}\n"
     ]
    }
   ]
  },
  {
   "cell_type": "code",
   "execution_count": 27,
   "outputs": [],
   "source": [
    "# Function for testing optimizers, which return train, test loss per epoch and final accuracy\n",
    "def test(model, optimizer, batch_sizes, wa = False):\n",
    "    num_epochs = 5\n",
    "    train_loader = torch.utils.data.DataLoader(train_dataset, batch_size=batch_sizes, shuffle=True, num_workers=2)\n",
    "    test_loader = torch.utils.data.DataLoader(test_dataset, batch_size=batch_sizes, shuffle=True, num_workers=2)\n",
    "    train_losses = []\n",
    "    test_losses = []\n",
    "    if wa:\n",
    "      swa_model = AveragedModel(model)\n",
    "      scheduler = CosineAnnealingLR(optimizer, T_max=100)\n",
    "      swa_start = 3\n",
    "      swa_scheduler = SWALR(optimizer, swa_lr=0.05)\n",
    "    for epoch in range(num_epochs):\n",
    "        loss_epoch = 0\n",
    "        for i, (inputs, labels) in enumerate(train_loader):\n",
    "            inputs = inputs.to(device)\n",
    "            labels = labels.to(device)\n",
    "            optimizer.zero_grad()\n",
    "            outputs = model(inputs)\n",
    "            loss = criterion(outputs, labels)\n",
    "            loss_epoch += loss.item()\n",
    "            loss.backward()\n",
    "            if wa:\n",
    "              if epoch > swa_start:\n",
    "                swa_model.update_parameters(model)\n",
    "            if isinstance(optimizer, BBI):\n",
    "                def closure():\n",
    "                    return loss\n",
    "                optimizer.step(closure)\n",
    "            else:\n",
    "                optimizer.step()\n",
    "        train_losses.append(loss_epoch/len(train_loader))\n",
    "        loss_epoch = 0\n",
    "        with torch.no_grad():\n",
    "            for inputs, labels in test_loader:\n",
    "                inputs = inputs.to(device)\n",
    "                labels = labels.to(device)\n",
    "                outputs = model(inputs)\n",
    "                loss = criterion(outputs, labels)\n",
    "                loss_epoch+= float(loss.item())\n",
    "        test_losses.append(loss_epoch/len(test_loader))\n",
    "\n",
    "    correct = 0\n",
    "    total = 0\n",
    "    with torch.no_grad():\n",
    "        for inputs, labels in test_loader:\n",
    "            inputs = inputs.to(device)\n",
    "            labels = labels.to(device)\n",
    "            outputs = model(inputs)\n",
    "            _, predicted = torch.max(outputs.data, 1)\n",
    "            total += labels.size(0)\n",
    "            correct += (predicted == labels).sum().item()\n",
    "    accuracy = correct/total\n",
    "    # accuracy = 1\n",
    "    return train_losses, test_losses, accuracy"
   ],
   "metadata": {
    "ExecuteTime": {
     "start_time": "2023-04-27T14:59:59.613788Z",
     "end_time": "2023-04-27T14:59:59.623406Z"
    },
    "id": "UusYQ9FqPpdL"
   }
  },
  {
   "cell_type": "code",
   "execution_count": 28,
   "outputs": [
    {
     "output_type": "stream",
     "name": "stdout",
     "text": [
      "Test Accuracy of Adam 0.9895\n"
     ]
    }
   ],
   "source": [
    "# Testing Adam\n",
    "model = Net()\n",
    "if torch.cuda.is_available():\n",
    "    model.cuda()\n",
    "optimizer = Adam(model.parameters(), lr = 0.001)\n",
    "trainloss_adam, testloss_adam, accuracy = test(model, optimizer, 128)\n",
    "print(\"Test Accuracy of Adam\", accuracy)"
   ],
   "metadata": {
    "ExecuteTime": {
     "start_time": "2023-04-23T12:27:09.141892Z",
     "end_time": "2023-04-23T12:34:28.452939Z"
    },
    "id": "afCumI_qPpdM",
    "outputId": "a9a80a4e-4043-493d-dd1f-646f420b2e9f",
    "colab": {
     "base_uri": "https://localhost:8080/"
    }
   }
  },
  {
   "cell_type": "code",
   "execution_count": 29,
   "outputs": [
    {
     "output_type": "stream",
     "name": "stdout",
     "text": [
      "Test Accuracy of Adagrad 0.969\n"
     ]
    }
   ],
   "source": [
    "# Testing Adagrad\n",
    "model = Net()\n",
    "if torch.cuda.is_available():\n",
    "    model.cuda()\n",
    "optimizer = Adagrad(model.parameters(), lr = 0.003)\n",
    "trainloss_adagrad, testloss_adagrad, accuracy  = test(model, optimizer, 64)\n",
    "print(\"Test Accuracy of Adagrad\", accuracy)"
   ],
   "metadata": {
    "ExecuteTime": {
     "start_time": "2023-04-23T12:34:28.460547Z",
     "end_time": "2023-04-23T12:41:48.035558Z"
    },
    "id": "gfQgj5RbPpdM",
    "outputId": "d481cfa3-9a5d-454d-922b-1332a2bacdf3",
    "colab": {
     "base_uri": "https://localhost:8080/"
    }
   }
  },
  {
   "cell_type": "code",
   "execution_count": 30,
   "outputs": [
    {
     "output_type": "stream",
     "name": "stdout",
     "text": [
      "Test Accuracy of SGD 0.9863\n"
     ]
    }
   ],
   "source": [
    "#Testing SGD\n",
    "model = Net()\n",
    "if torch.cuda.is_available():\n",
    "    model.cuda()\n",
    "optimizer = SGD(model.parameters(), lr = 0.004, momentum=0.98)\n",
    "trainloss_sgd, testloss_sgd, accuracy = test(model, optimizer, 32)\n",
    "print(\"Test Accuracy of SGD\", accuracy)"
   ],
   "metadata": {
    "ExecuteTime": {
     "start_time": "2023-04-23T12:41:48.038563Z",
     "end_time": "2023-04-23T12:48:26.823328Z"
    },
    "id": "AtsrXSCQPpdM",
    "outputId": "44703f71-bdd4-4989-c059-3501c4f869d8",
    "colab": {
     "base_uri": "https://localhost:8080/"
    }
   }
  },
  {
   "cell_type": "code",
   "execution_count": 31,
   "outputs": [
    {
     "output_type": "stream",
     "name": "stdout",
     "text": [
      "Test Accuracy of BBI 0.9876\n"
     ]
    }
   ],
   "source": [
    "#Testing BBI\n",
    "model = Net()\n",
    "if torch.cuda.is_available():\n",
    "    model.cuda()\n",
    "optimizer = BBI(model.parameters(), lr =  0.1, deltaEn=2.06)\n",
    "trainloss_bbi, testloss_bbi, accuracy= test(model, optimizer, 64)\n",
    "print(\"Test Accuracy of BBI\", accuracy)"
   ],
   "metadata": {
    "ExecuteTime": {
     "start_time": "2023-04-27T15:00:04.562766Z",
     "end_time": "2023-04-27T15:07:06.277466Z"
    },
    "id": "aO5TCeYZPpdN",
    "outputId": "dd93145d-7f31-41fb-bf4e-a7ce68131d12",
    "colab": {
     "base_uri": "https://localhost:8080/"
    }
   }
  },
  {
   "cell_type": "code",
   "source": [
    "model = Net()\n",
    "if torch.cuda.is_available():\n",
    "    model.cuda()\n",
    "optimizer = BBI(model.parameters(), lr =  0.1, deltaEn=0.72, adaptive = True, \n",
    "                lr_grad=0.05, beta1 = 0.1, beta2 = 0.17, )\n",
    "trainloss_bbi_a, testloss_bbi_a, accuracy= test(model, optimizer, 128)\n",
    "print(\"Test Accuracy of BBI adaptive\", accuracy)"
   ],
   "metadata": {
    "colab": {
     "base_uri": "https://localhost:8080/"
    },
    "id": "cTowofjmXzF0",
    "outputId": "52923bd9-f19a-44b7-cc99-41ce51fda051"
   },
   "execution_count": 32,
   "outputs": [
    {
     "output_type": "stream",
     "name": "stdout",
     "text": [
      "Test Accuracy of BBI adaptive 0.982\n"
     ]
    }
   ]
  },
  {
   "cell_type": "code",
   "source": [
    "model = Net()\n",
    "if torch.cuda.is_available():\n",
    "    model.cuda()\n",
    "optimizer = BBI(model.parameters(), lr =  0.07, deltaEn=1.65)\n",
    "trainloss_bbi_wa, testloss_bbi_wa, accuracy= test(model, optimizer, 64,  wa = True)\n",
    "print(\"Test Accuracy of BBI with weight averaging\", accuracy)"
   ],
   "metadata": {
    "colab": {
     "base_uri": "https://localhost:8080/"
    },
    "id": "ZCAPJUghLOEj",
    "outputId": "1c4a9242-b215-4f35-bd19-4989343a0bd7"
   },
   "execution_count": 20,
   "outputs": [
    {
     "output_type": "stream",
     "name": "stdout",
     "text": [
      "Test Accuracy of BBI with weight averaging 0.988\n"
     ]
    }
   ]
  },
  {
   "cell_type": "code",
   "source": [
    "model = Net()\n",
    "if torch.cuda.is_available():\n",
    "    model.cuda()\n",
    "optimizer = BBI(model.parameters(), lr =  0.1, deltaEn=0.2, adaptive = True, \n",
    "                lr_grad=0.07, beta1 = 0.1, beta2 = 0.4, )\n",
    "trainloss_bbi_a_wa, testloss_bbi_a_wa, accuracy= test(model, optimizer, 32, wa = True)\n",
    "print(\"Test Accuracy of BBI with weight averaging and adaptive stepsize\", accuracy)"
   ],
   "metadata": {
    "colab": {
     "base_uri": "https://localhost:8080/"
    },
    "id": "y9u2iKhyLUEy",
    "outputId": "f64425a1-8752-4e4a-ff05-a298e68b33fb"
   },
   "execution_count": 21,
   "outputs": [
    {
     "output_type": "stream",
     "name": "stdout",
     "text": [
      "Test Accuracy of BBI with weight averaging and adaptive stepsize 0.9591\n"
     ]
    }
   ]
  },
  {
   "cell_type": "code",
   "execution_count": 35,
   "outputs": [
    {
     "output_type": "display_data",
     "data": {
      "text/plain": [
       "<Figure size 640x480 with 1 Axes>"
      ],
      "image/png": "[encoded data removed]"
     },
     "metadata": {}
    }
   ],
   "source": [
    "#PLot train loss\n",
    "\n",
    "t = np.arange(1, 6)\n",
    "\n",
    "g = sns.lineplot(y=trainloss_bbi, x=t, label='BBI')\n",
    "sns.lineplot(y=trainloss_bbi_a, x=t, label='BBI_adaptive')\n",
    "sns.lineplot(y=trainloss_bbi_wa, x=t, label='BBI_with_weight_aveg')\n",
    "sns.lineplot(y=trainloss_bbi_a_wa, x=t, label='BBI_adaptive_with_weight_aveg')\n",
    "sns.lineplot(y=trainloss_adam, x=t, label='Adam')\n",
    "sns.lineplot(y=trainloss_sgd, x=t, label='SGD')\n",
    "sns.lineplot(y=trainloss_adagrad, x=t, label='Adagrad')\n",
    "g.set(xticks=list(range(1,6)))\n",
    "plt.xlabel('Epoch')\n",
    "plt.ylabel('Train Loss')\n",
    "\n",
    "plt.legend()\n",
    "plt.show()"
   ],
   "metadata": {
    "ExecuteTime": {
     "start_time": "2023-04-23T14:03:04.246516Z",
     "end_time": "2023-04-23T14:03:04.554402Z"
    },
    "id": "ufa4gwkiPpdN",
    "outputId": "0c8d9c60-9022-460a-9121-023c4b9429cc",
    "colab": {
     "base_uri": "https://localhost:8080/",
     "height": 449
    }
   }
  },
  {
   "cell_type": "code",
   "execution_count": 36,
   "outputs": [
    {
     "output_type": "display_data",
     "data": {
      "text/plain": [
       "<Figure size 640x480 with 1 Axes>"
      ],
      "image/png": "[encoded data removed]"
     },
     "metadata": {}
    }
   ],
   "source": [
    "# Plot test loss\n",
    "t = np.arange(1, 6, 1)\n",
    "\n",
    "g = sns.lineplot(y=testloss_bbi, x=t, label='BBI')\n",
    "sns.lineplot(y=testloss_bbi_a, x=t, label='BBI_adaptive')\n",
    "sns.lineplot(y=testloss_bbi_wa, x=t, label='BBI_with_weight_aveg')\n",
    "sns.lineplot(y=testloss_bbi_a_wa, x=t, label='BBI_adaptive_with_weight_aveg')\n",
    "sns.lineplot(y=testloss_adam, x=t, label='Adam')\n",
    "sns.lineplot(y=testloss_sgd, x=t, label='SGD')\n",
    "sns.lineplot(y=testloss_adagrad, x=t, label='Adagrad')\n",
    "g.set(xticks=list(range(1,6)))\n",
    "# plt.title('Three Lines Plot')\n",
    "plt.xlabel('Epoch')\n",
    "plt.ylabel('Test loss')\n",
    "\n",
    "plt.legend()\n",
    "plt.show()"
   ],
   "metadata": {
    "ExecuteTime": {
     "start_time": "2023-04-23T14:04:03.634530Z",
     "end_time": "2023-04-23T14:04:03.927058Z"
    },
    "id": "VXmzBkypPpdN",
    "outputId": "2634b78a-0be4-457b-c5b2-b8cb19d9ab28",
    "colab": {
     "base_uri": "https://localhost:8080/",
     "height": 449
    }
   }
  },
  {
   "cell_type": "markdown",
   "source": [
    "Looking at plots above, we can make several conclusions:\n",
    "1) The performance of BBI is not far away from other famous optimizers, however both on train and test set it is a little worse than others.\n",
    "2) Looking at the test plot, we observe that BBI can be not monotone, similar to SGD. We can assume that it's the property of the method, or it stated to overfit at epoch 4."
   ],
   "metadata": {
    "collapsed": false,
    "id": "Vhjrfv5kPpdO"
   }
  }
 ],
 "metadata": {
  "kernelspec": {
   "display_name": "Python 3",
   "language": "python",
   "name": "python3"
  },
  "language_info": {
   "codemirror_mode": {
    "name": "ipython",
    "version": 2
   },
   "file_extension": ".py",
   "mimetype": "text/x-python",
   "name": "python",
   "nbconvert_exporter": "python",
   "pygments_lexer": "ipython2",
   "version": "2.7.6"
  },
  "colab": {
   "provenance": [],
   "gpuType": "T4"
  },
  "accelerator": "GPU",
  "gpuClass": "standard"
 },
 "nbformat": 4,
 "nbformat_minor": 0
}
