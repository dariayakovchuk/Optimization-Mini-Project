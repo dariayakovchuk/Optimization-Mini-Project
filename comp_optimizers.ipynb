{
  "cells": [
    {
      "cell_type": "markdown",
      "metadata": {
        "collapsed": false,
        "id": "GS1iS7AOPpc7"
      },
      "source": [
        "Comparing BBI to other optimizers like Adam, Adagrad, SGD\n",
        "\n",
        "In this notebook, we performed hyperparameter search and then trained and evaluated optimizers on MNIST dataset."
      ]
    },
    {
      "cell_type": "code",
      "execution_count": 1,
      "metadata": {
        "colab": {
          "base_uri": "https://localhost:8080/"
        },
        "id": "orH4YQDJWatD",
        "outputId": "7ba59637-6895-47f6-efce-310173797ef4"
      },
      "outputs": [
        {
          "output_type": "stream",
          "name": "stdout",
          "text": [
            "Looking in indexes: https://pypi.org/simple, https://us-python.pkg.dev/colab-wheels/public/simple/\n",
            "Requirement already satisfied: optuna in /usr/local/lib/python3.10/dist-packages (3.2.0)\n",
            "Requirement already satisfied: alembic>=1.5.0 in /usr/local/lib/python3.10/dist-packages (from optuna) (1.11.1)\n",
            "Requirement already satisfied: cmaes>=0.9.1 in /usr/local/lib/python3.10/dist-packages (from optuna) (0.9.1)\n",
            "Requirement already satisfied: colorlog in /usr/local/lib/python3.10/dist-packages (from optuna) (6.7.0)\n",
            "Requirement already satisfied: numpy in /usr/local/lib/python3.10/dist-packages (from optuna) (1.22.4)\n",
            "Requirement already satisfied: packaging>=20.0 in /usr/local/lib/python3.10/dist-packages (from optuna) (23.1)\n",
            "Requirement already satisfied: sqlalchemy>=1.3.0 in /usr/local/lib/python3.10/dist-packages (from optuna) (2.0.10)\n",
            "Requirement already satisfied: tqdm in /usr/local/lib/python3.10/dist-packages (from optuna) (4.65.0)\n",
            "Requirement already satisfied: PyYAML in /usr/local/lib/python3.10/dist-packages (from optuna) (6.0)\n",
            "Requirement already satisfied: Mako in /usr/local/lib/python3.10/dist-packages (from alembic>=1.5.0->optuna) (1.2.4)\n",
            "Requirement already satisfied: typing-extensions>=4 in /usr/local/lib/python3.10/dist-packages (from alembic>=1.5.0->optuna) (4.5.0)\n",
            "Requirement already satisfied: greenlet!=0.4.17 in /usr/local/lib/python3.10/dist-packages (from sqlalchemy>=1.3.0->optuna) (2.0.2)\n",
            "Requirement already satisfied: MarkupSafe>=0.9.2 in /usr/local/lib/python3.10/dist-packages (from Mako->alembic>=1.5.0->optuna) (2.1.2)\n",
            "Looking in indexes: https://pypi.org/simple, https://us-python.pkg.dev/colab-wheels/public/simple/\n",
            "Requirement already satisfied: mup in /usr/local/lib/python3.10/dist-packages (1.0.0)\n",
            "Requirement already satisfied: numpy in /usr/local/lib/python3.10/dist-packages (from mup) (1.22.4)\n",
            "Requirement already satisfied: pandas in /usr/local/lib/python3.10/dist-packages (from mup) (1.5.3)\n",
            "Requirement already satisfied: torch in /usr/local/lib/python3.10/dist-packages (from mup) (2.0.1+cu118)\n",
            "Requirement already satisfied: torchvision in /usr/local/lib/python3.10/dist-packages (from mup) (0.15.2+cu118)\n",
            "Requirement already satisfied: seaborn in /usr/local/lib/python3.10/dist-packages (from mup) (0.12.2)\n",
            "Requirement already satisfied: tqdm in /usr/local/lib/python3.10/dist-packages (from mup) (4.65.0)\n",
            "Requirement already satisfied: pyyaml in /usr/local/lib/python3.10/dist-packages (from mup) (6.0)\n",
            "Requirement already satisfied: python-dateutil>=2.8.1 in /usr/local/lib/python3.10/dist-packages (from pandas->mup) (2.8.2)\n",
            "Requirement already satisfied: pytz>=2020.1 in /usr/local/lib/python3.10/dist-packages (from pandas->mup) (2022.7.1)\n",
            "Requirement already satisfied: matplotlib!=3.6.1,>=3.1 in /usr/local/lib/python3.10/dist-packages (from seaborn->mup) (3.7.1)\n",
            "Requirement already satisfied: filelock in /usr/local/lib/python3.10/dist-packages (from torch->mup) (3.12.0)\n",
            "Requirement already satisfied: typing-extensions in /usr/local/lib/python3.10/dist-packages (from torch->mup) (4.5.0)\n",
            "Requirement already satisfied: sympy in /usr/local/lib/python3.10/dist-packages (from torch->mup) (1.11.1)\n",
            "Requirement already satisfied: networkx in /usr/local/lib/python3.10/dist-packages (from torch->mup) (3.1)\n",
            "Requirement already satisfied: jinja2 in /usr/local/lib/python3.10/dist-packages (from torch->mup) (3.1.2)\n",
            "Requirement already satisfied: triton==2.0.0 in /usr/local/lib/python3.10/dist-packages (from torch->mup) (2.0.0)\n",
            "Requirement already satisfied: cmake in /usr/local/lib/python3.10/dist-packages (from triton==2.0.0->torch->mup) (3.25.2)\n",
            "Requirement already satisfied: lit in /usr/local/lib/python3.10/dist-packages (from triton==2.0.0->torch->mup) (16.0.5)\n",
            "Requirement already satisfied: requests in /usr/local/lib/python3.10/dist-packages (from torchvision->mup) (2.27.1)\n",
            "Requirement already satisfied: pillow!=8.3.*,>=5.3.0 in /usr/local/lib/python3.10/dist-packages (from torchvision->mup) (8.4.0)\n",
            "Requirement already satisfied: contourpy>=1.0.1 in /usr/local/lib/python3.10/dist-packages (from matplotlib!=3.6.1,>=3.1->seaborn->mup) (1.0.7)\n",
            "Requirement already satisfied: cycler>=0.10 in /usr/local/lib/python3.10/dist-packages (from matplotlib!=3.6.1,>=3.1->seaborn->mup) (0.11.0)\n",
            "Requirement already satisfied: fonttools>=4.22.0 in /usr/local/lib/python3.10/dist-packages (from matplotlib!=3.6.1,>=3.1->seaborn->mup) (4.39.3)\n",
            "Requirement already satisfied: kiwisolver>=1.0.1 in /usr/local/lib/python3.10/dist-packages (from matplotlib!=3.6.1,>=3.1->seaborn->mup) (1.4.4)\n",
            "Requirement already satisfied: packaging>=20.0 in /usr/local/lib/python3.10/dist-packages (from matplotlib!=3.6.1,>=3.1->seaborn->mup) (23.1)\n",
            "Requirement already satisfied: pyparsing>=2.3.1 in /usr/local/lib/python3.10/dist-packages (from matplotlib!=3.6.1,>=3.1->seaborn->mup) (3.0.9)\n",
            "Requirement already satisfied: six>=1.5 in /usr/local/lib/python3.10/dist-packages (from python-dateutil>=2.8.1->pandas->mup) (1.16.0)\n",
            "Requirement already satisfied: MarkupSafe>=2.0 in /usr/local/lib/python3.10/dist-packages (from jinja2->torch->mup) (2.1.2)\n",
            "Requirement already satisfied: urllib3<1.27,>=1.21.1 in /usr/local/lib/python3.10/dist-packages (from requests->torchvision->mup) (1.26.15)\n",
            "Requirement already satisfied: certifi>=2017.4.17 in /usr/local/lib/python3.10/dist-packages (from requests->torchvision->mup) (2022.12.7)\n",
            "Requirement already satisfied: charset-normalizer~=2.0.0 in /usr/local/lib/python3.10/dist-packages (from requests->torchvision->mup) (2.0.12)\n",
            "Requirement already satisfied: idna<4,>=2.5 in /usr/local/lib/python3.10/dist-packages (from requests->torchvision->mup) (3.4)\n",
            "Requirement already satisfied: mpmath>=0.19 in /usr/local/lib/python3.10/dist-packages (from sympy->torch->mup) (1.3.0)\n"
          ]
        }
      ],
      "source": [
        "!pip install optuna\n",
        "!pip install mup"
      ]
    },
    {
      "cell_type": "code",
      "execution_count": 2,
      "metadata": {
        "ExecuteTime": {
          "end_time": "2023-04-27T14:59:50.159305Z",
          "start_time": "2023-04-27T14:59:47.885389Z"
        },
        "id": "vjaM4qj_Ppc_"
      },
      "outputs": [],
      "source": [
        "import numpy as np\n",
        "import seaborn as sns\n",
        "import matplotlib.pyplot as plt\n",
        "\n",
        "import torch\n",
        "import torch.nn as nn\n",
        "from torchvision import datasets, transforms\n",
        "import torch.nn.functional as F\n",
        "from torch.optim import Adam, Adagrad, SGD\n",
        "from torch.optim.swa_utils import AveragedModel, SWALR\n",
        "from torch.optim.lr_scheduler import CosineAnnealingLR\n",
        "device = torch.device('cuda' if torch.cuda.is_available() else 'cpu')\n",
        "\n",
        "import optuna\n",
        "from optuna.samplers import TPESampler\n",
        "from optuna.pruners import BasePruner\n",
        "\n",
        "import mup\n",
        "from mup import MuReadout, set_base_shapes"
      ]
    },
    {
      "cell_type": "code",
      "execution_count": null,
      "metadata": {
        "id": "nouASNizWatF"
      },
      "outputs": [],
      "source": [
        "from inflation import BBI\n",
        "from functions import MuBBI"
      ]
    },
    {
      "cell_type": "code",
      "execution_count": 3,
      "metadata": {
        "id": "LEFf4iWHPpdA"
      },
      "outputs": [],
      "source": [
        "from torch.optim.optimizer import Optimizer, required\n",
        "import numpy as np\n",
        "import torch\n",
        "# from torchcontrib.optim import SWA\n",
        "import math\n",
        "\n",
        "\n",
        "class BBI(Optimizer):\n",
        "    \"\"\"Optimizer based on the BBI model of inflation.\n",
        "    Args:\n",
        "        params (iterable): iterable of parameters to optimize or dicts defining\n",
        "            parameter groups\n",
        "        lr (float): learning rate\n",
        "        v0 (float): expected minimum of the potential (\\Delta V in the paper)\n",
        "        threshold0 (integer): threshold for fixed bounces (T_0 in the paper)\n",
        "        threshold1 (integer): threshold for progress-dependent bounces (T_1 in the paper)\n",
        "        deltaEn (float): extra initial energy (\\delta E in the paper)\n",
        "        consEn (bool): if True enforces energy conservation at every step\n",
        "        n_fixed_bounces (integer): number of bounces every T_0 iterations (N_b in the paper)\n",
        "    \"\"\"\n",
        "    def __init__(self, params, lr=required, eps1=1e-10, eps2 = 1e-40, v0=0, threshold0 = 1000, threshold = 3000, deltaEn = 0.0, consEn = True, n_fixed_bounces = 1, beta1 = 0.9, beta2 = 0.999, adaptive = False):\n",
        "\n",
        "            defaults = dict(lr=lr, eps1=eps1, eps2=eps2, v0=v0,\n",
        "                            threshold = threshold, threshold0 = threshold0,\n",
        "                            deltaEn = deltaEn, consEn = consEn,\n",
        "                            n_fixed_bounces = n_fixed_bounces,\n",
        "                            beta1 = beta1, beta2 = beta2\n",
        "                            )\n",
        "            self.energy = None\n",
        "            self.adaptive = adaptive\n",
        "            self.min_loss = None\n",
        "            self.iteration = 0\n",
        "            self.deltaEn = deltaEn\n",
        "            self.n_fixed_bounces = n_fixed_bounces\n",
        "            self.consEn = consEn\n",
        "            super(BBI, self).__init__(params, defaults)\n",
        "\n",
        "    def __setstate__(self, state):\n",
        "        super(BBI, self).__setstate__(state)\n",
        "\n",
        "    def step(self, closure):\n",
        "\n",
        "        loss = closure().item()\n",
        "\n",
        "        # initialization\n",
        "        if(self.iteration == 0):\n",
        "\n",
        "            #define a random numbers generator, in order not to use the ambient seed and have random bounces even with the same ambient seed\n",
        "            self.generator = torch.Generator(device = self.param_groups[0][\"params\"][0].device)\n",
        "            self.generator.manual_seed(self.generator.seed()+1)\n",
        "\n",
        "            #Initial energy\n",
        "            self.initV = loss-self.param_groups[0][\"v0\"]\n",
        "            self.init_energy = self.initV+self.deltaEn\n",
        "\n",
        "            # Some counters\n",
        "            self.counter0 = 0\n",
        "            self.fixed_bounces_performed = 0\n",
        "            self.counter = 0\n",
        "\n",
        "            self.min_loss = float(\"inf\")\n",
        "\n",
        "        for group in self.param_groups:\n",
        "\n",
        "            V = (loss - group[\"v0\"])\n",
        "            dt = group[\"lr\"]\n",
        "            eps1 = group[\"eps1\"]\n",
        "            eps2 = group[\"eps2\"]\n",
        "            threshold0 = group[\"threshold0\"]\n",
        "            threshold = group[\"threshold\"]\n",
        "            b1 = group[\"beta1\"]\n",
        "            b2 = group[\"beta2\"]\n",
        "            if V > eps2:\n",
        "\n",
        "                EoverV = self.init_energy/V\n",
        "                VoverE = V/self.init_energy\n",
        "\n",
        "                # Now I check if loss and pi^2 are consistent with the initial value of the energy\n",
        "\n",
        "                ps2_pre = torch.tensor(0.0, device = self.param_groups[0][\"params\"][0].device )\n",
        "\n",
        "                for p in group[\"params\"]:\n",
        "                    param_state = self.state[p]\n",
        "                    d_p = p.grad.data\n",
        "                    #Initialize in the direction of the gradient, with magnitude related to deltaE\n",
        "                    if \"momentum_buffer\" not in param_state:\n",
        "                        buf = param_state[\"momentum_buffer\"] = -(d_p/torch.norm(d_p))*torch.sqrt(torch.tensor( ((self.init_energy**2)/self.initV) - self.initV ))\n",
        "                    else:\n",
        "                        buf = param_state[\"momentum_buffer\"]\n",
        "\n",
        "                    # compute the current pi^2 . Pre means that this is the value before the iteration step\n",
        "                    ps2_pre += torch.dot(buf.view(-1), buf.view(-1))\n",
        "\n",
        "\n",
        "                if (self.consEn == True):\n",
        "\n",
        "                    # Compare this \\pi^2 with what it should have been if the energy was correct\n",
        "                    ps2_correct = V*( (EoverV**2)-1.0 )\n",
        "\n",
        "                    # Compute the rescaling factor, only if real\n",
        "                    if torch.abs(ps2_pre-ps2_correct) <  eps1:\n",
        "                        self.rescaling_pi = 1.0\n",
        "                    elif ps2_correct < 0.0:\n",
        "                        self.rescaling_pi = 1.0\n",
        "                    else:\n",
        "                        self.rescaling_pi = torch.sqrt(((ps2_correct/(ps2_pre))))\n",
        "\n",
        "\n",
        "                # Perform the optimization step\n",
        "                if (self.counter != threshold) and (self.counter0 != threshold0) :\n",
        "\n",
        "                    for p in group[\"params\"]:\n",
        "                        if p.grad is None:\n",
        "                            continue\n",
        "                        d_p = p.grad.data\n",
        "                        param_state = self.state[p]\n",
        "\n",
        "                        if \"momentum_buffer\" not in param_state:\n",
        "                            buf = param_state[\"momentum_buffer\"] = torch.zeros_like(p.data)\n",
        "                        else:\n",
        "                            buf = param_state[\"momentum_buffer\"]\n",
        "                        if self.adaptive:\n",
        "                          if \"exp_avg\" not in param_state:\n",
        "                              param_state['exp_avg'] = torch.zeros_like(p.data)\n",
        "                              param_state['exp_avg_sq'] = torch.zeros_like(p.data)\n",
        "                          exp_avg, exp_avg_sq = param_state['exp_avg'], param_state['exp_avg_sq']\n",
        "                          exp_avg = torch.mul(exp_avg, b1) + (1 - b1)* d_p\n",
        "\n",
        "                          exp_avg_sq = torch.mul(exp_avg_sq, b2) + (1-b2)*(d_p*d_p)\n",
        "\n",
        "                          denom = exp_avg_sq.sqrt() + eps1\n",
        "\n",
        "                          bias_correction1 = 1 / (1 - b1 ** (self.counter + 1))\n",
        "                          bias_correction2 = 1 / (1 - b2 ** (self.counter + 1))\n",
        "\n",
        "                          adapted_learning_rate = dt * bias_correction1 / math.sqrt(bias_correction2)\n",
        "\n",
        "                          update = adapted_learning_rate * exp_avg / denom\n",
        "                        else:\n",
        "                          update = d_p\n",
        "                        # Here the rescaling of momenta to enforce conservation of energy\n",
        "                        if (self.consEn == True):\n",
        "                            buf.mul_(self.rescaling_pi)\n",
        "\n",
        "                        buf.add_(- 0.5 * dt * (VoverE + EoverV)*update)\n",
        "\n",
        "                        p.data.add_(VoverE* dt* buf)\n",
        "\n",
        "                    # Updates counters\n",
        "                    self.counter0+=1\n",
        "                    self.counter+=1\n",
        "                    self.iteration+=1\n",
        "\n",
        "                    # Checks progress\n",
        "                    if V < self.min_loss:\n",
        "                            self.min_loss = V\n",
        "                            self.counter = 0\n",
        "                # Bounces\n",
        "                else:\n",
        "\n",
        "                    #First we iterate once to compute pi^2, we randomly regenerate the directions, and we compute the new norm squared\n",
        "\n",
        "                    ps20 = torch.tensor(0.0, device = self.param_groups[0][\"params\"][0].device )\n",
        "                    ps2new = torch.tensor(0.0, device = self.param_groups[0][\"params\"][0].device )\n",
        "\n",
        "                    for p in group[\"params\"]:\n",
        "                        param_state = self.state[p]\n",
        "\n",
        "                        buf = param_state[\"momentum_buffer\"]\n",
        "                        ps20 += torch.dot(buf.view(-1), buf.view(-1))\n",
        "                        new_buf = param_state[\"momentum_buffer\"] = torch.rand(buf.size(), device=buf.device, generator = self.generator)-.5\n",
        "                        ps2new += torch.dot(new_buf.view(-1), new_buf.view(-1))\n",
        "\n",
        "                    # Then rescale them\n",
        "                    for p in group[\"params\"]:\n",
        "                        param_state = self.state[p]\n",
        "                        buf = param_state[\"momentum_buffer\"]\n",
        "                        buf.mul_(torch.sqrt(ps20/ps2new))\n",
        "\n",
        "                    # Update counters\n",
        "                    if (self.counter0 == threshold0):\n",
        "                        self.fixed_bounces_performed+=1\n",
        "                        if self.fixed_bounces_performed < self.n_fixed_bounces:\n",
        "                            self.counter0 = 0\n",
        "                        else:\n",
        "                            self.counter0+=1\n",
        "                    self.counter = 0\n",
        "        return loss"
      ]
    },
    {
      "cell_type": "code",
      "execution_count": 4,
      "metadata": {
        "id": "iS_k_tjqWatH"
      },
      "outputs": [],
      "source": [
        "from mup import MuAdam\n",
        "\n",
        "\n",
        "def MuBBI(params, **kwargs):\n",
        "    '''\n",
        "    BBI µP optimizer\n",
        "    '''\n",
        "    return MuAdam(params, impl=BBI, **kwargs)"
      ]
    },
    {
      "cell_type": "code",
      "execution_count": 5,
      "metadata": {
        "ExecuteTime": {
          "end_time": "2023-04-27T14:59:50.251994Z",
          "start_time": "2023-04-27T14:59:50.165303Z"
        },
        "id": "-S3WHFTfPpdF"
      },
      "outputs": [],
      "source": [
        "# Load dataset\n",
        "transform = transforms.Compose([\n",
        "    transforms.ToTensor(),\n",
        "    # transforms.Normalize((0.1307,), (0.3081,))\n",
        "])\n",
        "\n",
        "train_dataset = datasets.MNIST('mnist/', train=True, download=True, transform=transform)\n",
        "test_dataset = datasets.MNIST('mnist/', train=False, download=True, transform=transform)\n",
        "\n",
        "batch_size = 64\n",
        "train_loader = torch.utils.data.DataLoader(train_dataset, batch_size=batch_size, shuffle=True, num_workers=2)\n",
        "test_loader = torch.utils.data.DataLoader(test_dataset, batch_size=batch_size, shuffle=True, num_workers=2)"
      ]
    },
    {
      "cell_type": "code",
      "execution_count": 6,
      "metadata": {
        "ExecuteTime": {
          "end_time": "2023-04-27T14:59:53.896548Z",
          "start_time": "2023-04-27T14:59:53.875057Z"
        },
        "id": "iNTMBjdMPpdG"
      },
      "outputs": [],
      "source": [
        "# Define simple CNN and loss function\n",
        "class Net(nn.Module):\n",
        "    def __init__(self):\n",
        "        super().__init__()\n",
        "        self.conv1 = nn.Conv2d(1, 16, 5, 1, 2)\n",
        "        self.pool = nn.MaxPool2d(2)\n",
        "        self.conv2 = nn.Conv2d(16, 32, 5, 1, 2)\n",
        "        self.fc1 = nn.Linear(32*7*7, 120)\n",
        "\n",
        "    def forward(self, x):\n",
        "        x = self.pool(F.relu(self.conv1(x)))\n",
        "        x = self.pool(F.relu(self.conv2(x)))\n",
        "        x = torch.flatten(x, 1)\n",
        "        x = self.fc1(x)\n",
        "        return x\n",
        "    \n",
        "\n",
        "class MuNet(nn.Module):\n",
        "    def __init__(self, channels=16):\n",
        "        super().__init__()\n",
        "        self.conv1 = nn.Conv2d(1, channels, 5, 1, 2)\n",
        "        self.pool = nn.MaxPool2d(2)\n",
        "        self.conv2 = nn.Conv2d(channels, channels*2, 5, 1, 2)\n",
        "        self.fc1 = MuReadout(channels*2*7*7, 120)\n",
        "\n",
        "    def forward(self, x):\n",
        "        x = self.pool(F.relu(self.conv1(x)))\n",
        "        x = self.pool(F.relu(self.conv2(x)))\n",
        "        x = torch.flatten(x, 1)\n",
        "        x = self.fc1(x)\n",
        "        return x\n",
        "\n",
        "\n",
        "criterion = nn.CrossEntropyLoss()"
      ]
    },
    {
      "cell_type": "code",
      "execution_count": 7,
      "metadata": {
        "ExecuteTime": {
          "end_time": "2023-04-17T19:11:20.292582Z",
          "start_time": "2023-04-17T19:11:20.273044Z"
        },
        "id": "zE2-QkHVPpdH"
      },
      "outputs": [],
      "source": [
        "# Function for tuning hyperparameters using optuna framework\n",
        "def hyperparameter_search(trial: optuna.trial.Trial, optimizer, adaptive = False, wa = False):\n",
        "    if not optimizer == MuBBI:\n",
        "        model = Net()\n",
        "    else:\n",
        "        base_model = MuNet(channels=2).to(device)\n",
        "        delta_model = MuNet(channels=4).to(device)\n",
        "        model = MuNet(channels=16).to(device)\n",
        "        set_base_shapes(model, base_model, delta=delta_model)\n",
        "        for param in model.parameters():\n",
        "            mup.init.uniform_(param, -0.1, 0.1)\n",
        "\n",
        "    swa_start = 1000000\n",
        "    if torch.cuda.is_available():\n",
        "        model.cuda()\n",
        "    learning_rates = trial.suggest_categorical(\"lr\",np.logspace(-1, -5, num=30))\n",
        "    batch_sizes = trial.suggest_categorical(\"bs\",[32, 64, 128])\n",
        "    if isinstance(optimizer(model.parameters(), lr=0.01), BBI) or isinstance(optimizer(model.parameters(), lr=0.01), MuBBI):\n",
        "        delta_E = trial.suggest_categorical(\"delta_e\", np.linspace(0, 3, 30))\n",
        "        if adaptive:\n",
        "          beta1 = trial.suggest_categorical(\"beta1\", np.linspace(0, 1, 30))\n",
        "          beta2 = trial.suggest_categorical(\"beta2\", np.linspace(0, 1, 30))\n",
        "          optimizer = optimizer(model.parameters(), lr=learning_rates, deltaEn = delta_E ,beta1 = beta1, beta2 = beta2, adaptive = True,)\n",
        "        else:\n",
        "            optimizer = optimizer(model.parameters(), lr=learning_rates, deltaEn = delta_E)\n",
        "    elif isinstance(optimizer(model.parameters(), lr=0.01), SGD):\n",
        "        momentum = trial.suggest_categorical(\"momentum\", np.linspace(0.5, 0.999, 30))\n",
        "        optimizer = optimizer(model.parameters(), lr=learning_rates, momentum = momentum)\n",
        "    else:\n",
        "        weight_decay_values = trial.suggest_categorical(\"wd\", np.linspace(0, 0.5, 10))\n",
        "        optimizer = optimizer(model.parameters(), lr=learning_rates, weight_decay=weight_decay_values)\n",
        "    num_epochs = 3\n",
        "    train_loader = torch.utils.data.DataLoader(train_dataset, batch_size=batch_sizes, shuffle=True, num_workers=2)\n",
        "    test_loader = torch.utils.data.DataLoader(test_dataset, batch_size=batch_sizes, shuffle=True, num_workers=2)\n",
        "    if wa:\n",
        "        swa_model = AveragedModel(model)\n",
        "        scheduler = CosineAnnealingLR(optimizer, T_max=100)\n",
        "        swa_scheduler = SWALR(optimizer, swa_lr=0.05)\n",
        "        swa_start = 2\n",
        "    for epoch in range(num_epochs):\n",
        "        for i, (inputs, labels) in enumerate(train_loader):\n",
        "            inputs = inputs.to(device)\n",
        "            labels = labels.to(device)\n",
        "            optimizer.zero_grad()\n",
        "            outputs = model(inputs)\n",
        "            loss = criterion(outputs, labels)\n",
        "            loss.backward()\n",
        "            if epoch > swa_start:\n",
        "                swa_model.update_parameters(model)\n",
        "            if isinstance(optimizer, BBI) or isinstance(optimizer, MuBBI):\n",
        "                def closure():\n",
        "                    return loss\n",
        "                optimizer.step(closure)\n",
        "            else:\n",
        "                optimizer.step()\n",
        "\n",
        "    correct = 0\n",
        "    total = 0\n",
        "    with torch.no_grad():\n",
        "        for inputs, labels in test_loader:\n",
        "            inputs = inputs.to(device)\n",
        "            labels = labels.to(device)\n",
        "            outputs = model(inputs)\n",
        "            _, predicted = torch.max(outputs.data, 1)\n",
        "            total += labels.size(0)\n",
        "            correct += (predicted == labels).sum().item()\n",
        "\n",
        "    accuracy = 100 * correct / total\n",
        "    return accuracy\n"
      ]
    },
    {
      "cell_type": "code",
      "execution_count": null,
      "metadata": {
        "ExecuteTime": {
          "end_time": "2023-04-17T19:27:35.401985Z",
          "start_time": "2023-04-17T19:11:26.014503Z"
        },
        "colab": {
          "base_uri": "https://localhost:8080/"
        },
        "id": "POOCGUs4PpdI",
        "outputId": "7aec6b4b-ed19-4bd9-f815-0254fe2fa6d3"
      },
      "outputs": [
        {
          "name": "stderr",
          "output_type": "stream",
          "text": [
            "\u001b[32m[I 2023-05-28 09:23:26,285]\u001b[0m Using an existing study with name 'adamm' instead of creating a new one.\u001b[0m\n",
            "\u001b[32m[I 2023-05-28 09:24:01,188]\u001b[0m Trial 2 finished with value: 85.12 and parameters: {'lr': 0.0008531678524172806, 'bs': 64, 'wd': 0.38888888888888884}. Best is trial 2 with value: 85.12.\u001b[0m\n",
            "\u001b[32m[I 2023-05-28 09:24:36,306]\u001b[0m Trial 3 finished with value: 83.34 and parameters: {'lr': 0.0001268961003167922, 'bs': 64, 'wd': 0.5}. Best is trial 2 with value: 85.12.\u001b[0m\n",
            "\u001b[32m[I 2023-05-28 09:25:05,274]\u001b[0m Trial 4 finished with value: 81.23 and parameters: {'lr': 0.020433597178569417, 'bs': 128, 'wd': 0.5}. Best is trial 2 with value: 85.12.\u001b[0m\n",
            "\u001b[32m[I 2023-05-28 09:25:34,064]\u001b[0m Trial 5 finished with value: 86.66 and parameters: {'lr': 9.236708571873866e-05, 'bs': 128, 'wd': 0.3333333333333333}. Best is trial 5 with value: 86.66.\u001b[0m\n",
            "\u001b[32m[I 2023-05-28 09:26:18,711]\u001b[0m Trial 6 finished with value: 91.04 and parameters: {'lr': 0.00221221629107045, 'bs': 32, 'wd': 0.16666666666666666}. Best is trial 6 with value: 91.04.\u001b[0m\n",
            "\u001b[32m[I 2023-05-28 09:27:03,028]\u001b[0m Trial 7 finished with value: 91.97 and parameters: {'lr': 0.005736152510448681, 'bs': 32, 'wd': 0.1111111111111111}. Best is trial 7 with value: 91.97.\u001b[0m\n",
            "\u001b[32m[I 2023-05-28 09:27:31,520]\u001b[0m Trial 8 finished with value: 98.63 and parameters: {'lr': 0.0016102620275609393, 'bs': 128, 'wd': 0.0}. Best is trial 8 with value: 98.63.\u001b[0m\n",
            "\u001b[32m[I 2023-05-28 09:28:00,148]\u001b[0m Trial 9 finished with value: 89.56 and parameters: {'lr': 0.020433597178569417, 'bs': 128, 'wd': 0.1111111111111111}. Best is trial 8 with value: 98.63.\u001b[0m\n",
            "\u001b[32m[I 2023-05-28 09:28:44,111]\u001b[0m Trial 10 finished with value: 87.43 and parameters: {'lr': 4.893900918477499e-05, 'bs': 32, 'wd': 0.2222222222222222}. Best is trial 8 with value: 98.63.\u001b[0m\n",
            "\u001b[32m[I 2023-05-28 09:29:17,612]\u001b[0m Trial 11 finished with value: 78.26 and parameters: {'lr': 1e-05, 'bs': 64, 'wd': 0.0}. Best is trial 8 with value: 98.63.\u001b[0m\n",
            "\u001b[32m[I 2023-05-28 09:29:46,272]\u001b[0m Trial 12 finished with value: 82.98 and parameters: {'lr': 0.0006210169418915617, 'bs': 128, 'wd': 0.38888888888888884}. Best is trial 8 with value: 98.63.\u001b[0m\n",
            "\u001b[32m[I 2023-05-28 09:30:30,160]\u001b[0m Trial 13 finished with value: 65.62 and parameters: {'lr': 0.03856620421163472, 'bs': 32, 'wd': 0.5}. Best is trial 8 with value: 98.63.\u001b[0m\n",
            "\u001b[32m[I 2023-05-28 09:31:13,054]\u001b[0m Trial 14 finished with value: 84.86 and parameters: {'lr': 0.0011721022975334804, 'bs': 32, 'wd': 0.3333333333333333}. Best is trial 8 with value: 98.63.\u001b[0m\n",
            "\u001b[32m[I 2023-05-28 09:31:42,121]\u001b[0m Trial 15 finished with value: 90.42 and parameters: {'lr': 6.723357536499335e-05, 'bs': 128, 'wd': 0.05555555555555555}. Best is trial 8 with value: 98.63.\u001b[0m\n",
            "\u001b[32m[I 2023-05-28 09:32:10,251]\u001b[0m Trial 16 finished with value: 98.22 and parameters: {'lr': 0.0006210169418915617, 'bs': 128, 'wd': 0.0}. Best is trial 8 with value: 98.63.\u001b[0m\n",
            "\u001b[32m[I 2023-05-28 09:32:53,820]\u001b[0m Trial 17 finished with value: 84.64 and parameters: {'lr': 0.0008531678524172806, 'bs': 32, 'wd': 0.4444444444444444}. Best is trial 8 with value: 98.63.\u001b[0m\n",
            "\u001b[32m[I 2023-05-28 09:33:26,175]\u001b[0m Trial 18 finished with value: 77.27 and parameters: {'lr': 0.0030391953823131978, 'bs': 64, 'wd': 0.4444444444444444}. Best is trial 8 with value: 98.63.\u001b[0m\n",
            "\u001b[32m[I 2023-05-28 09:33:54,766]\u001b[0m Trial 19 finished with value: 90.45 and parameters: {'lr': 0.00017433288221999874, 'bs': 128, 'wd': 0.16666666666666666}. Best is trial 8 with value: 98.63.\u001b[0m\n",
            "\u001b[32m[I 2023-05-28 09:34:26,923]\u001b[0m Trial 20 finished with value: 86.24 and parameters: {'lr': 2.592943797404667e-05, 'bs': 64, 'wd': 0.1111111111111111}. Best is trial 8 with value: 98.63.\u001b[0m\n",
            "\u001b[32m[I 2023-05-28 09:35:10,238]\u001b[0m Trial 21 finished with value: 88.47 and parameters: {'lr': 0.0006210169418915617, 'bs': 32, 'wd': 0.2222222222222222}. Best is trial 8 with value: 98.63.\u001b[0m\n",
            "\u001b[32m[I 2023-05-28 09:35:52,642]\u001b[0m Trial 22 finished with value: 83.81 and parameters: {'lr': 0.0030391953823131978, 'bs': 32, 'wd': 0.2777777777777778}. Best is trial 8 with value: 98.63.\u001b[0m\n",
            "\u001b[32m[I 2023-05-28 09:36:35,795]\u001b[0m Trial 23 finished with value: 85.46 and parameters: {'lr': 2.592943797404667e-05, 'bs': 32, 'wd': 0.3333333333333333}. Best is trial 8 with value: 98.63.\u001b[0m\n",
            "\u001b[32m[I 2023-05-28 09:37:08,866]\u001b[0m Trial 24 finished with value: 79.23 and parameters: {'lr': 2.592943797404667e-05, 'bs': 64, 'wd': 0.5}. Best is trial 8 with value: 98.63.\u001b[0m\n",
            "\u001b[32m[I 2023-05-28 09:37:51,224]\u001b[0m Trial 25 finished with value: 94.33 and parameters: {'lr': 0.007880462815669913, 'bs': 32, 'wd': 0.05555555555555555}. Best is trial 8 with value: 98.63.\u001b[0m\n",
            "\u001b[32m[I 2023-05-28 09:38:34,712]\u001b[0m Trial 26 finished with value: 87.33 and parameters: {'lr': 0.0011721022975334804, 'bs': 32, 'wd': 0.2777777777777778}. Best is trial 8 with value: 98.63.\u001b[0m\n",
            "\u001b[32m[I 2023-05-28 09:39:17,290]\u001b[0m Trial 27 finished with value: 94.9 and parameters: {'lr': 0.00221221629107045, 'bs': 32, 'wd': 0.05555555555555555}. Best is trial 8 with value: 98.63.\u001b[0m\n",
            "\u001b[32m[I 2023-05-28 09:39:50,879]\u001b[0m Trial 28 finished with value: 91.06 and parameters: {'lr': 0.00017433288221999874, 'bs': 64, 'wd': 0.16666666666666666}. Best is trial 8 with value: 98.63.\u001b[0m\n",
            "\u001b[32m[I 2023-05-28 09:40:24,124]\u001b[0m Trial 29 finished with value: 91.31 and parameters: {'lr': 0.00017433288221999874, 'bs': 64, 'wd': 0.16666666666666666}. Best is trial 8 with value: 98.63.\u001b[0m\n",
            "\u001b[32m[I 2023-05-28 09:40:56,954]\u001b[0m Trial 30 finished with value: 79.84 and parameters: {'lr': 1e-05, 'bs': 64, 'wd': 0.0}. Best is trial 8 with value: 98.63.\u001b[0m\n",
            "\u001b[32m[I 2023-05-28 09:41:29,970]\u001b[0m Trial 31 finished with value: 84.26 and parameters: {'lr': 4.893900918477499e-05, 'bs': 64, 'wd': 0.38888888888888884}. Best is trial 8 with value: 98.63.\u001b[0m\n"
          ]
        },
        {
          "name": "stdout",
          "output_type": "stream",
          "text": [
            "{'bs': 128, 'lr': 0.0016102620275609393, 'wd': 0.0}\n"
          ]
        }
      ],
      "source": [
        "# Search for best parameters for Adam\n",
        "study = optuna.create_study(\n",
        "    direction=\"maximize\",\n",
        "    sampler=TPESampler(n_startup_trials=115),\n",
        "    pruner=BasePruner,\n",
        "    study_name=\"adamm\",\n",
        "    storage=\"sqlite:///optuna1.db\",\n",
        "    load_if_exists=True,\n",
        ")\n",
        "study.optimize(lambda trial: hyperparameter_search(trial, Adam), n_trials=30)\n",
        "print(study.best_params)"
      ]
    },
    {
      "cell_type": "code",
      "execution_count": null,
      "metadata": {
        "ExecuteTime": {
          "end_time": "2023-04-17T19:42:42.807535Z",
          "start_time": "2023-04-17T19:27:35.414011Z"
        },
        "colab": {
          "base_uri": "https://localhost:8080/"
        },
        "id": "4ijW_lfHPpdK",
        "outputId": "32ab3eed-ecc6-4b95-a471-b1e1b0483fea"
      },
      "outputs": [
        {
          "name": "stderr",
          "output_type": "stream",
          "text": [
            "\u001b[32m[I 2023-05-28 09:41:42,640]\u001b[0m A new study created in RDB with name: adagrad\u001b[0m\n",
            "\u001b[32m[I 2023-05-28 09:42:27,563]\u001b[0m Trial 0 finished with value: 84.53 and parameters: {'lr': 0.0727895384398315, 'bs': 32, 'wd': 0.3333333333333333}. Best is trial 0 with value: 84.53.\u001b[0m\n",
            "\u001b[32m[I 2023-05-28 09:43:12,349]\u001b[0m Trial 1 finished with value: 85.39 and parameters: {'lr': 0.0030391953823131978, 'bs': 32, 'wd': 0.4444444444444444}. Best is trial 1 with value: 85.39.\u001b[0m\n",
            "\u001b[32m[I 2023-05-28 09:43:56,071]\u001b[0m Trial 2 finished with value: 98.64 and parameters: {'lr': 0.010826367338740546, 'bs': 32, 'wd': 0.0}. Best is trial 2 with value: 98.64.\u001b[0m\n",
            "\u001b[32m[I 2023-05-28 09:44:24,896]\u001b[0m Trial 3 finished with value: 95.36 and parameters: {'lr': 0.010826367338740546, 'bs': 128, 'wd': 0.05555555555555555}. Best is trial 2 with value: 98.64.\u001b[0m\n",
            "\u001b[32m[I 2023-05-28 09:45:09,293]\u001b[0m Trial 4 finished with value: 89.47 and parameters: {'lr': 0.005736152510448681, 'bs': 32, 'wd': 0.2222222222222222}. Best is trial 2 with value: 98.64.\u001b[0m\n",
            "\u001b[32m[I 2023-05-28 09:45:37,753]\u001b[0m Trial 5 finished with value: 87.48 and parameters: {'lr': 0.0016102620275609393, 'bs': 128, 'wd': 0.2222222222222222}. Best is trial 2 with value: 98.64.\u001b[0m\n",
            "\u001b[32m[I 2023-05-28 09:46:22,638]\u001b[0m Trial 6 finished with value: 17.26 and parameters: {'lr': 2.592943797404667e-05, 'bs': 32, 'wd': 0.2777777777777778}. Best is trial 2 with value: 98.64.\u001b[0m\n",
            "\u001b[32m[I 2023-05-28 09:46:56,179]\u001b[0m Trial 7 finished with value: 67.59 and parameters: {'lr': 0.0001268961003167922, 'bs': 64, 'wd': 0.1111111111111111}. Best is trial 2 with value: 98.64.\u001b[0m\n",
            "\u001b[32m[I 2023-05-28 09:47:40,916]\u001b[0m Trial 8 finished with value: 14.38 and parameters: {'lr': 2.592943797404667e-05, 'bs': 32, 'wd': 0.2222222222222222}. Best is trial 2 with value: 98.64.\u001b[0m\n",
            "\u001b[32m[I 2023-05-28 09:48:09,305]\u001b[0m Trial 9 finished with value: 71.79 and parameters: {'lr': 0.00032903445623126676, 'bs': 128, 'wd': 0.2777777777777778}. Best is trial 2 with value: 98.64.\u001b[0m\n",
            "\u001b[32m[I 2023-05-28 09:48:43,484]\u001b[0m Trial 10 finished with value: 9.73 and parameters: {'lr': 1.3738237958832637e-05, 'bs': 64, 'wd': 0.38888888888888884}. Best is trial 2 with value: 98.64.\u001b[0m\n",
            "\u001b[32m[I 2023-05-28 09:49:17,347]\u001b[0m Trial 11 finished with value: 84.21 and parameters: {'lr': 0.0041753189365604, 'bs': 64, 'wd': 0.5}. Best is trial 2 with value: 98.64.\u001b[0m\n",
            "\u001b[32m[I 2023-05-28 09:49:45,405]\u001b[0m Trial 12 finished with value: 0.64 and parameters: {'lr': 1e-05, 'bs': 128, 'wd': 0.2222222222222222}. Best is trial 2 with value: 98.64.\u001b[0m\n",
            "\u001b[32m[I 2023-05-28 09:50:14,595]\u001b[0m Trial 13 finished with value: 91.27 and parameters: {'lr': 0.03856620421163472, 'bs': 128, 'wd': 0.16666666666666666}. Best is trial 2 with value: 98.64.\u001b[0m\n",
            "\u001b[32m[I 2023-05-28 09:50:58,633]\u001b[0m Trial 14 finished with value: 89.13 and parameters: {'lr': 0.00221221629107045, 'bs': 32, 'wd': 0.2222222222222222}. Best is trial 2 with value: 98.64.\u001b[0m\n",
            "\u001b[32m[I 2023-05-28 09:51:27,856]\u001b[0m Trial 15 finished with value: 84.54 and parameters: {'lr': 0.0006210169418915617, 'bs': 128, 'wd': 0.16666666666666666}. Best is trial 2 with value: 98.64.\u001b[0m\n",
            "\u001b[32m[I 2023-05-28 09:52:12,270]\u001b[0m Trial 16 finished with value: 88.36 and parameters: {'lr': 0.0011721022975334804, 'bs': 32, 'wd': 0.16666666666666666}. Best is trial 2 with value: 98.64.\u001b[0m\n",
            "\u001b[32m[I 2023-05-28 09:52:46,377]\u001b[0m Trial 17 finished with value: 92.18 and parameters: {'lr': 0.0030391953823131978, 'bs': 64, 'wd': 0.1111111111111111}. Best is trial 2 with value: 98.64.\u001b[0m\n",
            "\u001b[32m[I 2023-05-28 09:53:20,587]\u001b[0m Trial 18 finished with value: 83.4 and parameters: {'lr': 0.00045203536563602454, 'bs': 64, 'wd': 0.1111111111111111}. Best is trial 2 with value: 98.64.\u001b[0m\n",
            "\u001b[32m[I 2023-05-28 09:53:54,507]\u001b[0m Trial 19 finished with value: 91.47 and parameters: {'lr': 0.02807216203941177, 'bs': 64, 'wd': 0.16666666666666666}. Best is trial 2 with value: 98.64.\u001b[0m\n",
            "\u001b[32m[I 2023-05-28 09:54:38,864]\u001b[0m Trial 20 finished with value: 72.1 and parameters: {'lr': 0.00032903445623126676, 'bs': 32, 'wd': 0.5}. Best is trial 2 with value: 98.64.\u001b[0m\n",
            "\u001b[32m[I 2023-05-28 09:55:12,372]\u001b[0m Trial 21 finished with value: 57.1 and parameters: {'lr': 0.0001268961003167922, 'bs': 64, 'wd': 0.2222222222222222}. Best is trial 2 with value: 98.64.\u001b[0m\n",
            "\u001b[32m[I 2023-05-28 09:55:41,296]\u001b[0m Trial 22 finished with value: 87.32 and parameters: {'lr': 0.0006210169418915617, 'bs': 128, 'wd': 0.0}. Best is trial 2 with value: 98.64.\u001b[0m\n",
            "\u001b[32m[I 2023-05-28 09:56:09,393]\u001b[0m Trial 23 finished with value: 98.02 and parameters: {'lr': 0.007880462815669913, 'bs': 128, 'wd': 0.0}. Best is trial 2 with value: 98.64.\u001b[0m\n",
            "\u001b[32m[I 2023-05-28 09:56:37,385]\u001b[0m Trial 24 finished with value: 91.23 and parameters: {'lr': 0.0016102620275609393, 'bs': 128, 'wd': 0.05555555555555555}. Best is trial 2 with value: 98.64.\u001b[0m\n",
            "\u001b[32m[I 2023-05-28 09:57:11,379]\u001b[0m Trial 25 finished with value: 81.95 and parameters: {'lr': 0.005736152510448681, 'bs': 64, 'wd': 0.5}. Best is trial 2 with value: 98.64.\u001b[0m\n",
            "\u001b[32m[I 2023-05-28 09:57:39,452]\u001b[0m Trial 26 finished with value: 90.17 and parameters: {'lr': 0.0016102620275609393, 'bs': 128, 'wd': 0.1111111111111111}. Best is trial 2 with value: 98.64.\u001b[0m\n",
            "\u001b[32m[I 2023-05-28 09:58:24,148]\u001b[0m Trial 27 finished with value: 90.31 and parameters: {'lr': 0.0041753189365604, 'bs': 32, 'wd': 0.16666666666666666}. Best is trial 2 with value: 98.64.\u001b[0m\n",
            "\u001b[32m[I 2023-05-28 09:59:09,409]\u001b[0m Trial 28 finished with value: 68.06 and parameters: {'lr': 0.0001268961003167922, 'bs': 32, 'wd': 0.16666666666666666}. Best is trial 2 with value: 98.64.\u001b[0m\n",
            "\u001b[32m[I 2023-05-28 09:59:43,634]\u001b[0m Trial 29 finished with value: 11.37 and parameters: {'lr': 2.592943797404667e-05, 'bs': 64, 'wd': 0.2222222222222222}. Best is trial 2 with value: 98.64.\u001b[0m\n"
          ]
        },
        {
          "name": "stdout",
          "output_type": "stream",
          "text": [
            "{'bs': 32, 'lr': 0.010826367338740546, 'wd': 0.0}\n"
          ]
        }
      ],
      "source": [
        "# Search for best parameters for Adagrad\n",
        "study = optuna.create_study(\n",
        "    direction=\"maximize\",\n",
        "    sampler=TPESampler(n_startup_trials=115),\n",
        "    pruner=BasePruner,\n",
        "    study_name=\"adagrad\",\n",
        "    storage=\"sqlite:///optuna1.db\",\n",
        "    load_if_exists=True,\n",
        ")\n",
        "study.optimize(lambda trial: hyperparameter_search(trial, Adagrad), n_trials=30)\n",
        "print(study.best_params)"
      ]
    },
    {
      "cell_type": "code",
      "execution_count": null,
      "metadata": {
        "ExecuteTime": {
          "end_time": "2023-04-17T19:52:50.270692Z",
          "start_time": "2023-04-17T19:42:42.820071Z"
        },
        "colab": {
          "base_uri": "https://localhost:8080/"
        },
        "id": "6l6C3ygVPpdK",
        "outputId": "353d4d03-980f-4d99-be57-6e1959d0d7bd"
      },
      "outputs": [
        {
          "name": "stderr",
          "output_type": "stream",
          "text": [
            "\u001b[32m[I 2023-05-28 10:01:51,337]\u001b[0m Using an existing study with name 'sgd' instead of creating a new one.\u001b[0m\n",
            "\u001b[32m[I 2023-05-28 10:02:19,501]\u001b[0m Trial 3 finished with value: 98.35 and parameters: {'lr': 0.00221221629107045, 'bs': 128, 'momentum': 0.9817931034482759}. Best is trial 1 with value: 98.61.\u001b[0m\n",
            "\u001b[32m[I 2023-05-28 10:03:00,948]\u001b[0m Trial 4 finished with value: 98.41 and parameters: {'lr': 0.005736152510448681, 'bs': 32, 'momentum': 0.7236896551724138}. Best is trial 1 with value: 98.61.\u001b[0m\n",
            "\u001b[32m[I 2023-05-28 10:03:33,232]\u001b[0m Trial 5 finished with value: 98.51 and parameters: {'lr': 0.010826367338740546, 'bs': 64, 'momentum': 0.7581034482758621}. Best is trial 1 with value: 98.61.\u001b[0m\n",
            "\u001b[32m[I 2023-05-28 10:04:01,160]\u001b[0m Trial 6 finished with value: 98.54 and parameters: {'lr': 0.03856620421163472, 'bs': 128, 'momentum': 0.6032413793103448}. Best is trial 1 with value: 98.61.\u001b[0m\n",
            "\u001b[32m[I 2023-05-28 10:04:33,485]\u001b[0m Trial 7 finished with value: 91.88 and parameters: {'lr': 0.0016102620275609393, 'bs': 64, 'momentum': 0.5}. Best is trial 1 with value: 98.61.\u001b[0m\n",
            "\u001b[32m[I 2023-05-28 10:05:06,076]\u001b[0m Trial 8 finished with value: 92.34 and parameters: {'lr': 0.0001268961003167922, 'bs': 64, 'momentum': 0.9645862068965517}. Best is trial 1 with value: 98.61.\u001b[0m\n",
            "\u001b[32m[I 2023-05-28 10:05:37,901]\u001b[0m Trial 9 finished with value: 98.62 and parameters: {'lr': 0.05298316906283707, 'bs': 64, 'momentum': 0.8957586206896552}. Best is trial 9 with value: 98.62.\u001b[0m\n",
            "\u001b[32m[I 2023-05-28 10:06:10,099]\u001b[0m Trial 10 finished with value: 98.69 and parameters: {'lr': 0.03856620421163472, 'bs': 64, 'momentum': 0.5516206896551724}. Best is trial 10 with value: 98.69.\u001b[0m\n",
            "\u001b[32m[I 2023-05-28 10:06:37,644]\u001b[0m Trial 11 finished with value: 93.52 and parameters: {'lr': 0.0030391953823131978, 'bs': 128, 'momentum': 0.6548620689655172}. Best is trial 10 with value: 98.69.\u001b[0m\n",
            "\u001b[32m[I 2023-05-28 10:07:10,190]\u001b[0m Trial 12 finished with value: 98.57 and parameters: {'lr': 0.014873521072935119, 'bs': 64, 'momentum': 0.7925172413793103}. Best is trial 10 with value: 98.69.\u001b[0m\n",
            "\u001b[32m[I 2023-05-28 10:07:51,573]\u001b[0m Trial 13 finished with value: 98.46 and parameters: {'lr': 0.014873521072935119, 'bs': 32, 'momentum': 0.5344137931034483}. Best is trial 10 with value: 98.69.\u001b[0m\n",
            "\u001b[32m[I 2023-05-28 10:08:20,019]\u001b[0m Trial 14 finished with value: 91.6 and parameters: {'lr': 0.0011721022975334804, 'bs': 128, 'momentum': 0.7753103448275862}. Best is trial 10 with value: 98.69.\u001b[0m\n",
            "\u001b[32m[I 2023-05-28 10:08:47,860]\u001b[0m Trial 15 finished with value: 65.25 and parameters: {'lr': 4.893900918477499e-05, 'bs': 128, 'momentum': 0.8441379310344828}. Best is trial 10 with value: 98.69.\u001b[0m\n",
            "\u001b[32m[I 2023-05-28 10:09:20,555]\u001b[0m Trial 16 finished with value: 96.17 and parameters: {'lr': 0.0016102620275609393, 'bs': 64, 'momentum': 0.8441379310344828}. Best is trial 10 with value: 98.69.\u001b[0m\n",
            "\u001b[32m[I 2023-05-28 10:10:01,806]\u001b[0m Trial 17 finished with value: 18.65 and parameters: {'lr': 1.3738237958832637e-05, 'bs': 32, 'momentum': 0.7753103448275862}. Best is trial 10 with value: 98.69.\u001b[0m\n",
            "\u001b[32m[I 2023-05-28 10:10:43,643]\u001b[0m Trial 18 finished with value: 79.73 and parameters: {'lr': 3.5622478902624444e-05, 'bs': 32, 'momentum': 0.8441379310344828}. Best is trial 10 with value: 98.69.\u001b[0m\n",
            "\u001b[32m[I 2023-05-28 10:11:11,639]\u001b[0m Trial 19 finished with value: 11.23 and parameters: {'lr': 1.3738237958832637e-05, 'bs': 128, 'momentum': 0.9129655172413793}. Best is trial 10 with value: 98.69.\u001b[0m\n",
            "\u001b[32m[I 2023-05-28 10:11:44,299]\u001b[0m Trial 20 finished with value: 98.63 and parameters: {'lr': 0.05298316906283707, 'bs': 64, 'momentum': 0.5}. Best is trial 10 with value: 98.69.\u001b[0m\n",
            "\u001b[32m[I 2023-05-28 10:12:25,744]\u001b[0m Trial 21 finished with value: 70.68 and parameters: {'lr': 3.5622478902624444e-05, 'bs': 32, 'momentum': 0.7064827586206897}. Best is trial 10 with value: 98.69.\u001b[0m\n",
            "\u001b[32m[I 2023-05-28 10:12:53,348]\u001b[0m Trial 22 finished with value: 26.39 and parameters: {'lr': 0.0001268961003167922, 'bs': 128, 'momentum': 0.5172068965517241}. Best is trial 10 with value: 98.69.\u001b[0m\n",
            "\u001b[32m[I 2023-05-28 10:13:35,202]\u001b[0m Trial 23 finished with value: 97.6 and parameters: {'lr': 0.0011721022975334804, 'bs': 32, 'momentum': 0.8957586206896552}. Best is trial 10 with value: 98.69.\u001b[0m\n",
            "\u001b[32m[I 2023-05-28 10:14:16,108]\u001b[0m Trial 24 finished with value: 98.6 and parameters: {'lr': 0.020433597178569417, 'bs': 32, 'momentum': 0.5688275862068966}. Best is trial 10 with value: 98.69.\u001b[0m\n",
            "\u001b[32m[I 2023-05-28 10:14:48,952]\u001b[0m Trial 25 finished with value: 11.61 and parameters: {'lr': 1.8873918221350995e-05, 'bs': 64, 'momentum': 0.620448275862069}. Best is trial 10 with value: 98.69.\u001b[0m\n",
            "\u001b[32m[I 2023-05-28 10:15:16,610]\u001b[0m Trial 26 finished with value: 89.46 and parameters: {'lr': 0.0006210169418915617, 'bs': 128, 'momentum': 0.8097241379310345}. Best is trial 10 with value: 98.69.\u001b[0m\n",
            "\u001b[32m[I 2023-05-28 10:15:44,455]\u001b[0m Trial 27 finished with value: 96.14 and parameters: {'lr': 0.005736152510448681, 'bs': 128, 'momentum': 0.6720689655172414}. Best is trial 10 with value: 98.69.\u001b[0m\n",
            "\u001b[32m[I 2023-05-28 10:16:25,815]\u001b[0m Trial 28 finished with value: 98.78 and parameters: {'lr': 0.005736152510448681, 'bs': 32, 'momentum': 0.8097241379310345}. Best is trial 28 with value: 98.78.\u001b[0m\n",
            "\u001b[32m[I 2023-05-28 10:16:53,620]\u001b[0m Trial 29 finished with value: 98.59 and parameters: {'lr': 0.05298316906283707, 'bs': 128, 'momentum': 0.7753103448275862}. Best is trial 28 with value: 98.78.\u001b[0m\n",
            "\u001b[32m[I 2023-05-28 10:17:26,298]\u001b[0m Trial 30 finished with value: 98.3 and parameters: {'lr': 0.0011721022975334804, 'bs': 64, 'momentum': 0.9645862068965517}. Best is trial 28 with value: 98.78.\u001b[0m\n",
            "\u001b[32m[I 2023-05-28 10:17:58,681]\u001b[0m Trial 31 finished with value: 97.54 and parameters: {'lr': 0.0006210169418915617, 'bs': 64, 'momentum': 0.9645862068965517}. Best is trial 28 with value: 98.78.\u001b[0m\n",
            "\u001b[32m[I 2023-05-28 10:18:39,906]\u001b[0m Trial 32 finished with value: 93.07 and parameters: {'lr': 0.05298316906283707, 'bs': 32, 'momentum': 0.9473793103448276}. Best is trial 28 with value: 98.78.\u001b[0m\n"
          ]
        },
        {
          "name": "stdout",
          "output_type": "stream",
          "text": [
            "{'bs': 32, 'lr': 0.005736152510448681, 'momentum': 0.8097241379310345}\n"
          ]
        }
      ],
      "source": [
        "# Search for best parameters for SGD\n",
        "study = optuna.create_study(\n",
        "    direction=\"maximize\",\n",
        "    sampler=TPESampler(n_startup_trials=115),\n",
        "    pruner=BasePruner,\n",
        "    study_name=\"sgd\",\n",
        "    storage=\"sqlite:///optuna1.db\",\n",
        "    load_if_exists=True,\n",
        ")\n",
        "study.optimize(lambda trial: hyperparameter_search(trial, SGD), n_trials=30)\n",
        "print(study.best_params)"
      ]
    },
    {
      "cell_type": "code",
      "execution_count": null,
      "metadata": {
        "ExecuteTime": {
          "end_time": "2023-04-17T20:05:01.091062Z",
          "start_time": "2023-04-17T19:52:50.276827Z"
        },
        "colab": {
          "base_uri": "https://localhost:8080/"
        },
        "id": "QnZlxFjDPpdL",
        "outputId": "43a14d5f-f49d-4da1-b3c9-0c3690c1bcc4"
      },
      "outputs": [
        {
          "name": "stderr",
          "output_type": "stream",
          "text": [
            "\u001b[32m[I 2023-05-28 10:18:39,973]\u001b[0m A new study created in RDB with name: bbi\u001b[0m\n",
            "\u001b[32m[I 2023-05-28 10:19:15,487]\u001b[0m Trial 0 finished with value: 98.77 and parameters: {'lr': 0.03856620421163472, 'bs': 64, 'delta_e': 1.6551724137931034}. Best is trial 0 with value: 98.77.\u001b[0m\n",
            "\u001b[32m[I 2023-05-28 10:19:51,019]\u001b[0m Trial 1 finished with value: 0.04 and parameters: {'lr': 3.5622478902624444e-05, 'bs': 64, 'delta_e': 3.0}. Best is trial 0 with value: 98.77.\u001b[0m\n",
            "\u001b[32m[I 2023-05-28 10:20:37,974]\u001b[0m Trial 2 finished with value: 49.18 and parameters: {'lr': 0.00032903445623126676, 'bs': 32, 'delta_e': 0.5172413793103449}. Best is trial 0 with value: 98.77.\u001b[0m\n",
            "\u001b[32m[I 2023-05-28 10:21:07,397]\u001b[0m Trial 3 finished with value: 98.6 and parameters: {'lr': 0.0727895384398315, 'bs': 128, 'delta_e': 0.10344827586206896}. Best is trial 0 with value: 98.77.\u001b[0m\n",
            "\u001b[32m[I 2023-05-28 10:21:37,639]\u001b[0m Trial 4 finished with value: 6.06 and parameters: {'lr': 4.893900918477499e-05, 'bs': 128, 'delta_e': 1.6551724137931034}. Best is trial 0 with value: 98.77.\u001b[0m\n",
            "\u001b[32m[I 2023-05-28 10:22:07,224]\u001b[0m Trial 5 finished with value: 2.44 and parameters: {'lr': 4.893900918477499e-05, 'bs': 128, 'delta_e': 1.3448275862068966}. Best is trial 0 with value: 98.77.\u001b[0m\n",
            "\u001b[32m[I 2023-05-28 10:22:43,097]\u001b[0m Trial 6 finished with value: 86.26 and parameters: {'lr': 0.00221221629107045, 'bs': 64, 'delta_e': 2.0689655172413794}. Best is trial 0 with value: 98.77.\u001b[0m\n",
            "\u001b[32m[I 2023-05-28 10:23:30,147]\u001b[0m Trial 7 finished with value: 9.8 and parameters: {'lr': 0.00017433288221999874, 'bs': 32, 'delta_e': 1.6551724137931034}. Best is trial 0 with value: 98.77.\u001b[0m\n",
            "\u001b[32m[I 2023-05-28 10:23:59,538]\u001b[0m Trial 8 finished with value: 9.46 and parameters: {'lr': 9.236708571873866e-05, 'bs': 128, 'delta_e': 1.3448275862068966}. Best is trial 0 with value: 98.77.\u001b[0m\n",
            "\u001b[32m[I 2023-05-28 10:24:29,983]\u001b[0m Trial 9 finished with value: 49.97 and parameters: {'lr': 0.0016102620275609393, 'bs': 128, 'delta_e': 1.2413793103448276}. Best is trial 0 with value: 98.77.\u001b[0m\n",
            "\u001b[32m[I 2023-05-28 10:24:59,670]\u001b[0m Trial 10 finished with value: 17.65 and parameters: {'lr': 0.0006210169418915617, 'bs': 128, 'delta_e': 0.10344827586206896}. Best is trial 0 with value: 98.77.\u001b[0m\n",
            "\u001b[32m[I 2023-05-28 10:25:46,565]\u001b[0m Trial 11 finished with value: 17.81 and parameters: {'lr': 4.893900918477499e-05, 'bs': 32, 'delta_e': 1.0344827586206897}. Best is trial 0 with value: 98.77.\u001b[0m\n",
            "\u001b[32m[I 2023-05-28 10:26:21,986]\u001b[0m Trial 12 finished with value: 10.29 and parameters: {'lr': 0.0001268961003167922, 'bs': 64, 'delta_e': 0.10344827586206896}. Best is trial 0 with value: 98.77.\u001b[0m\n",
            "\u001b[32m[I 2023-05-28 10:26:57,370]\u001b[0m Trial 13 finished with value: 96.34 and parameters: {'lr': 0.007880462815669913, 'bs': 64, 'delta_e': 3.0}. Best is trial 0 with value: 98.77.\u001b[0m\n",
            "\u001b[32m[I 2023-05-28 10:27:27,545]\u001b[0m Trial 14 finished with value: 11.97 and parameters: {'lr': 0.0002395026619987486, 'bs': 128, 'delta_e': 0.20689655172413793}. Best is trial 0 with value: 98.77.\u001b[0m\n",
            "\u001b[32m[I 2023-05-28 10:28:02,795]\u001b[0m Trial 15 finished with value: 9.8 and parameters: {'lr': 0.00032903445623126676, 'bs': 64, 'delta_e': 0.8275862068965517}. Best is trial 0 with value: 98.77.\u001b[0m\n",
            "\u001b[32m[I 2023-05-28 10:28:49,521]\u001b[0m Trial 16 finished with value: 98.63 and parameters: {'lr': 0.02807216203941177, 'bs': 32, 'delta_e': 1.4482758620689655}. Best is trial 0 with value: 98.77.\u001b[0m\n",
            "\u001b[32m[I 2023-05-28 10:29:25,217]\u001b[0m Trial 17 finished with value: 87.82 and parameters: {'lr': 0.00221221629107045, 'bs': 64, 'delta_e': 0.7241379310344828}. Best is trial 0 with value: 98.77.\u001b[0m\n",
            "\u001b[32m[I 2023-05-28 10:30:00,970]\u001b[0m Trial 18 finished with value: 11.35 and parameters: {'lr': 6.723357536499335e-05, 'bs': 64, 'delta_e': 1.9655172413793103}. Best is trial 0 with value: 98.77.\u001b[0m\n",
            "\u001b[32m[I 2023-05-28 10:30:36,374]\u001b[0m Trial 19 finished with value: 10.32 and parameters: {'lr': 0.00017433288221999874, 'bs': 64, 'delta_e': 0.41379310344827586}. Best is trial 0 with value: 98.77.\u001b[0m\n",
            "\u001b[32m[I 2023-05-28 10:31:11,588]\u001b[0m Trial 20 finished with value: 0.12 and parameters: {'lr': 4.893900918477499e-05, 'bs': 64, 'delta_e': 1.7586206896551724}. Best is trial 0 with value: 98.77.\u001b[0m\n",
            "\u001b[32m[I 2023-05-28 10:31:47,013]\u001b[0m Trial 21 finished with value: 98.6 and parameters: {'lr': 0.02807216203941177, 'bs': 64, 'delta_e': 2.1724137931034484}. Best is trial 0 with value: 98.77.\u001b[0m\n",
            "\u001b[32m[I 2023-05-28 10:32:22,246]\u001b[0m Trial 22 finished with value: 89.61 and parameters: {'lr': 0.0030391953823131978, 'bs': 64, 'delta_e': 2.586206896551724}. Best is trial 0 with value: 98.77.\u001b[0m\n",
            "\u001b[32m[I 2023-05-28 10:32:51,815]\u001b[0m Trial 23 finished with value: 83.16 and parameters: {'lr': 0.0030391953823131978, 'bs': 128, 'delta_e': 0.10344827586206896}. Best is trial 0 with value: 98.77.\u001b[0m\n",
            "\u001b[32m[I 2023-05-28 10:33:38,691]\u001b[0m Trial 24 finished with value: 28.53 and parameters: {'lr': 0.0002395026619987486, 'bs': 32, 'delta_e': 1.3448275862068966}. Best is trial 0 with value: 98.77.\u001b[0m\n",
            "\u001b[32m[I 2023-05-28 10:34:25,280]\u001b[0m Trial 25 finished with value: 91.69 and parameters: {'lr': 0.00221221629107045, 'bs': 32, 'delta_e': 2.689655172413793}. Best is trial 0 with value: 98.77.\u001b[0m\n",
            "\u001b[32m[I 2023-05-28 10:34:54,924]\u001b[0m Trial 26 finished with value: 1.26 and parameters: {'lr': 2.592943797404667e-05, 'bs': 128, 'delta_e': 1.0344827586206897}. Best is trial 0 with value: 98.77.\u001b[0m\n",
            "\u001b[32m[I 2023-05-28 10:35:24,864]\u001b[0m Trial 27 finished with value: 91.38 and parameters: {'lr': 0.007880462815669913, 'bs': 128, 'delta_e': 2.1724137931034484}. Best is trial 0 with value: 98.77.\u001b[0m\n",
            "\u001b[32m[I 2023-05-28 10:36:00,013]\u001b[0m Trial 28 finished with value: 11.63 and parameters: {'lr': 0.0002395026619987486, 'bs': 64, 'delta_e': 0.20689655172413793}. Best is trial 0 with value: 98.77.\u001b[0m\n",
            "\u001b[32m[I 2023-05-28 10:36:29,539]\u001b[0m Trial 29 finished with value: 12.85 and parameters: {'lr': 0.0001268961003167922, 'bs': 128, 'delta_e': 1.8620689655172413}. Best is trial 0 with value: 98.77.\u001b[0m\n"
          ]
        },
        {
          "name": "stdout",
          "output_type": "stream",
          "text": [
            "{'bs': 64, 'delta_e': 1.6551724137931034, 'lr': 0.03856620421163472}\n"
          ]
        }
      ],
      "source": [
        "# Search for best parameters for BBI\n",
        "study = optuna.create_study(\n",
        "    direction=\"maximize\",\n",
        "    sampler=TPESampler(n_startup_trials=115),\n",
        "    pruner=BasePruner,\n",
        "    study_name=\"bbi\",\n",
        "    storage=\"sqlite:///optuna1.db\",\n",
        "    load_if_exists=True,\n",
        ")\n",
        "study.optimize(lambda trial: hyperparameter_search(trial, BBI), n_trials=30)\n",
        "print(study.best_params)"
      ]
    },
    {
      "cell_type": "code",
      "execution_count": null,
      "metadata": {
        "colab": {
          "base_uri": "https://localhost:8080/"
        },
        "id": "7yskznBmQcqP",
        "outputId": "4bf41b44-4ac4-40e7-99c9-1f6e9efa7ff8"
      },
      "outputs": [
        {
          "name": "stderr",
          "output_type": "stream",
          "text": [
            "\u001b[32m[I 2023-05-28 10:36:29,604]\u001b[0m A new study created in RDB with name: bbi_adap\u001b[0m\n",
            "\u001b[32m[I 2023-05-28 10:37:08,011]\u001b[0m Trial 0 finished with value: 0.14 and parameters: {'lr': 1e-05, 'bs': 64, 'delta_e': 0.41379310344827586, 'beta1': 0.20689655172413793, 'beta2': 0.0}. Best is trial 0 with value: 0.14.\u001b[0m\n",
            "\u001b[32m[I 2023-05-28 10:37:40,330]\u001b[0m Trial 1 finished with value: 13.59 and parameters: {'lr': 0.00045203536563602454, 'bs': 128, 'delta_e': 0.8275862068965517, 'beta1': 0.7931034482758621, 'beta2': 0.3448275862068966}. Best is trial 1 with value: 13.59.\u001b[0m\n",
            "\u001b[32m[I 2023-05-28 10:38:33,342]\u001b[0m Trial 2 finished with value: 9.35 and parameters: {'lr': 9.236708571873866e-05, 'bs': 32, 'delta_e': 1.2413793103448276, 'beta1': 0.48275862068965514, 'beta2': 0.7241379310344828}. Best is trial 1 with value: 13.59.\u001b[0m\n",
            "\u001b[32m[I 2023-05-28 10:39:04,715]\u001b[0m Trial 3 finished with value: 96.51 and parameters: {'lr': 0.02807216203941177, 'bs': 128, 'delta_e': 2.0689655172413794, 'beta1': 0.20689655172413793, 'beta2': 0.7241379310344828}. Best is trial 3 with value: 96.51.\u001b[0m\n",
            "<ipython-input-14-1baa829ef438>:134: RuntimeWarning: divide by zero encountered in double_scalars\n",
            "  bias_correction2 = 1 / (1 - b2 ** (self.counter + 1))\n",
            "\u001b[32m[I 2023-05-28 10:39:42,526]\u001b[0m Trial 4 finished with value: 10.16 and parameters: {'lr': 0.00017433288221999874, 'bs': 64, 'delta_e': 0.8275862068965517, 'beta1': 0.034482758620689655, 'beta2': 1.0}. Best is trial 3 with value: 96.51.\u001b[0m\n",
            "\u001b[32m[I 2023-05-28 10:40:14,488]\u001b[0m Trial 5 finished with value: 9.81 and parameters: {'lr': 6.723357536499335e-05, 'bs': 128, 'delta_e': 2.2758620689655173, 'beta1': 0.8275862068965517, 'beta2': 0.9310344827586207}. Best is trial 3 with value: 96.51.\u001b[0m\n",
            "\u001b[32m[I 2023-05-28 10:40:52,413]\u001b[0m Trial 6 finished with value: 87.66 and parameters: {'lr': 0.005736152510448681, 'bs': 64, 'delta_e': 0.9310344827586207, 'beta1': 0.20689655172413793, 'beta2': 0.5172413793103449}. Best is trial 3 with value: 96.51.\u001b[0m\n",
            "\u001b[32m[I 2023-05-28 10:41:23,333]\u001b[0m Trial 7 finished with value: 95.09 and parameters: {'lr': 0.014873521072935119, 'bs': 128, 'delta_e': 1.0344827586206897, 'beta1': 0.5517241379310345, 'beta2': 0.9310344827586207}. Best is trial 3 with value: 96.51.\u001b[0m\n",
            "\u001b[32m[I 2023-05-28 10:41:54,764]\u001b[0m Trial 8 finished with value: 10.1 and parameters: {'lr': 0.0016102620275609393, 'bs': 128, 'delta_e': 2.0689655172413794, 'beta1': 0.8275862068965517, 'beta2': 0.10344827586206896}. Best is trial 3 with value: 96.51.\u001b[0m\n",
            "\u001b[32m[I 2023-05-28 10:42:46,503]\u001b[0m Trial 9 finished with value: 97.13 and parameters: {'lr': 0.05298316906283707, 'bs': 32, 'delta_e': 2.689655172413793, 'beta1': 0.27586206896551724, 'beta2': 0.7586206896551724}. Best is trial 9 with value: 97.13.\u001b[0m\n",
            "\u001b[32m[I 2023-05-28 10:43:39,288]\u001b[0m Trial 10 finished with value: 9.58 and parameters: {'lr': 0.0008531678524172806, 'bs': 32, 'delta_e': 2.4827586206896552, 'beta1': 0.7241379310344828, 'beta2': 0.0}. Best is trial 9 with value: 97.13.\u001b[0m\n",
            "\u001b[32m[I 2023-05-28 10:44:10,207]\u001b[0m Trial 11 finished with value: 16.52 and parameters: {'lr': 0.0011721022975334804, 'bs': 128, 'delta_e': 2.896551724137931, 'beta1': 0.06896551724137931, 'beta2': 0.13793103448275862}. Best is trial 9 with value: 97.13.\u001b[0m\n",
            "\u001b[32m[I 2023-05-28 10:44:41,866]\u001b[0m Trial 12 finished with value: 97.54 and parameters: {'lr': 0.0727895384398315, 'bs': 128, 'delta_e': 1.4482758620689655, 'beta1': 0.4482758620689655, 'beta2': 0.06896551724137931}. Best is trial 12 with value: 97.54.\u001b[0m\n",
            "\u001b[32m[I 2023-05-28 10:45:15,382]\u001b[0m Trial 13 finished with value: 9.8 and parameters: {'lr': 0.05298316906283707, 'bs': 64, 'delta_e': 0.8275862068965517, 'beta1': 0.7241379310344828, 'beta2': 1.0}. Best is trial 12 with value: 97.54.\u001b[0m\n",
            "\u001b[32m[I 2023-05-28 10:45:53,573]\u001b[0m Trial 14 finished with value: 15.84 and parameters: {'lr': 0.0006210169418915617, 'bs': 64, 'delta_e': 1.1379310344827587, 'beta1': 0.8620689655172413, 'beta2': 0.5862068965517241}. Best is trial 12 with value: 97.54.\u001b[0m\n",
            "\u001b[32m[I 2023-05-28 10:46:31,744]\u001b[0m Trial 15 finished with value: 14.74 and parameters: {'lr': 0.00032903445623126676, 'bs': 64, 'delta_e': 0.20689655172413793, 'beta1': 0.0, 'beta2': 1.0}. Best is trial 12 with value: 97.54.\u001b[0m\n",
            "\u001b[32m[I 2023-05-28 10:47:02,716]\u001b[0m Trial 16 finished with value: 98.16 and parameters: {'lr': 0.1, 'bs': 128, 'delta_e': 2.586206896551724, 'beta1': 0.13793103448275862, 'beta2': 0.48275862068965514}. Best is trial 16 with value: 98.16.\u001b[0m\n",
            "\u001b[32m[I 2023-05-28 10:47:55,080]\u001b[0m Trial 17 finished with value: 18.23 and parameters: {'lr': 0.0016102620275609393, 'bs': 32, 'delta_e': 0.6206896551724138, 'beta1': 0.41379310344827586, 'beta2': 0.20689655172413793}. Best is trial 16 with value: 98.16.\u001b[0m\n",
            "\u001b[32m[I 2023-05-28 10:48:26,247]\u001b[0m Trial 18 finished with value: 93.5 and parameters: {'lr': 0.014873521072935119, 'bs': 128, 'delta_e': 0.7241379310344828, 'beta1': 0.41379310344827586, 'beta2': 0.13793103448275862}. Best is trial 16 with value: 98.16.\u001b[0m\n",
            "\u001b[32m[I 2023-05-28 10:48:57,814]\u001b[0m Trial 19 finished with value: 75.67 and parameters: {'lr': 0.005736152510448681, 'bs': 128, 'delta_e': 0.41379310344827586, 'beta1': 0.24137931034482757, 'beta2': 0.48275862068965514}. Best is trial 16 with value: 98.16.\u001b[0m\n",
            "\u001b[32m[I 2023-05-28 10:49:28,891]\u001b[0m Trial 20 finished with value: 9.74 and parameters: {'lr': 0.0030391953823131978, 'bs': 128, 'delta_e': 1.9655172413793103, 'beta1': 0.7586206896551724, 'beta2': 0.3103448275862069}. Best is trial 16 with value: 98.16.\u001b[0m\n",
            "\u001b[32m[I 2023-05-28 10:50:00,475]\u001b[0m Trial 21 finished with value: 98.12 and parameters: {'lr': 0.0727895384398315, 'bs': 128, 'delta_e': 1.3448275862068966, 'beta1': 0.06896551724137931, 'beta2': 0.896551724137931}. Best is trial 16 with value: 98.16.\u001b[0m\n",
            "\u001b[32m[I 2023-05-28 10:50:32,185]\u001b[0m Trial 22 finished with value: 0.45 and parameters: {'lr': 1.8873918221350995e-05, 'bs': 128, 'delta_e': 0.6206896551724138, 'beta1': 0.24137931034482757, 'beta2': 0.8620689655172413}. Best is trial 16 with value: 98.16.\u001b[0m\n",
            "\u001b[32m[I 2023-05-28 10:51:09,820]\u001b[0m Trial 23 finished with value: 10.35 and parameters: {'lr': 0.0008531678524172806, 'bs': 64, 'delta_e': 2.1724137931034484, 'beta1': 0.7586206896551724, 'beta2': 0.5517241379310345}. Best is trial 16 with value: 98.16.\u001b[0m\n",
            "\u001b[32m[I 2023-05-28 10:51:47,242]\u001b[0m Trial 24 finished with value: 9.8 and parameters: {'lr': 0.0006210169418915617, 'bs': 64, 'delta_e': 0.7241379310344828, 'beta1': 0.20689655172413793, 'beta2': 0.10344827586206896}. Best is trial 16 with value: 98.16.\u001b[0m\n",
            "\u001b[32m[I 2023-05-28 10:52:18,278]\u001b[0m Trial 25 finished with value: 0.41 and parameters: {'lr': 3.5622478902624444e-05, 'bs': 128, 'delta_e': 0.6206896551724138, 'beta1': 0.24137931034482757, 'beta2': 0.8275862068965517}. Best is trial 16 with value: 98.16.\u001b[0m\n",
            "\u001b[32m[I 2023-05-28 10:53:10,510]\u001b[0m Trial 26 finished with value: 8.8 and parameters: {'lr': 2.592943797404667e-05, 'bs': 32, 'delta_e': 2.0689655172413794, 'beta1': 0.6206896551724138, 'beta2': 0.3448275862068966}. Best is trial 16 with value: 98.16.\u001b[0m\n",
            "\u001b[32m[I 2023-05-28 10:54:02,535]\u001b[0m Trial 27 finished with value: 91.62 and parameters: {'lr': 0.0041753189365604, 'bs': 32, 'delta_e': 0.3103448275862069, 'beta1': 0.20689655172413793, 'beta2': 0.8275862068965517}. Best is trial 16 with value: 98.16.\u001b[0m\n",
            "\u001b[32m[I 2023-05-28 10:54:39,970]\u001b[0m Trial 28 finished with value: 39.91 and parameters: {'lr': 0.0041753189365604, 'bs': 64, 'delta_e': 2.689655172413793, 'beta1': 0.5172413793103449, 'beta2': 0.48275862068965514}. Best is trial 16 with value: 98.16.\u001b[0m\n",
            "\u001b[32m[I 2023-05-28 10:55:17,990]\u001b[0m Trial 29 finished with value: 96.91 and parameters: {'lr': 0.03856620421163472, 'bs': 64, 'delta_e': 1.5517241379310345, 'beta1': 0.1724137931034483, 'beta2': 0.5172413793103449}. Best is trial 16 with value: 98.16.\u001b[0m\n"
          ]
        },
        {
          "name": "stdout",
          "output_type": "stream",
          "text": [
            "{'beta1': 0.13793103448275862, 'beta2': 0.48275862068965514, 'bs': 128, 'delta_e': 2.586206896551724, 'lr': 0.1}\n"
          ]
        }
      ],
      "source": [
        "study = optuna.create_study(\n",
        "    direction=\"maximize\",\n",
        "    sampler=TPESampler(n_startup_trials=115),\n",
        "    pruner=BasePruner,\n",
        "    study_name=\"bbi_adap\",\n",
        "    storage=\"sqlite:///optuna1.db\",\n",
        "    load_if_exists=True,\n",
        ")\n",
        "study.optimize(lambda trial: hyperparameter_search(trial, BBI, adaptive = True), n_trials=30)\n",
        "print(study.best_params)"
      ]
    },
    {
      "cell_type": "code",
      "execution_count": null,
      "metadata": {
        "colab": {
          "base_uri": "https://localhost:8080/"
        },
        "id": "azjOC9fy6VJ5",
        "outputId": "518fc433-82f6-4a21-91ce-88df5e7cb32e"
      },
      "outputs": [
        {
          "name": "stderr",
          "output_type": "stream",
          "text": [
            "\u001b[32m[I 2023-05-28 10:55:18,054]\u001b[0m A new study created in RDB with name: bbi_wa_\u001b[0m\n",
            "\u001b[32m[I 2023-05-28 10:55:49,979]\u001b[0m Trial 0 finished with value: 5.4 and parameters: {'lr': 2.592943797404667e-05, 'bs': 128, 'delta_e': 2.2758620689655173}. Best is trial 0 with value: 5.4.\u001b[0m\n",
            "\u001b[32m[I 2023-05-28 10:56:20,740]\u001b[0m Trial 1 finished with value: 12.86 and parameters: {'lr': 9.236708571873866e-05, 'bs': 128, 'delta_e': 2.793103448275862}. Best is trial 1 with value: 12.86.\u001b[0m\n",
            "\u001b[32m[I 2023-05-28 10:57:08,905]\u001b[0m Trial 2 finished with value: 79.49 and parameters: {'lr': 0.0006210169418915617, 'bs': 32, 'delta_e': 0.20689655172413793}. Best is trial 2 with value: 79.49.\u001b[0m\n",
            "\u001b[32m[I 2023-05-28 10:57:40,621]\u001b[0m Trial 3 finished with value: 91.45 and parameters: {'lr': 0.010826367338740546, 'bs': 128, 'delta_e': 0.41379310344827586}. Best is trial 3 with value: 91.45.\u001b[0m\n",
            "\u001b[32m[I 2023-05-28 10:58:12,141]\u001b[0m Trial 4 finished with value: 2.75 and parameters: {'lr': 2.592943797404667e-05, 'bs': 128, 'delta_e': 1.5517241379310345}. Best is trial 3 with value: 91.45.\u001b[0m\n",
            "\u001b[32m[I 2023-05-28 10:58:43,263]\u001b[0m Trial 5 finished with value: 0.86 and parameters: {'lr': 1.8873918221350995e-05, 'bs': 128, 'delta_e': 0.9310344827586207}. Best is trial 3 with value: 91.45.\u001b[0m\n",
            "\u001b[32m[I 2023-05-28 10:59:20,626]\u001b[0m Trial 6 finished with value: 18.9 and parameters: {'lr': 0.00017433288221999874, 'bs': 64, 'delta_e': 0.6206896551724138}. Best is trial 3 with value: 91.45.\u001b[0m\n",
            "\u001b[32m[I 2023-05-28 10:59:57,685]\u001b[0m Trial 7 finished with value: 83.59 and parameters: {'lr': 0.0016102620275609393, 'bs': 64, 'delta_e': 0.3103448275862069}. Best is trial 3 with value: 91.45.\u001b[0m\n",
            "\u001b[32m[I 2023-05-28 11:00:35,524]\u001b[0m Trial 8 finished with value: 86.74 and parameters: {'lr': 0.00221221629107045, 'bs': 64, 'delta_e': 3.0}. Best is trial 3 with value: 91.45.\u001b[0m\n",
            "\u001b[32m[I 2023-05-28 11:01:07,556]\u001b[0m Trial 9 finished with value: 4.75 and parameters: {'lr': 3.5622478902624444e-05, 'bs': 128, 'delta_e': 1.4482758620689655}. Best is trial 3 with value: 91.45.\u001b[0m\n",
            "\u001b[32m[I 2023-05-28 11:01:39,627]\u001b[0m Trial 10 finished with value: 98.1 and parameters: {'lr': 0.03856620421163472, 'bs': 128, 'delta_e': 1.6551724137931034}. Best is trial 10 with value: 98.1.\u001b[0m\n",
            "\u001b[32m[I 2023-05-28 11:02:28,213]\u001b[0m Trial 11 finished with value: 99.02 and parameters: {'lr': 0.1, 'bs': 32, 'delta_e': 0.41379310344827586}. Best is trial 11 with value: 99.02.\u001b[0m\n",
            "\u001b[32m[I 2023-05-28 11:03:05,335]\u001b[0m Trial 12 finished with value: 74.81 and parameters: {'lr': 0.0011721022975334804, 'bs': 64, 'delta_e': 0.3103448275862069}. Best is trial 11 with value: 99.02.\u001b[0m\n",
            "\u001b[32m[I 2023-05-28 11:03:53,737]\u001b[0m Trial 13 finished with value: 0.77 and parameters: {'lr': 1.8873918221350995e-05, 'bs': 32, 'delta_e': 0.3103448275862069}. Best is trial 11 with value: 99.02.\u001b[0m\n",
            "\u001b[32m[I 2023-05-28 11:04:41,978]\u001b[0m Trial 14 finished with value: 98.46 and parameters: {'lr': 0.010826367338740546, 'bs': 32, 'delta_e': 1.9655172413793103}. Best is trial 11 with value: 99.02.\u001b[0m\n",
            "\u001b[32m[I 2023-05-28 11:05:30,219]\u001b[0m Trial 15 finished with value: 10.32 and parameters: {'lr': 9.236708571873866e-05, 'bs': 32, 'delta_e': 2.896551724137931}. Best is trial 11 with value: 99.02.\u001b[0m\n",
            "\u001b[32m[I 2023-05-28 11:06:19,118]\u001b[0m Trial 16 finished with value: 98.94 and parameters: {'lr': 0.0727895384398315, 'bs': 32, 'delta_e': 1.4482758620689655}. Best is trial 11 with value: 99.02.\u001b[0m\n",
            "\u001b[32m[I 2023-05-28 11:07:06,544]\u001b[0m Trial 17 finished with value: 97.32 and parameters: {'lr': 0.005736152510448681, 'bs': 32, 'delta_e': 1.1379310344827587}. Best is trial 11 with value: 99.02.\u001b[0m\n",
            "\u001b[32m[I 2023-05-28 11:07:53,327]\u001b[0m Trial 18 finished with value: 2.98 and parameters: {'lr': 2.592943797404667e-05, 'bs': 32, 'delta_e': 2.0689655172413794}. Best is trial 11 with value: 99.02.\u001b[0m\n",
            "\u001b[32m[I 2023-05-28 11:08:28,934]\u001b[0m Trial 19 finished with value: 13.41 and parameters: {'lr': 0.0002395026619987486, 'bs': 64, 'delta_e': 1.7586206896551724}. Best is trial 11 with value: 99.02.\u001b[0m\n",
            "\u001b[32m[I 2023-05-28 11:08:58,493]\u001b[0m Trial 20 finished with value: 80.88 and parameters: {'lr': 0.0030391953823131978, 'bs': 128, 'delta_e': 1.0344827586206897}. Best is trial 11 with value: 99.02.\u001b[0m\n",
            "\u001b[32m[I 2023-05-28 11:09:33,852]\u001b[0m Trial 21 finished with value: 98.58 and parameters: {'lr': 0.0727895384398315, 'bs': 64, 'delta_e': 0.41379310344827586}. Best is trial 11 with value: 99.02.\u001b[0m\n",
            "\u001b[32m[I 2023-05-28 11:10:04,716]\u001b[0m Trial 22 finished with value: 4.87 and parameters: {'lr': 2.592943797404667e-05, 'bs': 128, 'delta_e': 1.4482758620689655}. Best is trial 11 with value: 99.02.\u001b[0m\n",
            "\u001b[32m[I 2023-05-28 11:10:34,452]\u001b[0m Trial 23 finished with value: 11.47 and parameters: {'lr': 0.00032903445623126676, 'bs': 128, 'delta_e': 0.7241379310344828}. Best is trial 11 with value: 99.02.\u001b[0m\n",
            "\u001b[32m[I 2023-05-28 11:11:21,368]\u001b[0m Trial 24 finished with value: 73.91 and parameters: {'lr': 0.0006210169418915617, 'bs': 32, 'delta_e': 1.1379310344827587}. Best is trial 11 with value: 99.02.\u001b[0m\n",
            "\u001b[32m[I 2023-05-28 11:11:51,155]\u001b[0m Trial 25 finished with value: 95.9 and parameters: {'lr': 0.014873521072935119, 'bs': 128, 'delta_e': 1.9655172413793103}. Best is trial 11 with value: 99.02.\u001b[0m\n",
            "\u001b[32m[I 2023-05-28 11:12:21,736]\u001b[0m Trial 26 finished with value: 10.74 and parameters: {'lr': 0.0001268961003167922, 'bs': 128, 'delta_e': 3.0}. Best is trial 11 with value: 99.02.\u001b[0m\n",
            "\u001b[32m[I 2023-05-28 11:12:51,908]\u001b[0m Trial 27 finished with value: 98.48 and parameters: {'lr': 0.05298316906283707, 'bs': 128, 'delta_e': 0.41379310344827586}. Best is trial 11 with value: 99.02.\u001b[0m\n",
            "\u001b[32m[I 2023-05-28 11:13:27,290]\u001b[0m Trial 28 finished with value: 16.29 and parameters: {'lr': 0.0002395026619987486, 'bs': 64, 'delta_e': 0.0}. Best is trial 11 with value: 99.02.\u001b[0m\n",
            "\u001b[32m[I 2023-05-28 11:13:58,209]\u001b[0m Trial 29 finished with value: 98.0 and parameters: {'lr': 0.03856620421163472, 'bs': 128, 'delta_e': 2.586206896551724}. Best is trial 11 with value: 99.02.\u001b[0m\n"
          ]
        },
        {
          "name": "stdout",
          "output_type": "stream",
          "text": [
            "{'bs': 32, 'delta_e': 0.41379310344827586, 'lr': 0.1}\n"
          ]
        }
      ],
      "source": [
        "study = optuna.create_study(\n",
        "    direction=\"maximize\",\n",
        "    sampler=TPESampler(n_startup_trials=115),\n",
        "    pruner=BasePruner,\n",
        "    study_name=\"bbi_wa_\",\n",
        "    storage=\"sqlite:///optuna1.db\",\n",
        ")\n",
        "study.optimize(lambda trial: hyperparameter_search(trial, BBI, wa = True), n_trials=30)\n",
        "print(study.best_params)"
      ]
    },
    {
      "cell_type": "code",
      "execution_count": null,
      "metadata": {
        "colab": {
          "base_uri": "https://localhost:8080/"
        },
        "id": "laB22HR56dVm",
        "outputId": "4d9fe675-7b57-42fa-e47c-b09ab0124c6e"
      },
      "outputs": [
        {
          "name": "stderr",
          "output_type": "stream",
          "text": [
            "\u001b[32m[I 2023-05-28 11:13:58,269]\u001b[0m A new study created in RDB with name: bbi_wa_adapt_\u001b[0m\n",
            "\u001b[32m[I 2023-05-28 11:14:36,468]\u001b[0m Trial 0 finished with value: 22.48 and parameters: {'lr': 0.005736152510448681, 'bs': 64, 'delta_e': 0.7241379310344828, 'beta1': 0.896551724137931, 'beta2': 0.20689655172413793}. Best is trial 0 with value: 22.48.\u001b[0m\n",
            "\u001b[32m[I 2023-05-28 11:15:14,429]\u001b[0m Trial 1 finished with value: 0.08 and parameters: {'lr': 4.893900918477499e-05, 'bs': 64, 'delta_e': 0.5172413793103449, 'beta1': 0.5862068965517241, 'beta2': 0.10344827586206896}. Best is trial 0 with value: 22.48.\u001b[0m\n",
            "\u001b[32m[I 2023-05-28 11:16:07,353]\u001b[0m Trial 2 finished with value: 95.06 and parameters: {'lr': 0.020433597178569417, 'bs': 32, 'delta_e': 1.6551724137931034, 'beta1': 0.41379310344827586, 'beta2': 0.13793103448275862}. Best is trial 2 with value: 95.06.\u001b[0m\n",
            "\u001b[32m[I 2023-05-28 11:16:45,385]\u001b[0m Trial 3 finished with value: 17.35 and parameters: {'lr': 0.00221221629107045, 'bs': 64, 'delta_e': 2.2758620689655173, 'beta1': 0.3103448275862069, 'beta2': 0.034482758620689655}. Best is trial 2 with value: 95.06.\u001b[0m\n",
            "\u001b[32m[I 2023-05-28 11:17:37,808]\u001b[0m Trial 4 finished with value: 15.72 and parameters: {'lr': 0.0002395026619987486, 'bs': 32, 'delta_e': 0.9310344827586207, 'beta1': 0.41379310344827586, 'beta2': 0.48275862068965514}. Best is trial 2 with value: 95.06.\u001b[0m\n",
            "\u001b[32m[I 2023-05-28 11:18:30,655]\u001b[0m Trial 5 finished with value: 11.75 and parameters: {'lr': 0.0002395026619987486, 'bs': 32, 'delta_e': 0.6206896551724138, 'beta1': 0.3793103448275862, 'beta2': 0.9655172413793103}. Best is trial 2 with value: 95.06.\u001b[0m\n",
            "\u001b[32m[I 2023-05-28 11:19:23,315]\u001b[0m Trial 6 finished with value: 92.64 and parameters: {'lr': 0.007880462815669913, 'bs': 32, 'delta_e': 0.0, 'beta1': 0.48275862068965514, 'beta2': 0.3103448275862069}. Best is trial 2 with value: 95.06.\u001b[0m\n",
            "\u001b[32m[I 2023-05-28 11:20:01,354]\u001b[0m Trial 7 finished with value: 11.47 and parameters: {'lr': 0.0001268961003167922, 'bs': 64, 'delta_e': 0.41379310344827586, 'beta1': 0.3448275862068966, 'beta2': 0.9310344827586207}. Best is trial 2 with value: 95.06.\u001b[0m\n",
            "\u001b[32m[I 2023-05-28 11:20:53,547]\u001b[0m Trial 8 finished with value: 23.48 and parameters: {'lr': 0.0041753189365604, 'bs': 32, 'delta_e': 1.8620689655172413, 'beta1': 0.8620689655172413, 'beta2': 0.5172413793103449}. Best is trial 2 with value: 95.06.\u001b[0m\n",
            "\u001b[32m[I 2023-05-28 11:21:31,802]\u001b[0m Trial 9 finished with value: 96.47 and parameters: {'lr': 0.020433597178569417, 'bs': 64, 'delta_e': 0.6206896551724138, 'beta1': 0.7586206896551724, 'beta2': 0.8620689655172413}. Best is trial 9 with value: 96.47.\u001b[0m\n",
            "\u001b[32m[I 2023-05-28 11:22:10,350]\u001b[0m Trial 10 finished with value: 0.01 and parameters: {'lr': 1.8873918221350995e-05, 'bs': 64, 'delta_e': 1.2413793103448276, 'beta1': 0.0, 'beta2': 0.27586206896551724}. Best is trial 9 with value: 96.47.\u001b[0m\n",
            "\u001b[32m[I 2023-05-28 11:22:41,610]\u001b[0m Trial 11 finished with value: 10.13 and parameters: {'lr': 0.00032903445623126676, 'bs': 128, 'delta_e': 2.1724137931034484, 'beta1': 0.5172413793103449, 'beta2': 0.6896551724137931}. Best is trial 9 with value: 96.47.\u001b[0m\n",
            "\u001b[32m[I 2023-05-28 11:23:19,811]\u001b[0m Trial 12 finished with value: 3.83 and parameters: {'lr': 2.592943797404667e-05, 'bs': 64, 'delta_e': 1.3448275862068966, 'beta1': 0.7586206896551724, 'beta2': 0.8620689655172413}. Best is trial 9 with value: 96.47.\u001b[0m\n",
            "\u001b[32m[I 2023-05-28 11:24:12,746]\u001b[0m Trial 13 finished with value: 96.38 and parameters: {'lr': 0.03856620421163472, 'bs': 32, 'delta_e': 0.9310344827586207, 'beta1': 0.24137931034482757, 'beta2': 0.6896551724137931}. Best is trial 9 with value: 96.47.\u001b[0m\n",
            "\u001b[32m[I 2023-05-28 11:24:50,978]\u001b[0m Trial 14 finished with value: 0.0 and parameters: {'lr': 2.592943797404667e-05, 'bs': 64, 'delta_e': 2.2758620689655173, 'beta1': 0.5862068965517241, 'beta2': 0.6551724137931034}. Best is trial 9 with value: 96.47.\u001b[0m\n",
            "\u001b[32m[I 2023-05-28 11:25:23,166]\u001b[0m Trial 15 finished with value: 20.35 and parameters: {'lr': 0.005736152510448681, 'bs': 128, 'delta_e': 2.586206896551724, 'beta1': 0.8620689655172413, 'beta2': 0.8275862068965517}. Best is trial 9 with value: 96.47.\u001b[0m\n",
            "\u001b[32m[I 2023-05-28 11:25:54,463]\u001b[0m Trial 16 finished with value: 10.81 and parameters: {'lr': 0.00017433288221999874, 'bs': 128, 'delta_e': 1.7586206896551724, 'beta1': 0.27586206896551724, 'beta2': 0.5172413793103449}. Best is trial 9 with value: 96.47.\u001b[0m\n",
            "\u001b[32m[I 2023-05-28 11:26:47,949]\u001b[0m Trial 17 finished with value: 94.59 and parameters: {'lr': 0.014873521072935119, 'bs': 32, 'delta_e': 1.8620689655172413, 'beta1': 0.9310344827586207, 'beta2': 0.7241379310344828}. Best is trial 9 with value: 96.47.\u001b[0m\n",
            "\u001b[32m[I 2023-05-28 11:27:26,156]\u001b[0m Trial 18 finished with value: 96.19 and parameters: {'lr': 0.020433597178569417, 'bs': 64, 'delta_e': 1.8620689655172413, 'beta1': 0.1724137931034483, 'beta2': 0.6551724137931034}. Best is trial 9 with value: 96.47.\u001b[0m\n",
            "\u001b[32m[I 2023-05-28 11:27:57,323]\u001b[0m Trial 19 finished with value: 7.44 and parameters: {'lr': 1e-05, 'bs': 128, 'delta_e': 2.3793103448275863, 'beta1': 0.7931034482758621, 'beta2': 0.13793103448275862}. Best is trial 9 with value: 96.47.\u001b[0m\n",
            "\u001b[32m[I 2023-05-28 11:28:50,387]\u001b[0m Trial 20 finished with value: 9.85 and parameters: {'lr': 0.00017433288221999874, 'bs': 32, 'delta_e': 0.6206896551724138, 'beta1': 0.7931034482758621, 'beta2': 0.5862068965517241}. Best is trial 9 with value: 96.47.\u001b[0m\n",
            "\u001b[32m[I 2023-05-28 11:29:42,422]\u001b[0m Trial 21 finished with value: 17.05 and parameters: {'lr': 0.00221221629107045, 'bs': 32, 'delta_e': 2.3793103448275863, 'beta1': 0.6206896551724138, 'beta2': 0.1724137931034483}. Best is trial 9 with value: 96.47.\u001b[0m\n",
            "\u001b[32m[I 2023-05-28 11:30:35,298]\u001b[0m Trial 22 finished with value: 95.95 and parameters: {'lr': 0.02807216203941177, 'bs': 32, 'delta_e': 0.6206896551724138, 'beta1': 0.20689655172413793, 'beta2': 0.3448275862068966}. Best is trial 9 with value: 96.47.\u001b[0m\n",
            "\u001b[32m[I 2023-05-28 11:31:28,595]\u001b[0m Trial 23 finished with value: 50.2 and parameters: {'lr': 0.0016102620275609393, 'bs': 32, 'delta_e': 0.6206896551724138, 'beta1': 0.10344827586206896, 'beta2': 0.7241379310344828}. Best is trial 9 with value: 96.47.\u001b[0m\n",
            "\u001b[32m[I 2023-05-28 11:32:21,878]\u001b[0m Trial 24 finished with value: 21.88 and parameters: {'lr': 0.0011721022975334804, 'bs': 32, 'delta_e': 2.896551724137931, 'beta1': 0.06896551724137931, 'beta2': 0.3793103448275862}. Best is trial 9 with value: 96.47.\u001b[0m\n",
            "\u001b[32m[I 2023-05-28 11:32:54,029]\u001b[0m Trial 25 finished with value: 11.75 and parameters: {'lr': 0.0002395026619987486, 'bs': 128, 'delta_e': 2.896551724137931, 'beta1': 0.3793103448275862, 'beta2': 0.24137931034482757}. Best is trial 9 with value: 96.47.\u001b[0m\n",
            "\u001b[32m[I 2023-05-28 11:33:47,079]\u001b[0m Trial 26 finished with value: 10.57 and parameters: {'lr': 0.0011721022975334804, 'bs': 32, 'delta_e': 1.6551724137931034, 'beta1': 0.9655172413793103, 'beta2': 0.5862068965517241}. Best is trial 9 with value: 96.47.\u001b[0m\n",
            "\u001b[32m[I 2023-05-28 11:34:40,896]\u001b[0m Trial 27 finished with value: 10.55 and parameters: {'lr': 0.0011721022975334804, 'bs': 32, 'delta_e': 2.896551724137931, 'beta1': 0.7241379310344828, 'beta2': 0.10344827586206896}. Best is trial 9 with value: 96.47.\u001b[0m\n",
            "\u001b[32m[I 2023-05-28 11:35:12,832]\u001b[0m Trial 28 finished with value: 95.46 and parameters: {'lr': 0.014873521072935119, 'bs': 128, 'delta_e': 2.896551724137931, 'beta1': 0.034482758620689655, 'beta2': 0.5862068965517241}. Best is trial 9 with value: 96.47.\u001b[0m\n",
            "\u001b[32m[I 2023-05-28 11:36:06,786]\u001b[0m Trial 29 finished with value: 95.22 and parameters: {'lr': 0.014873521072935119, 'bs': 32, 'delta_e': 1.8620689655172413, 'beta1': 0.8620689655172413, 'beta2': 0.1724137931034483}. Best is trial 9 with value: 96.47.\u001b[0m\n"
          ]
        },
        {
          "name": "stdout",
          "output_type": "stream",
          "text": [
            "{'beta1': 0.7586206896551724, 'beta2': 0.8620689655172413, 'bs': 64, 'delta_e': 0.6206896551724138, 'lr': 0.020433597178569417}\n"
          ]
        }
      ],
      "source": [
        "study = optuna.create_study(\n",
        "    direction=\"maximize\",\n",
        "    sampler=TPESampler(n_startup_trials=115),\n",
        "    pruner=BasePruner,\n",
        "    study_name=\"bbi_wa_adapt_\",\n",
        "    storage=\"sqlite:///optuna1.db\",\n",
        ")\n",
        "study.optimize(lambda trial: hyperparameter_search(trial, BBI, wa = True, adaptive=True), n_trials=30)\n",
        "print(study.best_params)"
      ]
    },
    {
      "cell_type": "code",
      "execution_count": 8,
      "metadata": {
        "colab": {
          "base_uri": "https://localhost:8080/"
        },
        "id": "RfiBynaKWatO",
        "outputId": "9e86f4e5-1a07-4c77-d96f-9ffd1a20c0c1"
      },
      "outputs": [
        {
          "output_type": "stream",
          "name": "stderr",
          "text": [
            "[I 2023-05-30 11:11:09,504] A new study created in RDB with name: mu_bbi\n",
            "[I 2023-05-30 11:12:11,421] Trial 0 finished with value: 0.0 and parameters: {'bs': 32, 'delta_e': 2.2758620689655173, 'lr': 1e-05}. Best is trial 0 with value: 0.0.\n",
            "[I 2023-05-30 11:12:42,153] Trial 1 finished with value: 91.78 and parameters: {'bs': 128, 'delta_e': 2.4827586206896552, 'lr': 0.03856620421163472}. Best is trial 1 with value: 91.78.\n",
            "[I 2023-05-30 11:13:19,080] Trial 2 finished with value: 7.57 and parameters: {'bs': 64, 'delta_e': 1.3448275862068966, 'lr': 3.5622478902624444e-05}. Best is trial 1 with value: 91.78.\n",
            "[I 2023-05-30 11:14:08,108] Trial 3 finished with value: 97.48 and parameters: {'bs': 32, 'delta_e': 1.7586206896551724, 'lr': 0.1}. Best is trial 3 with value: 97.48.\n",
            "[I 2023-05-30 11:14:56,785] Trial 4 finished with value: 10.43 and parameters: {'bs': 32, 'delta_e': 1.2413793103448276, 'lr': 2.592943797404667e-05}. Best is trial 3 with value: 97.48.\n",
            "[I 2023-05-30 11:15:45,015] Trial 5 finished with value: 9.58 and parameters: {'bs': 32, 'delta_e': 0.5172413793103449, 'lr': 3.5622478902624444e-05}. Best is trial 3 with value: 97.48.\n",
            "[I 2023-05-30 11:16:21,170] Trial 6 finished with value: 77.83 and parameters: {'bs': 64, 'delta_e': 0.3103448275862069, 'lr': 0.005736152510448681}. Best is trial 3 with value: 97.48.\n",
            "[I 2023-05-30 11:16:52,909] Trial 7 finished with value: 94.12 and parameters: {'bs': 128, 'delta_e': 1.3448275862068966, 'lr': 0.0727895384398315}. Best is trial 3 with value: 97.48.\n",
            "[I 2023-05-30 11:17:40,036] Trial 8 finished with value: 11.35 and parameters: {'bs': 32, 'delta_e': 2.3793103448275863, 'lr': 0.00017433288221999874}. Best is trial 3 with value: 97.48.\n",
            "[I 2023-05-30 11:18:15,203] Trial 9 finished with value: 97.44 and parameters: {'bs': 64, 'delta_e': 2.4827586206896552, 'lr': 0.1}. Best is trial 3 with value: 97.48.\n",
            "[I 2023-05-30 11:18:51,596] Trial 10 finished with value: 10.09 and parameters: {'bs': 64, 'delta_e': 1.9655172413793103, 'lr': 0.0002395026619987486}. Best is trial 3 with value: 97.48.\n",
            "[I 2023-05-30 11:19:27,169] Trial 11 finished with value: 87.92 and parameters: {'bs': 64, 'delta_e': 1.2413793103448276, 'lr': 0.014873521072935119}. Best is trial 3 with value: 97.48.\n",
            "[I 2023-05-30 11:19:56,103] Trial 12 finished with value: 90.66 and parameters: {'bs': 128, 'delta_e': 2.1724137931034484, 'lr': 0.03856620421163472}. Best is trial 3 with value: 97.48.\n",
            "[I 2023-05-30 11:20:42,871] Trial 13 finished with value: 9.31 and parameters: {'bs': 32, 'delta_e': 0.3103448275862069, 'lr': 3.5622478902624444e-05}. Best is trial 3 with value: 97.48.\n",
            "[I 2023-05-30 11:21:12,293] Trial 14 finished with value: 86.22 and parameters: {'bs': 128, 'delta_e': 1.5517241379310345, 'lr': 0.020433597178569417}. Best is trial 3 with value: 97.48.\n",
            "[I 2023-05-30 11:21:49,503] Trial 15 finished with value: 96.34 and parameters: {'bs': 64, 'delta_e': 1.4482758620689655, 'lr': 0.03856620421163472}. Best is trial 3 with value: 97.48.\n",
            "[I 2023-05-30 11:22:19,799] Trial 16 finished with value: 11.35 and parameters: {'bs': 128, 'delta_e': 1.4482758620689655, 'lr': 0.00045203536563602454}. Best is trial 3 with value: 97.48.\n",
            "[I 2023-05-30 11:22:50,330] Trial 17 finished with value: 10.35 and parameters: {'bs': 128, 'delta_e': 2.689655172413793, 'lr': 0.0008531678524172806}. Best is trial 3 with value: 97.48.\n",
            "[I 2023-05-30 11:23:38,557] Trial 18 finished with value: 92.69 and parameters: {'bs': 32, 'delta_e': 1.5517241379310345, 'lr': 0.007880462815669913}. Best is trial 3 with value: 97.48.\n",
            "[I 2023-05-30 11:24:26,541] Trial 19 finished with value: 11.35 and parameters: {'bs': 32, 'delta_e': 1.3448275862068966, 'lr': 0.0008531678524172806}. Best is trial 3 with value: 97.48.\n",
            "[I 2023-05-30 11:25:14,353] Trial 20 finished with value: 97.93 and parameters: {'bs': 32, 'delta_e': 1.5517241379310345, 'lr': 0.0727895384398315}. Best is trial 20 with value: 97.93.\n",
            "[I 2023-05-30 11:25:44,051] Trial 21 finished with value: 94.35 and parameters: {'bs': 128, 'delta_e': 1.1379310344827587, 'lr': 0.05298316906283707}. Best is trial 20 with value: 97.93.\n",
            "[I 2023-05-30 11:26:20,109] Trial 22 finished with value: 78.6 and parameters: {'bs': 64, 'delta_e': 2.3793103448275863, 'lr': 0.005736152510448681}. Best is trial 20 with value: 97.93.\n",
            "[I 2023-05-30 11:26:50,019] Trial 23 finished with value: 9.8 and parameters: {'bs': 128, 'delta_e': 0.5172413793103449, 'lr': 0.0006210169418915617}. Best is trial 20 with value: 97.93.\n",
            "[I 2023-05-30 11:27:38,978] Trial 24 finished with value: 9.82 and parameters: {'bs': 32, 'delta_e': 2.4827586206896552, 'lr': 0.00045203536563602454}. Best is trial 20 with value: 97.93.\n",
            "[I 2023-05-30 11:28:15,627] Trial 25 finished with value: 97.27 and parameters: {'bs': 64, 'delta_e': 0.9310344827586207, 'lr': 0.05298316906283707}. Best is trial 20 with value: 97.93.\n",
            "[I 2023-05-30 11:29:03,806] Trial 26 finished with value: 10.1 and parameters: {'bs': 32, 'delta_e': 0.6206896551724138, 'lr': 9.236708571873866e-05}. Best is trial 20 with value: 97.93.\n",
            "[I 2023-05-30 11:29:39,191] Trial 27 finished with value: 10.14 and parameters: {'bs': 64, 'delta_e': 0.7241379310344828, 'lr': 0.00017433288221999874}. Best is trial 20 with value: 97.93.\n",
            "[I 2023-05-30 11:30:08,832] Trial 28 finished with value: 10.01 and parameters: {'bs': 128, 'delta_e': 0.9310344827586207, 'lr': 0.0002395026619987486}. Best is trial 20 with value: 97.93.\n",
            "[I 2023-05-30 11:30:44,603] Trial 29 finished with value: 0.0 and parameters: {'bs': 64, 'delta_e': 1.7586206896551724, 'lr': 2.592943797404667e-05}. Best is trial 20 with value: 97.93.\n"
          ]
        },
        {
          "output_type": "stream",
          "name": "stdout",
          "text": [
            "{'bs': 32, 'delta_e': 1.5517241379310345, 'lr': 0.0727895384398315}\n"
          ]
        }
      ],
      "source": [
        "# Search for best parameters for MuBBI\n",
        "study = optuna.create_study(\n",
        "    direction=\"maximize\",\n",
        "    sampler=TPESampler(n_startup_trials=115),\n",
        "    pruner=BasePruner,\n",
        "    study_name=\"mu_bbi\",\n",
        "    storage=\"sqlite:///optuna1.db\",\n",
        "    load_if_exists=True,\n",
        ")\n",
        "study.optimize(lambda trial: hyperparameter_search(trial, MuBBI), n_trials=30)\n",
        "print(study.best_params)"
      ]
    },
    {
      "cell_type": "code",
      "execution_count": 9,
      "metadata": {
        "colab": {
          "base_uri": "https://localhost:8080/"
        },
        "id": "E5ERLVdWWatP",
        "outputId": "a9423d68-cc21-4be6-bada-71aa27fe07d8"
      },
      "outputs": [
        {
          "output_type": "stream",
          "name": "stderr",
          "text": [
            "[I 2023-05-30 11:30:44,665] A new study created in RDB with name: mu_bbi_adap\n",
            "[I 2023-05-30 11:31:22,545] Trial 0 finished with value: 10.1 and parameters: {'beta1': 0.8275862068965517, 'beta2': 0.9655172413793103, 'bs': 64, 'delta_e': 0.3103448275862069, 'lr': 0.00045203536563602454}. Best is trial 0 with value: 10.1.\n",
            "[I 2023-05-30 11:31:58,567] Trial 1 finished with value: 78.35 and parameters: {'beta1': 0.3793103448275862, 'beta2': 0.7586206896551724, 'bs': 128, 'delta_e': 2.689655172413793, 'lr': 0.020433597178569417}. Best is trial 1 with value: 78.35.\n",
            "[I 2023-05-30 11:32:41,850] Trial 2 finished with value: 0.0 and parameters: {'beta1': 0.3448275862068966, 'beta2': 0.3103448275862069, 'bs': 64, 'delta_e': 1.3448275862068966, 'lr': 1.3738237958832637e-05}. Best is trial 1 with value: 78.35.\n",
            "[I 2023-05-30 11:33:19,902] Trial 3 finished with value: 4.53 and parameters: {'beta1': 0.3793103448275862, 'beta2': 0.6896551724137931, 'bs': 64, 'delta_e': 0.5172413793103449, 'lr': 6.723357536499335e-05}. Best is trial 1 with value: 78.35.\n",
            "[I 2023-05-30 11:34:12,859] Trial 4 finished with value: 95.94 and parameters: {'beta1': 0.5862068965517241, 'beta2': 0.5862068965517241, 'bs': 32, 'delta_e': 1.4482758620689655, 'lr': 0.0727895384398315}. Best is trial 4 with value: 95.94.\n",
            "[I 2023-05-30 11:34:51,126] Trial 5 finished with value: 44.39 and parameters: {'beta1': 0.6206896551724138, 'beta2': 0.7586206896551724, 'bs': 64, 'delta_e': 2.4827586206896552, 'lr': 0.0041753189365604}. Best is trial 4 with value: 95.94.\n",
            "[I 2023-05-30 11:35:29,330] Trial 6 finished with value: 9.8 and parameters: {'beta1': 0.034482758620689655, 'beta2': 0.6551724137931034, 'bs': 64, 'delta_e': 0.6206896551724138, 'lr': 0.00045203536563602454}. Best is trial 4 with value: 95.94.\n",
            "[I 2023-05-30 11:36:23,033] Trial 7 finished with value: 97.04 and parameters: {'beta1': 0.1724137931034483, 'beta2': 0.9310344827586207, 'bs': 32, 'delta_e': 2.2758620689655173, 'lr': 0.1}. Best is trial 7 with value: 97.04.\n",
            "[I 2023-05-30 11:36:54,246] Trial 8 finished with value: 10.32 and parameters: {'beta1': 0.10344827586206896, 'beta2': 0.4482758620689655, 'bs': 128, 'delta_e': 3.0, 'lr': 0.0011721022975334804}. Best is trial 7 with value: 97.04.\n",
            "[I 2023-05-30 11:37:32,170] Trial 9 finished with value: 94.88 and parameters: {'beta1': 0.5172413793103449, 'beta2': 0.5172413793103449, 'bs': 64, 'delta_e': 1.4482758620689655, 'lr': 0.05298316906283707}. Best is trial 7 with value: 97.04.\n",
            "[I 2023-05-30 11:38:25,278] Trial 10 finished with value: 89.33 and parameters: {'beta1': 0.034482758620689655, 'beta2': 0.6551724137931034, 'bs': 32, 'delta_e': 1.6551724137931034, 'lr': 0.010826367338740546}. Best is trial 7 with value: 97.04.\n",
            "[I 2023-05-30 11:38:56,107] Trial 11 finished with value: 10.49 and parameters: {'beta1': 0.24137931034482757, 'beta2': 0.6896551724137931, 'bs': 128, 'delta_e': 1.7586206896551724, 'lr': 9.236708571873866e-05}. Best is trial 7 with value: 97.04.\n",
            "[I 2023-05-30 11:39:34,369] Trial 12 finished with value: 95.61 and parameters: {'beta1': 0.5172413793103449, 'beta2': 0.6206896551724138, 'bs': 64, 'delta_e': 2.3793103448275863, 'lr': 0.05298316906283707}. Best is trial 7 with value: 97.04.\n",
            "[I 2023-05-30 11:40:26,388] Trial 13 finished with value: 92.51 and parameters: {'beta1': 0.7586206896551724, 'beta2': 0.6206896551724138, 'bs': 32, 'delta_e': 2.0689655172413794, 'lr': 0.02807216203941177}. Best is trial 7 with value: 97.04.\n",
            "[I 2023-05-30 11:41:05,341] Trial 14 finished with value: 95.88 and parameters: {'beta1': 0.1724137931034483, 'beta2': 0.9655172413793103, 'bs': 64, 'delta_e': 1.7586206896551724, 'lr': 0.05298316906283707}. Best is trial 7 with value: 97.04.\n",
            "[I 2023-05-30 11:41:56,229] Trial 15 finished with value: 11.35 and parameters: {'beta1': 0.034482758620689655, 'beta2': 0.7241379310344828, 'bs': 32, 'delta_e': 1.5517241379310345, 'lr': 6.723357536499335e-05}. Best is trial 7 with value: 97.04.\n",
            "[I 2023-05-30 11:42:34,632] Trial 16 finished with value: 20.04 and parameters: {'beta1': 0.4482758620689655, 'beta2': 0.9310344827586207, 'bs': 64, 'delta_e': 1.5517241379310345, 'lr': 0.0030391953823131978}. Best is trial 7 with value: 97.04.\n",
            "<ipython-input-3-1baa829ef438>:134: RuntimeWarning: divide by zero encountered in double_scalars\n",
            "  bias_correction2 = 1 / (1 - b2 ** (self.counter + 1))\n",
            "[I 2023-05-30 11:43:12,665] Trial 17 finished with value: 10.1 and parameters: {'beta1': 0.6551724137931034, 'beta2': 1.0, 'bs': 64, 'delta_e': 1.6551724137931034, 'lr': 0.005736152510448681}. Best is trial 7 with value: 97.04.\n",
            "[I 2023-05-30 11:43:49,565] Trial 18 finished with value: 93.59 and parameters: {'beta1': 0.3448275862068966, 'beta2': 0.20689655172413793, 'bs': 64, 'delta_e': 1.1379310344827587, 'lr': 0.03856620421163472}. Best is trial 7 with value: 97.04.\n",
            "[I 2023-05-30 11:44:26,194] Trial 19 finished with value: 52.88 and parameters: {'beta1': 0.5172413793103449, 'beta2': 0.7241379310344828, 'bs': 64, 'delta_e': 1.9655172413793103, 'lr': 0.005736152510448681}. Best is trial 7 with value: 97.04.\n",
            "[I 2023-05-30 11:45:17,537] Trial 20 finished with value: 9.74 and parameters: {'beta1': 0.24137931034482757, 'beta2': 0.20689655172413793, 'bs': 32, 'delta_e': 0.10344827586206896, 'lr': 0.00045203536563602454}. Best is trial 7 with value: 97.04.\n",
            "[I 2023-05-30 11:45:54,139] Trial 21 finished with value: 33.89 and parameters: {'beta1': 0.3448275862068966, 'beta2': 0.06896551724137931, 'bs': 64, 'delta_e': 1.7586206896551724, 'lr': 0.0041753189365604}. Best is trial 7 with value: 97.04.\n",
            "[I 2023-05-30 11:46:25,071] Trial 22 finished with value: 0.0 and parameters: {'beta1': 0.24137931034482757, 'beta2': 0.5172413793103449, 'bs': 128, 'delta_e': 2.4827586206896552, 'lr': 1.8873918221350995e-05}. Best is trial 7 with value: 97.04.\n",
            "[I 2023-05-30 11:47:15,835] Trial 23 finished with value: 3.37 and parameters: {'beta1': 0.13793103448275862, 'beta2': 0.06896551724137931, 'bs': 32, 'delta_e': 0.0, 'lr': 0.00032903445623126676}. Best is trial 7 with value: 97.04.\n",
            "[I 2023-05-30 11:48:06,370] Trial 24 finished with value: 9.8 and parameters: {'beta1': 0.41379310344827586, 'beta2': 0.20689655172413793, 'bs': 32, 'delta_e': 2.1724137931034484, 'lr': 0.00032903445623126676}. Best is trial 7 with value: 97.04.\n",
            "[I 2023-05-30 11:48:43,021] Trial 25 finished with value: 9.58 and parameters: {'beta1': 0.7931034482758621, 'beta2': 0.3793103448275862, 'bs': 64, 'delta_e': 1.2413793103448276, 'lr': 0.0001268961003167922}. Best is trial 7 with value: 97.04.\n",
            "[I 2023-05-30 11:49:19,551] Trial 26 finished with value: 73.88 and parameters: {'beta1': 0.5172413793103449, 'beta2': 0.4482758620689655, 'bs': 64, 'delta_e': 1.0344827586206897, 'lr': 0.010826367338740546}. Best is trial 7 with value: 97.04.\n",
            "[I 2023-05-30 11:49:51,074] Trial 27 finished with value: 97.0 and parameters: {'beta1': 0.1724137931034483, 'beta2': 0.9655172413793103, 'bs': 128, 'delta_e': 2.3793103448275863, 'lr': 0.1}. Best is trial 7 with value: 97.04.\n",
            "[I 2023-05-30 11:50:20,843] Trial 28 finished with value: 10.1 and parameters: {'beta1': 0.7241379310344828, 'beta2': 0.5862068965517241, 'bs': 128, 'delta_e': 0.0, 'lr': 1.8873918221350995e-05}. Best is trial 7 with value: 97.04.\n",
            "[I 2023-05-30 11:50:51,383] Trial 29 finished with value: 88.96 and parameters: {'beta1': 0.7586206896551724, 'beta2': 0.5517241379310345, 'bs': 128, 'delta_e': 1.3448275862068966, 'lr': 0.03856620421163472}. Best is trial 7 with value: 97.04.\n"
          ]
        },
        {
          "output_type": "stream",
          "name": "stdout",
          "text": [
            "{'beta1': 0.1724137931034483, 'beta2': 0.9310344827586207, 'bs': 32, 'delta_e': 2.2758620689655173, 'lr': 0.1}\n"
          ]
        }
      ],
      "source": [
        "study = optuna.create_study(\n",
        "    direction=\"maximize\",\n",
        "    sampler=TPESampler(n_startup_trials=115),\n",
        "    pruner=BasePruner,\n",
        "    study_name=\"mu_bbi_adap\",\n",
        "    storage=\"sqlite:///optuna1.db\",\n",
        "    load_if_exists=True,\n",
        ")\n",
        "study.optimize(lambda trial: hyperparameter_search(trial, MuBBI, adaptive = True), n_trials=30)\n",
        "print(study.best_params)"
      ]
    },
    {
      "cell_type": "code",
      "execution_count": 10,
      "metadata": {
        "colab": {
          "base_uri": "https://localhost:8080/"
        },
        "id": "o1SPIxJlWatP",
        "outputId": "615f7997-00b1-47a1-9a37-89bebbfe4f72"
      },
      "outputs": [
        {
          "output_type": "stream",
          "name": "stderr",
          "text": [
            "[I 2023-05-30 11:50:51,451] A new study created in RDB with name: mu_bbi_wa_\n",
            "[I 2023-05-30 11:51:21,195] Trial 0 finished with value: 10.28 and parameters: {'bs': 128, 'delta_e': 1.9655172413793103, 'lr': 0.00017433288221999874}. Best is trial 0 with value: 10.28.\n",
            "[I 2023-05-30 11:51:50,833] Trial 1 finished with value: 9.82 and parameters: {'bs': 128, 'delta_e': 1.1379310344827587, 'lr': 0.00017433288221999874}. Best is trial 0 with value: 10.28.\n",
            "[I 2023-05-30 11:52:19,326] Trial 2 finished with value: 10.09 and parameters: {'bs': 128, 'delta_e': 2.1724137931034484, 'lr': 0.0002395026619987486}. Best is trial 0 with value: 10.28.\n",
            "[I 2023-05-30 11:53:05,012] Trial 3 finished with value: 24.24 and parameters: {'bs': 32, 'delta_e': 2.2758620689655173, 'lr': 0.0016102620275609393}. Best is trial 3 with value: 24.24.\n",
            "[I 2023-05-30 11:53:39,385] Trial 4 finished with value: 97.34 and parameters: {'bs': 64, 'delta_e': 0.0, 'lr': 0.05298316906283707}. Best is trial 4 with value: 97.34.\n",
            "[I 2023-05-30 11:54:14,854] Trial 5 finished with value: 0.0 and parameters: {'bs': 64, 'delta_e': 1.3448275862068966, 'lr': 1.8873918221350995e-05}. Best is trial 4 with value: 97.34.\n",
            "[I 2023-05-30 11:54:43,323] Trial 6 finished with value: 9.55 and parameters: {'bs': 128, 'delta_e': 2.3793103448275863, 'lr': 4.893900918477499e-05}. Best is trial 4 with value: 97.34.\n",
            "[I 2023-05-30 11:55:17,995] Trial 7 finished with value: 9.82 and parameters: {'bs': 64, 'delta_e': 1.8620689655172413, 'lr': 0.0008531678524172806}. Best is trial 4 with value: 97.34.\n",
            "[I 2023-05-30 11:55:47,322] Trial 8 finished with value: 9.83 and parameters: {'bs': 128, 'delta_e': 2.0689655172413794, 'lr': 0.0016102620275609393}. Best is trial 4 with value: 97.34.\n",
            "[I 2023-05-30 11:56:32,423] Trial 9 finished with value: 94.12 and parameters: {'bs': 32, 'delta_e': 0.8275862068965517, 'lr': 0.010826367338740546}. Best is trial 4 with value: 97.34.\n",
            "[I 2023-05-30 11:57:01,813] Trial 10 finished with value: 94.72 and parameters: {'bs': 128, 'delta_e': 2.793103448275862, 'lr': 0.0727895384398315}. Best is trial 4 with value: 97.34.\n",
            "[I 2023-05-30 11:57:30,394] Trial 11 finished with value: 0.0 and parameters: {'bs': 128, 'delta_e': 0.8275862068965517, 'lr': 2.592943797404667e-05}. Best is trial 4 with value: 97.34.\n",
            "[I 2023-05-30 11:57:59,739] Trial 12 finished with value: 0.0 and parameters: {'bs': 128, 'delta_e': 0.9310344827586207, 'lr': 4.893900918477499e-05}. Best is trial 4 with value: 97.34.\n",
            "[I 2023-05-30 11:58:34,804] Trial 13 finished with value: 10.29 and parameters: {'bs': 64, 'delta_e': 2.896551724137931, 'lr': 2.592943797404667e-05}. Best is trial 4 with value: 97.34.\n",
            "[I 2023-05-30 11:59:08,784] Trial 14 finished with value: 6.97 and parameters: {'bs': 64, 'delta_e': 0.41379310344827586, 'lr': 9.236708571873866e-05}. Best is trial 4 with value: 97.34.\n",
            "[I 2023-05-30 11:59:37,832] Trial 15 finished with value: 0.0 and parameters: {'bs': 128, 'delta_e': 0.20689655172413793, 'lr': 1.3738237958832637e-05}. Best is trial 4 with value: 97.34.\n",
            "[I 2023-05-30 12:00:24,037] Trial 16 finished with value: 97.98 and parameters: {'bs': 32, 'delta_e': 0.8275862068965517, 'lr': 0.03856620421163472}. Best is trial 16 with value: 97.98.\n",
            "[I 2023-05-30 12:00:52,446] Trial 17 finished with value: 9.74 and parameters: {'bs': 128, 'delta_e': 1.0344827586206897, 'lr': 9.236708571873866e-05}. Best is trial 16 with value: 97.98.\n",
            "[I 2023-05-30 12:01:26,954] Trial 18 finished with value: 97.66 and parameters: {'bs': 64, 'delta_e': 1.4482758620689655, 'lr': 0.1}. Best is trial 16 with value: 97.98.\n",
            "[I 2023-05-30 12:01:55,609] Trial 19 finished with value: 9.58 and parameters: {'bs': 128, 'delta_e': 0.8275862068965517, 'lr': 0.0006210169418915617}. Best is trial 16 with value: 97.98.\n",
            "[I 2023-05-30 12:02:25,006] Trial 20 finished with value: 9.18 and parameters: {'bs': 128, 'delta_e': 2.0689655172413794, 'lr': 0.00032903445623126676}. Best is trial 16 with value: 97.98.\n",
            "[I 2023-05-30 12:02:54,606] Trial 21 finished with value: 81.92 and parameters: {'bs': 128, 'delta_e': 1.4482758620689655, 'lr': 0.010826367338740546}. Best is trial 16 with value: 97.98.\n",
            "[I 2023-05-30 12:03:41,465] Trial 22 finished with value: 97.71 and parameters: {'bs': 32, 'delta_e': 1.6551724137931034, 'lr': 0.02807216203941177}. Best is trial 16 with value: 97.98.\n",
            "[I 2023-05-30 12:04:27,949] Trial 23 finished with value: 97.34 and parameters: {'bs': 32, 'delta_e': 1.3448275862068966, 'lr': 0.02807216203941177}. Best is trial 16 with value: 97.98.\n",
            "[I 2023-05-30 12:04:56,976] Trial 24 finished with value: 2.32 and parameters: {'bs': 128, 'delta_e': 0.10344827586206896, 'lr': 0.0001268961003167922}. Best is trial 16 with value: 97.98.\n",
            "[I 2023-05-30 12:05:31,217] Trial 25 finished with value: 0.0 and parameters: {'bs': 64, 'delta_e': 0.5172413793103449, 'lr': 4.893900918477499e-05}. Best is trial 16 with value: 97.98.\n",
            "[I 2023-05-30 12:06:00,445] Trial 26 finished with value: 3.95 and parameters: {'bs': 128, 'delta_e': 3.0, 'lr': 6.723357536499335e-05}. Best is trial 16 with value: 97.98.\n",
            "[I 2023-05-30 12:06:35,023] Trial 27 finished with value: 12.55 and parameters: {'bs': 64, 'delta_e': 2.1724137931034484, 'lr': 0.00045203536563602454}. Best is trial 16 with value: 97.98.\n",
            "[I 2023-05-30 12:07:09,223] Trial 28 finished with value: 8.92 and parameters: {'bs': 64, 'delta_e': 1.8620689655172413, 'lr': 0.00017433288221999874}. Best is trial 16 with value: 97.98.\n",
            "[I 2023-05-30 12:07:55,865] Trial 29 finished with value: 82.24 and parameters: {'bs': 32, 'delta_e': 2.2758620689655173, 'lr': 0.0041753189365604}. Best is trial 16 with value: 97.98.\n"
          ]
        },
        {
          "output_type": "stream",
          "name": "stdout",
          "text": [
            "{'bs': 32, 'delta_e': 0.8275862068965517, 'lr': 0.03856620421163472}\n"
          ]
        }
      ],
      "source": [
        "study = optuna.create_study(\n",
        "    direction=\"maximize\",\n",
        "    sampler=TPESampler(n_startup_trials=115),\n",
        "    pruner=BasePruner,\n",
        "    study_name=\"mu_bbi_wa_\",\n",
        "    storage=\"sqlite:///optuna1.db\",\n",
        ")\n",
        "study.optimize(lambda trial: hyperparameter_search(trial, MuBBI, wa = True), n_trials=30)\n",
        "print(study.best_params)"
      ]
    },
    {
      "cell_type": "code",
      "execution_count": 9,
      "metadata": {
        "colab": {
          "base_uri": "https://localhost:8080/"
        },
        "id": "BGce9rmCWatQ",
        "outputId": "4ce1d7d5-d941-40cc-fcef-d0c411268d94"
      },
      "outputs": [
        {
          "output_type": "stream",
          "name": "stderr",
          "text": [
            "[I 2023-05-30 12:40:20,560] A new study created in RDB with name: mu_bbi_wa_adapt\n",
            "[I 2023-05-30 12:40:54,688] Trial 0 finished with value: 0.0 and parameters: {'beta1': 0.3103448275862069, 'beta2': 0.6551724137931034, 'bs': 128, 'delta_e': 2.0689655172413794, 'lr': 1e-05}. Best is trial 0 with value: 0.0.\n",
            "[I 2023-05-30 12:41:48,320] Trial 1 finished with value: 70.91 and parameters: {'beta1': 0.5862068965517241, 'beta2': 0.3103448275862069, 'bs': 32, 'delta_e': 1.1379310344827587, 'lr': 0.005736152510448681}. Best is trial 1 with value: 70.91.\n",
            "[I 2023-05-30 12:42:44,578] Trial 2 finished with value: 83.95 and parameters: {'beta1': 0.5172413793103449, 'beta2': 0.48275862068965514, 'bs': 32, 'delta_e': 3.0, 'lr': 0.007880462815669913}. Best is trial 2 with value: 83.95.\n",
            "<ipython-input-3-1baa829ef438>:133: RuntimeWarning: divide by zero encountered in double_scalars\n",
            "  bias_correction1 = 1 / (1 - b1 ** (self.counter + 1))\n",
            "[I 2023-05-30 12:43:14,511] Trial 3 finished with value: 9.8 and parameters: {'beta1': 1.0, 'beta2': 0.6896551724137931, 'bs': 128, 'delta_e': 2.586206896551724, 'lr': 0.0030391953823131978}. Best is trial 2 with value: 83.95.\n",
            "[I 2023-05-30 12:44:12,427] Trial 4 finished with value: 11.35 and parameters: {'beta1': 0.48275862068965514, 'beta2': 0.24137931034482757, 'bs': 32, 'delta_e': 2.586206896551724, 'lr': 0.00045203536563602454}. Best is trial 2 with value: 83.95.\n",
            "[I 2023-05-30 12:45:06,874] Trial 5 finished with value: 9.74 and parameters: {'beta1': 0.48275862068965514, 'beta2': 0.7241379310344828, 'bs': 32, 'delta_e': 3.0, 'lr': 0.0001268961003167922}. Best is trial 2 with value: 83.95.\n",
            "[I 2023-05-30 12:45:38,795] Trial 6 finished with value: 10.09 and parameters: {'beta1': 0.41379310344827586, 'beta2': 0.3793103448275862, 'bs': 128, 'delta_e': 0.10344827586206896, 'lr': 6.723357536499335e-05}. Best is trial 2 with value: 83.95.\n",
            "[I 2023-05-30 12:46:34,765] Trial 7 finished with value: 0.0 and parameters: {'beta1': 0.7241379310344828, 'beta2': 0.20689655172413793, 'bs': 32, 'delta_e': 0.41379310344827586, 'lr': 1.8873918221350995e-05}. Best is trial 2 with value: 83.95.\n",
            "[I 2023-05-30 12:47:07,724] Trial 8 finished with value: 95.02 and parameters: {'beta1': 0.20689655172413793, 'beta2': 0.5517241379310345, 'bs': 128, 'delta_e': 0.6206896551724138, 'lr': 0.0727895384398315}. Best is trial 8 with value: 95.02.\n",
            "[I 2023-05-30 12:48:03,267] Trial 9 finished with value: 10.2 and parameters: {'beta1': 0.9310344827586207, 'beta2': 0.034482758620689655, 'bs': 32, 'delta_e': 1.4482758620689655, 'lr': 0.0041753189365604}. Best is trial 8 with value: 95.02.\n",
            "[I 2023-05-30 12:48:44,180] Trial 10 finished with value: 71.23 and parameters: {'beta1': 0.034482758620689655, 'beta2': 0.6896551724137931, 'bs': 64, 'delta_e': 2.2758620689655173, 'lr': 0.007880462815669913}. Best is trial 8 with value: 95.02.\n",
            "[I 2023-05-30 12:49:16,488] Trial 11 finished with value: 9.74 and parameters: {'beta1': 0.7586206896551724, 'beta2': 0.1724137931034483, 'bs': 128, 'delta_e': 3.0, 'lr': 0.0001268961003167922}. Best is trial 8 with value: 95.02.\n",
            "[I 2023-05-30 12:49:49,330] Trial 12 finished with value: 96.26 and parameters: {'beta1': 0.034482758620689655, 'beta2': 0.4482758620689655, 'bs': 128, 'delta_e': 1.2413793103448276, 'lr': 0.1}. Best is trial 12 with value: 96.26.\n",
            "[I 2023-05-30 12:50:44,690] Trial 13 finished with value: 12.24 and parameters: {'beta1': 0.6206896551724138, 'beta2': 0.3448275862068966, 'bs': 32, 'delta_e': 1.5517241379310345, 'lr': 9.236708571873866e-05}. Best is trial 12 with value: 96.26.\n",
            "[I 2023-05-30 12:51:40,074] Trial 14 finished with value: 9.82 and parameters: {'beta1': 0.5517241379310345, 'beta2': 0.1724137931034483, 'bs': 32, 'delta_e': 2.3793103448275863, 'lr': 1e-05}. Best is trial 12 with value: 96.26.\n",
            "[I 2023-05-30 12:52:35,479] Trial 15 finished with value: 88.47 and parameters: {'beta1': 0.7586206896551724, 'beta2': 0.5862068965517241, 'bs': 32, 'delta_e': 1.6551724137931034, 'lr': 0.010826367338740546}. Best is trial 12 with value: 96.26.\n",
            "[I 2023-05-30 12:53:07,661] Trial 16 finished with value: 0.92 and parameters: {'beta1': 0.0, 'beta2': 0.9310344827586207, 'bs': 128, 'delta_e': 0.20689655172413793, 'lr': 1.3738237958832637e-05}. Best is trial 12 with value: 96.26.\n",
            "[I 2023-05-30 12:53:42,486] Trial 17 finished with value: 10.32 and parameters: {'beta1': 0.7586206896551724, 'beta2': 0.48275862068965514, 'bs': 128, 'delta_e': 1.8620689655172413, 'lr': 0.0030391953823131978}. Best is trial 12 with value: 96.26.\n",
            "[I 2023-05-30 12:54:36,763] Trial 18 finished with value: 9.0 and parameters: {'beta1': 0.3448275862068966, 'beta2': 0.0, 'bs': 32, 'delta_e': 1.1379310344827587, 'lr': 0.0008531678524172806}. Best is trial 12 with value: 96.26.\n",
            "[I 2023-05-30 12:55:16,337] Trial 19 finished with value: 46.23 and parameters: {'beta1': 0.1724137931034483, 'beta2': 0.41379310344827586, 'bs': 64, 'delta_e': 1.1379310344827587, 'lr': 0.005736152510448681}. Best is trial 12 with value: 96.26.\n",
            "[I 2023-05-30 12:55:54,856] Trial 20 finished with value: 0.0 and parameters: {'beta1': 0.8275862068965517, 'beta2': 0.9655172413793103, 'bs': 64, 'delta_e': 1.5517241379310345, 'lr': 1e-05}. Best is trial 12 with value: 96.26.\n",
            "[I 2023-05-30 12:56:33,220] Trial 21 finished with value: 93.42 and parameters: {'beta1': 0.034482758620689655, 'beta2': 0.10344827586206896, 'bs': 64, 'delta_e': 2.1724137931034484, 'lr': 0.03856620421163472}. Best is trial 12 with value: 96.26.\n",
            "[I 2023-05-30 12:57:11,221] Trial 22 finished with value: 3.26 and parameters: {'beta1': 0.5172413793103449, 'beta2': 0.4482758620689655, 'bs': 64, 'delta_e': 0.6206896551724138, 'lr': 3.5622478902624444e-05}. Best is trial 12 with value: 96.26.\n",
            "[I 2023-05-30 12:58:04,533] Trial 23 finished with value: 9.8 and parameters: {'beta1': 0.48275862068965514, 'beta2': 0.24137931034482757, 'bs': 32, 'delta_e': 0.20689655172413793, 'lr': 4.893900918477499e-05}. Best is trial 12 with value: 96.26.\n",
            "[I 2023-05-30 12:58:35,481] Trial 24 finished with value: 74.97 and parameters: {'beta1': 0.6206896551724138, 'beta2': 0.5517241379310345, 'bs': 128, 'delta_e': 0.20689655172413793, 'lr': 0.020433597178569417}. Best is trial 12 with value: 96.26.\n",
            "[I 2023-05-30 12:59:13,832] Trial 25 finished with value: 90.49 and parameters: {'beta1': 0.27586206896551724, 'beta2': 0.41379310344827586, 'bs': 64, 'delta_e': 1.0344827586206897, 'lr': 0.020433597178569417}. Best is trial 12 with value: 96.26.\n",
            "[I 2023-05-30 12:59:45,977] Trial 26 finished with value: 77.73 and parameters: {'beta1': 0.48275862068965514, 'beta2': 0.24137931034482757, 'bs': 128, 'delta_e': 0.3103448275862069, 'lr': 0.020433597178569417}. Best is trial 12 with value: 96.26.\n",
            "[I 2023-05-30 13:00:17,186] Trial 27 finished with value: 0.12 and parameters: {'beta1': 0.0, 'beta2': 0.8620689655172413, 'bs': 128, 'delta_e': 2.586206896551724, 'lr': 2.592943797404667e-05}. Best is trial 12 with value: 96.26.\n",
            "[I 2023-05-30 13:01:10,898] Trial 28 finished with value: 9.58 and parameters: {'beta1': 0.9655172413793103, 'beta2': 0.3103448275862069, 'bs': 32, 'delta_e': 1.8620689655172413, 'lr': 0.0002395026619987486}. Best is trial 12 with value: 96.26.\n",
            "[I 2023-05-30 13:01:48,697] Trial 29 finished with value: 4.89 and parameters: {'beta1': 0.6206896551724138, 'beta2': 0.20689655172413793, 'bs': 64, 'delta_e': 0.8275862068965517, 'lr': 0.00017433288221999874}. Best is trial 12 with value: 96.26.\n"
          ]
        },
        {
          "output_type": "stream",
          "name": "stdout",
          "text": [
            "{'beta1': 0.034482758620689655, 'beta2': 0.4482758620689655, 'bs': 128, 'delta_e': 1.2413793103448276, 'lr': 0.1}\n"
          ]
        }
      ],
      "source": [
        "study = optuna.create_study(\n",
        "    direction=\"maximize\",\n",
        "    sampler=TPESampler(n_startup_trials=115),\n",
        "    pruner=BasePruner,\n",
        "    study_name=\"mu_bbi_wa_adapt\",\n",
        "    storage=\"sqlite:///optuna1.db\",\n",
        ")\n",
        "study.optimize(lambda trial: hyperparameter_search(trial, MuBBI, wa = True, adaptive=True), n_trials=30)\n",
        "print(study.best_params)"
      ]
    },
    {
      "cell_type": "code",
      "execution_count": 10,
      "metadata": {
        "ExecuteTime": {
          "end_time": "2023-04-27T14:59:59.623406Z",
          "start_time": "2023-04-27T14:59:59.613788Z"
        },
        "id": "UusYQ9FqPpdL"
      },
      "outputs": [],
      "source": [
        "# Function for testing optimizers, which return train, test loss per epoch and final accuracy\n",
        "def test(model, optimizer, batch_sizes, wa = False):\n",
        "    num_epochs = 5\n",
        "    train_loader = torch.utils.data.DataLoader(train_dataset, batch_size=batch_sizes, shuffle=True, num_workers=2)\n",
        "    test_loader = torch.utils.data.DataLoader(test_dataset, batch_size=batch_sizes, shuffle=True, num_workers=2)\n",
        "    train_losses = []\n",
        "    test_losses = []\n",
        "    if wa:\n",
        "      swa_model = AveragedModel(model)\n",
        "      scheduler = CosineAnnealingLR(optimizer, T_max=100)\n",
        "      swa_start = 3\n",
        "      swa_scheduler = SWALR(optimizer, swa_lr=0.05)\n",
        "    for epoch in range(num_epochs):\n",
        "        loss_epoch = 0\n",
        "        for i, (inputs, labels) in enumerate(train_loader):\n",
        "            inputs = inputs.to(device)\n",
        "            labels = labels.to(device)\n",
        "            optimizer.zero_grad()\n",
        "            outputs = model(inputs)\n",
        "            loss = criterion(outputs, labels)\n",
        "            loss_epoch += loss.item()\n",
        "            loss.backward()\n",
        "            if wa:\n",
        "              if epoch > swa_start:\n",
        "                swa_model.update_parameters(model)\n",
        "            if isinstance(optimizer, BBI):\n",
        "                def closure():\n",
        "                    return loss\n",
        "                optimizer.step(closure)\n",
        "            else:\n",
        "                optimizer.step()\n",
        "        train_losses.append(loss_epoch/len(train_loader))\n",
        "        loss_epoch = 0\n",
        "        with torch.no_grad():\n",
        "            for inputs, labels in test_loader:\n",
        "                inputs = inputs.to(device)\n",
        "                labels = labels.to(device)\n",
        "                outputs = model(inputs)\n",
        "                loss = criterion(outputs, labels)\n",
        "                loss_epoch+= float(loss.item())\n",
        "        test_losses.append(loss_epoch/len(test_loader))\n",
        "\n",
        "    correct = 0\n",
        "    total = 0\n",
        "    with torch.no_grad():\n",
        "        for inputs, labels in test_loader:\n",
        "            inputs = inputs.to(device)\n",
        "            labels = labels.to(device)\n",
        "            outputs = model(inputs)\n",
        "            _, predicted = torch.max(outputs.data, 1)\n",
        "            total += labels.size(0)\n",
        "            correct += (predicted == labels).sum().item()\n",
        "    accuracy = correct/total\n",
        "    # accuracy = 1\n",
        "    return train_losses, test_losses, accuracy"
      ]
    },
    {
      "cell_type": "code",
      "execution_count": 11,
      "metadata": {
        "ExecuteTime": {
          "end_time": "2023-04-23T12:34:28.452939Z",
          "start_time": "2023-04-23T12:27:09.141892Z"
        },
        "colab": {
          "base_uri": "https://localhost:8080/"
        },
        "id": "afCumI_qPpdM",
        "outputId": "e5b40180-694b-4ebe-97c0-f578ecad33bf"
      },
      "outputs": [
        {
          "output_type": "stream",
          "name": "stdout",
          "text": [
            "Test Accuracy of Adam 0.9884\n"
          ]
        }
      ],
      "source": [
        "# Testing Adam\n",
        "model = Net()\n",
        "if torch.cuda.is_available():\n",
        "    model.cuda()\n",
        "optimizer = Adam(model.parameters(), lr = 0.001)\n",
        "trainloss_adam, testloss_adam, accuracy = test(model, optimizer, 128)\n",
        "print(\"Test Accuracy of Adam\", accuracy)"
      ]
    },
    {
      "cell_type": "code",
      "execution_count": 12,
      "metadata": {
        "ExecuteTime": {
          "end_time": "2023-04-23T12:41:48.035558Z",
          "start_time": "2023-04-23T12:34:28.460547Z"
        },
        "colab": {
          "base_uri": "https://localhost:8080/"
        },
        "id": "gfQgj5RbPpdM",
        "outputId": "e76a7e90-9364-4a79-c69c-0013ff7c5df6"
      },
      "outputs": [
        {
          "output_type": "stream",
          "name": "stdout",
          "text": [
            "Test Accuracy of Adagrad 0.9866\n"
          ]
        }
      ],
      "source": [
        "# Testing Adagrad\n",
        "model = Net()\n",
        "if torch.cuda.is_available():\n",
        "    model.cuda()\n",
        "optimizer = Adagrad(model.parameters(), lr = 0.01)\n",
        "trainloss_adagrad, testloss_adagrad, accuracy  = test(model, optimizer, 32)\n",
        "print(\"Test Accuracy of Adagrad\", accuracy)"
      ]
    },
    {
      "cell_type": "code",
      "execution_count": 13,
      "metadata": {
        "ExecuteTime": {
          "end_time": "2023-04-23T12:48:26.823328Z",
          "start_time": "2023-04-23T12:41:48.038563Z"
        },
        "colab": {
          "base_uri": "https://localhost:8080/"
        },
        "id": "AtsrXSCQPpdM",
        "outputId": "1e660742-0850-4044-aa7f-354589e8ba17"
      },
      "outputs": [
        {
          "output_type": "stream",
          "name": "stdout",
          "text": [
            "Test Accuracy of SGD 0.9869\n"
          ]
        }
      ],
      "source": [
        "#Testing SGD\n",
        "model = Net()\n",
        "if torch.cuda.is_available():\n",
        "    model.cuda()\n",
        "optimizer = SGD(model.parameters(), lr = 0.005, momentum=0.8)\n",
        "trainloss_sgd, testloss_sgd, accuracy = test(model, optimizer, 32)\n",
        "print(\"Test Accuracy of SGD\", accuracy)"
      ]
    },
    {
      "cell_type": "code",
      "execution_count": 14,
      "metadata": {
        "ExecuteTime": {
          "end_time": "2023-04-27T15:07:06.277466Z",
          "start_time": "2023-04-27T15:00:04.562766Z"
        },
        "colab": {
          "base_uri": "https://localhost:8080/"
        },
        "id": "aO5TCeYZPpdN",
        "outputId": "b6718399-7ca5-42be-81c7-18f5ea0099e1"
      },
      "outputs": [
        {
          "output_type": "stream",
          "name": "stdout",
          "text": [
            "Test Accuracy of BBI 0.9883\n"
          ]
        }
      ],
      "source": [
        "#Testing BBI\n",
        "model = Net()\n",
        "if torch.cuda.is_available():\n",
        "    model.cuda()\n",
        "optimizer = BBI(model.parameters(), lr =  0.03, deltaEn=1.65)\n",
        "trainloss_bbi, testloss_bbi, accuracy= test(model, optimizer, 64)\n",
        "print(\"Test Accuracy of BBI\", accuracy)"
      ]
    },
    {
      "cell_type": "code",
      "execution_count": 15,
      "metadata": {
        "colab": {
          "base_uri": "https://localhost:8080/"
        },
        "id": "cTowofjmXzF0",
        "outputId": "0dd42567-4e18-4666-e6e6-518ab9f9b6da"
      },
      "outputs": [
        {
          "output_type": "stream",
          "name": "stdout",
          "text": [
            "Test Accuracy of BBI adaptive 0.9824\n"
          ]
        }
      ],
      "source": [
        "model = Net()\n",
        "if torch.cuda.is_available():\n",
        "    model.cuda()\n",
        "optimizer = BBI(model.parameters(), lr =  0.1, deltaEn=2.58, adaptive = True, \n",
        "                beta1 = 0.13, beta2 = 0.48, )\n",
        "trainloss_bbi_a, testloss_bbi_a, accuracy= test(model, optimizer, 128)\n",
        "print(\"Test Accuracy of BBI adaptive\", accuracy)"
      ]
    },
    {
      "cell_type": "code",
      "execution_count": 16,
      "metadata": {
        "colab": {
          "base_uri": "https://localhost:8080/"
        },
        "id": "ZCAPJUghLOEj",
        "outputId": "97a3e905-15fe-4a52-a8e4-afbac3667fa4"
      },
      "outputs": [
        {
          "output_type": "stream",
          "name": "stdout",
          "text": [
            "Test Accuracy of BBI with weight averaging 0.9918\n"
          ]
        }
      ],
      "source": [
        "model = Net()\n",
        "if torch.cuda.is_available():\n",
        "    model.cuda()\n",
        "optimizer = BBI(model.parameters(), lr =  0.1, deltaEn=0.41)\n",
        "trainloss_bbi_wa, testloss_bbi_wa, accuracy= test(model, optimizer, 32,  wa = True)\n",
        "print(\"Test Accuracy of BBI with weight averaging\", accuracy)"
      ]
    },
    {
      "cell_type": "code",
      "execution_count": 17,
      "metadata": {
        "colab": {
          "base_uri": "https://localhost:8080/"
        },
        "id": "y9u2iKhyLUEy",
        "outputId": "f5f223ac-2e58-4719-a634-27f85a495c28"
      },
      "outputs": [
        {
          "output_type": "stream",
          "name": "stdout",
          "text": [
            "Test Accuracy of BBI with weight averaging and adaptive stepsize 0.9697\n"
          ]
        }
      ],
      "source": [
        "model = Net()\n",
        "if torch.cuda.is_available():\n",
        "    model.cuda()\n",
        "optimizer = BBI(model.parameters(), lr =  0.02, deltaEn=0.62, adaptive = True, \n",
        "                 beta1 = 0.75, beta2 = 0.86, )\n",
        "trainloss_bbi_a_wa, testloss_bbi_a_wa, accuracy= test(model, optimizer, 64, wa = True)\n",
        "print(\"Test Accuracy of BBI with weight averaging and adaptive stepsize\", accuracy)"
      ]
    },
    {
      "cell_type": "code",
      "execution_count": 18,
      "metadata": {
        "colab": {
          "base_uri": "https://localhost:8080/"
        },
        "id": "a_B1yJ7pWatU",
        "outputId": "29ce24ee-d398-47f5-9292-d334897f866b"
      },
      "outputs": [
        {
          "output_type": "stream",
          "name": "stdout",
          "text": [
            "Test Accuracy of MuBBI 0.9825\n"
          ]
        }
      ],
      "source": [
        "#Testing MuBBI\n",
        "base_model = MuNet(channels=2).to(device)\n",
        "delta_model = MuNet(channels=4).to(device)\n",
        "model = MuNet(channels=16).to(device)\n",
        "set_base_shapes(model, base_model, delta=delta_model)\n",
        "for param in model.parameters():\n",
        "    mup.init.uniform_(param, -0.1, 0.1)\n",
        "if torch.cuda.is_available():\n",
        "    model.cuda()\n",
        "\n",
        "optimizer = MuBBI(model.parameters(), lr=0.07, deltaEn=1.55)\n",
        "trainloss_mu_bbi, testloss_mu_bbi, accuracy= test(model, optimizer, 32)\n",
        "print(\"Test Accuracy of MuBBI\", accuracy)"
      ]
    },
    {
      "cell_type": "code",
      "execution_count": 19,
      "metadata": {
        "colab": {
          "base_uri": "https://localhost:8080/"
        },
        "id": "o1smzkQeWatV",
        "outputId": "e363b91d-5ee6-4fe2-bd17-69d99f559d10"
      },
      "outputs": [
        {
          "output_type": "stream",
          "name": "stdout",
          "text": [
            "Test Accuracy of MuBBI adaptive 0.9696\n"
          ]
        }
      ],
      "source": [
        "base_model = MuNet(channels=2).to(device)\n",
        "delta_model = MuNet(channels=4).to(device)\n",
        "model = MuNet(channels=16).to(device)\n",
        "set_base_shapes(model, base_model, delta=delta_model)\n",
        "for param in model.parameters():\n",
        "    mup.init.uniform_(param, -0.1, 0.1)\n",
        "if torch.cuda.is_available():\n",
        "    model.cuda()\n",
        "\n",
        "optimizer = MuBBI(model.parameters(), lr=0.1, deltaEn=2.28, adaptive=True, \n",
        "                beta1=0.17, beta2=0.93)\n",
        "trainloss_mu_bbi_a, testloss_mu_bbi_a, accuracy= test(model, optimizer, 32)\n",
        "print(\"Test Accuracy of MuBBI adaptive\", accuracy)"
      ]
    },
    {
      "cell_type": "code",
      "execution_count": 20,
      "metadata": {
        "colab": {
          "base_uri": "https://localhost:8080/"
        },
        "id": "BDJVbrf7WatV",
        "outputId": "4a18e0f6-5cb2-410f-c3fe-a1d716345823"
      },
      "outputs": [
        {
          "output_type": "stream",
          "name": "stdout",
          "text": [
            "Test Accuracy of MuBBI with weight averaging 0.9846\n"
          ]
        }
      ],
      "source": [
        "base_model = MuNet(channels=2).to(device)\n",
        "delta_model = MuNet(channels=4).to(device)\n",
        "model = MuNet(channels=16).to(device)\n",
        "set_base_shapes(model, base_model, delta=delta_model)\n",
        "for param in model.parameters():\n",
        "    mup.init.uniform_(param, -0.1, 0.1)\n",
        "if torch.cuda.is_available():\n",
        "    model.cuda()\n",
        "\n",
        "optimizer = MuBBI(model.parameters(), lr =  0.04, deltaEn=0.83)\n",
        "trainloss_mu_bbi_wa, testloss_mu_bbi_wa, accuracy= test(model, optimizer, 32,  wa = True)\n",
        "print(\"Test Accuracy of MuBBI with weight averaging\", accuracy)"
      ]
    },
    {
      "cell_type": "code",
      "execution_count": 21,
      "metadata": {
        "colab": {
          "base_uri": "https://localhost:8080/"
        },
        "id": "9qHsCmKJWatV",
        "outputId": "ac0412d4-7384-4f58-9c17-1e3f4061eca4"
      },
      "outputs": [
        {
          "output_type": "stream",
          "name": "stdout",
          "text": [
            "Test Accuracy of MuBBI with weight averaging and adaptive stepsize 0.9743\n"
          ]
        }
      ],
      "source": [
        "base_model = MuNet(channels=2).to(device)\n",
        "delta_model = MuNet(channels=4).to(device)\n",
        "model = MuNet(channels=16).to(device)\n",
        "set_base_shapes(model, base_model, delta=delta_model)\n",
        "for param in model.parameters():\n",
        "    mup.init.uniform_(param, -0.1, 0.1)\n",
        "if torch.cuda.is_available():\n",
        "    model.cuda()\n",
        "\n",
        "optimizer = MuBBI(model.parameters(), lr=0.1, deltaEn=1.24, adaptive=True, \n",
        "                 beta1=0.03, beta2=0.45)\n",
        "trainloss_mu_bbi_a_wa, testloss_mu_bbi_a_wa, accuracy= test(model, optimizer, 128, wa = True)\n",
        "print(\"Test Accuracy of MuBBI with weight averaging and adaptive stepsize\", accuracy)"
      ]
    },
    {
      "cell_type": "code",
      "execution_count": 22,
      "metadata": {
        "ExecuteTime": {
          "end_time": "2023-04-23T14:03:04.554402Z",
          "start_time": "2023-04-23T14:03:04.246516Z"
        },
        "colab": {
          "base_uri": "https://localhost:8080/",
          "height": 449
        },
        "id": "ufa4gwkiPpdN",
        "outputId": "a5c1dba8-6b22-4e9d-fffc-a00b4dd20d0f"
      },
      "outputs": [
        {
          "output_type": "display_data",
          "data": {
            "text/plain": [
              "<Figure size 640x480 with 1 Axes>"
            ],
            "image/png": "[encoded data removed]"
          },
          "metadata": {}
        }
      ],
      "source": [
        "#PLot train loss\n",
        "\n",
        "t = np.arange(1, 6)\n",
        "\n",
        "g = sns.lineplot(y=trainloss_bbi, x=t, label='BBI')\n",
        "sns.lineplot(y=trainloss_bbi_a, x=t, label='BBI_adaptive')\n",
        "sns.lineplot(y=trainloss_bbi_wa, x=t, label='BBI_with_weight_aveg')\n",
        "sns.lineplot(y=trainloss_bbi_a_wa, x=t, label='BBI_adaptive_with_weight_aveg')\n",
        "sns.lineplot(y=trainloss_mu_bbi, x=t, label='MuBBI')\n",
        "sns.lineplot(y=trainloss_mu_bbi_a, x=t, label='MuBBI_adaptive')\n",
        "sns.lineplot(y=trainloss_mu_bbi_wa, x=t, label='MuBBI_with_weight_aveg')\n",
        "sns.lineplot(y=trainloss_mu_bbi_a_wa, x=t, label='MuBBI_adaptive_with_weight_aveg')\n",
        "sns.lineplot(y=trainloss_adam, x=t, label='Adam')\n",
        "sns.lineplot(y=trainloss_sgd, x=t, label='SGD')\n",
        "sns.lineplot(y=trainloss_adagrad, x=t, label='Adagrad')\n",
        "g.set(xticks=list(range(1,6)))\n",
        "plt.xlabel('Epoch')\n",
        "plt.ylabel('Train Loss')\n",
        "\n",
        "plt.legend()\n",
        "plt.show()"
      ]
    },
    {
      "cell_type": "code",
      "execution_count": 23,
      "metadata": {
        "ExecuteTime": {
          "end_time": "2023-04-23T14:04:03.927058Z",
          "start_time": "2023-04-23T14:04:03.634530Z"
        },
        "colab": {
          "base_uri": "https://localhost:8080/",
          "height": 449
        },
        "id": "VXmzBkypPpdN",
        "outputId": "643932f7-140c-4316-c017-8a2e900e45dc"
      },
      "outputs": [
        {
          "output_type": "display_data",
          "data": {
            "text/plain": [
              "<Figure size 640x480 with 1 Axes>"
            ],
            "image/png": "[encoded data removed]"
          },
          "metadata": {}
        }
      ],
      "source": [
        "# Plot test loss\n",
        "t = np.arange(1, 6, 1)\n",
        "\n",
        "g = sns.lineplot(y=testloss_bbi, x=t, label='BBI')\n",
        "sns.lineplot(y=testloss_bbi_a, x=t, label='BBI_adaptive')\n",
        "sns.lineplot(y=testloss_bbi_wa, x=t, label='BBI_with_weight_aveg')\n",
        "sns.lineplot(y=testloss_bbi_a_wa, x=t, label='BBI_adaptive_with_weight_aveg')\n",
        "sns.lineplot(y=testloss_mu_bbi, x=t, label='MuBBI')\n",
        "sns.lineplot(y=testloss_mu_bbi_a, x=t, label='MuBBI_adaptive')\n",
        "sns.lineplot(y=testloss_mu_bbi_wa, x=t, label='MuBBI_with_weight_aveg')\n",
        "sns.lineplot(y=testloss_mu_bbi_a_wa, x=t, label='MuBBI_adaptive_with_weight_aveg')\n",
        "sns.lineplot(y=testloss_adam, x=t, label='Adam')\n",
        "sns.lineplot(y=testloss_sgd, x=t, label='SGD')\n",
        "sns.lineplot(y=testloss_adagrad, x=t, label='Adagrad')\n",
        "g.set(xticks=list(range(1,6)))\n",
        "# plt.title('Three Lines Plot')\n",
        "plt.xlabel('Epoch')\n",
        "plt.ylabel('Test loss')\n",
        "\n",
        "plt.legend()\n",
        "plt.show()"
      ]
    },
    {
      "cell_type": "markdown",
      "metadata": {
        "collapsed": false,
        "id": "Vhjrfv5kPpdO"
      },
      "source": [
        "Looking at plots above, we can make several conclusions:\n",
        "1) The performance of BBI is not far away from other famous optimizers, however both on train and test set it is a little worse than others.\n",
        "2) Looking at the test plot, we observe that BBI can be not monotone, similar to SGD. We can assume that it's the property of the method, or it stated to overfit at epoch 4."
      ]
    }
  ],
  "metadata": {
    "accelerator": "GPU",
    "colab": {
      "gpuType": "T4",
      "provenance": []
    },
    "kernelspec": {
      "display_name": "Python 3",
      "name": "python3"
    },
    "language_info": {
      "codemirror_mode": {
        "name": "ipython",
        "version": 3
      },
      "file_extension": ".py",
      "mimetype": "text/x-python",
      "name": "python",
      "nbconvert_exporter": "python",
      "pygments_lexer": "ipython3",
      "version": "3.10.9"
    }
  },
  "nbformat": 4,
  "nbformat_minor": 0
}